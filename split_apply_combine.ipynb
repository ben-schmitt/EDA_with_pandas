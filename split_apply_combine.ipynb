{
 "cells": [
  {
   "cell_type": "code",
   "execution_count": null,
   "metadata": {},
   "outputs": [],
   "source": []
  },
  {
   "attachments": {},
   "cell_type": "markdown",
   "metadata": {},
   "source": [
    "# Split Apply Combine"
   ]
  },
  {
   "cell_type": "markdown",
   "metadata": {},
   "source": [
    "In his 2011 paper Hadley Wickham describes the split-apply-combine technique as breaking up a big problem into manageable pieces, operating on each piece independently, and then putting all the pieces back together.\n",
    " \n",
    "In Pandas the split-apply-combine technique is implemented using the Group by method. Calling df.groupby(df[‘column’]) creates a groupby object. No splitting happens until some aggregation function is called on the groupby object. By default groupby sorts the keys (df[‘column’]) and drops NaN values.\n"
   ]
  },
  {
   "cell_type": "code",
   "execution_count": 174,
   "metadata": {},
   "outputs": [],
   "source": [
    "import pandas as pd\n",
    "import numpy as np\n",
    "import altair as alt\n",
    "import time"
   ]
  },
  {
   "cell_type": "code",
   "execution_count": 225,
   "metadata": {},
   "outputs": [],
   "source": [
    "# Read WDI data into a pandas dataframe\n",
    "wdi_df = pd.read_csv('WDIData.csv')"
   ]
  },
  {
   "cell_type": "code",
   "execution_count": 226,
   "metadata": {},
   "outputs": [],
   "source": [
    "# There are region names included in the country column and I only want to look at countries\n",
    "# Using the WDICountry.csv to get a list of countries only\n",
    "wdi_country_df = pd.read_csv('WDICountry.csv')\n",
    "\n",
    "# getting list of only countries and not regions\n",
    "country_only = wdi_country_df.dropna(subset=['Region']) #the regions don't have anything in the 'Region' column\n",
    "country_only = country_only['Table Name']\n",
    "\n",
    "# filtering out regions using my new list of contries\n",
    "wdi_df = wdi_df.loc[wdi_df['Country Name'].isin(country_only)]\n",
    "#print(wdi_df.head())"
   ]
  },
  {
   "cell_type": "code",
   "execution_count": 114,
   "metadata": {},
   "outputs": [
    {
     "data": {
      "text/plain": [
       "<pandas.core.groupby.generic.DataFrameGroupBy object at 0x0000023902AB51E0>"
      ]
     },
     "execution_count": 114,
     "metadata": {},
     "output_type": "execute_result"
    }
   ],
   "source": [
    "#Pandas groupby returns a groupby object\n",
    "#no actual splitting happens until a function is applied to the groupby object\n",
    "new_df= wdi_df.groupby('Indicator Name')\n",
    "new_df"
   ]
  },
  {
   "cell_type": "markdown",
   "metadata": {},
   "source": [
    "Example 1. Aggregation"
   ]
  },
  {
   "cell_type": "code",
   "execution_count": 227,
   "metadata": {},
   "outputs": [
    {
     "data": {
      "text/html": [
       "<div>\n",
       "<style scoped>\n",
       "    .dataframe tbody tr th:only-of-type {\n",
       "        vertical-align: middle;\n",
       "    }\n",
       "\n",
       "    .dataframe tbody tr th {\n",
       "        vertical-align: top;\n",
       "    }\n",
       "\n",
       "    .dataframe thead tr th {\n",
       "        text-align: left;\n",
       "    }\n",
       "\n",
       "    .dataframe thead tr:last-of-type th {\n",
       "        text-align: right;\n",
       "    }\n",
       "</style>\n",
       "<table border=\"1\" class=\"dataframe\">\n",
       "  <thead>\n",
       "    <tr>\n",
       "      <th></th>\n",
       "      <th colspan=\"2\" halign=\"left\">2017</th>\n",
       "      <th colspan=\"2\" halign=\"left\">2018</th>\n",
       "      <th colspan=\"2\" halign=\"left\">2019</th>\n",
       "    </tr>\n",
       "    <tr>\n",
       "      <th></th>\n",
       "      <th>mean</th>\n",
       "      <th>count</th>\n",
       "      <th>mean</th>\n",
       "      <th>count</th>\n",
       "      <th>mean</th>\n",
       "      <th>count</th>\n",
       "    </tr>\n",
       "    <tr>\n",
       "      <th>Indicator Name</th>\n",
       "      <th></th>\n",
       "      <th></th>\n",
       "      <th></th>\n",
       "      <th></th>\n",
       "      <th></th>\n",
       "      <th></th>\n",
       "    </tr>\n",
       "  </thead>\n",
       "  <tbody>\n",
       "    <tr>\n",
       "      <th>ARI treatment (% of children under 5 taken to a health provider)</th>\n",
       "      <td>61.158333</td>\n",
       "      <td>12</td>\n",
       "      <td>66.627273</td>\n",
       "      <td>22</td>\n",
       "      <td>66.650000</td>\n",
       "      <td>4</td>\n",
       "    </tr>\n",
       "    <tr>\n",
       "      <th>Access to clean fuels and technologies for cooking (% of population)</th>\n",
       "      <td>66.673387</td>\n",
       "      <td>186</td>\n",
       "      <td>67.056183</td>\n",
       "      <td>186</td>\n",
       "      <td>67.432258</td>\n",
       "      <td>186</td>\n",
       "    </tr>\n",
       "    <tr>\n",
       "      <th>Access to clean fuels and technologies for cooking, rural (% of rural population)</th>\n",
       "      <td>58.276882</td>\n",
       "      <td>186</td>\n",
       "      <td>58.693548</td>\n",
       "      <td>186</td>\n",
       "      <td>59.115860</td>\n",
       "      <td>186</td>\n",
       "    </tr>\n",
       "    <tr>\n",
       "      <th>Access to clean fuels and technologies for cooking, urban (% of urban population)</th>\n",
       "      <td>75.413172</td>\n",
       "      <td>186</td>\n",
       "      <td>75.673118</td>\n",
       "      <td>186</td>\n",
       "      <td>75.918280</td>\n",
       "      <td>186</td>\n",
       "    </tr>\n",
       "    <tr>\n",
       "      <th>Access to electricity (% of population)</th>\n",
       "      <td>85.183127</td>\n",
       "      <td>212</td>\n",
       "      <td>85.856512</td>\n",
       "      <td>211</td>\n",
       "      <td>86.361743</td>\n",
       "      <td>212</td>\n",
       "    </tr>\n",
       "  </tbody>\n",
       "</table>\n",
       "</div>"
      ],
      "text/plain": [
       "                                                         2017        \\\n",
       "                                                         mean count   \n",
       "Indicator Name                                                        \n",
       "ARI treatment (% of children under 5 taken to a...  61.158333    12   \n",
       "Access to clean fuels and technologies for cook...  66.673387   186   \n",
       "Access to clean fuels and technologies for cook...  58.276882   186   \n",
       "Access to clean fuels and technologies for cook...  75.413172   186   \n",
       "Access to electricity (% of population)             85.183127   212   \n",
       "\n",
       "                                                         2018        \\\n",
       "                                                         mean count   \n",
       "Indicator Name                                                        \n",
       "ARI treatment (% of children under 5 taken to a...  66.627273    22   \n",
       "Access to clean fuels and technologies for cook...  67.056183   186   \n",
       "Access to clean fuels and technologies for cook...  58.693548   186   \n",
       "Access to clean fuels and technologies for cook...  75.673118   186   \n",
       "Access to electricity (% of population)             85.856512   211   \n",
       "\n",
       "                                                         2019        \n",
       "                                                         mean count  \n",
       "Indicator Name                                                       \n",
       "ARI treatment (% of children under 5 taken to a...  66.650000     4  \n",
       "Access to clean fuels and technologies for cook...  67.432258   186  \n",
       "Access to clean fuels and technologies for cook...  59.115860   186  \n",
       "Access to clean fuels and technologies for cook...  75.918280   186  \n",
       "Access to electricity (% of population)             86.361743   212  "
      ]
     },
     "execution_count": 227,
     "metadata": {},
     "output_type": "execute_result"
    }
   ],
   "source": [
    "#Grouping by indicator could be useful if you want to see global trends\n",
    "#here I used the aggregation functions mean and count on the groupby object\n",
    "#the groups are sorted by default\n",
    "new_df= wdi_df[['Indicator Name','2017', '2018', '2019']].groupby('Indicator Name').agg(['mean','count'])\n",
    "new_df.head(5)"
   ]
  },
  {
   "cell_type": "code",
   "execution_count": 234,
   "metadata": {},
   "outputs": [
    {
     "data": {
      "text/html": [
       "<div>\n",
       "<style scoped>\n",
       "    .dataframe tbody tr th:only-of-type {\n",
       "        vertical-align: middle;\n",
       "    }\n",
       "\n",
       "    .dataframe tbody tr th {\n",
       "        vertical-align: top;\n",
       "    }\n",
       "\n",
       "    .dataframe thead th {\n",
       "        text-align: right;\n",
       "    }\n",
       "</style>\n",
       "<table border=\"1\" class=\"dataframe\">\n",
       "  <thead>\n",
       "    <tr style=\"text-align: right;\">\n",
       "      <th></th>\n",
       "      <th>Indicator Name</th>\n",
       "      <th>2017</th>\n",
       "      <th>2018</th>\n",
       "      <th>2019</th>\n",
       "    </tr>\n",
       "  </thead>\n",
       "  <tbody>\n",
       "    <tr>\n",
       "      <th>0</th>\n",
       "      <td>ARI treatment (% of children under 5 taken to ...</td>\n",
       "      <td>61.158333</td>\n",
       "      <td>66.627273</td>\n",
       "      <td>66.650000</td>\n",
       "    </tr>\n",
       "    <tr>\n",
       "      <th>1</th>\n",
       "      <td>Access to clean fuels and technologies for coo...</td>\n",
       "      <td>66.673387</td>\n",
       "      <td>67.056183</td>\n",
       "      <td>67.432258</td>\n",
       "    </tr>\n",
       "    <tr>\n",
       "      <th>2</th>\n",
       "      <td>Access to clean fuels and technologies for coo...</td>\n",
       "      <td>58.276882</td>\n",
       "      <td>58.693548</td>\n",
       "      <td>59.115860</td>\n",
       "    </tr>\n",
       "    <tr>\n",
       "      <th>3</th>\n",
       "      <td>Access to clean fuels and technologies for coo...</td>\n",
       "      <td>75.413172</td>\n",
       "      <td>75.673118</td>\n",
       "      <td>75.918280</td>\n",
       "    </tr>\n",
       "    <tr>\n",
       "      <th>4</th>\n",
       "      <td>Access to electricity (% of population)</td>\n",
       "      <td>85.183127</td>\n",
       "      <td>85.856512</td>\n",
       "      <td>86.361743</td>\n",
       "    </tr>\n",
       "  </tbody>\n",
       "</table>\n",
       "</div>"
      ],
      "text/plain": [
       "                                      Indicator Name       2017       2018  \\\n",
       "0  ARI treatment (% of children under 5 taken to ...  61.158333  66.627273   \n",
       "1  Access to clean fuels and technologies for coo...  66.673387  67.056183   \n",
       "2  Access to clean fuels and technologies for coo...  58.276882  58.693548   \n",
       "3  Access to clean fuels and technologies for coo...  75.413172  75.673118   \n",
       "4            Access to electricity (% of population)  85.183127  85.856512   \n",
       "\n",
       "        2019  \n",
       "0  66.650000  \n",
       "1  67.432258  \n",
       "2  59.115860  \n",
       "3  75.918280  \n",
       "4  86.361743  "
      ]
     },
     "execution_count": 234,
     "metadata": {},
     "output_type": "execute_result"
    }
   ],
   "source": [
    "new_df= wdi_df[['Indicator Name', '2017', '2018','2019']].groupby('Indicator Name').agg(['mean']).reset_index().droplevel(axis=1, level=1)\n",
    "new_df.head()"
   ]
  },
  {
   "cell_type": "markdown",
   "metadata": {},
   "source": [
    "Example 2. Filter"
   ]
  },
  {
   "cell_type": "code",
   "execution_count": 235,
   "metadata": {},
   "outputs": [
    {
     "data": {
      "text/html": [
       "<div>\n",
       "<style scoped>\n",
       "    .dataframe tbody tr th:only-of-type {\n",
       "        vertical-align: middle;\n",
       "    }\n",
       "\n",
       "    .dataframe tbody tr th {\n",
       "        vertical-align: top;\n",
       "    }\n",
       "\n",
       "    .dataframe thead th {\n",
       "        text-align: right;\n",
       "    }\n",
       "</style>\n",
       "<table border=\"1\" class=\"dataframe\">\n",
       "  <thead>\n",
       "    <tr style=\"text-align: right;\">\n",
       "      <th></th>\n",
       "      <th>Country Name</th>\n",
       "      <th>Indicator Name</th>\n",
       "      <th>2019</th>\n",
       "    </tr>\n",
       "  </thead>\n",
       "  <tbody>\n",
       "    <tr>\n",
       "      <th>100517</th>\n",
       "      <td>Benin</td>\n",
       "      <td>Population ages 20-24, male (% of male populat...</td>\n",
       "      <td>9.293757</td>\n",
       "    </tr>\n",
       "    <tr>\n",
       "      <th>94101</th>\n",
       "      <td>Barbados</td>\n",
       "      <td>Employment to population ratio, 15+, male (%) ...</td>\n",
       "      <td>59.591999</td>\n",
       "    </tr>\n",
       "    <tr>\n",
       "      <th>175554</th>\n",
       "      <td>Georgia</td>\n",
       "      <td>Poverty headcount ratio at national poverty li...</td>\n",
       "      <td>19.500000</td>\n",
       "    </tr>\n",
       "    <tr>\n",
       "      <th>209785</th>\n",
       "      <td>Italy</td>\n",
       "      <td>Life expectancy at birth, female (years)</td>\n",
       "      <td>85.700000</td>\n",
       "    </tr>\n",
       "    <tr>\n",
       "      <th>178677</th>\n",
       "      <td>Ghana</td>\n",
       "      <td>Taxes on goods and services (% of revenue)</td>\n",
       "      <td>32.131491</td>\n",
       "    </tr>\n",
       "  </tbody>\n",
       "</table>\n",
       "</div>"
      ],
      "text/plain": [
       "       Country Name                                     Indicator Name  \\\n",
       "100517        Benin  Population ages 20-24, male (% of male populat...   \n",
       "94101      Barbados  Employment to population ratio, 15+, male (%) ...   \n",
       "175554      Georgia  Poverty headcount ratio at national poverty li...   \n",
       "209785        Italy           Life expectancy at birth, female (years)   \n",
       "178677        Ghana         Taxes on goods and services (% of revenue)   \n",
       "\n",
       "             2019  \n",
       "100517   9.293757  \n",
       "94101   59.591999  \n",
       "175554  19.500000  \n",
       "209785  85.700000  \n",
       "178677  32.131491  "
      ]
     },
     "execution_count": 235,
     "metadata": {},
     "output_type": "execute_result"
    }
   ],
   "source": [
    "#here I am filtering by indicators with more than 50 values in 2019\n",
    "\n",
    "new_df = wdi_df[['Country Name','Indicator Name', '2019']].groupby('Indicator Name').filter(lambda x : x['2019'].count() > 50)\n",
    "new_df.sample(5)"
   ]
  },
  {
   "cell_type": "markdown",
   "metadata": {},
   "source": [
    "I tried a few more things with groupby below. "
   ]
  },
  {
   "cell_type": "code",
   "execution_count": 233,
   "metadata": {},
   "outputs": [
    {
     "data": {
      "text/html": [
       "<div>\n",
       "<style scoped>\n",
       "    .dataframe tbody tr th:only-of-type {\n",
       "        vertical-align: middle;\n",
       "    }\n",
       "\n",
       "    .dataframe tbody tr th {\n",
       "        vertical-align: top;\n",
       "    }\n",
       "\n",
       "    .dataframe thead th {\n",
       "        text-align: right;\n",
       "    }\n",
       "</style>\n",
       "<table border=\"1\" class=\"dataframe\">\n",
       "  <thead>\n",
       "    <tr style=\"text-align: right;\">\n",
       "      <th></th>\n",
       "      <th>Country Name</th>\n",
       "      <th>Indicator Name</th>\n",
       "      <th>2017</th>\n",
       "      <th>2018</th>\n",
       "      <th>2019</th>\n",
       "    </tr>\n",
       "  </thead>\n",
       "  <tbody>\n",
       "    <tr>\n",
       "      <th>70850</th>\n",
       "      <td>Afghanistan</td>\n",
       "      <td>CO2 emissions (kt)</td>\n",
       "      <td>4780.000210</td>\n",
       "      <td>6070.000172</td>\n",
       "      <td>6079.999924</td>\n",
       "    </tr>\n",
       "    <tr>\n",
       "      <th>72292</th>\n",
       "      <td>Albania</td>\n",
       "      <td>CO2 emissions (kt)</td>\n",
       "      <td>5139.999866</td>\n",
       "      <td>5110.000134</td>\n",
       "      <td>4829.999924</td>\n",
       "    </tr>\n",
       "    <tr>\n",
       "      <th>73734</th>\n",
       "      <td>Algeria</td>\n",
       "      <td>CO2 emissions (kt)</td>\n",
       "      <td>158339.996338</td>\n",
       "      <td>165539.993286</td>\n",
       "      <td>171250.000000</td>\n",
       "    </tr>\n",
       "    <tr>\n",
       "      <th>75176</th>\n",
       "      <td>American Samoa</td>\n",
       "      <td>CO2 emissions (kt)</td>\n",
       "      <td>NaN</td>\n",
       "      <td>NaN</td>\n",
       "      <td>NaN</td>\n",
       "    </tr>\n",
       "    <tr>\n",
       "      <th>76618</th>\n",
       "      <td>Andorra</td>\n",
       "      <td>CO2 emissions (kt)</td>\n",
       "      <td>469.999999</td>\n",
       "      <td>490.000010</td>\n",
       "      <td>500.000000</td>\n",
       "    </tr>\n",
       "  </tbody>\n",
       "</table>\n",
       "</div>"
      ],
      "text/plain": [
       "         Country Name      Indicator Name           2017           2018  \\\n",
       "70850     Afghanistan  CO2 emissions (kt)    4780.000210    6070.000172   \n",
       "72292         Albania  CO2 emissions (kt)    5139.999866    5110.000134   \n",
       "73734         Algeria  CO2 emissions (kt)  158339.996338  165539.993286   \n",
       "75176  American Samoa  CO2 emissions (kt)            NaN            NaN   \n",
       "76618         Andorra  CO2 emissions (kt)     469.999999     490.000010   \n",
       "\n",
       "                2019  \n",
       "70850    6079.999924  \n",
       "72292    4829.999924  \n",
       "73734  171250.000000  \n",
       "75176            NaN  \n",
       "76618     500.000000  "
      ]
     },
     "execution_count": 233,
     "metadata": {},
     "output_type": "execute_result"
    }
   ],
   "source": [
    "#Here I am grouping by indicator then selecting a specific indicator using get_group()\n",
    "#This is an example of wide form data where multiple observations are in the same row\n",
    "\n",
    "new_df= wdi_df[['Country Name','Indicator Name','2017', '2018', '2019']].groupby(['Indicator Name']).get_group('CO2 emissions (kt)')\n",
    "new_df.head()"
   ]
  },
  {
   "cell_type": "code",
   "execution_count": 146,
   "metadata": {},
   "outputs": [
    {
     "data": {
      "text/html": [
       "<div>\n",
       "<style scoped>\n",
       "    .dataframe tbody tr th:only-of-type {\n",
       "        vertical-align: middle;\n",
       "    }\n",
       "\n",
       "    .dataframe tbody tr th {\n",
       "        vertical-align: top;\n",
       "    }\n",
       "\n",
       "    .dataframe thead th {\n",
       "        text-align: right;\n",
       "    }\n",
       "</style>\n",
       "<table border=\"1\" class=\"dataframe\">\n",
       "  <thead>\n",
       "    <tr style=\"text-align: right;\">\n",
       "      <th></th>\n",
       "      <th>Country Name</th>\n",
       "      <th>Indicator Name</th>\n",
       "      <th>year</th>\n",
       "      <th>value</th>\n",
       "    </tr>\n",
       "  </thead>\n",
       "  <tbody>\n",
       "    <tr>\n",
       "      <th>0</th>\n",
       "      <td>Afghanistan</td>\n",
       "      <td>CO2 emissions (kt)</td>\n",
       "      <td>2017</td>\n",
       "      <td>4780.000210</td>\n",
       "    </tr>\n",
       "    <tr>\n",
       "      <th>1</th>\n",
       "      <td>Albania</td>\n",
       "      <td>CO2 emissions (kt)</td>\n",
       "      <td>2017</td>\n",
       "      <td>5139.999866</td>\n",
       "    </tr>\n",
       "    <tr>\n",
       "      <th>2</th>\n",
       "      <td>Algeria</td>\n",
       "      <td>CO2 emissions (kt)</td>\n",
       "      <td>2017</td>\n",
       "      <td>158339.996338</td>\n",
       "    </tr>\n",
       "    <tr>\n",
       "      <th>3</th>\n",
       "      <td>American Samoa</td>\n",
       "      <td>CO2 emissions (kt)</td>\n",
       "      <td>2017</td>\n",
       "      <td>NaN</td>\n",
       "    </tr>\n",
       "    <tr>\n",
       "      <th>4</th>\n",
       "      <td>Andorra</td>\n",
       "      <td>CO2 emissions (kt)</td>\n",
       "      <td>2017</td>\n",
       "      <td>469.999999</td>\n",
       "    </tr>\n",
       "  </tbody>\n",
       "</table>\n",
       "</div>"
      ],
      "text/plain": [
       "     Country Name      Indicator Name  year          value\n",
       "0     Afghanistan  CO2 emissions (kt)  2017    4780.000210\n",
       "1         Albania  CO2 emissions (kt)  2017    5139.999866\n",
       "2         Algeria  CO2 emissions (kt)  2017  158339.996338\n",
       "3  American Samoa  CO2 emissions (kt)  2017            NaN\n",
       "4         Andorra  CO2 emissions (kt)  2017     469.999999"
      ]
     },
     "execution_count": 146,
     "metadata": {},
     "output_type": "execute_result"
    }
   ],
   "source": [
    "#Here I am using the pandas melt function to go from wide form to long form\n",
    "#In long form data each row represents an observation\n",
    "\n",
    "new_df = pd.melt(new_df, id_vars=['Country Name','Indicator Name'], value_vars=['2017', '2018', '2019'], var_name='year', value_name='value')\n",
    "new_df.head()"
   ]
  },
  {
   "cell_type": "code",
   "execution_count": 91,
   "metadata": {},
   "outputs": [
    {
     "data": {
      "text/plain": [
       "Country Name\n",
       "Afghanistan         5643.333435\n",
       "Albania             5026.666641\n",
       "Algeria           165043.329875\n",
       "American Samoa              NaN\n",
       "Andorra              486.666669\n",
       "dtype: float64"
      ]
     },
     "execution_count": 91,
     "metadata": {},
     "output_type": "execute_result"
    }
   ],
   "source": [
    "# Here I am getting the mean for each country after grouping by indicator then selecting a specific indicator using get_group\n",
    "indi = 'CO2 emissions (kt)'\n",
    "new_df= wdi_df[['Country Name','Indicator Name','2017', '2018', '2019']].groupby(\n",
    "    ['Indicator Name']).get_group(indi).set_index('Country Name').mean(axis=1,numeric_only=True)\n",
    "new_df.head()"
   ]
  },
  {
   "cell_type": "code",
   "execution_count": 150,
   "metadata": {},
   "outputs": [],
   "source": [
    "#new_df.describe()"
   ]
  },
  {
   "cell_type": "code",
   "execution_count": 153,
   "metadata": {},
   "outputs": [
    {
     "name": "stdout",
     "output_type": "stream",
     "text": [
      "                    2004  2016  2017  2018  2019\n",
      "Country Name                                    \n",
      "China                2.0   1.0   1.0   1.0   1.0\n",
      "United States        1.0   2.0   2.0   2.0   2.0\n",
      "India                5.0   3.0   3.0   3.0   3.0\n",
      "Russian Federation   3.0   4.0   4.0   4.0   4.0\n",
      "Japan                4.0   5.0   5.0   5.0   5.0\n"
     ]
    }
   ],
   "source": [
    "# Here I am getting the ranking for each country by specific indicator value \n",
    "indi = 'CO2 emissions (kt)'\n",
    "new_df= wdi_df[['Country Name','Indicator Name', '2004', '2016', '2017', '2018','2019']].groupby(\n",
    "    ['Indicator Name']).get_group(indi).set_index('Country Name').rank(ascending=False, axis=0, numeric_only=True)\n",
    "print(new_df.sort_values('2019').head())\n",
    "#new_df"
   ]
  },
  {
   "cell_type": "code",
   "execution_count": 166,
   "metadata": {},
   "outputs": [
    {
     "data": {
      "text/plain": [
       "Country Name\n",
       "China                 1.070722e+07\n",
       "United States         4.817720e+06\n",
       "India                 2.456300e+06\n",
       "Russian Federation    1.703590e+06\n",
       "Japan                 1.081570e+06\n",
       "Germany               6.574000e+05\n",
       "Iran, Islamic Rep.    6.300100e+05\n",
       "Indonesia             6.198400e+05\n",
       "Korea, Rep.           6.107900e+05\n",
       "Canada                5.802100e+05\n",
       "dtype: float64"
      ]
     },
     "execution_count": 166,
     "metadata": {},
     "output_type": "execute_result"
    }
   ],
   "source": [
    "# Here I am getting the 10 highest values for a specific indicator and year\n",
    "\n",
    "indi = 'CO2 emissions (kt)'\n",
    "new_df= wdi_df[['Country Name','Indicator Name','2019']].groupby(\n",
    "    ['Indicator Name']).get_group(indi).set_index('Country Name').mean(axis=1,numeric_only=True).nlargest(10)\n",
    "new_df"
   ]
  },
  {
   "cell_type": "code",
   "execution_count": 240,
   "metadata": {},
   "outputs": [
    {
     "name": "stdout",
     "output_type": "stream",
     "text": [
      "50.4 ms ± 155 µs per loop (mean ± std. dev. of 7 runs, 10 loops each)\n"
     ]
    }
   ],
   "source": [
    "%%timeit\n",
    "# Here I am timeing to see if groupby is faster than using another method\n",
    "\n",
    "new_df= wdi_df[['Country Name','Indicator Name','2018','2019']].groupby(\n",
    "    ['Indicator Name']).get_group('CO2 emissions (kt)').set_index('Country Name').mean(axis=1,numeric_only=True).nlargest(10)\n",
    "new_df"
   ]
  },
  {
   "cell_type": "code",
   "execution_count": 241,
   "metadata": {},
   "outputs": [
    {
     "name": "stdout",
     "output_type": "stream",
     "text": [
      "17 ms ± 163 µs per loop (mean ± std. dev. of 7 runs, 100 loops each)\n"
     ]
    }
   ],
   "source": [
    "%%timeit\n",
    "# Here I am comparing  the a similar operation without groupby\n",
    "\n",
    "source = wdi_df[['Country Name', 'Indicator Name', '2018', '2019']] #getting only country name the CO2 emmision for the year 2019\n",
    "source = source[source['Indicator Name'] =='CO2 emissions (kt)'] #selecting one indicator\n",
    "source = source.set_index('Country Name')\n",
    "source = source.mean(axis=1, numeric_only=True)\n",
    "source = source.nlargest(10) #getting the top 15 highest in 2019\n",
    "source"
   ]
  },
  {
   "cell_type": "code",
   "execution_count": 95,
   "metadata": {},
   "outputs": [
    {
     "name": "stdout",
     "output_type": "stream",
     "text": [
      "The watermark extension is already loaded. To reload it, use:\n",
      "  %reload_ext watermark\n",
      "Last updated: 2022-09-26T16:30:04.948772-04:00\n",
      "\n",
      "Python implementation: CPython\n",
      "Python version       : 3.10.4\n",
      "IPython version      : 8.4.0\n",
      "\n",
      "Compiler    : MSC v.1929 64 bit (AMD64)\n",
      "OS          : Windows\n",
      "Release     : 10\n",
      "Machine     : AMD64\n",
      "Processor   : Intel64 Family 6 Model 140 Stepping 2, GenuineIntel\n",
      "CPU cores   : 8\n",
      "Architecture: 64bit\n",
      "\n",
      "sys   : 3.10.4 (tags/v3.10.4:9d38120, Mar 23 2022, 23:13:41) [MSC v.1929 64 bit (AMD64)]\n",
      "altair: 4.2.0\n",
      "numpy : 1.22.3\n",
      "pandas: 1.4.2\n",
      "\n"
     ]
    }
   ],
   "source": [
    "#Dependencies\n",
    "%load_ext watermark\n",
    "%watermark\n",
    "%watermark --iversions"
   ]
  }
 ],
 "metadata": {
  "kernelspec": {
   "display_name": "Python 3.10.4 64-bit",
   "language": "python",
   "name": "python3"
  },
  "language_info": {
   "codemirror_mode": {
    "name": "ipython",
    "version": 3
   },
   "file_extension": ".py",
   "mimetype": "text/x-python",
   "name": "python",
   "nbconvert_exporter": "python",
   "pygments_lexer": "ipython3",
   "version": "3.10.4"
  },
  "orig_nbformat": 4,
  "vscode": {
   "interpreter": {
    "hash": "cfbf783a11fdc9922f3ac3062272c36041cc7b087677fa264d9933912d89c1bb"
   }
  }
 },
 "nbformat": 4,
 "nbformat_minor": 2
}
