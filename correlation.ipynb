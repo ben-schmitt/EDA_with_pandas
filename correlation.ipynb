{
 "cells": [
  {
   "cell_type": "code",
   "execution_count": null,
   "metadata": {},
   "outputs": [],
   "source": []
  },
  {
   "attachments": {},
   "cell_type": "markdown",
   "metadata": {},
   "source": [
    "# Correlation"
   ]
  },
  {
   "cell_type": "markdown",
   "metadata": {},
   "source": [
    "If someone told me that two variables were statistically related, I would expect that a change in one of the variables would lead to a predictable (positive or negative) change in the other. One way to describe the relatedness of two variables is by calculating the correlation coefficient. There are several types of correlation coefficients. The result is always between -1 and 1. Values closer to 1 or -1 indicate a stronger relationship.\n",
    "\n",
    "The Pearson correlation coefficient is a common measure of linear correlation between two variables. The Pearson correlation coefficient is calculated as the covariance of two variables divided by the product of their standard deviations.The result is always between -1 and 1. Values closer to 1 or -1 indicate a stronger relationship, more variance in y can be explain by x, and values closer to zero indicate a weaker relationship between variables."
   ]
  },
  {
   "cell_type": "code",
   "execution_count": 37,
   "metadata": {},
   "outputs": [],
   "source": [
    "import pandas as pd\n",
    "import numpy as np\n",
    "import altair as alt"
   ]
  },
  {
   "cell_type": "code",
   "execution_count": 33,
   "metadata": {},
   "outputs": [
    {
     "data": {
      "text/plain": [
       "'4.2.0'"
      ]
     },
     "execution_count": 33,
     "metadata": {},
     "output_type": "execute_result"
    }
   ],
   "source": [
    "alt.__version__"
   ]
  },
  {
   "cell_type": "code",
   "execution_count": 50,
   "metadata": {},
   "outputs": [
    {
     "data": {
      "text/plain": [
       "['altair_saver',\n",
       " 'altair_viewer',\n",
       " 'colab',\n",
       " 'default',\n",
       " 'html',\n",
       " 'json',\n",
       " 'jupyterlab',\n",
       " 'kaggle',\n",
       " 'mimetype',\n",
       " 'notebook',\n",
       " 'nteract',\n",
       " 'png',\n",
       " 'svg',\n",
       " 'zeppelin']"
      ]
     },
     "execution_count": 50,
     "metadata": {},
     "output_type": "execute_result"
    }
   ],
   "source": [
    "alt.renderers.names()"
   ]
  },
  {
   "cell_type": "code",
   "execution_count": 51,
   "metadata": {},
   "outputs": [
    {
     "data": {
      "text/plain": [
       "RendererRegistry.enable('default')"
      ]
     },
     "execution_count": 51,
     "metadata": {},
     "output_type": "execute_result"
    }
   ],
   "source": [
    "alt.renderers.enable('default')"
   ]
  },
  {
   "cell_type": "code",
   "execution_count": 18,
   "metadata": {},
   "outputs": [],
   "source": [
    "#Read WDI data into a pandas dataframe\n",
    "wdi_df = pd.read_csv('WDIData.csv')\n",
    "\n",
    "#There are region names included in the country column and I only want to look at countries\n",
    "#Using the WDICountry.csv to get a list of countries only\n",
    "wdi_country_df = pd.read_csv('WDICountry.csv')\n",
    "#getting list of only countries and not regions\n",
    "country_only = wdi_country_df.dropna(subset=['Region'])\n",
    "country_only = country_only['Table Name']\n",
    "#print(country_only)\n",
    "#filtering out regions\n",
    "wdi_df = wdi_df.loc[wdi_df['Country Name'].isin(country_only)]"
   ]
  },
  {
   "cell_type": "code",
   "execution_count": 4,
   "metadata": {},
   "outputs": [],
   "source": [
    "#make a functon that return a new df from a list of indicatior values and a year as string\n",
    "def get_ind_df(df, indi_list, year):\n",
    "    new_df = df[['Country Name','Indicator Name',year]]\n",
    "    d = {'Country Name': new_df['Country Name'].unique()}\n",
    "    output_df = pd.DataFrame(data=d)\n",
    "    for indi in indi_list:\n",
    "        temp_df = new_df[new_df['Indicator Name']== indi]\n",
    "        temp_df = temp_df.rename(columns={ year : indi +' '+ year})\n",
    "        temp_df = temp_df[['Country Name', indi +' '+ year]]\n",
    "        output_df = output_df.merge(temp_df, how='outer', on='Country Name' )\n",
    "    return output_df\n",
    "\n",
    "\n",
    "#make a functon that return a new log transformed df from a list of indicatior values and a year as string\n",
    "def get_ind_df_transformed(df, indi_list, year):\n",
    "    new_df = df[['Country Name','Indicator Name',year]]\n",
    "    d= {'Country Name': new_df['Country Name'].unique()}\n",
    "    output_df = pd.DataFrame(data=d)\n",
    "    for indi in indi_list:\n",
    "        temp_df = new_df[new_df['Indicator Name']== indi]\n",
    "        temp_df[indi +' '+ year] = np.log(temp_df[year])\n",
    "        #temp_df = temp_df.rename(columns={ year : indi +' '+ year})\n",
    "        temp_df = temp_df[['Country Name', indi +' '+ year]]\n",
    "        output_df = output_df.merge(temp_df, how='outer', on='Country Name' )\n",
    "    return output_df"
   ]
  },
  {
   "cell_type": "markdown",
   "metadata": {},
   "source": [
    "I used the WDI dataset to explore correlation between varriables. I looked at measures of CO2 emissions and other variables that I thought might have some positive or negative relationship with CO2 emissions. I used pandas .corr method to calculate the Pearson correlation coefficient between pairs of variables to evaluate relatedness of the variables. The Pearson Correlation coefficient is a measure of linear correlation between two variables. It is the ratio between the covariance of two variables and the product of their standard deviations (a normalized measurement of the covariance). \n",
    "\n",
    "Let's look at some correlation coefficients by broad indicator category.\n"
   ]
  },
  {
   "cell_type": "code",
   "execution_count": 5,
   "metadata": {},
   "outputs": [
    {
     "name": "stdout",
     "output_type": "stream",
     "text": [
      "['Liechtenstein', 'Monaco', 'Luxembourg', 'Bermuda', 'Isle of Man', 'Switzerland', 'Cayman Islands', 'Macao SAR, China', 'Norway', 'Qatar', 'Ireland', 'United States', 'Australia', 'Singapore', 'Faroe Islands', 'Denmark', 'Iceland', 'Sweden', 'United Kingdom', 'Netherlands', 'Greenland', 'Austria', 'Canada', 'Finland', 'San Marino', 'Hong Kong SAR, China', 'Germany', 'Belgium', 'United Arab Emirates', 'New Zealand']\n"
     ]
    }
   ],
   "source": [
    "#this cell gets a list of the top 30 countries by GPD per capita in 2015\n",
    "#CO2 emissions are highlt correlated with GDP and population so I wanted to campare results using all countries and only countries on this list\n",
    "\n",
    "indi_list = [ 'CO2 emissions (metric tons per capita)','Population, total','GDP (current US$)']\n",
    "source = get_ind_df(wdi_df, indi_list, '2015')\n",
    "source['GDP per capita (current US$) 2015'] = source['GDP (current US$) 2015']/source['Population, total 2015']\n",
    "source = source.nlargest(30, 'GDP per capita (current US$) 2015')\n",
    "high_gdp_per_list = source['Country Name'].tolist()\n",
    "print(high_gdp_per_list)"
   ]
  },
  {
   "cell_type": "code",
   "execution_count": 6,
   "metadata": {},
   "outputs": [
    {
     "data": {
      "text/html": [
       "<div>\n",
       "<style scoped>\n",
       "    .dataframe tbody tr th:only-of-type {\n",
       "        vertical-align: middle;\n",
       "    }\n",
       "\n",
       "    .dataframe tbody tr th {\n",
       "        vertical-align: top;\n",
       "    }\n",
       "\n",
       "    .dataframe thead th {\n",
       "        text-align: right;\n",
       "    }\n",
       "</style>\n",
       "<table border=\"1\" class=\"dataframe\">\n",
       "  <thead>\n",
       "    <tr style=\"text-align: right;\">\n",
       "      <th></th>\n",
       "      <th>CO2 emissions (kt) 2015</th>\n",
       "      <th>CO2 emissions (metric tons per capita) 2015</th>\n",
       "    </tr>\n",
       "  </thead>\n",
       "  <tbody>\n",
       "    <tr>\n",
       "      <th>CO2 emissions (kt) 2015</th>\n",
       "      <td>1.000000</td>\n",
       "      <td>0.177665</td>\n",
       "    </tr>\n",
       "    <tr>\n",
       "      <th>CO2 emissions (metric tons per capita) 2015</th>\n",
       "      <td>0.177665</td>\n",
       "      <td>1.000000</td>\n",
       "    </tr>\n",
       "    <tr>\n",
       "      <th>Energy use (kg of oil equivalent per capita) 2015</th>\n",
       "      <td>0.129602</td>\n",
       "      <td>0.341627</td>\n",
       "    </tr>\n",
       "    <tr>\n",
       "      <th>Renewable electricity output (% of total electricity output) 2015</th>\n",
       "      <td>-0.081838</td>\n",
       "      <td>-0.308210</td>\n",
       "    </tr>\n",
       "    <tr>\n",
       "      <th>Electricity production from nuclear sources (% of total) 2015</th>\n",
       "      <td>0.009745</td>\n",
       "      <td>-0.231230</td>\n",
       "    </tr>\n",
       "    <tr>\n",
       "      <th>Electricity production from coal sources (% of total) 2015</th>\n",
       "      <td>0.273735</td>\n",
       "      <td>0.077639</td>\n",
       "    </tr>\n",
       "    <tr>\n",
       "      <th>Renewable energy consumption (% of total final energy consumption) 2015</th>\n",
       "      <td>-0.130136</td>\n",
       "      <td>-0.534918</td>\n",
       "    </tr>\n",
       "    <tr>\n",
       "      <th>Electricity production from natural gas sources (% of total) 2015</th>\n",
       "      <td>-0.028782</td>\n",
       "      <td>0.435019</td>\n",
       "    </tr>\n",
       "    <tr>\n",
       "      <th>Alternative and nuclear energy (% of total energy use) 2015</th>\n",
       "      <td>-0.120053</td>\n",
       "      <td>-0.356142</td>\n",
       "    </tr>\n",
       "    <tr>\n",
       "      <th>Fossil fuel energy consumption (% of total) 2015</th>\n",
       "      <td>0.228820</td>\n",
       "      <td>0.224303</td>\n",
       "    </tr>\n",
       "  </tbody>\n",
       "</table>\n",
       "</div>"
      ],
      "text/plain": [
       "                                                    CO2 emissions (kt) 2015  \\\n",
       "CO2 emissions (kt) 2015                                            1.000000   \n",
       "CO2 emissions (metric tons per capita) 2015                        0.177665   \n",
       "Energy use (kg of oil equivalent per capita) 2015                  0.129602   \n",
       "Renewable electricity output (% of total electr...                -0.081838   \n",
       "Electricity production from nuclear sources (% ...                 0.009745   \n",
       "Electricity production from coal sources (% of ...                 0.273735   \n",
       "Renewable energy consumption (% of total final ...                -0.130136   \n",
       "Electricity production from natural gas sources...                -0.028782   \n",
       "Alternative and nuclear energy (% of total ener...                -0.120053   \n",
       "Fossil fuel energy consumption (% of total) 2015                   0.228820   \n",
       "\n",
       "                                                    CO2 emissions (metric tons per capita) 2015  \n",
       "CO2 emissions (kt) 2015                                                                0.177665  \n",
       "CO2 emissions (metric tons per capita) 2015                                            1.000000  \n",
       "Energy use (kg of oil equivalent per capita) 2015                                      0.341627  \n",
       "Renewable electricity output (% of total electr...                                    -0.308210  \n",
       "Electricity production from nuclear sources (% ...                                    -0.231230  \n",
       "Electricity production from coal sources (% of ...                                     0.077639  \n",
       "Renewable energy consumption (% of total final ...                                    -0.534918  \n",
       "Electricity production from natural gas sources...                                     0.435019  \n",
       "Alternative and nuclear energy (% of total ener...                                    -0.356142  \n",
       "Fossil fuel energy consumption (% of total) 2015                                       0.224303  "
      ]
     },
     "execution_count": 6,
     "metadata": {},
     "output_type": "execute_result"
    }
   ],
   "source": [
    "#Energy\n",
    "indi_list = ['CO2 emissions (kt)', 'CO2 emissions (metric tons per capita)','Energy use (kg of oil equivalent per capita)',\n",
    "             'Renewable electricity output (% of total electricity output)','Electricity production from nuclear sources (% of total)', \n",
    "             'Electricity production from coal sources (% of total)','Renewable energy consumption (% of total final energy consumption)',\n",
    "              'Electricity production from natural gas sources (% of total)','Alternative and nuclear energy (% of total energy use)',\n",
    "              'Fossil fuel energy consumption (% of total)']\n",
    "              \n",
    "new_ind_df= get_ind_df(wdi_df, indi_list, '2015') #some indicators are only in 2015 like renewable energy and Energy use\n",
    "#new_ind_df = new_ind_df[new_ind_df['Country Name'] != 'China']\n",
    "#new_ind_df = new_ind_df[new_ind_df['Country Name'] != 'United States']\n",
    "#new_ind_df = new_ind_df.loc[new_ind_df['Country Name'].isin(high_gdp_per_list)]\n",
    "#print(new_ind_df.head())\n",
    "\n",
    "#pearson : standard correlation coefficient\n",
    "corr_df = new_ind_df.corr(method='pearson')\n",
    "corr_df = corr_df.iloc[:, 0:2]\n",
    "corr_df"
   ]
  },
  {
   "cell_type": "code",
   "execution_count": 7,
   "metadata": {},
   "outputs": [
    {
     "data": {
      "text/html": [
       "<div>\n",
       "<style scoped>\n",
       "    .dataframe tbody tr th:only-of-type {\n",
       "        vertical-align: middle;\n",
       "    }\n",
       "\n",
       "    .dataframe tbody tr th {\n",
       "        vertical-align: top;\n",
       "    }\n",
       "\n",
       "    .dataframe thead th {\n",
       "        text-align: right;\n",
       "    }\n",
       "</style>\n",
       "<table border=\"1\" class=\"dataframe\">\n",
       "  <thead>\n",
       "    <tr style=\"text-align: right;\">\n",
       "      <th></th>\n",
       "      <th>CO2 emissions (kt) 2015</th>\n",
       "      <th>CO2 emissions (metric tons per capita) 2015</th>\n",
       "    </tr>\n",
       "  </thead>\n",
       "  <tbody>\n",
       "    <tr>\n",
       "      <th>CO2 emissions (kt) 2015</th>\n",
       "      <td>1.000000</td>\n",
       "      <td>0.177665</td>\n",
       "    </tr>\n",
       "    <tr>\n",
       "      <th>CO2 emissions (metric tons per capita) 2015</th>\n",
       "      <td>0.177665</td>\n",
       "      <td>1.000000</td>\n",
       "    </tr>\n",
       "    <tr>\n",
       "      <th>GDP (current US$) 2015</th>\n",
       "      <td>0.830580</td>\n",
       "      <td>0.238310</td>\n",
       "    </tr>\n",
       "    <tr>\n",
       "      <th>Literacy rate, youth female (% of females ages 15-24) 2015</th>\n",
       "      <td>0.307127</td>\n",
       "      <td>0.322519</td>\n",
       "    </tr>\n",
       "    <tr>\n",
       "      <th>Population, total 2015</th>\n",
       "      <td>0.807873</td>\n",
       "      <td>0.012257</td>\n",
       "    </tr>\n",
       "    <tr>\n",
       "      <th>Poverty headcount ratio at $1.90 a day (2011 PPP) (% of population) 2015</th>\n",
       "      <td>-0.083570</td>\n",
       "      <td>-0.414926</td>\n",
       "    </tr>\n",
       "    <tr>\n",
       "      <th>Access to clean fuels and technologies for cooking (% of population) 2015</th>\n",
       "      <td>0.091886</td>\n",
       "      <td>0.576661</td>\n",
       "    </tr>\n",
       "    <tr>\n",
       "      <th>Access to electricity (% of population) 2015</th>\n",
       "      <td>0.120528</td>\n",
       "      <td>0.474128</td>\n",
       "    </tr>\n",
       "    <tr>\n",
       "      <th>Adolescent fertility rate (births per 1,000 women ages 15-19) 2015</th>\n",
       "      <td>-0.151579</td>\n",
       "      <td>-0.513735</td>\n",
       "    </tr>\n",
       "    <tr>\n",
       "      <th>Rural population (% of total population) 2015</th>\n",
       "      <td>-0.082988</td>\n",
       "      <td>-0.578435</td>\n",
       "    </tr>\n",
       "  </tbody>\n",
       "</table>\n",
       "</div>"
      ],
      "text/plain": [
       "                                                    CO2 emissions (kt) 2015  \\\n",
       "CO2 emissions (kt) 2015                                            1.000000   \n",
       "CO2 emissions (metric tons per capita) 2015                        0.177665   \n",
       "GDP (current US$) 2015                                             0.830580   \n",
       "Literacy rate, youth female (% of females ages ...                 0.307127   \n",
       "Population, total 2015                                             0.807873   \n",
       "Poverty headcount ratio at $1.90 a day (2011 PP...                -0.083570   \n",
       "Access to clean fuels and technologies for cook...                 0.091886   \n",
       "Access to electricity (% of population) 2015                       0.120528   \n",
       "Adolescent fertility rate (births per 1,000 wom...                -0.151579   \n",
       "Rural population (% of total population) 2015                     -0.082988   \n",
       "\n",
       "                                                    CO2 emissions (metric tons per capita) 2015  \n",
       "CO2 emissions (kt) 2015                                                                0.177665  \n",
       "CO2 emissions (metric tons per capita) 2015                                            1.000000  \n",
       "GDP (current US$) 2015                                                                 0.238310  \n",
       "Literacy rate, youth female (% of females ages ...                                     0.322519  \n",
       "Population, total 2015                                                                 0.012257  \n",
       "Poverty headcount ratio at $1.90 a day (2011 PP...                                    -0.414926  \n",
       "Access to clean fuels and technologies for cook...                                     0.576661  \n",
       "Access to electricity (% of population) 2015                                           0.474128  \n",
       "Adolescent fertility rate (births per 1,000 wom...                                    -0.513735  \n",
       "Rural population (% of total population) 2015                                         -0.578435  "
      ]
     },
     "execution_count": 7,
     "metadata": {},
     "output_type": "execute_result"
    }
   ],
   "source": [
    "#People and poverty\n",
    "indi_list = ['CO2 emissions (kt)', 'CO2 emissions (metric tons per capita)','GDP (current US$)','Literacy rate, youth female (% of females ages 15-24)',\n",
    "             'Population, total','Poverty headcount ratio at $1.90 a day (2011 PPP) (% of population)','Access to clean fuels and technologies for cooking (% of population)',\n",
    "              'Access to electricity (% of population)','Adolescent fertility rate (births per 1,000 women ages 15-19)', 'Rural population (% of total population)']\n",
    "\n",
    "new_ind_df= get_ind_df(wdi_df, indi_list, '2015') \n",
    "#new_ind_df = new_ind_df[new_ind_df['Country Name'] != 'China']\n",
    "#new_ind_df = new_ind_df[new_ind_df['Country Name'] != 'United States']\n",
    "#new_ind_df = new_ind_df.loc[new_ind_df['Country Name'].isin(high_gdp_per_list)]\n",
    "#print(new_ind_df.head())\n",
    "\n",
    "#pearson : standard correlation coefficient\n",
    "corr_df = new_ind_df.corr(method='pearson')\n",
    "corr_df = corr_df.iloc[:, 0:2]\n",
    "corr_df"
   ]
  },
  {
   "cell_type": "code",
   "execution_count": 8,
   "metadata": {},
   "outputs": [
    {
     "data": {
      "text/html": [
       "<div>\n",
       "<style scoped>\n",
       "    .dataframe tbody tr th:only-of-type {\n",
       "        vertical-align: middle;\n",
       "    }\n",
       "\n",
       "    .dataframe tbody tr th {\n",
       "        vertical-align: top;\n",
       "    }\n",
       "\n",
       "    .dataframe thead th {\n",
       "        text-align: right;\n",
       "    }\n",
       "</style>\n",
       "<table border=\"1\" class=\"dataframe\">\n",
       "  <thead>\n",
       "    <tr style=\"text-align: right;\">\n",
       "      <th></th>\n",
       "      <th>CO2 emissions (kt) 2015</th>\n",
       "      <th>CO2 emissions (metric tons per capita) 2015</th>\n",
       "    </tr>\n",
       "  </thead>\n",
       "  <tbody>\n",
       "    <tr>\n",
       "      <th>CO2 emissions (kt) 2015</th>\n",
       "      <td>1.000000</td>\n",
       "      <td>0.177665</td>\n",
       "    </tr>\n",
       "    <tr>\n",
       "      <th>CO2 emissions (metric tons per capita) 2015</th>\n",
       "      <td>0.177665</td>\n",
       "      <td>1.000000</td>\n",
       "    </tr>\n",
       "    <tr>\n",
       "      <th>Air transport, passengers carried 2015</th>\n",
       "      <td>0.801659</td>\n",
       "      <td>0.256895</td>\n",
       "    </tr>\n",
       "    <tr>\n",
       "      <th>Air transport, freight (million ton-km) 2015</th>\n",
       "      <td>0.712531</td>\n",
       "      <td>0.398806</td>\n",
       "    </tr>\n",
       "    <tr>\n",
       "      <th>Rail lines (total route-km) 2015</th>\n",
       "      <td>0.699387</td>\n",
       "      <td>0.444400</td>\n",
       "    </tr>\n",
       "    <tr>\n",
       "      <th>Container port traffic (TEU: 20 foot equivalent units) 2015</th>\n",
       "      <td>0.929195</td>\n",
       "      <td>0.167767</td>\n",
       "    </tr>\n",
       "    <tr>\n",
       "      <th>Agriculture, forestry, and fishing, value added (% of GDP) 2015</th>\n",
       "      <td>-0.092977</td>\n",
       "      <td>-0.533735</td>\n",
       "    </tr>\n",
       "    <tr>\n",
       "      <th>CO2 emissions from liquid fuel consumption (kt) 2015</th>\n",
       "      <td>0.851435</td>\n",
       "      <td>0.251855</td>\n",
       "    </tr>\n",
       "  </tbody>\n",
       "</table>\n",
       "</div>"
      ],
      "text/plain": [
       "                                                    CO2 emissions (kt) 2015  \\\n",
       "CO2 emissions (kt) 2015                                            1.000000   \n",
       "CO2 emissions (metric tons per capita) 2015                        0.177665   \n",
       "Air transport, passengers carried 2015                             0.801659   \n",
       "Air transport, freight (million ton-km) 2015                       0.712531   \n",
       "Rail lines (total route-km) 2015                                   0.699387   \n",
       "Container port traffic (TEU: 20 foot equivalent...                 0.929195   \n",
       "Agriculture, forestry, and fishing, value added...                -0.092977   \n",
       "CO2 emissions from liquid fuel consumption (kt)...                 0.851435   \n",
       "\n",
       "                                                    CO2 emissions (metric tons per capita) 2015  \n",
       "CO2 emissions (kt) 2015                                                                0.177665  \n",
       "CO2 emissions (metric tons per capita) 2015                                            1.000000  \n",
       "Air transport, passengers carried 2015                                                 0.256895  \n",
       "Air transport, freight (million ton-km) 2015                                           0.398806  \n",
       "Rail lines (total route-km) 2015                                                       0.444400  \n",
       "Container port traffic (TEU: 20 foot equivalent...                                     0.167767  \n",
       "Agriculture, forestry, and fishing, value added...                                    -0.533735  \n",
       "CO2 emissions from liquid fuel consumption (kt)...                                     0.251855  "
      ]
     },
     "execution_count": 8,
     "metadata": {},
     "output_type": "execute_result"
    }
   ],
   "source": [
    "#industry and transportation\n",
    "indi_list = ['CO2 emissions (kt)', 'CO2 emissions (metric tons per capita)', 'Air transport, passengers carried',\n",
    "            'Air transport, freight (million ton-km)', 'Rail lines (total route-km)', 'Container port traffic (TEU: 20 foot equivalent units)',\n",
    "            'Agriculture, forestry, and fishing, value added (% of GDP)','CO2 emissions from liquid fuel consumption (kt)']\n",
    "\n",
    "new_ind_df= get_ind_df(wdi_df, indi_list, '2015') \n",
    "#new_ind_df = new_ind_df.loc[new_ind_df['Country Name'].isin(high_gdp_per_list)]\n",
    "#print(new_ind_df.head())\n",
    "\n",
    "#pearson : standard correlation coefficient\n",
    "corr_df = new_ind_df.corr(method='pearson')\n",
    "corr_df = corr_df.iloc[:, 0:2]\n",
    "corr_df"
   ]
  },
  {
   "cell_type": "code",
   "execution_count": 9,
   "metadata": {},
   "outputs": [
    {
     "data": {
      "text/html": [
       "<div>\n",
       "<style scoped>\n",
       "    .dataframe tbody tr th:only-of-type {\n",
       "        vertical-align: middle;\n",
       "    }\n",
       "\n",
       "    .dataframe tbody tr th {\n",
       "        vertical-align: top;\n",
       "    }\n",
       "\n",
       "    .dataframe thead th {\n",
       "        text-align: right;\n",
       "    }\n",
       "</style>\n",
       "<table border=\"1\" class=\"dataframe\">\n",
       "  <thead>\n",
       "    <tr style=\"text-align: right;\">\n",
       "      <th></th>\n",
       "      <th>CO2 emissions (kt) 2018</th>\n",
       "      <th>CO2 emissions (metric tons per capita) 2018</th>\n",
       "    </tr>\n",
       "  </thead>\n",
       "  <tbody>\n",
       "    <tr>\n",
       "      <th>CO2 emissions (kt) 2018</th>\n",
       "      <td>1.000000</td>\n",
       "      <td>0.178414</td>\n",
       "    </tr>\n",
       "    <tr>\n",
       "      <th>CO2 emissions (metric tons per capita) 2018</th>\n",
       "      <td>0.178414</td>\n",
       "      <td>1.000000</td>\n",
       "    </tr>\n",
       "    <tr>\n",
       "      <th>Agricultural land (% of land area) 2018</th>\n",
       "      <td>0.063343</td>\n",
       "      <td>-0.269157</td>\n",
       "    </tr>\n",
       "    <tr>\n",
       "      <th>Forest area (% of land area) 2018</th>\n",
       "      <td>-0.027379</td>\n",
       "      <td>-0.081702</td>\n",
       "    </tr>\n",
       "    <tr>\n",
       "      <th>Terrestrial protected areas (% of total land area) 2018</th>\n",
       "      <td>-0.027242</td>\n",
       "      <td>0.094676</td>\n",
       "    </tr>\n",
       "    <tr>\n",
       "      <th>Total natural resources rents (% of GDP) 2018</th>\n",
       "      <td>-0.037031</td>\n",
       "      <td>0.191733</td>\n",
       "    </tr>\n",
       "    <tr>\n",
       "      <th>Fertilizer consumption (kilograms per hectare of arable land) 2018</th>\n",
       "      <td>0.054129</td>\n",
       "      <td>0.369904</td>\n",
       "    </tr>\n",
       "    <tr>\n",
       "      <th>Bird species, threatened 2018</th>\n",
       "      <td>0.367078</td>\n",
       "      <td>-0.053020</td>\n",
       "    </tr>\n",
       "    <tr>\n",
       "      <th>Mammal species, threatened 2018</th>\n",
       "      <td>0.298406</td>\n",
       "      <td>-0.113635</td>\n",
       "    </tr>\n",
       "    <tr>\n",
       "      <th>Fish species, threatened 2018</th>\n",
       "      <td>0.447912</td>\n",
       "      <td>-0.022348</td>\n",
       "    </tr>\n",
       "  </tbody>\n",
       "</table>\n",
       "</div>"
      ],
      "text/plain": [
       "                                                    CO2 emissions (kt) 2018  \\\n",
       "CO2 emissions (kt) 2018                                            1.000000   \n",
       "CO2 emissions (metric tons per capita) 2018                        0.178414   \n",
       "Agricultural land (% of land area) 2018                            0.063343   \n",
       "Forest area (% of land area) 2018                                 -0.027379   \n",
       "Terrestrial protected areas (% of total land ar...                -0.027242   \n",
       "Total natural resources rents (% of GDP) 2018                     -0.037031   \n",
       "Fertilizer consumption (kilograms per hectare o...                 0.054129   \n",
       "Bird species, threatened 2018                                      0.367078   \n",
       "Mammal species, threatened 2018                                    0.298406   \n",
       "Fish species, threatened 2018                                      0.447912   \n",
       "\n",
       "                                                    CO2 emissions (metric tons per capita) 2018  \n",
       "CO2 emissions (kt) 2018                                                                0.178414  \n",
       "CO2 emissions (metric tons per capita) 2018                                            1.000000  \n",
       "Agricultural land (% of land area) 2018                                               -0.269157  \n",
       "Forest area (% of land area) 2018                                                     -0.081702  \n",
       "Terrestrial protected areas (% of total land ar...                                     0.094676  \n",
       "Total natural resources rents (% of GDP) 2018                                          0.191733  \n",
       "Fertilizer consumption (kilograms per hectare o...                                     0.369904  \n",
       "Bird species, threatened 2018                                                         -0.053020  \n",
       "Mammal species, threatened 2018                                                       -0.113635  \n",
       "Fish species, threatened 2018                                                         -0.022348  "
      ]
     },
     "execution_count": 9,
     "metadata": {},
     "output_type": "execute_result"
    }
   ],
   "source": [
    "#land use and wildlife\n",
    "indi_list = ['CO2 emissions (kt)', 'CO2 emissions (metric tons per capita)','Agricultural land (% of land area)',\n",
    "              'Forest area (% of land area)','Terrestrial protected areas (% of total land area)',\n",
    "              'Total natural resources rents (% of GDP)','Fertilizer consumption (kilograms per hectare of arable land)',\n",
    "              'Bird species, threatened', 'Mammal species, threatened', 'Fish species, threatened']\n",
    "\n",
    "new_ind_df= get_ind_df(wdi_df, indi_list, '2018') #some indicators are only in 2018 like threatened species\n",
    "#new_ind_df = new_ind_df.loc[new_ind_df['Country Name'].isin(high_gdp_per_list)]\n",
    "#print(new_ind_df.head())\n",
    "\n",
    "#pearson : standard correlation coefficient\n",
    "corr_df = new_ind_df.corr(method='pearson')\n",
    "corr_df = corr_df.iloc[:, 0:2]\n",
    "corr_df"
   ]
  },
  {
   "cell_type": "markdown",
   "metadata": {},
   "source": [
    " Looks like total CO2 emissions are highly corelated with population and GDP. \n",
    "\n",
    "There are not many variables in the list that are highly corelated with CO2 per capita. Some correlated variables include Renewable energy consumption (% of total final energy consumption) 2015, Rural population (% of total population) 2015, and Agriculture, forestry, and fishing, value added (% of GDP) 2015."
   ]
  },
  {
   "cell_type": "code",
   "execution_count": 10,
   "metadata": {},
   "outputs": [
    {
     "name": "stdout",
     "output_type": "stream",
     "text": [
      "[[1.         0.81642052]\n",
      " [0.81642052 1.        ]]\n"
     ]
    }
   ],
   "source": [
    "#looking at another way to calculate correlation coefficient \n",
    "#these x and y values are from Anscombe's quartet\n",
    "x=[10, 8, 13, 9, 11, 14, 6, 4, 12, 7, 5]\n",
    "y=[8.04, 6.95, 7.58, 8.81, 8.33, 9.96, 7.24, 4.26, 10.84, 4.82, 5.68]\n",
    "\n",
    "one = np.array([x,y])\n",
    "#print(one)\n",
    "\n",
    "#print(np.cov(one))\n",
    "#print(np.std(x))\n",
    "#print(np.std(y))\n",
    "#print(5.501/(np.std(x)*np.std(y)))\n",
    "print(np.corrcoef(one)) #This returns the correlation coefficient matrix of the variables. Correlation coefficients between x and y are on the off diagonal.\n"
   ]
  },
  {
   "cell_type": "code",
   "execution_count": 11,
   "metadata": {},
   "outputs": [],
   "source": [
    "#kendall : Kendall Tau correlation coefficient\n",
    "corr_df_k = new_ind_df.corr(method='kendall')\n",
    "corr_df_k = corr_df_k.iloc[:, 0:1]\n",
    "#corr_df_k"
   ]
  },
  {
   "cell_type": "markdown",
   "metadata": {},
   "source": [
    "Kendall Tau correlation coefficient is a measure of rank correlation or the similarity of the orderings of the data when ranked. "
   ]
  },
  {
   "cell_type": "code",
   "execution_count": 12,
   "metadata": {},
   "outputs": [],
   "source": [
    "# spearman : Spearman rank correlation\n",
    "corr_df_s = new_ind_df.corr(method='spearman')\n",
    "corr_df_s = corr_df_s.iloc[:, 0:1]\n",
    "#corr_df_s"
   ]
  },
  {
   "cell_type": "markdown",
   "metadata": {},
   "source": [
    "Spearman rank correlation assesses how well the relationship between two ranks can be described using a monotonic function. A monotonic function is a function between ordered sets that preserves or reverses the given order."
   ]
  },
  {
   "cell_type": "code",
   "execution_count": 52,
   "metadata": {},
   "outputs": [
    {
     "data": {
      "text/html": [
       "\n",
       "<div id=\"altair-viz-fb15ee1ae3024838bb8d1eb47fd53af9\"></div>\n",
       "<script type=\"text/javascript\">\n",
       "  var VEGA_DEBUG = (typeof VEGA_DEBUG == \"undefined\") ? {} : VEGA_DEBUG;\n",
       "  (function(spec, embedOpt){\n",
       "    let outputDiv = document.currentScript.previousElementSibling;\n",
       "    if (outputDiv.id !== \"altair-viz-fb15ee1ae3024838bb8d1eb47fd53af9\") {\n",
       "      outputDiv = document.getElementById(\"altair-viz-fb15ee1ae3024838bb8d1eb47fd53af9\");\n",
       "    }\n",
       "    const paths = {\n",
       "      \"vega\": \"https://cdn.jsdelivr.net/npm//vega@5?noext\",\n",
       "      \"vega-lib\": \"https://cdn.jsdelivr.net/npm//vega-lib?noext\",\n",
       "      \"vega-lite\": \"https://cdn.jsdelivr.net/npm//vega-lite@4.17.0?noext\",\n",
       "      \"vega-embed\": \"https://cdn.jsdelivr.net/npm//vega-embed@6?noext\",\n",
       "    };\n",
       "\n",
       "    function maybeLoadScript(lib, version) {\n",
       "      var key = `${lib.replace(\"-\", \"\")}_version`;\n",
       "      return (VEGA_DEBUG[key] == version) ?\n",
       "        Promise.resolve(paths[lib]) :\n",
       "        new Promise(function(resolve, reject) {\n",
       "          var s = document.createElement('script');\n",
       "          document.getElementsByTagName(\"head\")[0].appendChild(s);\n",
       "          s.async = true;\n",
       "          s.onload = () => {\n",
       "            VEGA_DEBUG[key] = version;\n",
       "            return resolve(paths[lib]);\n",
       "          };\n",
       "          s.onerror = () => reject(`Error loading script: ${paths[lib]}`);\n",
       "          s.src = paths[lib];\n",
       "        });\n",
       "    }\n",
       "\n",
       "    function showError(err) {\n",
       "      outputDiv.innerHTML = `<div class=\"error\" style=\"color:red;\">${err}</div>`;\n",
       "      throw err;\n",
       "    }\n",
       "\n",
       "    function displayChart(vegaEmbed) {\n",
       "      vegaEmbed(outputDiv, spec, embedOpt)\n",
       "        .catch(err => showError(`Javascript Error: ${err.message}<br>This usually means there's a typo in your chart specification. See the javascript console for the full traceback.`));\n",
       "    }\n",
       "\n",
       "    if(typeof define === \"function\" && define.amd) {\n",
       "      requirejs.config({paths});\n",
       "      require([\"vega-embed\"], displayChart, err => showError(`Error loading script: ${err.message}`));\n",
       "    } else {\n",
       "      maybeLoadScript(\"vega\", \"5\")\n",
       "        .then(() => maybeLoadScript(\"vega-lite\", \"4.17.0\"))\n",
       "        .then(() => maybeLoadScript(\"vega-embed\", \"6\"))\n",
       "        .catch(showError)\n",
       "        .then(() => displayChart(vegaEmbed));\n",
       "    }\n",
       "  })({\"config\": {\"view\": {\"continuousWidth\": 400, \"continuousHeight\": 300}}, \"layer\": [{\"mark\": \"circle\", \"encoding\": {\"color\": {\"field\": \"Country Name\", \"legend\": null, \"type\": \"nominal\"}, \"tooltip\": {\"field\": \"Country Name\", \"type\": \"nominal\"}, \"x\": {\"field\": \"CO2 emissions (kt) 2015\", \"type\": \"quantitative\"}, \"y\": {\"field\": \"GDP (current US$) 2015\", \"type\": \"quantitative\"}}, \"height\": 400, \"title\": \"CO2 emissions versus GDP in 2015\", \"width\": 600}, {\"mark\": \"line\", \"encoding\": {\"color\": {\"field\": \"Country Name\", \"legend\": null, \"type\": \"nominal\"}, \"tooltip\": {\"field\": \"Country Name\", \"type\": \"nominal\"}, \"x\": {\"field\": \"CO2 emissions (kt) 2015\", \"type\": \"quantitative\"}, \"y\": {\"field\": \"GDP (current US$) 2015\", \"type\": \"quantitative\"}}, \"height\": 400, \"title\": \"CO2 emissions versus GDP in 2015\", \"transform\": [{\"on\": \"CO2 emissions (kt) 2015\", \"regression\": \"GDP (current US$) 2015\"}], \"width\": 600}], \"data\": {\"name\": \"data-9d1429f9a4a4b8ee965647389a18d14c\"}, \"$schema\": \"https://vega.github.io/schema/vega-lite/v4.17.0.json\", \"datasets\": {\"data-9d1429f9a4a4b8ee965647389a18d14c\": [{\"Country Name\": \"Afghanistan\", \"CO2 emissions (kt) 2015\": 5949.99980926514, \"CO2 emissions (metric tons per capita) 2015\": 0.172896741130684, \"GDP (current US$) 2015\": 19134211763.859}, {\"Country Name\": \"Albania\", \"CO2 emissions (kt) 2015\": 4619.99988555908, \"CO2 emissions (metric tons per capita) 2015\": 1.60377514987108, \"GDP (current US$) 2015\": 11386850129.8411}, {\"Country Name\": \"Algeria\", \"CO2 emissions (kt) 2015\": 156270.004272461, \"CO2 emissions (metric tons per capita) 2015\": 3.93349591226698, \"GDP (current US$) 2015\": 165979279263.174}, {\"Country Name\": \"American Samoa\", \"CO2 emissions (kt) 2015\": null, \"CO2 emissions (metric tons per capita) 2015\": null, \"GDP (current US$) 2015\": 673000000.0}, {\"Country Name\": \"Andorra\", \"CO2 emissions (kt) 2015\": 469.999998807907, \"CO2 emissions (metric tons per capita) 2015\": 6.02618182154689, \"GDP (current US$) 2015\": 2789881258.50362}, {\"Country Name\": \"Angola\", \"CO2 emissions (kt) 2015\": 31649.9996185303, \"CO2 emissions (metric tons per capita) 2015\": 1.13504405041569, \"GDP (current US$) 2015\": 87219290028.7263}, {\"Country Name\": \"Antigua and Barbuda\", \"CO2 emissions (kt) 2015\": 490.000009536743, \"CO2 emissions (metric tons per capita) 2015\": 5.23666530802004, \"GDP (current US$) 2015\": 1336692592.59259}, {\"Country Name\": \"Argentina\", \"CO2 emissions (kt) 2015\": 185550.003051758, \"CO2 emissions (metric tons per capita) 2015\": 4.30191387639872, \"GDP (current US$) 2015\": 594749285413.212}, {\"Country Name\": \"Armenia\", \"CO2 emissions (kt) 2015\": 5340.00015258789, \"CO2 emissions (metric tons per capita) 2015\": 1.82529224417894, \"GDP (current US$) 2015\": 10553337672.9872}, {\"Country Name\": \"Aruba\", \"CO2 emissions (kt) 2015\": null, \"CO2 emissions (metric tons per capita) 2015\": null, \"GDP (current US$) 2015\": 2963128491.62011}, {\"Country Name\": \"Australia\", \"CO2 emissions (kt) 2015\": 377799.987792969, \"CO2 emissions (metric tons per capita) 2015\": 15.863288004258, \"GDP (current US$) 2015\": 1350534154255.76}, {\"Country Name\": \"Austria\", \"CO2 emissions (kt) 2015\": 63240.0016784668, \"CO2 emissions (metric tons per capita) 2015\": 7.31715887345687, \"GDP (current US$) 2015\": 381971148530.543}, {\"Country Name\": \"Azerbaijan\", \"CO2 emissions (kt) 2015\": 31770.0004577637, \"CO2 emissions (metric tons per capita) 2015\": 3.29245286882946, \"GDP (current US$) 2015\": 53074370486.0433}, {\"Country Name\": \"Bahamas, The\", \"CO2 emissions (kt) 2015\": 2210.00003814697, \"CO2 emissions (metric tons per capita) 2015\": 5.90593275827624, \"GDP (current US$) 2015\": 11861900000.0}, {\"Country Name\": \"Bahrain\", \"CO2 emissions (kt) 2015\": 30579.9999237061, \"CO2 emissions (metric tons per capita) 2015\": 22.2910180053592, \"GDP (current US$) 2015\": 31050638297.8723}, {\"Country Name\": \"Bangladesh\", \"CO2 emissions (kt) 2015\": 72190.0024414063, \"CO2 emissions (metric tons per capita) 2015\": 0.461997426326957, \"GDP (current US$) 2015\": 195078678697.23}, {\"Country Name\": \"Barbados\", \"CO2 emissions (kt) 2015\": 1269.99998092651, \"CO2 emissions (metric tons per capita) 2015\": 4.45103330889299, \"GDP (current US$) 2015\": 4724691212.50593}, {\"Country Name\": \"Belarus\", \"CO2 emissions (kt) 2015\": 54819.9996948242, \"CO2 emissions (metric tons per capita) 2015\": 5.79426692004421, \"GDP (current US$) 2015\": 56454734396.5842}, {\"Country Name\": \"Belgium\", \"CO2 emissions (kt) 2015\": 95129.997253418, \"CO2 emissions (metric tons per capita) 2015\": 8.43785199879601, \"GDP (current US$) 2015\": 462335574841.484}, {\"Country Name\": \"Belize\", \"CO2 emissions (kt) 2015\": 680.000007152557, \"CO2 emissions (metric tons per capita) 2015\": 1.88404273217379, \"GDP (current US$) 2015\": 1734320479.1395}, {\"Country Name\": \"Benin\", \"CO2 emissions (kt) 2015\": 5510.00022888184, \"CO2 emissions (metric tons per capita) 2015\": 0.520992816434272, \"GDP (current US$) 2015\": 11388160958.249}, {\"Country Name\": \"Bermuda\", \"CO2 emissions (kt) 2015\": null, \"CO2 emissions (metric tons per capita) 2015\": null, \"GDP (current US$) 2015\": 6654541000.0}, {\"Country Name\": \"Bhutan\", \"CO2 emissions (kt) 2015\": 769.999980926514, \"CO2 emissions (metric tons per capita) 2015\": 1.05785938840135, \"GDP (current US$) 2015\": 2003598212.99135}, {\"Country Name\": \"Bolivia\", \"CO2 emissions (kt) 2015\": 20760.0002288818, \"CO2 emissions (metric tons per capita) 2015\": 1.90989071569398, \"GDP (current US$) 2015\": 33000198248.9146}, {\"Country Name\": \"Bosnia and Herzegovina\", \"CO2 emissions (kt) 2015\": 19620.0008392334, \"CO2 emissions (metric tons per capita) 2015\": 5.72118103578257, \"GDP (current US$) 2015\": 16219819343.5214}, {\"Country Name\": \"Botswana\", \"CO2 emissions (kt) 2015\": 6949.99980926514, \"CO2 emissions (metric tons per capita) 2015\": 3.27719497059726, \"GDP (current US$) 2015\": 13578754072.4652}, {\"Country Name\": \"Brazil\", \"CO2 emissions (kt) 2015\": 485339.996337891, \"CO2 emissions (metric tons per capita) 2015\": 2.37362850846258, \"GDP (current US$) 2015\": 1802211999538.68}, {\"Country Name\": \"British Virgin Islands\", \"CO2 emissions (kt) 2015\": null, \"CO2 emissions (metric tons per capita) 2015\": null, \"GDP (current US$) 2015\": null}, {\"Country Name\": \"Brunei Darussalam\", \"CO2 emissions (kt) 2015\": 6400.00009536743, \"CO2 emissions (metric tons per capita) 2015\": 15.4248834586623, \"GDP (current US$) 2015\": 12930394937.8137}, {\"Country Name\": \"Bulgaria\", \"CO2 emissions (kt) 2015\": 44560.001373291, \"CO2 emissions (metric tons per capita) 2015\": 6.20786531681232, \"GDP (current US$) 2015\": 50781996712.7635}, {\"Country Name\": \"Burkina Faso\", \"CO2 emissions (kt) 2015\": 3700.00004768372, \"CO2 emissions (metric tons per capita) 2015\": 0.204300066197843, \"GDP (current US$) 2015\": 11832159275.603}, {\"Country Name\": \"Burundi\", \"CO2 emissions (kt) 2015\": 400.000005960464, \"CO2 emissions (metric tons per capita) 2015\": 0.0393699475769928, \"GDP (current US$) 2015\": 3104003611.42957}, {\"Country Name\": \"Cabo Verde\", \"CO2 emissions (kt) 2015\": 500.0, \"CO2 emissions (metric tons per capita) 2015\": 0.952852841407173, \"GDP (current US$) 2015\": 1596800287.16405}, {\"Country Name\": \"Cambodia\", \"CO2 emissions (kt) 2015\": 8430.00030517578, \"CO2 emissions (metric tons per capita) 2015\": 0.543119905161847, \"GDP (current US$) 2015\": 18049954289.4229}, {\"Country Name\": \"Cameroon\", \"CO2 emissions (kt) 2015\": 8460.00003814697, \"CO2 emissions (metric tons per capita) 2015\": 0.363115439382855, \"GDP (current US$) 2015\": 32210232911.6626}, {\"Country Name\": \"Canada\", \"CO2 emissions (kt) 2015\": 558700.012207031, \"CO2 emissions (metric tons per capita) 2015\": 15.6485856056048, \"GDP (current US$) 2015\": 1556508816217.14}, {\"Country Name\": \"Cayman Islands\", \"CO2 emissions (kt) 2015\": null, \"CO2 emissions (metric tons per capita) 2015\": null, \"GDP (current US$) 2015\": 4708336756.08849}, {\"Country Name\": \"Central African Republic\", \"CO2 emissions (kt) 2015\": 189.999997615814, \"CO2 emissions (metric tons per capita) 2015\": 0.042286393644002, \"GDP (current US$) 2015\": 1695825708.45604}, {\"Country Name\": \"Chad\", \"CO2 emissions (kt) 2015\": 2390.00010490417, \"CO2 emissions (metric tons per capita) 2015\": 0.169371767889266, \"GDP (current US$) 2015\": 10950392219.9104}, {\"Country Name\": \"Channel Islands\", \"CO2 emissions (kt) 2015\": null, \"CO2 emissions (metric tons per capita) 2015\": null, \"GDP (current US$) 2015\": null}, {\"Country Name\": \"Chile\", \"CO2 emissions (kt) 2015\": 82230.0033569336, \"CO2 emissions (metric tons per capita) 2015\": 4.57612411690957, \"GDP (current US$) 2015\": 242496649874.236}, {\"Country Name\": \"China\", \"CO2 emissions (kt) 2015\": 9861099.609375, \"CO2 emissions (metric tons per capita) 2015\": 7.14644935672822, \"GDP (current US$) 2015\": 11061553079871.5}, {\"Country Name\": \"Colombia\", \"CO2 emissions (kt) 2015\": 80230.0033569336, \"CO2 emissions (metric tons per capita) 2015\": 1.6883181239214, \"GDP (current US$) 2015\": 293481748240.778}, {\"Country Name\": \"Comoros\", \"CO2 emissions (kt) 2015\": 189.999997615814, \"CO2 emissions (metric tons per capita) 2015\": 0.244393418891372, \"GDP (current US$) 2015\": 966029542.038859}, {\"Country Name\": \"Congo, Dem. Rep.\", \"CO2 emissions (kt) 2015\": 3230.00001907349, \"CO2 emissions (metric tons per capita) 2015\": 0.0423636939508461, \"GDP (current US$) 2015\": 37917704900.0794}, {\"Country Name\": \"Congo, Rep.\", \"CO2 emissions (kt) 2015\": 5659.99984741211, \"CO2 emissions (metric tons per capita) 2015\": 1.1655460155751, \"GDP (current US$) 2015\": 11890259176.6829}, {\"Country Name\": \"Costa Rica\", \"CO2 emissions (kt) 2015\": 7539.99996185303, \"CO2 emissions (metric tons per capita) 2015\": 1.55534308039474, \"GDP (current US$) 2015\": 56441917652.9812}, {\"Country Name\": \"Croatia\", \"CO2 emissions (kt) 2015\": 16600.0003814697, \"CO2 emissions (metric tons per capita) 2015\": 3.94899243160624, \"GDP (current US$) 2015\": 50163192883.1515}, {\"Country Name\": \"Cuba\", \"CO2 emissions (kt) 2015\": 29209.9990844727, \"CO2 emissions (metric tons per capita) 2015\": 2.57930015615077, \"GDP (current US$) 2015\": 87133000000.0}, {\"Country Name\": \"Cyprus\", \"CO2 emissions (kt) 2015\": 6849.99990463257, \"CO2 emissions (metric tons per capita) 2015\": 5.90015211594322, \"GDP (current US$) 2015\": 19842404304.8929}, {\"Country Name\": \"Czech Republic\", \"CO2 emissions (kt) 2015\": 99139.9993896484, \"CO2 emissions (metric tons per capita) 2015\": 9.4006680021085, \"GDP (current US$) 2015\": 188033050459.881}, {\"Country Name\": \"Denmark\", \"CO2 emissions (kt) 2015\": 33700.0007629395, \"CO2 emissions (metric tons per capita) 2015\": 5.92946275425465, \"GDP (current US$) 2015\": 302673070846.857}, {\"Country Name\": \"Djibouti\", \"CO2 emissions (kt) 2015\": 460.00000834465, \"CO2 emissions (metric tons per capita) 2015\": 0.50328338611753, \"GDP (current US$) 2015\": 2424391785.43897}, {\"Country Name\": \"Dominica\", \"CO2 emissions (kt) 2015\": 180.000007152557, \"CO2 emissions (metric tons per capita) 2015\": 2.52897797193617, \"GDP (current US$) 2015\": 540737037.037037}, {\"Country Name\": \"Dominican Republic\", \"CO2 emissions (kt) 2015\": 23590.0001525879, \"CO2 emissions (metric tons per capita) 2015\": 2.29437325655478, \"GDP (current US$) 2015\": 71164825256.6849}, {\"Country Name\": \"Ecuador\", \"CO2 emissions (kt) 2015\": 41520.0004577637, \"CO2 emissions (metric tons per capita) 2015\": 2.56106242995252, \"GDP (current US$) 2015\": 99290381000.0}, {\"Country Name\": \"Egypt, Arab Rep.\", \"CO2 emissions (kt) 2015\": 226279.998779297, \"CO2 emissions (metric tons per capita) 2015\": 2.44779055994331, \"GDP (current US$) 2015\": 329366576819.407}, {\"Country Name\": \"El Salvador\", \"CO2 emissions (kt) 2015\": 7000.0, \"CO2 emissions (metric tons per capita) 2015\": 1.10669819597127, \"GDP (current US$) 2015\": 23438240000.0}, {\"Country Name\": \"Equatorial Guinea\", \"CO2 emissions (kt) 2015\": 6570.00017166138, \"CO2 emissions (metric tons per capita) 2015\": 5.62223235278983, \"GDP (current US$) 2015\": 13185496836.4124}, {\"Country Name\": \"Eritrea\", \"CO2 emissions (kt) 2015\": 649.999976158142, \"CO2 emissions (metric tons per capita) 2015\": 0.194446714166952, \"GDP (current US$) 2015\": null}, {\"Country Name\": \"Estonia\", \"CO2 emissions (kt) 2015\": 15539.999961853, \"CO2 emissions (metric tons per capita) 2015\": 11.8138340162801, \"GDP (current US$) 2015\": 22890762090.1508}, {\"Country Name\": \"Eswatini\", \"CO2 emissions (kt) 2015\": 769.999980926514, \"CO2 emissions (metric tons per capita) 2015\": 0.697439744761063, \"GDP (current US$) 2015\": 4063245671.29285}, {\"Country Name\": \"Ethiopia\", \"CO2 emissions (kt) 2015\": 12890.0003433228, \"CO2 emissions (metric tons per capita) 2015\": 0.127832026929286, \"GDP (current US$) 2015\": 64589334978.8013}, {\"Country Name\": \"Faroe Islands\", \"CO2 emissions (kt) 2015\": null, \"CO2 emissions (metric tons per capita) 2015\": null, \"GDP (current US$) 2015\": 2561824640.6754}, {\"Country Name\": \"Fiji\", \"CO2 emissions (kt) 2015\": 1379.99999523163, \"CO2 emissions (metric tons per capita) 2015\": 1.58870499271456, \"GDP (current US$) 2015\": 4682546863.08162}, {\"Country Name\": \"Finland\", \"CO2 emissions (kt) 2015\": 42819.9996948242, \"CO2 emissions (metric tons per capita) 2015\": 7.81453735635845, \"GDP (current US$) 2015\": 234534382384.766}, {\"Country Name\": \"France\", \"CO2 emissions (kt) 2015\": 311299.987792969, \"CO2 emissions (metric tons per capita) 2015\": 4.67780722830743, \"GDP (current US$) 2015\": 2439188643162.5}, {\"Country Name\": \"French Polynesia\", \"CO2 emissions (kt) 2015\": null, \"CO2 emissions (metric tons per capita) 2015\": null, \"GDP (current US$) 2015\": 5325848045.4324}, {\"Country Name\": \"Gabon\", \"CO2 emissions (kt) 2015\": 6119.99988555908, \"CO2 emissions (metric tons per capita) 2015\": 3.14218375899608, \"GDP (current US$) 2015\": 14383107714.0388}, {\"Country Name\": \"Gambia, The\", \"CO2 emissions (kt) 2015\": 529.999971389771, \"CO2 emissions (metric tons per capita) 2015\": 0.254091823703303, \"GDP (current US$) 2015\": 1378176868.31568}, {\"Country Name\": \"Georgia\", \"CO2 emissions (kt) 2015\": 9199.99980926514, \"CO2 emissions (metric tons per capita) 2015\": 2.46961562291362, \"GDP (current US$) 2015\": 14953950557.4406}, {\"Country Name\": \"Germany\", \"CO2 emissions (kt) 2015\": 742309.997558594, \"CO2 emissions (metric tons per capita) 2015\": 9.08729090938286, \"GDP (current US$) 2015\": 3357585719351.56}, {\"Country Name\": \"Ghana\", \"CO2 emissions (kt) 2015\": 15779.9997329712, \"CO2 emissions (metric tons per capita) 2015\": 0.566623028061923, \"GDP (current US$) 2015\": 49406568432.6711}, {\"Country Name\": \"Gibraltar\", \"CO2 emissions (kt) 2015\": null, \"CO2 emissions (metric tons per capita) 2015\": null, \"GDP (current US$) 2015\": null}, {\"Country Name\": \"Greece\", \"CO2 emissions (kt) 2015\": 68010.0021362305, \"CO2 emissions (metric tons per capita) 2015\": 6.28506953972522, \"GDP (current US$) 2015\": 195683527003.375}, {\"Country Name\": \"Greenland\", \"CO2 emissions (kt) 2015\": null, \"CO2 emissions (metric tons per capita) 2015\": null, \"GDP (current US$) 2015\": 2499115623.00272}, {\"Country Name\": \"Grenada\", \"CO2 emissions (kt) 2015\": 270.000010728836, \"CO2 emissions (metric tons per capita) 2015\": 2.46343631769966, \"GDP (current US$) 2015\": 997007925.925926}, {\"Country Name\": \"Guam\", \"CO2 emissions (kt) 2015\": null, \"CO2 emissions (metric tons per capita) 2015\": null, \"GDP (current US$) 2015\": 5799000000.0}, {\"Country Name\": \"Guatemala\", \"CO2 emissions (kt) 2015\": 16340.0001525879, \"CO2 emissions (metric tons per capita) 2015\": 1.04962808238077, \"GDP (current US$) 2015\": 62186186575.7433}, {\"Country Name\": \"Guinea\", \"CO2 emissions (kt) 2015\": 2539.99996185303, \"CO2 emissions (metric tons per capita) 2015\": 0.222181475894974, \"GDP (current US$) 2015\": 8794202443.67366}, {\"Country Name\": \"Guinea-Bissau\", \"CO2 emissions (kt) 2015\": 280.000001192093, \"CO2 emissions (metric tons per capita) 2015\": 0.161178259811348, \"GDP (current US$) 2015\": 1048229629.42039}, {\"Country Name\": \"Guyana\", \"CO2 emissions (kt) 2015\": 2079.99992370605, \"CO2 emissions (metric tons per capita) 2015\": 2.71033422293028, \"GDP (current US$) 2015\": 4279840193.7046}, {\"Country Name\": \"Haiti\", \"CO2 emissions (kt) 2015\": 3279.99997138977, \"CO2 emissions (metric tons per capita) 2015\": 0.306669880285593, \"GDP (current US$) 2015\": 14833154471.7456}, {\"Country Name\": \"Honduras\", \"CO2 emissions (kt) 2015\": 9930.00030517578, \"CO2 emissions (metric tons per capita) 2015\": 1.08966365772928, \"GDP (current US$) 2015\": 20979767785.2104}, {\"Country Name\": \"Hong Kong SAR, China\", \"CO2 emissions (kt) 2015\": null, \"CO2 emissions (metric tons per capita) 2015\": null, \"GDP (current US$) 2015\": 309383627028.561}, {\"Country Name\": \"Hungary\", \"CO2 emissions (kt) 2015\": 43380.0010681152, \"CO2 emissions (metric tons per capita) 2015\": 4.40718050056499, \"GDP (current US$) 2015\": 125210324613.14}, {\"Country Name\": \"Iceland\", \"CO2 emissions (kt) 2015\": 2059.99994277954, \"CO2 emissions (metric tons per capita) 2015\": 6.22704515448072, \"GDP (current US$) 2015\": 17517210519.0912}, {\"Country Name\": \"India\", \"CO2 emissions (kt) 2015\": 2158020.01953125, \"CO2 emissions (metric tons per capita) 2015\": 1.64715191355484, \"GDP (current US$) 2015\": 2103587813812.75}, {\"Country Name\": \"Indonesia\", \"CO2 emissions (kt) 2015\": 488549.987792969, \"CO2 emissions (metric tons per capita) 2015\": 1.89079584128382, \"GDP (current US$) 2015\": 860854235065.079}, {\"Country Name\": \"Iran, Islamic Rep.\", \"CO2 emissions (kt) 2015\": 599179.992675781, \"CO2 emissions (metric tons per capita) 2015\": 7.63362387099342, \"GDP (current US$) 2015\": 408212918053.939}, {\"Country Name\": \"Iraq\", \"CO2 emissions (kt) 2015\": 133169.998168945, \"CO2 emissions (metric tons per capita) 2015\": 3.74364643899845, \"GDP (current US$) 2015\": 166774109673.732}, {\"Country Name\": \"Ireland\", \"CO2 emissions (kt) 2015\": 37060.001373291, \"CO2 emissions (metric tons per capita) 2015\": 7.88182481747302, \"GDP (current US$) 2015\": 291580037584.33}, {\"Country Name\": \"Isle of Man\", \"CO2 emissions (kt) 2015\": null, \"CO2 emissions (metric tons per capita) 2015\": null, \"GDP (current US$) 2015\": 7085288006.11154}, {\"Country Name\": \"Israel\", \"CO2 emissions (kt) 2015\": 66139.9993896484, \"CO2 emissions (metric tons per capita) 2015\": 7.89250717648338, \"GDP (current US$) 2015\": 300078278118.434}, {\"Country Name\": \"Italy\", \"CO2 emissions (kt) 2015\": 337859.985351563, \"CO2 emissions (metric tons per capita) 2015\": 5.56325946870661, \"GDP (current US$) 2015\": 1836637711060.55}, {\"Country Name\": \"Jamaica\", \"CO2 emissions (kt) 2015\": 7090.00015258789, \"CO2 emissions (metric tons per capita) 2015\": 2.45241829628114, \"GDP (current US$) 2015\": 14188935947.5694}, {\"Country Name\": \"Japan\", \"CO2 emissions (kt) 2015\": 1179439.94140625, \"CO2 emissions (metric tons per capita) 2015\": 9.2766294225014, \"GDP (current US$) 2015\": 4444930651964.18}, {\"Country Name\": \"Jordan\", \"CO2 emissions (kt) 2015\": 25309.9994659424, \"CO2 emissions (metric tons per capita) 2015\": 2.73132251436884, \"GDP (current US$) 2015\": 38587017887.3239}, {\"Country Name\": \"Kazakhstan\", \"CO2 emissions (kt) 2015\": 190729.995727539, \"CO2 emissions (metric tons per capita) 2015\": 10.8722627228243, \"GDP (current US$) 2015\": 184388432148.715}, {\"Country Name\": \"Kenya\", \"CO2 emissions (kt) 2015\": 17209.9990844727, \"CO2 emissions (metric tons per capita) 2015\": 0.359452717949817, \"GDP (current US$) 2015\": 70120413328.7838}, {\"Country Name\": \"Kiribati\", \"CO2 emissions (kt) 2015\": 59.9999986588955, \"CO2 emissions (metric tons per capita) 2015\": 0.540896253021316, \"GDP (current US$) 2015\": 170291001.98321}, {\"Country Name\": \"Korea, Dem. People's Rep.\", \"CO2 emissions (kt) 2015\": 25100.0003814697, \"CO2 emissions (metric tons per capita) 2015\": 0.996671212763399, \"GDP (current US$) 2015\": null}, {\"Country Name\": \"Korea, Rep.\", \"CO2 emissions (kt) 2015\": 607830.017089844, \"CO2 emissions (metric tons per capita) 2015\": 11.9147436748262, \"GDP (current US$) 2015\": 1465773245547.15}, {\"Country Name\": \"Kosovo\", \"CO2 emissions (kt) 2015\": null, \"CO2 emissions (metric tons per capita) 2015\": null, \"GDP (current US$) 2015\": 6295820481.52668}, {\"Country Name\": \"Kuwait\", \"CO2 emissions (kt) 2015\": 89019.9966430664, \"CO2 emissions (metric tons per capita) 2015\": 23.2089569169229, \"GDP (current US$) 2015\": 114567298105.683}, {\"Country Name\": \"Kyrgyz Republic\", \"CO2 emissions (kt) 2015\": 10270.0004577637, \"CO2 emissions (metric tons per capita) 2015\": 1.72405117725053, \"GDP (current US$) 2015\": 6678178340.45121}, {\"Country Name\": \"Lao PDR\", \"CO2 emissions (kt) 2015\": 8880.00011444092, \"CO2 emissions (metric tons per capita) 2015\": 1.31728072237433, \"GDP (current US$) 2015\": 14426381187.0894}, {\"Country Name\": \"Latvia\", \"CO2 emissions (kt) 2015\": 7320.00017166138, \"CO2 emissions (metric tons per capita) 2015\": 3.70159303597947, \"GDP (current US$) 2015\": 27263090547.0617}, {\"Country Name\": \"Lebanon\", \"CO2 emissions (kt) 2015\": 27010.0002288818, \"CO2 emissions (metric tons per capita) 2015\": 4.13459653530944, \"GDP (current US$) 2015\": 49929337837.0813}, {\"Country Name\": \"Lesotho\", \"CO2 emissions (kt) 2015\": 649.999976158142, \"CO2 emissions (metric tons per capita) 2015\": 0.315685528711669, \"GDP (current US$) 2015\": 2359759799.04224}, {\"Country Name\": \"Liberia\", \"CO2 emissions (kt) 2015\": 1259.99999046326, \"CO2 emissions (metric tons per capita) 2015\": 0.281738701319467, \"GDP (current US$) 2015\": 3227075700.0}, {\"Country Name\": \"Libya\", \"CO2 emissions (kt) 2015\": 51330.0018310547, \"CO2 emissions (metric tons per capita) 2015\": 7.99742640101876, \"GDP (current US$) 2015\": 48717854039.9653}, {\"Country Name\": \"Liechtenstein\", \"CO2 emissions (kt) 2015\": 159.999996423721, \"CO2 emissions (metric tons per capita) 2015\": 4.2706525136453, \"GDP (current US$) 2015\": 6268391521.19701}, {\"Country Name\": \"Lithuania\", \"CO2 emissions (kt) 2015\": 11069.9996948242, \"CO2 emissions (metric tons per capita) 2015\": 3.81078921371891, \"GDP (current US$) 2015\": 41435533340.3883}, {\"Country Name\": \"Luxembourg\", \"CO2 emissions (kt) 2015\": 9130.00011444092, \"CO2 emissions (metric tons per capita) 2015\": 16.0286797747925, \"GDP (current US$) 2015\": 60071584216.1375}, {\"Country Name\": \"Macao SAR, China\", \"CO2 emissions (kt) 2015\": null, \"CO2 emissions (metric tons per capita) 2015\": null, \"GDP (current US$) 2015\": 45047964934.2517}, {\"Country Name\": \"Madagascar\", \"CO2 emissions (kt) 2015\": 3279.99997138977, \"CO2 emissions (metric tons per capita) 2015\": 0.135346585114424, \"GDP (current US$) 2015\": 11323020828.5758}, {\"Country Name\": \"Malawi\", \"CO2 emissions (kt) 2015\": 930.000007152557, \"CO2 emissions (metric tons per capita) 2015\": 0.055537955692808, \"GDP (current US$) 2015\": 6373212640.84604}, {\"Country Name\": \"Malaysia\", \"CO2 emissions (kt) 2015\": 236539.993286133, \"CO2 emissions (metric tons per capita) 2015\": 7.81408829504223, \"GDP (current US$) 2015\": 301354803994.367}, {\"Country Name\": \"Maldives\", \"CO2 emissions (kt) 2015\": 1370.00000476837, \"CO2 emissions (metric tons per capita) 2015\": 3.01155823907018, \"GDP (current US$) 2015\": 4109424799.72407}, {\"Country Name\": \"Mali\", \"CO2 emissions (kt) 2015\": 3650.00009536743, \"CO2 emissions (metric tons per capita) 2015\": 0.20930373396518, \"GDP (current US$) 2015\": 13104764378.7114}, {\"Country Name\": \"Malta\", \"CO2 emissions (kt) 2015\": 1659.9999666214, \"CO2 emissions (metric tons per capita) 2015\": 3.72989276922389, \"GDP (current US$) 2015\": 11091434483.5238}, {\"Country Name\": \"Marshall Islands\", \"CO2 emissions (kt) 2015\": 150.000005960464, \"CO2 emissions (metric tons per capita) 2015\": 2.61123887543458, \"GDP (current US$) 2015\": 183814300.0}, {\"Country Name\": \"Mauritania\", \"CO2 emissions (kt) 2015\": 3559.99994277954, \"CO2 emissions (metric tons per capita) 2015\": 0.879815244425416, \"GDP (current US$) 2015\": 6166863960.00061}, {\"Country Name\": \"Mauritius\", \"CO2 emissions (kt) 2015\": 3960.00003814697, \"CO2 emissions (metric tons per capita) 2015\": 3.13637284673114, \"GDP (current US$) 2015\": 11692287066.381}, {\"Country Name\": \"Mexico\", \"CO2 emissions (kt) 2015\": 471630.004882813, \"CO2 emissions (metric tons per capita) 2015\": 3.87031654411988, \"GDP (current US$) 2015\": 1171867608197.72}, {\"Country Name\": \"Micronesia, Fed. Sts.\", \"CO2 emissions (kt) 2015\": 150.000005960464, \"CO2 emissions (metric tons per capita) 2015\": 1.37758762339019, \"GDP (current US$) 2015\": 316489900.0}, {\"Country Name\": \"Moldova\", \"CO2 emissions (kt) 2015\": 8020.00045776367, \"CO2 emissions (metric tons per capita) 2015\": 2.82939339423596, \"GDP (current US$) 2015\": 7745241912.94722}, {\"Country Name\": \"Monaco\", \"CO2 emissions (kt) 2015\": null, \"CO2 emissions (metric tons per capita) 2015\": null, \"GDP (current US$) 2015\": 6261622101.40908}, {\"Country Name\": \"Mongolia\", \"CO2 emissions (kt) 2015\": 17299.9992370605, \"CO2 emissions (metric tons per capita) 2015\": 5.76968010859689, \"GDP (current US$) 2015\": 11619892396.0767}, {\"Country Name\": \"Montenegro\", \"CO2 emissions (kt) 2015\": 2359.99989509583, \"CO2 emissions (metric tons per capita) 2015\": 3.79324239478305, \"GDP (current US$) 2015\": 4054728172.94375}, {\"Country Name\": \"Morocco\", \"CO2 emissions (kt) 2015\": 60409.9998474121, \"CO2 emissions (metric tons per capita) 2015\": 1.74274991361003, \"GDP (current US$) 2015\": 101179808076.36}, {\"Country Name\": \"Mozambique\", \"CO2 emissions (kt) 2015\": 5519.99998092651, \"CO2 emissions (metric tons per capita) 2015\": 0.204126905435974, \"GDP (current US$) 2015\": 15950979333.1582}, {\"Country Name\": \"Myanmar\", \"CO2 emissions (kt) 2015\": 19040.0009155273, \"CO2 emissions (metric tons per capita) 2015\": 0.361422536932623, \"GDP (current US$) 2015\": 63045305229.1046}, {\"Country Name\": \"Namibia\", \"CO2 emissions (kt) 2015\": 4199.99980926514, \"CO2 emissions (metric tons per capita) 2015\": 1.81433236637988, \"GDP (current US$) 2015\": 11335179562.0211}, {\"Country Name\": \"Nauru\", \"CO2 emissions (kt) 2015\": 59.9999986588955, \"CO2 emissions (metric tons per capita) 2015\": 5.78368986494077, \"GDP (current US$) 2015\": 86529661.3694983}, {\"Country Name\": \"Nepal\", \"CO2 emissions (kt) 2015\": 7190.00005722046, \"CO2 emissions (metric tons per capita) 2015\": 0.266148113060623, \"GDP (current US$) 2015\": 24360795410.6422}, {\"Country Name\": \"Netherlands\", \"CO2 emissions (kt) 2015\": 157410.003662109, \"CO2 emissions (metric tons per capita) 2015\": 9.29225024589008, \"GDP (current US$) 2015\": 765572770634.375}, {\"Country Name\": \"New Caledonia\", \"CO2 emissions (kt) 2015\": null, \"CO2 emissions (metric tons per capita) 2015\": null, \"GDP (current US$) 2015\": 8738205836.7394}, {\"Country Name\": \"New Zealand\", \"CO2 emissions (kt) 2015\": 32279.9987792969, \"CO2 emissions (metric tons per capita) 2015\": 7.00308039642836, \"GDP (current US$) 2015\": 178064471137.921}, {\"Country Name\": \"Nicaragua\", \"CO2 emissions (kt) 2015\": 5269.99998092651, \"CO2 emissions (metric tons per capita) 2015\": 0.846826582597812, \"GDP (current US$) 2015\": 12756706583.3113}, {\"Country Name\": \"Niger\", \"CO2 emissions (kt) 2015\": 2109.99989509583, \"CO2 emissions (metric tons per capita) 2015\": 0.105491223159586, \"GDP (current US$) 2015\": 9683867893.68343}, {\"Country Name\": \"Nigeria\", \"CO2 emissions (kt) 2015\": 107760.00213623, \"CO2 emissions (metric tons per capita) 2015\": 0.594907346639806, \"GDP (current US$) 2015\": 486803295097.89}, {\"Country Name\": \"North Macedonia\", \"CO2 emissions (kt) 2015\": 7409.99984741211, \"CO2 emissions (metric tons per capita) 2015\": 3.57931928562974, \"GDP (current US$) 2015\": 10064515432.0265}, {\"Country Name\": \"Northern Mariana Islands\", \"CO2 emissions (kt) 2015\": null, \"CO2 emissions (metric tons per capita) 2015\": null, \"GDP (current US$) 2015\": 910000000.0}, {\"Country Name\": \"Norway\", \"CO2 emissions (kt) 2015\": 39490.0016784668, \"CO2 emissions (metric tons per capita) 2015\": 7.61090629497798, \"GDP (current US$) 2015\": 385801550067.169}, {\"Country Name\": \"Oman\", \"CO2 emissions (kt) 2015\": 70129.997253418, \"CO2 emissions (metric tons per capita) 2015\": 16.4341207448427, \"GDP (current US$) 2015\": 78710793237.9714}, {\"Country Name\": \"Pakistan\", \"CO2 emissions (kt) 2015\": 164130.004882813, \"CO2 emissions (metric tons per capita) 2015\": 0.823008136130992, \"GDP (current US$) 2015\": 270556131701.171}, {\"Country Name\": \"Palau\", \"CO2 emissions (kt) 2015\": 209.999993443489, \"CO2 emissions (metric tons per capita) 2015\": 11.8879135829883, \"GDP (current US$) 2015\": 280457700.0}, {\"Country Name\": \"Panama\", \"CO2 emissions (kt) 2015\": 10699.9998092651, \"CO2 emissions (metric tons per capita) 2015\": 2.69623957960461, \"GDP (current US$) 2015\": 54091713800.0}, {\"Country Name\": \"Papua New Guinea\", \"CO2 emissions (kt) 2015\": 6510.00022888184, \"CO2 emissions (metric tons per capita) 2015\": 0.802933312491007, \"GDP (current US$) 2015\": 21723531173.2409}, {\"Country Name\": \"Paraguay\", \"CO2 emissions (kt) 2015\": 6369.99988555908, \"CO2 emissions (metric tons per capita) 2015\": 0.952345908419767, \"GDP (current US$) 2015\": 36211372702.8085}, {\"Country Name\": \"Peru\", \"CO2 emissions (kt) 2015\": 54549.9992370605, \"CO2 emissions (metric tons per capita) 2015\": 1.79024208231578, \"GDP (current US$) 2015\": 189805300841.603}, {\"Country Name\": \"Philippines\", \"CO2 emissions (kt) 2015\": 111010.00213623, \"CO2 emissions (metric tons per capita) 2015\": 1.08712679275029, \"GDP (current US$) 2015\": 306446140628.709}, {\"Country Name\": \"Poland\", \"CO2 emissions (kt) 2015\": 289079.986572266, \"CO2 emissions (metric tons per capita) 2015\": 7.61008927540369, \"GDP (current US$) 2015\": 477811911394.084}, {\"Country Name\": \"Portugal\", \"CO2 emissions (kt) 2015\": 49849.9984741211, \"CO2 emissions (metric tons per capita) 2015\": 4.81266969600543, \"GDP (current US$) 2015\": 199394066525.44}, {\"Country Name\": \"Puerto Rico\", \"CO2 emissions (kt) 2015\": null, \"CO2 emissions (metric tons per capita) 2015\": null, \"GDP (current US$) 2015\": 103375500000.0}, {\"Country Name\": \"Qatar\", \"CO2 emissions (kt) 2015\": 84779.9987792969, \"CO2 emissions (metric tons per capita) 2015\": 33.0435103212435, \"GDP (current US$) 2015\": 161739955577.748}, {\"Country Name\": \"Romania\", \"CO2 emissions (kt) 2015\": 73319.9996948242, \"CO2 emissions (metric tons per capita) 2015\": 3.70011205782471, \"GDP (current US$) 2015\": 177729210874.504}, {\"Country Name\": \"Russian Federation\", \"CO2 emissions (kt) 2015\": 1592560.05859375, \"CO2 emissions (metric tons per capita) 2015\": 11.0520100720699, \"GDP (current US$) 2015\": 1363481063446.77}, {\"Country Name\": \"Rwanda\", \"CO2 emissions (kt) 2015\": 980.000019073486, \"CO2 emissions (metric tons per capita) 2015\": 0.0861988151949761, \"GDP (current US$) 2015\": 8539424910.07969}, {\"Country Name\": \"Samoa\", \"CO2 emissions (kt) 2015\": 239.999994635582, \"CO2 emissions (metric tons per capita) 2015\": 1.24024595439813, \"GDP (current US$) 2015\": 788307314.850856}, {\"Country Name\": \"San Marino\", \"CO2 emissions (kt) 2015\": null, \"CO2 emissions (metric tons per capita) 2015\": null, \"GDP (current US$) 2015\": 1419394763.11994}, {\"Country Name\": \"Saudi Arabia\", \"CO2 emissions (kt) 2015\": 565190.002441406, \"CO2 emissions (metric tons per capita) 2015\": 17.8194014732166, \"GDP (current US$) 2015\": 654269739552.019}, {\"Country Name\": \"Senegal\", \"CO2 emissions (kt) 2015\": 9289.99996185303, \"CO2 emissions (metric tons per capita) 2015\": 0.637241953832748, \"GDP (current US$) 2015\": 17774766636.0459}, {\"Country Name\": \"Serbia\", \"CO2 emissions (kt) 2015\": 45389.9993896484, \"CO2 emissions (metric tons per capita) 2015\": 6.39711758895163, \"GDP (current US$) 2015\": 39655958842.5478}, {\"Country Name\": \"Seychelles\", \"CO2 emissions (kt) 2015\": 509.999990463257, \"CO2 emissions (metric tons per capita) 2015\": 5.45927477775674, \"GDP (current US$) 2015\": 1415998663.05391}, {\"Country Name\": \"Sierra Leone\", \"CO2 emissions (kt) 2015\": 910.000026226044, \"CO2 emissions (metric tons per capita) 2015\": 0.12688393372337, \"GDP (current US$) 2015\": 4218723875.1379}, {\"Country Name\": \"Singapore\", \"CO2 emissions (kt) 2015\": 45430.0003051758, \"CO2 emissions (metric tons per capita) 2015\": 8.20776583372071, \"GDP (current US$) 2015\": 308004146057.608}, {\"Country Name\": \"Sint Maarten (Dutch part)\", \"CO2 emissions (kt) 2015\": null, \"CO2 emissions (metric tons per capita) 2015\": null, \"GDP (current US$) 2015\": 1253072625.69832}, {\"Country Name\": \"Slovak Republic\", \"CO2 emissions (kt) 2015\": 30750.0, \"CO2 emissions (metric tons per capita) 2015\": 5.6694557930868, \"GDP (current US$) 2015\": 88636928904.6449}, {\"Country Name\": \"Slovenia\", \"CO2 emissions (kt) 2015\": 13140.0003433228, \"CO2 emissions (metric tons per capita) 2015\": 6.36772616613116, \"GDP (current US$) 2015\": 43107506024.3254}, {\"Country Name\": \"Solomon Islands\", \"CO2 emissions (kt) 2015\": 310.000002384186, \"CO2 emissions (metric tons per capita) 2015\": 0.513982823662751, \"GDP (current US$) 2015\": 1307082934.28683}, {\"Country Name\": \"Somalia\", \"CO2 emissions (kt) 2015\": 649.999976158142, \"CO2 emissions (metric tons per capita) 2015\": 0.047110992644462, \"GDP (current US$) 2015\": 5331761394.25487}, {\"Country Name\": \"South Africa\", \"CO2 emissions (kt) 2015\": 424809.997558594, \"CO2 emissions (metric tons per capita) 2015\": 7.66993766207339, \"GDP (current US$) 2015\": 346709790458.563}, {\"Country Name\": \"South Sudan\", \"CO2 emissions (kt) 2015\": 1970.00002861023, \"CO2 emissions (metric tons per capita) 2015\": 0.183843139866294, \"GDP (current US$) 2015\": 11997800760.2242}, {\"Country Name\": \"Spain\", \"CO2 emissions (kt) 2015\": 256279.998779297, \"CO2 emissions (metric tons per capita) 2015\": 5.51794435986542, \"GDP (current US$) 2015\": 1195599995808.59}, {\"Country Name\": \"Sri Lanka\", \"CO2 emissions (kt) 2015\": 20360.0006103516, \"CO2 emissions (metric tons per capita) 2015\": 0.97091085409402, \"GDP (current US$) 2015\": 80604080688.5775}, {\"Country Name\": \"St. Kitts and Nevis\", \"CO2 emissions (kt) 2015\": 239.999994635582, \"CO2 emissions (metric tons per capita) 2015\": 4.68713371290489, \"GDP (current US$) 2015\": 958407222.222222}, {\"Country Name\": \"St. Lucia\", \"CO2 emissions (kt) 2015\": 500.0, \"CO2 emissions (metric tons per capita) 2015\": 2.79125332856959, \"GDP (current US$) 2015\": 1808079888.88889}, {\"Country Name\": \"St. Martin (French part)\", \"CO2 emissions (kt) 2015\": null, \"CO2 emissions (metric tons per capita) 2015\": null, \"GDP (current US$) 2015\": null}, {\"Country Name\": \"St. Vincent and the Grenadines\", \"CO2 emissions (kt) 2015\": 250.0, \"CO2 emissions (metric tons per capita) 2015\": 2.29074082558299, \"GDP (current US$) 2015\": 786554580.796867}, {\"Country Name\": \"Sudan\", \"CO2 emissions (kt) 2015\": 18709.9990844727, \"CO2 emissions (metric tons per capita) 2015\": 0.480940392601422, \"GDP (current US$) 2015\": 84985132167.2171}, {\"Country Name\": \"Suriname\", \"CO2 emissions (kt) 2015\": 2720.00002861023, \"CO2 emissions (metric tons per capita) 2015\": 4.86464836571108, \"GDP (current US$) 2015\": 5126291450.81511}, {\"Country Name\": \"Sweden\", \"CO2 emissions (kt) 2015\": 39189.998626709, \"CO2 emissions (metric tons per capita) 2015\": 3.99931163942689, \"GDP (current US$) 2015\": 505103781349.757}, {\"Country Name\": \"Switzerland\", \"CO2 emissions (kt) 2015\": 39090.0001525879, \"CO2 emissions (metric tons per capita) 2015\": 4.7196487770674, \"GDP (current US$) 2015\": 702149580770.901}, {\"Country Name\": \"Syrian Arab Republic\", \"CO2 emissions (kt) 2015\": 25270.0004577637, \"CO2 emissions (metric tons per capita) 2015\": 1.40409086939025, \"GDP (current US$) 2015\": 17622064891.81}, {\"Country Name\": \"Tajikistan\", \"CO2 emissions (kt) 2015\": 4900.00009536743, \"CO2 emissions (metric tons per capita) 2015\": 0.579605995132898, \"GDP (current US$) 2015\": 8271454300.59548}, {\"Country Name\": \"Tanzania\", \"CO2 emissions (kt) 2015\": 11689.9995803833, \"CO2 emissions (metric tons per capita) 2015\": 0.22706683329598, \"GDP (current US$) 2015\": 47378599025.3044}, {\"Country Name\": \"Thailand\", \"CO2 emissions (kt) 2015\": 264000.0, \"CO2 emissions (metric tons per capita) 2015\": 3.8419827984243, \"GDP (current US$) 2015\": 401296437424.995}, {\"Country Name\": \"Timor-Leste\", \"CO2 emissions (kt) 2015\": 519.999980926514, \"CO2 emissions (metric tons per capita) 2015\": 0.434675741018942, \"GDP (current US$) 2015\": 1594410900.0}, {\"Country Name\": \"Togo\", \"CO2 emissions (kt) 2015\": 1830.00004291534, \"CO2 emissions (metric tons per capita) 2015\": 0.249892060685717, \"GDP (current US$) 2015\": 4180866177.03946}, {\"Country Name\": \"Tonga\", \"CO2 emissions (kt) 2015\": 119.999997317791, \"CO2 emissions (metric tons per capita) 2015\": 1.19071241633053, \"GDP (current US$) 2015\": 437006227.162781}, {\"Country Name\": \"Trinidad and Tobago\", \"CO2 emissions (kt) 2015\": 21329.9999237061, \"CO2 emissions (metric tons per capita) 2015\": 15.5655709154468, \"GDP (current US$) 2015\": 25191551350.4204}, {\"Country Name\": \"Tunisia\", \"CO2 emissions (kt) 2015\": 30479.9995422363, \"CO2 emissions (metric tons per capita) 2015\": 2.72630886684891, \"GDP (current US$) 2015\": 45780128466.5579}, {\"Country Name\": \"Turkmenistan\", \"CO2 emissions (kt) 2015\": 73400.0015258789, \"CO2 emissions (metric tons per capita) 2015\": 13.188907289329, \"GDP (current US$) 2015\": 35799714285.7143}, {\"Country Name\": \"Turks and Caicos Islands\", \"CO2 emissions (kt) 2015\": null, \"CO2 emissions (metric tons per capita) 2015\": null, \"GDP (current US$) 2015\": 942070000.0}, {\"Country Name\": \"Tuvalu\", \"CO2 emissions (kt) 2015\": 9.99999977648258, \"CO2 emissions (metric tons per capita) 2015\": 0.900982050318279, \"GDP (current US$) 2015\": 36811659.5297123}, {\"Country Name\": \"Uganda\", \"CO2 emissions (kt) 2015\": 4719.99979019165, \"CO2 emissions (metric tons per capita) 2015\": 0.12347794886981, \"GDP (current US$) 2015\": 32387183844.6699}, {\"Country Name\": \"Ukraine\", \"CO2 emissions (kt) 2015\": 191070.007324219, \"CO2 emissions (metric tons per capita) 2015\": 4.23151559085923, \"GDP (current US$) 2015\": 91030959454.6961}, {\"Country Name\": \"United Arab Emirates\", \"CO2 emissions (kt) 2015\": 195240.005493164, \"CO2 emissions (metric tons per capita) 2015\": 21.0776419699804, \"GDP (current US$) 2015\": 358134944420.504}, {\"Country Name\": \"United Kingdom\", \"CO2 emissions (kt) 2015\": 401079.986572266, \"CO2 emissions (metric tons per capita) 2015\": 6.15944833302231, \"GDP (current US$) 2015\": 2956573778737.76}, {\"Country Name\": \"United States\", \"CO2 emissions (kt) 2015\": 4990709.9609375, \"CO2 emissions (metric tons per capita) 2015\": 15.5600349639355, \"GDP (current US$) 2015\": 18206020741000.0}, {\"Country Name\": \"Uruguay\", \"CO2 emissions (kt) 2015\": 6639.9998664856, \"CO2 emissions (metric tons per capita) 2015\": 1.94606523084338, \"GDP (current US$) 2015\": 53274304222.136}, {\"Country Name\": \"Uzbekistan\", \"CO2 emissions (kt) 2015\": 99169.9981689453, \"CO2 emissions (metric tons per capita) 2015\": 3.16848190092768, \"GDP (current US$) 2015\": 86196265191.6645}, {\"Country Name\": \"Vanuatu\", \"CO2 emissions (kt) 2015\": 140.000000596046, \"CO2 emissions (metric tons per capita) 2015\": 0.51636127805334, \"GDP (current US$) 2015\": 730870581.672312}, {\"Country Name\": \"Venezuela, RB\", \"CO2 emissions (kt) 2015\": 163130.004882813, \"CO2 emissions (metric tons per capita) 2015\": 5.42287557477187, \"GDP (current US$) 2015\": null}, {\"Country Name\": \"Vietnam\", \"CO2 emissions (kt) 2015\": 220649.993896484, \"CO2 emissions (metric tons per capita) 2015\": 2.3808474450726, \"GDP (current US$) 2015\": 239257234710.757}, {\"Country Name\": \"Virgin Islands (U.S.)\", \"CO2 emissions (kt) 2015\": null, \"CO2 emissions (metric tons per capita) 2015\": null, \"GDP (current US$) 2015\": 3663000000.0}, {\"Country Name\": \"West Bank and Gaza\", \"CO2 emissions (kt) 2015\": null, \"CO2 emissions (metric tons per capita) 2015\": null, \"GDP (current US$) 2015\": 13972400000.0}, {\"Country Name\": \"Yemen, Rep.\", \"CO2 emissions (kt) 2015\": 13550.0001907349, \"CO2 emissions (metric tons per capita) 2015\": 0.511361651549982, \"GDP (current US$) 2015\": 42444495590.1077}, {\"Country Name\": \"Zambia\", \"CO2 emissions (kt) 2015\": 4960.00003814697, \"CO2 emissions (metric tons per capita) 2015\": 0.312354963587785, \"GDP (current US$) 2015\": 21251216798.7762}, {\"Country Name\": \"Zimbabwe\", \"CO2 emissions (kt) 2015\": 12430.0003051758, \"CO2 emissions (metric tons per capita) 2015\": 0.89976999079497, \"GDP (current US$) 2015\": 19963120600.0}]}}, {\"mode\": \"vega-lite\"});\n",
       "</script>"
      ],
      "text/plain": [
       "alt.LayerChart(...)"
      ]
     },
     "execution_count": 52,
     "metadata": {},
     "output_type": "execute_result"
    }
   ],
   "source": [
    "# lets look at a strongish positive correlation\n",
    "indi_list = ['CO2 emissions (kt)', 'CO2 emissions (metric tons per capita)','GDP (current US$)']\n",
    "new_ind_df= get_ind_df(wdi_df, indi_list, '2015') \n",
    "#new_ind_df = new_ind_df[new_ind_df['Country Name'] != 'China']\n",
    "#new_ind_df = new_ind_df[new_ind_df['Country Name'] != 'United States']\n",
    "\n",
    "chart= alt.Chart(new_ind_df).mark_circle().encode(\n",
    "    x = alt.X('CO2 emissions (kt) 2015'),\n",
    "    y = alt.Y('GDP (current US$) 2015'),\n",
    "    color = alt.Color('Country Name:N', legend=None),\n",
    "    tooltip ='Country Name'\n",
    ").properties(width=600, height=400, title='CO2 emissions versus GDP in 2015' )\n",
    "\n",
    "#Here is a linear regression fit using ordinary least squares which minimizes distance between data points and the line\n",
    "chart + chart.transform_regression('CO2 emissions (kt) 2015', 'GDP (current US$) 2015').mark_line()\n"
   ]
  },
  {
   "cell_type": "markdown",
   "metadata": {},
   "source": [
    "I added a regression line fit using the ordinary least squares method. This method produces a function that minimizes the sum of the squares of the differences between the observed variable in the data and the output of the linear function."
   ]
  },
  {
   "cell_type": "code",
   "execution_count": 53,
   "metadata": {},
   "outputs": [
    {
     "data": {
      "text/html": [
       "\n",
       "<div id=\"altair-viz-0f644d6c3d5a48a8ad61d4c6aa1b3bd3\"></div>\n",
       "<script type=\"text/javascript\">\n",
       "  var VEGA_DEBUG = (typeof VEGA_DEBUG == \"undefined\") ? {} : VEGA_DEBUG;\n",
       "  (function(spec, embedOpt){\n",
       "    let outputDiv = document.currentScript.previousElementSibling;\n",
       "    if (outputDiv.id !== \"altair-viz-0f644d6c3d5a48a8ad61d4c6aa1b3bd3\") {\n",
       "      outputDiv = document.getElementById(\"altair-viz-0f644d6c3d5a48a8ad61d4c6aa1b3bd3\");\n",
       "    }\n",
       "    const paths = {\n",
       "      \"vega\": \"https://cdn.jsdelivr.net/npm//vega@5?noext\",\n",
       "      \"vega-lib\": \"https://cdn.jsdelivr.net/npm//vega-lib?noext\",\n",
       "      \"vega-lite\": \"https://cdn.jsdelivr.net/npm//vega-lite@4.17.0?noext\",\n",
       "      \"vega-embed\": \"https://cdn.jsdelivr.net/npm//vega-embed@6?noext\",\n",
       "    };\n",
       "\n",
       "    function maybeLoadScript(lib, version) {\n",
       "      var key = `${lib.replace(\"-\", \"\")}_version`;\n",
       "      return (VEGA_DEBUG[key] == version) ?\n",
       "        Promise.resolve(paths[lib]) :\n",
       "        new Promise(function(resolve, reject) {\n",
       "          var s = document.createElement('script');\n",
       "          document.getElementsByTagName(\"head\")[0].appendChild(s);\n",
       "          s.async = true;\n",
       "          s.onload = () => {\n",
       "            VEGA_DEBUG[key] = version;\n",
       "            return resolve(paths[lib]);\n",
       "          };\n",
       "          s.onerror = () => reject(`Error loading script: ${paths[lib]}`);\n",
       "          s.src = paths[lib];\n",
       "        });\n",
       "    }\n",
       "\n",
       "    function showError(err) {\n",
       "      outputDiv.innerHTML = `<div class=\"error\" style=\"color:red;\">${err}</div>`;\n",
       "      throw err;\n",
       "    }\n",
       "\n",
       "    function displayChart(vegaEmbed) {\n",
       "      vegaEmbed(outputDiv, spec, embedOpt)\n",
       "        .catch(err => showError(`Javascript Error: ${err.message}<br>This usually means there's a typo in your chart specification. See the javascript console for the full traceback.`));\n",
       "    }\n",
       "\n",
       "    if(typeof define === \"function\" && define.amd) {\n",
       "      requirejs.config({paths});\n",
       "      require([\"vega-embed\"], displayChart, err => showError(`Error loading script: ${err.message}`));\n",
       "    } else {\n",
       "      maybeLoadScript(\"vega\", \"5\")\n",
       "        .then(() => maybeLoadScript(\"vega-lite\", \"4.17.0\"))\n",
       "        .then(() => maybeLoadScript(\"vega-embed\", \"6\"))\n",
       "        .catch(showError)\n",
       "        .then(() => displayChart(vegaEmbed));\n",
       "    }\n",
       "  })({\"config\": {\"view\": {\"continuousWidth\": 400, \"continuousHeight\": 300}}, \"layer\": [{\"mark\": \"circle\", \"encoding\": {\"color\": {\"field\": \"Country Name\", \"legend\": null, \"type\": \"nominal\"}, \"tooltip\": {\"field\": \"Country Name\", \"type\": \"nominal\"}, \"x\": {\"field\": \"CO2 emissions (kt) 2015\", \"type\": \"quantitative\"}, \"y\": {\"field\": \"Electricity production from nuclear sources (% of total) 2015\", \"type\": \"quantitative\"}}, \"height\": 400, \"title\": \"CO2 emission versus Electricy production from nuclear sources (% of total) 2015\", \"width\": 600}, {\"mark\": \"line\", \"encoding\": {\"color\": {\"field\": \"Country Name\", \"legend\": null, \"type\": \"nominal\"}, \"tooltip\": {\"field\": \"Country Name\", \"type\": \"nominal\"}, \"x\": {\"field\": \"CO2 emissions (kt) 2015\", \"type\": \"quantitative\"}, \"y\": {\"field\": \"Electricity production from nuclear sources (% of total) 2015\", \"type\": \"quantitative\"}}, \"height\": 400, \"title\": \"CO2 emission versus Electricy production from nuclear sources (% of total) 2015\", \"transform\": [{\"on\": \"CO2 emissions (kt) 2015\", \"regression\": \"Electricity production from nuclear sources (% of total) 2015\"}], \"width\": 600}], \"data\": {\"name\": \"data-cdc458ed22c0b9c5d78abd5ed656031a\"}, \"$schema\": \"https://vega.github.io/schema/vega-lite/v4.17.0.json\", \"datasets\": {\"data-cdc458ed22c0b9c5d78abd5ed656031a\": [{\"Country Name\": \"Afghanistan\", \"CO2 emissions (kt) 2015\": 5949.99980926514, \"CO2 emissions (metric tons per capita) 2015\": 0.172896741130684, \"GDP (current US$) 2015\": 19134211763.859, \"Electricity production from nuclear sources (% of total) 2015\": null}, {\"Country Name\": \"Albania\", \"CO2 emissions (kt) 2015\": 4619.99988555908, \"CO2 emissions (metric tons per capita) 2015\": 1.60377514987108, \"GDP (current US$) 2015\": 11386850129.8411, \"Electricity production from nuclear sources (% of total) 2015\": null}, {\"Country Name\": \"Algeria\", \"CO2 emissions (kt) 2015\": 156270.004272461, \"CO2 emissions (metric tons per capita) 2015\": 3.93349591226698, \"GDP (current US$) 2015\": 165979279263.174, \"Electricity production from nuclear sources (% of total) 2015\": null}, {\"Country Name\": \"American Samoa\", \"CO2 emissions (kt) 2015\": null, \"CO2 emissions (metric tons per capita) 2015\": null, \"GDP (current US$) 2015\": 673000000.0, \"Electricity production from nuclear sources (% of total) 2015\": null}, {\"Country Name\": \"Andorra\", \"CO2 emissions (kt) 2015\": 469.999998807907, \"CO2 emissions (metric tons per capita) 2015\": 6.02618182154689, \"GDP (current US$) 2015\": 2789881258.50362, \"Electricity production from nuclear sources (% of total) 2015\": null}, {\"Country Name\": \"Angola\", \"CO2 emissions (kt) 2015\": 31649.9996185303, \"CO2 emissions (metric tons per capita) 2015\": 1.13504405041569, \"GDP (current US$) 2015\": 87219290028.7263, \"Electricity production from nuclear sources (% of total) 2015\": null}, {\"Country Name\": \"Antigua and Barbuda\", \"CO2 emissions (kt) 2015\": 490.000009536743, \"CO2 emissions (metric tons per capita) 2015\": 5.23666530802004, \"GDP (current US$) 2015\": 1336692592.59259, \"Electricity production from nuclear sources (% of total) 2015\": null}, {\"Country Name\": \"Argentina\", \"CO2 emissions (kt) 2015\": 185550.003051758, \"CO2 emissions (metric tons per capita) 2015\": 4.30191387639872, \"GDP (current US$) 2015\": 594749285413.212, \"Electricity production from nuclear sources (% of total) 2015\": null}, {\"Country Name\": \"Armenia\", \"CO2 emissions (kt) 2015\": 5340.00015258789, \"CO2 emissions (metric tons per capita) 2015\": 1.82529224417894, \"GDP (current US$) 2015\": 10553337672.9872, \"Electricity production from nuclear sources (% of total) 2015\": null}, {\"Country Name\": \"Aruba\", \"CO2 emissions (kt) 2015\": null, \"CO2 emissions (metric tons per capita) 2015\": null, \"GDP (current US$) 2015\": 2963128491.62011, \"Electricity production from nuclear sources (% of total) 2015\": null}, {\"Country Name\": \"Australia\", \"CO2 emissions (kt) 2015\": 377799.987792969, \"CO2 emissions (metric tons per capita) 2015\": 15.863288004258, \"GDP (current US$) 2015\": 1350534154255.76, \"Electricity production from nuclear sources (% of total) 2015\": 0.0}, {\"Country Name\": \"Austria\", \"CO2 emissions (kt) 2015\": 63240.0016784668, \"CO2 emissions (metric tons per capita) 2015\": 7.31715887345687, \"GDP (current US$) 2015\": 381971148530.543, \"Electricity production from nuclear sources (% of total) 2015\": 0.0}, {\"Country Name\": \"Azerbaijan\", \"CO2 emissions (kt) 2015\": 31770.0004577637, \"CO2 emissions (metric tons per capita) 2015\": 3.29245286882946, \"GDP (current US$) 2015\": 53074370486.0433, \"Electricity production from nuclear sources (% of total) 2015\": null}, {\"Country Name\": \"Bahamas, The\", \"CO2 emissions (kt) 2015\": 2210.00003814697, \"CO2 emissions (metric tons per capita) 2015\": 5.90593275827624, \"GDP (current US$) 2015\": 11861900000.0, \"Electricity production from nuclear sources (% of total) 2015\": null}, {\"Country Name\": \"Bahrain\", \"CO2 emissions (kt) 2015\": 30579.9999237061, \"CO2 emissions (metric tons per capita) 2015\": 22.2910180053592, \"GDP (current US$) 2015\": 31050638297.8723, \"Electricity production from nuclear sources (% of total) 2015\": null}, {\"Country Name\": \"Bangladesh\", \"CO2 emissions (kt) 2015\": 72190.0024414063, \"CO2 emissions (metric tons per capita) 2015\": 0.461997426326957, \"GDP (current US$) 2015\": 195078678697.23, \"Electricity production from nuclear sources (% of total) 2015\": null}, {\"Country Name\": \"Barbados\", \"CO2 emissions (kt) 2015\": 1269.99998092651, \"CO2 emissions (metric tons per capita) 2015\": 4.45103330889299, \"GDP (current US$) 2015\": 4724691212.50593, \"Electricity production from nuclear sources (% of total) 2015\": null}, {\"Country Name\": \"Belarus\", \"CO2 emissions (kt) 2015\": 54819.9996948242, \"CO2 emissions (metric tons per capita) 2015\": 5.79426692004421, \"GDP (current US$) 2015\": 56454734396.5842, \"Electricity production from nuclear sources (% of total) 2015\": null}, {\"Country Name\": \"Belgium\", \"CO2 emissions (kt) 2015\": 95129.997253418, \"CO2 emissions (metric tons per capita) 2015\": 8.43785199879601, \"GDP (current US$) 2015\": 462335574841.484, \"Electricity production from nuclear sources (% of total) 2015\": 37.5323517570599}, {\"Country Name\": \"Belize\", \"CO2 emissions (kt) 2015\": 680.000007152557, \"CO2 emissions (metric tons per capita) 2015\": 1.88404273217379, \"GDP (current US$) 2015\": 1734320479.1395, \"Electricity production from nuclear sources (% of total) 2015\": null}, {\"Country Name\": \"Benin\", \"CO2 emissions (kt) 2015\": 5510.00022888184, \"CO2 emissions (metric tons per capita) 2015\": 0.520992816434272, \"GDP (current US$) 2015\": 11388160958.249, \"Electricity production from nuclear sources (% of total) 2015\": null}, {\"Country Name\": \"Bermuda\", \"CO2 emissions (kt) 2015\": null, \"CO2 emissions (metric tons per capita) 2015\": null, \"GDP (current US$) 2015\": 6654541000.0, \"Electricity production from nuclear sources (% of total) 2015\": null}, {\"Country Name\": \"Bhutan\", \"CO2 emissions (kt) 2015\": 769.999980926514, \"CO2 emissions (metric tons per capita) 2015\": 1.05785938840135, \"GDP (current US$) 2015\": 2003598212.99135, \"Electricity production from nuclear sources (% of total) 2015\": null}, {\"Country Name\": \"Bolivia\", \"CO2 emissions (kt) 2015\": 20760.0002288818, \"CO2 emissions (metric tons per capita) 2015\": 1.90989071569398, \"GDP (current US$) 2015\": 33000198248.9146, \"Electricity production from nuclear sources (% of total) 2015\": null}, {\"Country Name\": \"Bosnia and Herzegovina\", \"CO2 emissions (kt) 2015\": 19620.0008392334, \"CO2 emissions (metric tons per capita) 2015\": 5.72118103578257, \"GDP (current US$) 2015\": 16219819343.5214, \"Electricity production from nuclear sources (% of total) 2015\": null}, {\"Country Name\": \"Botswana\", \"CO2 emissions (kt) 2015\": 6949.99980926514, \"CO2 emissions (metric tons per capita) 2015\": 3.27719497059726, \"GDP (current US$) 2015\": 13578754072.4652, \"Electricity production from nuclear sources (% of total) 2015\": null}, {\"Country Name\": \"Brazil\", \"CO2 emissions (kt) 2015\": 485339.996337891, \"CO2 emissions (metric tons per capita) 2015\": 2.37362850846258, \"GDP (current US$) 2015\": 1802211999538.68, \"Electricity production from nuclear sources (% of total) 2015\": null}, {\"Country Name\": \"British Virgin Islands\", \"CO2 emissions (kt) 2015\": null, \"CO2 emissions (metric tons per capita) 2015\": null, \"GDP (current US$) 2015\": null, \"Electricity production from nuclear sources (% of total) 2015\": null}, {\"Country Name\": \"Brunei Darussalam\", \"CO2 emissions (kt) 2015\": 6400.00009536743, \"CO2 emissions (metric tons per capita) 2015\": 15.4248834586623, \"GDP (current US$) 2015\": 12930394937.8137, \"Electricity production from nuclear sources (% of total) 2015\": null}, {\"Country Name\": \"Bulgaria\", \"CO2 emissions (kt) 2015\": 44560.001373291, \"CO2 emissions (metric tons per capita) 2015\": 6.20786531681232, \"GDP (current US$) 2015\": 50781996712.7635, \"Electricity production from nuclear sources (% of total) 2015\": null}, {\"Country Name\": \"Burkina Faso\", \"CO2 emissions (kt) 2015\": 3700.00004768372, \"CO2 emissions (metric tons per capita) 2015\": 0.204300066197843, \"GDP (current US$) 2015\": 11832159275.603, \"Electricity production from nuclear sources (% of total) 2015\": null}, {\"Country Name\": \"Burundi\", \"CO2 emissions (kt) 2015\": 400.000005960464, \"CO2 emissions (metric tons per capita) 2015\": 0.0393699475769928, \"GDP (current US$) 2015\": 3104003611.42957, \"Electricity production from nuclear sources (% of total) 2015\": null}, {\"Country Name\": \"Cabo Verde\", \"CO2 emissions (kt) 2015\": 500.0, \"CO2 emissions (metric tons per capita) 2015\": 0.952852841407173, \"GDP (current US$) 2015\": 1596800287.16405, \"Electricity production from nuclear sources (% of total) 2015\": null}, {\"Country Name\": \"Cambodia\", \"CO2 emissions (kt) 2015\": 8430.00030517578, \"CO2 emissions (metric tons per capita) 2015\": 0.543119905161847, \"GDP (current US$) 2015\": 18049954289.4229, \"Electricity production from nuclear sources (% of total) 2015\": null}, {\"Country Name\": \"Cameroon\", \"CO2 emissions (kt) 2015\": 8460.00003814697, \"CO2 emissions (metric tons per capita) 2015\": 0.363115439382855, \"GDP (current US$) 2015\": 32210232911.6626, \"Electricity production from nuclear sources (% of total) 2015\": null}, {\"Country Name\": \"Canada\", \"CO2 emissions (kt) 2015\": 558700.012207031, \"CO2 emissions (metric tons per capita) 2015\": 15.6485856056048, \"GDP (current US$) 2015\": 1556508816217.14, \"Electricity production from nuclear sources (% of total) 2015\": 15.5465605152518}, {\"Country Name\": \"Cayman Islands\", \"CO2 emissions (kt) 2015\": null, \"CO2 emissions (metric tons per capita) 2015\": null, \"GDP (current US$) 2015\": 4708336756.08849, \"Electricity production from nuclear sources (% of total) 2015\": null}, {\"Country Name\": \"Central African Republic\", \"CO2 emissions (kt) 2015\": 189.999997615814, \"CO2 emissions (metric tons per capita) 2015\": 0.042286393644002, \"GDP (current US$) 2015\": 1695825708.45604, \"Electricity production from nuclear sources (% of total) 2015\": null}, {\"Country Name\": \"Chad\", \"CO2 emissions (kt) 2015\": 2390.00010490417, \"CO2 emissions (metric tons per capita) 2015\": 0.169371767889266, \"GDP (current US$) 2015\": 10950392219.9104, \"Electricity production from nuclear sources (% of total) 2015\": null}, {\"Country Name\": \"Channel Islands\", \"CO2 emissions (kt) 2015\": null, \"CO2 emissions (metric tons per capita) 2015\": null, \"GDP (current US$) 2015\": null, \"Electricity production from nuclear sources (% of total) 2015\": null}, {\"Country Name\": \"Chile\", \"CO2 emissions (kt) 2015\": 82230.0033569336, \"CO2 emissions (metric tons per capita) 2015\": 4.57612411690957, \"GDP (current US$) 2015\": 242496649874.236, \"Electricity production from nuclear sources (% of total) 2015\": 0.0}, {\"Country Name\": \"China\", \"CO2 emissions (kt) 2015\": 9861099.609375, \"CO2 emissions (metric tons per capita) 2015\": 7.14644935672822, \"GDP (current US$) 2015\": 11061553079871.5, \"Electricity production from nuclear sources (% of total) 2015\": null}, {\"Country Name\": \"Colombia\", \"CO2 emissions (kt) 2015\": 80230.0033569336, \"CO2 emissions (metric tons per capita) 2015\": 1.6883181239214, \"GDP (current US$) 2015\": 293481748240.778, \"Electricity production from nuclear sources (% of total) 2015\": null}, {\"Country Name\": \"Comoros\", \"CO2 emissions (kt) 2015\": 189.999997615814, \"CO2 emissions (metric tons per capita) 2015\": 0.244393418891372, \"GDP (current US$) 2015\": 966029542.038859, \"Electricity production from nuclear sources (% of total) 2015\": null}, {\"Country Name\": \"Congo, Dem. Rep.\", \"CO2 emissions (kt) 2015\": 3230.00001907349, \"CO2 emissions (metric tons per capita) 2015\": 0.0423636939508461, \"GDP (current US$) 2015\": 37917704900.0794, \"Electricity production from nuclear sources (% of total) 2015\": null}, {\"Country Name\": \"Congo, Rep.\", \"CO2 emissions (kt) 2015\": 5659.99984741211, \"CO2 emissions (metric tons per capita) 2015\": 1.1655460155751, \"GDP (current US$) 2015\": 11890259176.6829, \"Electricity production from nuclear sources (% of total) 2015\": null}, {\"Country Name\": \"Costa Rica\", \"CO2 emissions (kt) 2015\": 7539.99996185303, \"CO2 emissions (metric tons per capita) 2015\": 1.55534308039474, \"GDP (current US$) 2015\": 56441917652.9812, \"Electricity production from nuclear sources (% of total) 2015\": null}, {\"Country Name\": \"Croatia\", \"CO2 emissions (kt) 2015\": 16600.0003814697, \"CO2 emissions (metric tons per capita) 2015\": 3.94899243160624, \"GDP (current US$) 2015\": 50163192883.1515, \"Electricity production from nuclear sources (% of total) 2015\": null}, {\"Country Name\": \"Cuba\", \"CO2 emissions (kt) 2015\": 29209.9990844727, \"CO2 emissions (metric tons per capita) 2015\": 2.57930015615077, \"GDP (current US$) 2015\": 87133000000.0, \"Electricity production from nuclear sources (% of total) 2015\": null}, {\"Country Name\": \"Cyprus\", \"CO2 emissions (kt) 2015\": 6849.99990463257, \"CO2 emissions (metric tons per capita) 2015\": 5.90015211594322, \"GDP (current US$) 2015\": 19842404304.8929, \"Electricity production from nuclear sources (% of total) 2015\": null}, {\"Country Name\": \"Czech Republic\", \"CO2 emissions (kt) 2015\": 99139.9993896484, \"CO2 emissions (metric tons per capita) 2015\": 9.4006680021085, \"GDP (current US$) 2015\": 188033050459.881, \"Electricity production from nuclear sources (% of total) 2015\": 32.488864142539}, {\"Country Name\": \"Denmark\", \"CO2 emissions (kt) 2015\": 33700.0007629395, \"CO2 emissions (metric tons per capita) 2015\": 5.92946275425465, \"GDP (current US$) 2015\": 302673070846.857, \"Electricity production from nuclear sources (% of total) 2015\": 0.0}, {\"Country Name\": \"Djibouti\", \"CO2 emissions (kt) 2015\": 460.00000834465, \"CO2 emissions (metric tons per capita) 2015\": 0.50328338611753, \"GDP (current US$) 2015\": 2424391785.43897, \"Electricity production from nuclear sources (% of total) 2015\": null}, {\"Country Name\": \"Dominica\", \"CO2 emissions (kt) 2015\": 180.000007152557, \"CO2 emissions (metric tons per capita) 2015\": 2.52897797193617, \"GDP (current US$) 2015\": 540737037.037037, \"Electricity production from nuclear sources (% of total) 2015\": null}, {\"Country Name\": \"Dominican Republic\", \"CO2 emissions (kt) 2015\": 23590.0001525879, \"CO2 emissions (metric tons per capita) 2015\": 2.29437325655478, \"GDP (current US$) 2015\": 71164825256.6849, \"Electricity production from nuclear sources (% of total) 2015\": null}, {\"Country Name\": \"Ecuador\", \"CO2 emissions (kt) 2015\": 41520.0004577637, \"CO2 emissions (metric tons per capita) 2015\": 2.56106242995252, \"GDP (current US$) 2015\": 99290381000.0, \"Electricity production from nuclear sources (% of total) 2015\": null}, {\"Country Name\": \"Egypt, Arab Rep.\", \"CO2 emissions (kt) 2015\": 226279.998779297, \"CO2 emissions (metric tons per capita) 2015\": 2.44779055994331, \"GDP (current US$) 2015\": 329366576819.407, \"Electricity production from nuclear sources (% of total) 2015\": null}, {\"Country Name\": \"El Salvador\", \"CO2 emissions (kt) 2015\": 7000.0, \"CO2 emissions (metric tons per capita) 2015\": 1.10669819597127, \"GDP (current US$) 2015\": 23438240000.0, \"Electricity production from nuclear sources (% of total) 2015\": null}, {\"Country Name\": \"Equatorial Guinea\", \"CO2 emissions (kt) 2015\": 6570.00017166138, \"CO2 emissions (metric tons per capita) 2015\": 5.62223235278983, \"GDP (current US$) 2015\": 13185496836.4124, \"Electricity production from nuclear sources (% of total) 2015\": null}, {\"Country Name\": \"Eritrea\", \"CO2 emissions (kt) 2015\": 649.999976158142, \"CO2 emissions (metric tons per capita) 2015\": 0.194446714166952, \"GDP (current US$) 2015\": null, \"Electricity production from nuclear sources (% of total) 2015\": null}, {\"Country Name\": \"Estonia\", \"CO2 emissions (kt) 2015\": 15539.999961853, \"CO2 emissions (metric tons per capita) 2015\": 11.8138340162801, \"GDP (current US$) 2015\": 22890762090.1508, \"Electricity production from nuclear sources (% of total) 2015\": 0.0}, {\"Country Name\": \"Eswatini\", \"CO2 emissions (kt) 2015\": 769.999980926514, \"CO2 emissions (metric tons per capita) 2015\": 0.697439744761063, \"GDP (current US$) 2015\": 4063245671.29285, \"Electricity production from nuclear sources (% of total) 2015\": null}, {\"Country Name\": \"Ethiopia\", \"CO2 emissions (kt) 2015\": 12890.0003433228, \"CO2 emissions (metric tons per capita) 2015\": 0.127832026929286, \"GDP (current US$) 2015\": 64589334978.8013, \"Electricity production from nuclear sources (% of total) 2015\": null}, {\"Country Name\": \"Faroe Islands\", \"CO2 emissions (kt) 2015\": null, \"CO2 emissions (metric tons per capita) 2015\": null, \"GDP (current US$) 2015\": 2561824640.6754, \"Electricity production from nuclear sources (% of total) 2015\": null}, {\"Country Name\": \"Fiji\", \"CO2 emissions (kt) 2015\": 1379.99999523163, \"CO2 emissions (metric tons per capita) 2015\": 1.58870499271456, \"GDP (current US$) 2015\": 4682546863.08162, \"Electricity production from nuclear sources (% of total) 2015\": null}, {\"Country Name\": \"Finland\", \"CO2 emissions (kt) 2015\": 42819.9996948242, \"CO2 emissions (metric tons per capita) 2015\": 7.81453735635845, \"GDP (current US$) 2015\": 234534382384.766, \"Electricity production from nuclear sources (% of total) 2015\": 33.8979838768459}, {\"Country Name\": \"France\", \"CO2 emissions (kt) 2015\": 311299.987792969, \"CO2 emissions (metric tons per capita) 2015\": 4.67780722830743, \"GDP (current US$) 2015\": 2439188643162.5, \"Electricity production from nuclear sources (% of total) 2015\": 77.6278008284028}, {\"Country Name\": \"French Polynesia\", \"CO2 emissions (kt) 2015\": null, \"CO2 emissions (metric tons per capita) 2015\": null, \"GDP (current US$) 2015\": 5325848045.4324, \"Electricity production from nuclear sources (% of total) 2015\": null}, {\"Country Name\": \"Gabon\", \"CO2 emissions (kt) 2015\": 6119.99988555908, \"CO2 emissions (metric tons per capita) 2015\": 3.14218375899608, \"GDP (current US$) 2015\": 14383107714.0388, \"Electricity production from nuclear sources (% of total) 2015\": null}, {\"Country Name\": \"Gambia, The\", \"CO2 emissions (kt) 2015\": 529.999971389771, \"CO2 emissions (metric tons per capita) 2015\": 0.254091823703303, \"GDP (current US$) 2015\": 1378176868.31568, \"Electricity production from nuclear sources (% of total) 2015\": null}, {\"Country Name\": \"Georgia\", \"CO2 emissions (kt) 2015\": 9199.99980926514, \"CO2 emissions (metric tons per capita) 2015\": 2.46961562291362, \"GDP (current US$) 2015\": 14953950557.4406, \"Electricity production from nuclear sources (% of total) 2015\": null}, {\"Country Name\": \"Germany\", \"CO2 emissions (kt) 2015\": 742309.997558594, \"CO2 emissions (metric tons per capita) 2015\": 9.08729090938286, \"GDP (current US$) 2015\": 3357585719351.56, \"Electricity production from nuclear sources (% of total) 2015\": 14.3199259868293}, {\"Country Name\": \"Ghana\", \"CO2 emissions (kt) 2015\": 15779.9997329712, \"CO2 emissions (metric tons per capita) 2015\": 0.566623028061923, \"GDP (current US$) 2015\": 49406568432.6711, \"Electricity production from nuclear sources (% of total) 2015\": null}, {\"Country Name\": \"Gibraltar\", \"CO2 emissions (kt) 2015\": null, \"CO2 emissions (metric tons per capita) 2015\": null, \"GDP (current US$) 2015\": null, \"Electricity production from nuclear sources (% of total) 2015\": null}, {\"Country Name\": \"Greece\", \"CO2 emissions (kt) 2015\": 68010.0021362305, \"CO2 emissions (metric tons per capita) 2015\": 6.28506953972522, \"GDP (current US$) 2015\": 195683527003.375, \"Electricity production from nuclear sources (% of total) 2015\": 0.0}, {\"Country Name\": \"Greenland\", \"CO2 emissions (kt) 2015\": null, \"CO2 emissions (metric tons per capita) 2015\": null, \"GDP (current US$) 2015\": 2499115623.00272, \"Electricity production from nuclear sources (% of total) 2015\": null}, {\"Country Name\": \"Grenada\", \"CO2 emissions (kt) 2015\": 270.000010728836, \"CO2 emissions (metric tons per capita) 2015\": 2.46343631769966, \"GDP (current US$) 2015\": 997007925.925926, \"Electricity production from nuclear sources (% of total) 2015\": null}, {\"Country Name\": \"Guam\", \"CO2 emissions (kt) 2015\": null, \"CO2 emissions (metric tons per capita) 2015\": null, \"GDP (current US$) 2015\": 5799000000.0, \"Electricity production from nuclear sources (% of total) 2015\": null}, {\"Country Name\": \"Guatemala\", \"CO2 emissions (kt) 2015\": 16340.0001525879, \"CO2 emissions (metric tons per capita) 2015\": 1.04962808238077, \"GDP (current US$) 2015\": 62186186575.7433, \"Electricity production from nuclear sources (% of total) 2015\": null}, {\"Country Name\": \"Guinea\", \"CO2 emissions (kt) 2015\": 2539.99996185303, \"CO2 emissions (metric tons per capita) 2015\": 0.222181475894974, \"GDP (current US$) 2015\": 8794202443.67366, \"Electricity production from nuclear sources (% of total) 2015\": null}, {\"Country Name\": \"Guinea-Bissau\", \"CO2 emissions (kt) 2015\": 280.000001192093, \"CO2 emissions (metric tons per capita) 2015\": 0.161178259811348, \"GDP (current US$) 2015\": 1048229629.42039, \"Electricity production from nuclear sources (% of total) 2015\": null}, {\"Country Name\": \"Guyana\", \"CO2 emissions (kt) 2015\": 2079.99992370605, \"CO2 emissions (metric tons per capita) 2015\": 2.71033422293028, \"GDP (current US$) 2015\": 4279840193.7046, \"Electricity production from nuclear sources (% of total) 2015\": null}, {\"Country Name\": \"Haiti\", \"CO2 emissions (kt) 2015\": 3279.99997138977, \"CO2 emissions (metric tons per capita) 2015\": 0.306669880285593, \"GDP (current US$) 2015\": 14833154471.7456, \"Electricity production from nuclear sources (% of total) 2015\": null}, {\"Country Name\": \"Honduras\", \"CO2 emissions (kt) 2015\": 9930.00030517578, \"CO2 emissions (metric tons per capita) 2015\": 1.08966365772928, \"GDP (current US$) 2015\": 20979767785.2104, \"Electricity production from nuclear sources (% of total) 2015\": null}, {\"Country Name\": \"Hong Kong SAR, China\", \"CO2 emissions (kt) 2015\": null, \"CO2 emissions (metric tons per capita) 2015\": null, \"GDP (current US$) 2015\": 309383627028.561, \"Electricity production from nuclear sources (% of total) 2015\": null}, {\"Country Name\": \"Hungary\", \"CO2 emissions (kt) 2015\": 43380.0010681152, \"CO2 emissions (metric tons per capita) 2015\": 4.40718050056499, \"GDP (current US$) 2015\": 125210324613.14, \"Electricity production from nuclear sources (% of total) 2015\": 52.1850899742931}, {\"Country Name\": \"Iceland\", \"CO2 emissions (kt) 2015\": 2059.99994277954, \"CO2 emissions (metric tons per capita) 2015\": 6.22704515448072, \"GDP (current US$) 2015\": 17517210519.0912, \"Electricity production from nuclear sources (% of total) 2015\": 0.0}, {\"Country Name\": \"India\", \"CO2 emissions (kt) 2015\": 2158020.01953125, \"CO2 emissions (metric tons per capita) 2015\": 1.64715191355484, \"GDP (current US$) 2015\": 2103587813812.75, \"Electricity production from nuclear sources (% of total) 2015\": null}, {\"Country Name\": \"Indonesia\", \"CO2 emissions (kt) 2015\": 488549.987792969, \"CO2 emissions (metric tons per capita) 2015\": 1.89079584128382, \"GDP (current US$) 2015\": 860854235065.079, \"Electricity production from nuclear sources (% of total) 2015\": null}, {\"Country Name\": \"Iran, Islamic Rep.\", \"CO2 emissions (kt) 2015\": 599179.992675781, \"CO2 emissions (metric tons per capita) 2015\": 7.63362387099342, \"GDP (current US$) 2015\": 408212918053.939, \"Electricity production from nuclear sources (% of total) 2015\": null}, {\"Country Name\": \"Iraq\", \"CO2 emissions (kt) 2015\": 133169.998168945, \"CO2 emissions (metric tons per capita) 2015\": 3.74364643899845, \"GDP (current US$) 2015\": 166774109673.732, \"Electricity production from nuclear sources (% of total) 2015\": null}, {\"Country Name\": \"Ireland\", \"CO2 emissions (kt) 2015\": 37060.001373291, \"CO2 emissions (metric tons per capita) 2015\": 7.88182481747302, \"GDP (current US$) 2015\": 291580037584.33, \"Electricity production from nuclear sources (% of total) 2015\": 0.0}, {\"Country Name\": \"Isle of Man\", \"CO2 emissions (kt) 2015\": null, \"CO2 emissions (metric tons per capita) 2015\": null, \"GDP (current US$) 2015\": 7085288006.11154, \"Electricity production from nuclear sources (% of total) 2015\": null}, {\"Country Name\": \"Israel\", \"CO2 emissions (kt) 2015\": 66139.9993896484, \"CO2 emissions (metric tons per capita) 2015\": 7.89250717648338, \"GDP (current US$) 2015\": 300078278118.434, \"Electricity production from nuclear sources (% of total) 2015\": 0.0}, {\"Country Name\": \"Italy\", \"CO2 emissions (kt) 2015\": 337859.985351563, \"CO2 emissions (metric tons per capita) 2015\": 5.56325946870661, \"GDP (current US$) 2015\": 1836637711060.55, \"Electricity production from nuclear sources (% of total) 2015\": 0.0}, {\"Country Name\": \"Jamaica\", \"CO2 emissions (kt) 2015\": 7090.00015258789, \"CO2 emissions (metric tons per capita) 2015\": 2.45241829628114, \"GDP (current US$) 2015\": 14188935947.5694, \"Electricity production from nuclear sources (% of total) 2015\": null}, {\"Country Name\": \"Japan\", \"CO2 emissions (kt) 2015\": 1179439.94140625, \"CO2 emissions (metric tons per capita) 2015\": 9.2766294225014, \"GDP (current US$) 2015\": 4444930651964.18, \"Electricity production from nuclear sources (% of total) 2015\": 0.911553166046214}, {\"Country Name\": \"Jordan\", \"CO2 emissions (kt) 2015\": 25309.9994659424, \"CO2 emissions (metric tons per capita) 2015\": 2.73132251436884, \"GDP (current US$) 2015\": 38587017887.3239, \"Electricity production from nuclear sources (% of total) 2015\": null}, {\"Country Name\": \"Kazakhstan\", \"CO2 emissions (kt) 2015\": 190729.995727539, \"CO2 emissions (metric tons per capita) 2015\": 10.8722627228243, \"GDP (current US$) 2015\": 184388432148.715, \"Electricity production from nuclear sources (% of total) 2015\": null}, {\"Country Name\": \"Kenya\", \"CO2 emissions (kt) 2015\": 17209.9990844727, \"CO2 emissions (metric tons per capita) 2015\": 0.359452717949817, \"GDP (current US$) 2015\": 70120413328.7838, \"Electricity production from nuclear sources (% of total) 2015\": null}, {\"Country Name\": \"Kiribati\", \"CO2 emissions (kt) 2015\": 59.9999986588955, \"CO2 emissions (metric tons per capita) 2015\": 0.540896253021316, \"GDP (current US$) 2015\": 170291001.98321, \"Electricity production from nuclear sources (% of total) 2015\": null}, {\"Country Name\": \"Korea, Dem. People's Rep.\", \"CO2 emissions (kt) 2015\": 25100.0003814697, \"CO2 emissions (metric tons per capita) 2015\": 0.996671212763399, \"GDP (current US$) 2015\": null, \"Electricity production from nuclear sources (% of total) 2015\": null}, {\"Country Name\": \"Korea, Rep.\", \"CO2 emissions (kt) 2015\": 607830.017089844, \"CO2 emissions (metric tons per capita) 2015\": 11.9147436748262, \"GDP (current US$) 2015\": 1465773245547.15, \"Electricity production from nuclear sources (% of total) 2015\": 29.998943968421}, {\"Country Name\": \"Kosovo\", \"CO2 emissions (kt) 2015\": null, \"CO2 emissions (metric tons per capita) 2015\": null, \"GDP (current US$) 2015\": 6295820481.52668, \"Electricity production from nuclear sources (% of total) 2015\": null}, {\"Country Name\": \"Kuwait\", \"CO2 emissions (kt) 2015\": 89019.9966430664, \"CO2 emissions (metric tons per capita) 2015\": 23.2089569169229, \"GDP (current US$) 2015\": 114567298105.683, \"Electricity production from nuclear sources (% of total) 2015\": null}, {\"Country Name\": \"Kyrgyz Republic\", \"CO2 emissions (kt) 2015\": 10270.0004577637, \"CO2 emissions (metric tons per capita) 2015\": 1.72405117725053, \"GDP (current US$) 2015\": 6678178340.45121, \"Electricity production from nuclear sources (% of total) 2015\": null}, {\"Country Name\": \"Lao PDR\", \"CO2 emissions (kt) 2015\": 8880.00011444092, \"CO2 emissions (metric tons per capita) 2015\": 1.31728072237433, \"GDP (current US$) 2015\": 14426381187.0894, \"Electricity production from nuclear sources (% of total) 2015\": null}, {\"Country Name\": \"Latvia\", \"CO2 emissions (kt) 2015\": 7320.00017166138, \"CO2 emissions (metric tons per capita) 2015\": 3.70159303597947, \"GDP (current US$) 2015\": 27263090547.0617, \"Electricity production from nuclear sources (% of total) 2015\": null}, {\"Country Name\": \"Lebanon\", \"CO2 emissions (kt) 2015\": 27010.0002288818, \"CO2 emissions (metric tons per capita) 2015\": 4.13459653530944, \"GDP (current US$) 2015\": 49929337837.0813, \"Electricity production from nuclear sources (% of total) 2015\": null}, {\"Country Name\": \"Lesotho\", \"CO2 emissions (kt) 2015\": 649.999976158142, \"CO2 emissions (metric tons per capita) 2015\": 0.315685528711669, \"GDP (current US$) 2015\": 2359759799.04224, \"Electricity production from nuclear sources (% of total) 2015\": null}, {\"Country Name\": \"Liberia\", \"CO2 emissions (kt) 2015\": 1259.99999046326, \"CO2 emissions (metric tons per capita) 2015\": 0.281738701319467, \"GDP (current US$) 2015\": 3227075700.0, \"Electricity production from nuclear sources (% of total) 2015\": null}, {\"Country Name\": \"Libya\", \"CO2 emissions (kt) 2015\": 51330.0018310547, \"CO2 emissions (metric tons per capita) 2015\": 7.99742640101876, \"GDP (current US$) 2015\": 48717854039.9653, \"Electricity production from nuclear sources (% of total) 2015\": null}, {\"Country Name\": \"Liechtenstein\", \"CO2 emissions (kt) 2015\": 159.999996423721, \"CO2 emissions (metric tons per capita) 2015\": 4.2706525136453, \"GDP (current US$) 2015\": 6268391521.19701, \"Electricity production from nuclear sources (% of total) 2015\": null}, {\"Country Name\": \"Lithuania\", \"CO2 emissions (kt) 2015\": 11069.9996948242, \"CO2 emissions (metric tons per capita) 2015\": 3.81078921371891, \"GDP (current US$) 2015\": 41435533340.3883, \"Electricity production from nuclear sources (% of total) 2015\": null}, {\"Country Name\": \"Luxembourg\", \"CO2 emissions (kt) 2015\": 9130.00011444092, \"CO2 emissions (metric tons per capita) 2015\": 16.0286797747925, \"GDP (current US$) 2015\": 60071584216.1375, \"Electricity production from nuclear sources (% of total) 2015\": 0.0}, {\"Country Name\": \"Macao SAR, China\", \"CO2 emissions (kt) 2015\": null, \"CO2 emissions (metric tons per capita) 2015\": null, \"GDP (current US$) 2015\": 45047964934.2517, \"Electricity production from nuclear sources (% of total) 2015\": null}, {\"Country Name\": \"Madagascar\", \"CO2 emissions (kt) 2015\": 3279.99997138977, \"CO2 emissions (metric tons per capita) 2015\": 0.135346585114424, \"GDP (current US$) 2015\": 11323020828.5758, \"Electricity production from nuclear sources (% of total) 2015\": null}, {\"Country Name\": \"Malawi\", \"CO2 emissions (kt) 2015\": 930.000007152557, \"CO2 emissions (metric tons per capita) 2015\": 0.055537955692808, \"GDP (current US$) 2015\": 6373212640.84604, \"Electricity production from nuclear sources (% of total) 2015\": null}, {\"Country Name\": \"Malaysia\", \"CO2 emissions (kt) 2015\": 236539.993286133, \"CO2 emissions (metric tons per capita) 2015\": 7.81408829504223, \"GDP (current US$) 2015\": 301354803994.367, \"Electricity production from nuclear sources (% of total) 2015\": null}, {\"Country Name\": \"Maldives\", \"CO2 emissions (kt) 2015\": 1370.00000476837, \"CO2 emissions (metric tons per capita) 2015\": 3.01155823907018, \"GDP (current US$) 2015\": 4109424799.72407, \"Electricity production from nuclear sources (% of total) 2015\": null}, {\"Country Name\": \"Mali\", \"CO2 emissions (kt) 2015\": 3650.00009536743, \"CO2 emissions (metric tons per capita) 2015\": 0.20930373396518, \"GDP (current US$) 2015\": 13104764378.7114, \"Electricity production from nuclear sources (% of total) 2015\": null}, {\"Country Name\": \"Malta\", \"CO2 emissions (kt) 2015\": 1659.9999666214, \"CO2 emissions (metric tons per capita) 2015\": 3.72989276922389, \"GDP (current US$) 2015\": 11091434483.5238, \"Electricity production from nuclear sources (% of total) 2015\": null}, {\"Country Name\": \"Marshall Islands\", \"CO2 emissions (kt) 2015\": 150.000005960464, \"CO2 emissions (metric tons per capita) 2015\": 2.61123887543458, \"GDP (current US$) 2015\": 183814300.0, \"Electricity production from nuclear sources (% of total) 2015\": null}, {\"Country Name\": \"Mauritania\", \"CO2 emissions (kt) 2015\": 3559.99994277954, \"CO2 emissions (metric tons per capita) 2015\": 0.879815244425416, \"GDP (current US$) 2015\": 6166863960.00061, \"Electricity production from nuclear sources (% of total) 2015\": null}, {\"Country Name\": \"Mauritius\", \"CO2 emissions (kt) 2015\": 3960.00003814697, \"CO2 emissions (metric tons per capita) 2015\": 3.13637284673114, \"GDP (current US$) 2015\": 11692287066.381, \"Electricity production from nuclear sources (% of total) 2015\": null}, {\"Country Name\": \"Mexico\", \"CO2 emissions (kt) 2015\": 471630.004882813, \"CO2 emissions (metric tons per capita) 2015\": 3.87031654411988, \"GDP (current US$) 2015\": 1171867608197.72, \"Electricity production from nuclear sources (% of total) 2015\": 3.72085698307503}, {\"Country Name\": \"Micronesia, Fed. Sts.\", \"CO2 emissions (kt) 2015\": 150.000005960464, \"CO2 emissions (metric tons per capita) 2015\": 1.37758762339019, \"GDP (current US$) 2015\": 316489900.0, \"Electricity production from nuclear sources (% of total) 2015\": null}, {\"Country Name\": \"Moldova\", \"CO2 emissions (kt) 2015\": 8020.00045776367, \"CO2 emissions (metric tons per capita) 2015\": 2.82939339423596, \"GDP (current US$) 2015\": 7745241912.94722, \"Electricity production from nuclear sources (% of total) 2015\": null}, {\"Country Name\": \"Monaco\", \"CO2 emissions (kt) 2015\": null, \"CO2 emissions (metric tons per capita) 2015\": null, \"GDP (current US$) 2015\": 6261622101.40908, \"Electricity production from nuclear sources (% of total) 2015\": null}, {\"Country Name\": \"Mongolia\", \"CO2 emissions (kt) 2015\": 17299.9992370605, \"CO2 emissions (metric tons per capita) 2015\": 5.76968010859689, \"GDP (current US$) 2015\": 11619892396.0767, \"Electricity production from nuclear sources (% of total) 2015\": null}, {\"Country Name\": \"Montenegro\", \"CO2 emissions (kt) 2015\": 2359.99989509583, \"CO2 emissions (metric tons per capita) 2015\": 3.79324239478305, \"GDP (current US$) 2015\": 4054728172.94375, \"Electricity production from nuclear sources (% of total) 2015\": null}, {\"Country Name\": \"Morocco\", \"CO2 emissions (kt) 2015\": 60409.9998474121, \"CO2 emissions (metric tons per capita) 2015\": 1.74274991361003, \"GDP (current US$) 2015\": 101179808076.36, \"Electricity production from nuclear sources (% of total) 2015\": null}, {\"Country Name\": \"Mozambique\", \"CO2 emissions (kt) 2015\": 5519.99998092651, \"CO2 emissions (metric tons per capita) 2015\": 0.204126905435974, \"GDP (current US$) 2015\": 15950979333.1582, \"Electricity production from nuclear sources (% of total) 2015\": null}, {\"Country Name\": \"Myanmar\", \"CO2 emissions (kt) 2015\": 19040.0009155273, \"CO2 emissions (metric tons per capita) 2015\": 0.361422536932623, \"GDP (current US$) 2015\": 63045305229.1046, \"Electricity production from nuclear sources (% of total) 2015\": null}, {\"Country Name\": \"Namibia\", \"CO2 emissions (kt) 2015\": 4199.99980926514, \"CO2 emissions (metric tons per capita) 2015\": 1.81433236637988, \"GDP (current US$) 2015\": 11335179562.0211, \"Electricity production from nuclear sources (% of total) 2015\": null}, {\"Country Name\": \"Nauru\", \"CO2 emissions (kt) 2015\": 59.9999986588955, \"CO2 emissions (metric tons per capita) 2015\": 5.78368986494077, \"GDP (current US$) 2015\": 86529661.3694983, \"Electricity production from nuclear sources (% of total) 2015\": null}, {\"Country Name\": \"Nepal\", \"CO2 emissions (kt) 2015\": 7190.00005722046, \"CO2 emissions (metric tons per capita) 2015\": 0.266148113060623, \"GDP (current US$) 2015\": 24360795410.6422, \"Electricity production from nuclear sources (% of total) 2015\": null}, {\"Country Name\": \"Netherlands\", \"CO2 emissions (kt) 2015\": 157410.003662109, \"CO2 emissions (metric tons per capita) 2015\": 9.29225024589008, \"GDP (current US$) 2015\": 765572770634.375, \"Electricity production from nuclear sources (% of total) 2015\": 3.50867629690197}, {\"Country Name\": \"New Caledonia\", \"CO2 emissions (kt) 2015\": null, \"CO2 emissions (metric tons per capita) 2015\": null, \"GDP (current US$) 2015\": 8738205836.7394, \"Electricity production from nuclear sources (% of total) 2015\": null}, {\"Country Name\": \"New Zealand\", \"CO2 emissions (kt) 2015\": 32279.9987792969, \"CO2 emissions (metric tons per capita) 2015\": 7.00308039642836, \"GDP (current US$) 2015\": 178064471137.921, \"Electricity production from nuclear sources (% of total) 2015\": 0.0}, {\"Country Name\": \"Nicaragua\", \"CO2 emissions (kt) 2015\": 5269.99998092651, \"CO2 emissions (metric tons per capita) 2015\": 0.846826582597812, \"GDP (current US$) 2015\": 12756706583.3113, \"Electricity production from nuclear sources (% of total) 2015\": null}, {\"Country Name\": \"Niger\", \"CO2 emissions (kt) 2015\": 2109.99989509583, \"CO2 emissions (metric tons per capita) 2015\": 0.105491223159586, \"GDP (current US$) 2015\": 9683867893.68343, \"Electricity production from nuclear sources (% of total) 2015\": null}, {\"Country Name\": \"Nigeria\", \"CO2 emissions (kt) 2015\": 107760.00213623, \"CO2 emissions (metric tons per capita) 2015\": 0.594907346639806, \"GDP (current US$) 2015\": 486803295097.89, \"Electricity production from nuclear sources (% of total) 2015\": null}, {\"Country Name\": \"North Macedonia\", \"CO2 emissions (kt) 2015\": 7409.99984741211, \"CO2 emissions (metric tons per capita) 2015\": 3.57931928562974, \"GDP (current US$) 2015\": 10064515432.0265, \"Electricity production from nuclear sources (% of total) 2015\": null}, {\"Country Name\": \"Northern Mariana Islands\", \"CO2 emissions (kt) 2015\": null, \"CO2 emissions (metric tons per capita) 2015\": null, \"GDP (current US$) 2015\": 910000000.0, \"Electricity production from nuclear sources (% of total) 2015\": null}, {\"Country Name\": \"Norway\", \"CO2 emissions (kt) 2015\": 39490.0016784668, \"CO2 emissions (metric tons per capita) 2015\": 7.61090629497798, \"GDP (current US$) 2015\": 385801550067.169, \"Electricity production from nuclear sources (% of total) 2015\": 0.0}, {\"Country Name\": \"Oman\", \"CO2 emissions (kt) 2015\": 70129.997253418, \"CO2 emissions (metric tons per capita) 2015\": 16.4341207448427, \"GDP (current US$) 2015\": 78710793237.9714, \"Electricity production from nuclear sources (% of total) 2015\": null}, {\"Country Name\": \"Pakistan\", \"CO2 emissions (kt) 2015\": 164130.004882813, \"CO2 emissions (metric tons per capita) 2015\": 0.823008136130992, \"GDP (current US$) 2015\": 270556131701.171, \"Electricity production from nuclear sources (% of total) 2015\": null}, {\"Country Name\": \"Palau\", \"CO2 emissions (kt) 2015\": 209.999993443489, \"CO2 emissions (metric tons per capita) 2015\": 11.8879135829883, \"GDP (current US$) 2015\": 280457700.0, \"Electricity production from nuclear sources (% of total) 2015\": null}, {\"Country Name\": \"Panama\", \"CO2 emissions (kt) 2015\": 10699.9998092651, \"CO2 emissions (metric tons per capita) 2015\": 2.69623957960461, \"GDP (current US$) 2015\": 54091713800.0, \"Electricity production from nuclear sources (% of total) 2015\": null}, {\"Country Name\": \"Papua New Guinea\", \"CO2 emissions (kt) 2015\": 6510.00022888184, \"CO2 emissions (metric tons per capita) 2015\": 0.802933312491007, \"GDP (current US$) 2015\": 21723531173.2409, \"Electricity production from nuclear sources (% of total) 2015\": null}, {\"Country Name\": \"Paraguay\", \"CO2 emissions (kt) 2015\": 6369.99988555908, \"CO2 emissions (metric tons per capita) 2015\": 0.952345908419767, \"GDP (current US$) 2015\": 36211372702.8085, \"Electricity production from nuclear sources (% of total) 2015\": null}, {\"Country Name\": \"Peru\", \"CO2 emissions (kt) 2015\": 54549.9992370605, \"CO2 emissions (metric tons per capita) 2015\": 1.79024208231578, \"GDP (current US$) 2015\": 189805300841.603, \"Electricity production from nuclear sources (% of total) 2015\": null}, {\"Country Name\": \"Philippines\", \"CO2 emissions (kt) 2015\": 111010.00213623, \"CO2 emissions (metric tons per capita) 2015\": 1.08712679275029, \"GDP (current US$) 2015\": 306446140628.709, \"Electricity production from nuclear sources (% of total) 2015\": null}, {\"Country Name\": \"Poland\", \"CO2 emissions (kt) 2015\": 289079.986572266, \"CO2 emissions (metric tons per capita) 2015\": 7.61008927540369, \"GDP (current US$) 2015\": 477811911394.084, \"Electricity production from nuclear sources (% of total) 2015\": 0.0}, {\"Country Name\": \"Portugal\", \"CO2 emissions (kt) 2015\": 49849.9984741211, \"CO2 emissions (metric tons per capita) 2015\": 4.81266969600543, \"GDP (current US$) 2015\": 199394066525.44, \"Electricity production from nuclear sources (% of total) 2015\": 0.0}, {\"Country Name\": \"Puerto Rico\", \"CO2 emissions (kt) 2015\": null, \"CO2 emissions (metric tons per capita) 2015\": null, \"GDP (current US$) 2015\": 103375500000.0, \"Electricity production from nuclear sources (% of total) 2015\": null}, {\"Country Name\": \"Qatar\", \"CO2 emissions (kt) 2015\": 84779.9987792969, \"CO2 emissions (metric tons per capita) 2015\": 33.0435103212435, \"GDP (current US$) 2015\": 161739955577.748, \"Electricity production from nuclear sources (% of total) 2015\": null}, {\"Country Name\": \"Romania\", \"CO2 emissions (kt) 2015\": 73319.9996948242, \"CO2 emissions (metric tons per capita) 2015\": 3.70011205782471, \"GDP (current US$) 2015\": 177729210874.504, \"Electricity production from nuclear sources (% of total) 2015\": null}, {\"Country Name\": \"Russian Federation\", \"CO2 emissions (kt) 2015\": 1592560.05859375, \"CO2 emissions (metric tons per capita) 2015\": 11.0520100720699, \"GDP (current US$) 2015\": 1363481063446.77, \"Electricity production from nuclear sources (% of total) 2015\": null}, {\"Country Name\": \"Rwanda\", \"CO2 emissions (kt) 2015\": 980.000019073486, \"CO2 emissions (metric tons per capita) 2015\": 0.0861988151949761, \"GDP (current US$) 2015\": 8539424910.07969, \"Electricity production from nuclear sources (% of total) 2015\": null}, {\"Country Name\": \"Samoa\", \"CO2 emissions (kt) 2015\": 239.999994635582, \"CO2 emissions (metric tons per capita) 2015\": 1.24024595439813, \"GDP (current US$) 2015\": 788307314.850856, \"Electricity production from nuclear sources (% of total) 2015\": null}, {\"Country Name\": \"San Marino\", \"CO2 emissions (kt) 2015\": null, \"CO2 emissions (metric tons per capita) 2015\": null, \"GDP (current US$) 2015\": 1419394763.11994, \"Electricity production from nuclear sources (% of total) 2015\": null}, {\"Country Name\": \"Saudi Arabia\", \"CO2 emissions (kt) 2015\": 565190.002441406, \"CO2 emissions (metric tons per capita) 2015\": 17.8194014732166, \"GDP (current US$) 2015\": 654269739552.019, \"Electricity production from nuclear sources (% of total) 2015\": null}, {\"Country Name\": \"Senegal\", \"CO2 emissions (kt) 2015\": 9289.99996185303, \"CO2 emissions (metric tons per capita) 2015\": 0.637241953832748, \"GDP (current US$) 2015\": 17774766636.0459, \"Electricity production from nuclear sources (% of total) 2015\": null}, {\"Country Name\": \"Serbia\", \"CO2 emissions (kt) 2015\": 45389.9993896484, \"CO2 emissions (metric tons per capita) 2015\": 6.39711758895163, \"GDP (current US$) 2015\": 39655958842.5478, \"Electricity production from nuclear sources (% of total) 2015\": null}, {\"Country Name\": \"Seychelles\", \"CO2 emissions (kt) 2015\": 509.999990463257, \"CO2 emissions (metric tons per capita) 2015\": 5.45927477775674, \"GDP (current US$) 2015\": 1415998663.05391, \"Electricity production from nuclear sources (% of total) 2015\": null}, {\"Country Name\": \"Sierra Leone\", \"CO2 emissions (kt) 2015\": 910.000026226044, \"CO2 emissions (metric tons per capita) 2015\": 0.12688393372337, \"GDP (current US$) 2015\": 4218723875.1379, \"Electricity production from nuclear sources (% of total) 2015\": null}, {\"Country Name\": \"Singapore\", \"CO2 emissions (kt) 2015\": 45430.0003051758, \"CO2 emissions (metric tons per capita) 2015\": 8.20776583372071, \"GDP (current US$) 2015\": 308004146057.608, \"Electricity production from nuclear sources (% of total) 2015\": null}, {\"Country Name\": \"Sint Maarten (Dutch part)\", \"CO2 emissions (kt) 2015\": null, \"CO2 emissions (metric tons per capita) 2015\": null, \"GDP (current US$) 2015\": 1253072625.69832, \"Electricity production from nuclear sources (% of total) 2015\": null}, {\"Country Name\": \"Slovak Republic\", \"CO2 emissions (kt) 2015\": 30750.0, \"CO2 emissions (metric tons per capita) 2015\": 5.6694557930868, \"GDP (current US$) 2015\": 88636928904.6449, \"Electricity production from nuclear sources (% of total) 2015\": 56.8714328627215}, {\"Country Name\": \"Slovenia\", \"CO2 emissions (kt) 2015\": 13140.0003433228, \"CO2 emissions (metric tons per capita) 2015\": 6.36772616613116, \"GDP (current US$) 2015\": 43107506024.3254, \"Electricity production from nuclear sources (% of total) 2015\": 38.118377539313}, {\"Country Name\": \"Solomon Islands\", \"CO2 emissions (kt) 2015\": 310.000002384186, \"CO2 emissions (metric tons per capita) 2015\": 0.513982823662751, \"GDP (current US$) 2015\": 1307082934.28683, \"Electricity production from nuclear sources (% of total) 2015\": null}, {\"Country Name\": \"Somalia\", \"CO2 emissions (kt) 2015\": 649.999976158142, \"CO2 emissions (metric tons per capita) 2015\": 0.047110992644462, \"GDP (current US$) 2015\": 5331761394.25487, \"Electricity production from nuclear sources (% of total) 2015\": null}, {\"Country Name\": \"South Africa\", \"CO2 emissions (kt) 2015\": 424809.997558594, \"CO2 emissions (metric tons per capita) 2015\": 7.66993766207339, \"GDP (current US$) 2015\": 346709790458.563, \"Electricity production from nuclear sources (% of total) 2015\": null}, {\"Country Name\": \"South Sudan\", \"CO2 emissions (kt) 2015\": 1970.00002861023, \"CO2 emissions (metric tons per capita) 2015\": 0.183843139866294, \"GDP (current US$) 2015\": 11997800760.2242, \"Electricity production from nuclear sources (% of total) 2015\": null}, {\"Country Name\": \"Spain\", \"CO2 emissions (kt) 2015\": 256279.998779297, \"CO2 emissions (metric tons per capita) 2015\": 5.51794435986542, \"GDP (current US$) 2015\": 1195599995808.59, \"Electricity production from nuclear sources (% of total) 2015\": 20.6186643243866}, {\"Country Name\": \"Sri Lanka\", \"CO2 emissions (kt) 2015\": 20360.0006103516, \"CO2 emissions (metric tons per capita) 2015\": 0.97091085409402, \"GDP (current US$) 2015\": 80604080688.5775, \"Electricity production from nuclear sources (% of total) 2015\": null}, {\"Country Name\": \"St. Kitts and Nevis\", \"CO2 emissions (kt) 2015\": 239.999994635582, \"CO2 emissions (metric tons per capita) 2015\": 4.68713371290489, \"GDP (current US$) 2015\": 958407222.222222, \"Electricity production from nuclear sources (% of total) 2015\": null}, {\"Country Name\": \"St. Lucia\", \"CO2 emissions (kt) 2015\": 500.0, \"CO2 emissions (metric tons per capita) 2015\": 2.79125332856959, \"GDP (current US$) 2015\": 1808079888.88889, \"Electricity production from nuclear sources (% of total) 2015\": null}, {\"Country Name\": \"St. Martin (French part)\", \"CO2 emissions (kt) 2015\": null, \"CO2 emissions (metric tons per capita) 2015\": null, \"GDP (current US$) 2015\": null, \"Electricity production from nuclear sources (% of total) 2015\": null}, {\"Country Name\": \"St. Vincent and the Grenadines\", \"CO2 emissions (kt) 2015\": 250.0, \"CO2 emissions (metric tons per capita) 2015\": 2.29074082558299, \"GDP (current US$) 2015\": 786554580.796867, \"Electricity production from nuclear sources (% of total) 2015\": null}, {\"Country Name\": \"Sudan\", \"CO2 emissions (kt) 2015\": 18709.9990844727, \"CO2 emissions (metric tons per capita) 2015\": 0.480940392601422, \"GDP (current US$) 2015\": 84985132167.2171, \"Electricity production from nuclear sources (% of total) 2015\": null}, {\"Country Name\": \"Suriname\", \"CO2 emissions (kt) 2015\": 2720.00002861023, \"CO2 emissions (metric tons per capita) 2015\": 4.86464836571108, \"GDP (current US$) 2015\": 5126291450.81511, \"Electricity production from nuclear sources (% of total) 2015\": null}, {\"Country Name\": \"Sweden\", \"CO2 emissions (kt) 2015\": 39189.998626709, \"CO2 emissions (metric tons per capita) 2015\": 3.99931163942689, \"GDP (current US$) 2015\": 505103781349.757, \"Electricity production from nuclear sources (% of total) 2015\": 34.7364000716355}, {\"Country Name\": \"Switzerland\", \"CO2 emissions (kt) 2015\": 39090.0001525879, \"CO2 emissions (metric tons per capita) 2015\": 4.7196487770674, \"GDP (current US$) 2015\": 702149580770.901, \"Electricity production from nuclear sources (% of total) 2015\": 34.931993887771}, {\"Country Name\": \"Syrian Arab Republic\", \"CO2 emissions (kt) 2015\": 25270.0004577637, \"CO2 emissions (metric tons per capita) 2015\": 1.40409086939025, \"GDP (current US$) 2015\": 17622064891.81, \"Electricity production from nuclear sources (% of total) 2015\": null}, {\"Country Name\": \"Tajikistan\", \"CO2 emissions (kt) 2015\": 4900.00009536743, \"CO2 emissions (metric tons per capita) 2015\": 0.579605995132898, \"GDP (current US$) 2015\": 8271454300.59548, \"Electricity production from nuclear sources (% of total) 2015\": null}, {\"Country Name\": \"Tanzania\", \"CO2 emissions (kt) 2015\": 11689.9995803833, \"CO2 emissions (metric tons per capita) 2015\": 0.22706683329598, \"GDP (current US$) 2015\": 47378599025.3044, \"Electricity production from nuclear sources (% of total) 2015\": null}, {\"Country Name\": \"Thailand\", \"CO2 emissions (kt) 2015\": 264000.0, \"CO2 emissions (metric tons per capita) 2015\": 3.8419827984243, \"GDP (current US$) 2015\": 401296437424.995, \"Electricity production from nuclear sources (% of total) 2015\": null}, {\"Country Name\": \"Timor-Leste\", \"CO2 emissions (kt) 2015\": 519.999980926514, \"CO2 emissions (metric tons per capita) 2015\": 0.434675741018942, \"GDP (current US$) 2015\": 1594410900.0, \"Electricity production from nuclear sources (% of total) 2015\": null}, {\"Country Name\": \"Togo\", \"CO2 emissions (kt) 2015\": 1830.00004291534, \"CO2 emissions (metric tons per capita) 2015\": 0.249892060685717, \"GDP (current US$) 2015\": 4180866177.03946, \"Electricity production from nuclear sources (% of total) 2015\": null}, {\"Country Name\": \"Tonga\", \"CO2 emissions (kt) 2015\": 119.999997317791, \"CO2 emissions (metric tons per capita) 2015\": 1.19071241633053, \"GDP (current US$) 2015\": 437006227.162781, \"Electricity production from nuclear sources (% of total) 2015\": null}, {\"Country Name\": \"Trinidad and Tobago\", \"CO2 emissions (kt) 2015\": 21329.9999237061, \"CO2 emissions (metric tons per capita) 2015\": 15.5655709154468, \"GDP (current US$) 2015\": 25191551350.4204, \"Electricity production from nuclear sources (% of total) 2015\": null}, {\"Country Name\": \"Tunisia\", \"CO2 emissions (kt) 2015\": 30479.9995422363, \"CO2 emissions (metric tons per capita) 2015\": 2.72630886684891, \"GDP (current US$) 2015\": 45780128466.5579, \"Electricity production from nuclear sources (% of total) 2015\": null}, {\"Country Name\": \"Turkmenistan\", \"CO2 emissions (kt) 2015\": 73400.0015258789, \"CO2 emissions (metric tons per capita) 2015\": 13.188907289329, \"GDP (current US$) 2015\": 35799714285.7143, \"Electricity production from nuclear sources (% of total) 2015\": null}, {\"Country Name\": \"Turks and Caicos Islands\", \"CO2 emissions (kt) 2015\": null, \"CO2 emissions (metric tons per capita) 2015\": null, \"GDP (current US$) 2015\": 942070000.0, \"Electricity production from nuclear sources (% of total) 2015\": null}, {\"Country Name\": \"Tuvalu\", \"CO2 emissions (kt) 2015\": 9.99999977648258, \"CO2 emissions (metric tons per capita) 2015\": 0.900982050318279, \"GDP (current US$) 2015\": 36811659.5297123, \"Electricity production from nuclear sources (% of total) 2015\": null}, {\"Country Name\": \"Uganda\", \"CO2 emissions (kt) 2015\": 4719.99979019165, \"CO2 emissions (metric tons per capita) 2015\": 0.12347794886981, \"GDP (current US$) 2015\": 32387183844.6699, \"Electricity production from nuclear sources (% of total) 2015\": null}, {\"Country Name\": \"Ukraine\", \"CO2 emissions (kt) 2015\": 191070.007324219, \"CO2 emissions (metric tons per capita) 2015\": 4.23151559085923, \"GDP (current US$) 2015\": 91030959454.6961, \"Electricity production from nuclear sources (% of total) 2015\": null}, {\"Country Name\": \"United Arab Emirates\", \"CO2 emissions (kt) 2015\": 195240.005493164, \"CO2 emissions (metric tons per capita) 2015\": 21.0776419699804, \"GDP (current US$) 2015\": 358134944420.504, \"Electricity production from nuclear sources (% of total) 2015\": null}, {\"Country Name\": \"United Kingdom\", \"CO2 emissions (kt) 2015\": 401079.986572266, \"CO2 emissions (metric tons per capita) 2015\": 6.15944833302231, \"GDP (current US$) 2015\": 2956573778737.76, \"Electricity production from nuclear sources (% of total) 2015\": 20.9138531793695}, {\"Country Name\": \"United States\", \"CO2 emissions (kt) 2015\": 4990709.9609375, \"CO2 emissions (metric tons per capita) 2015\": 15.5600349639355, \"GDP (current US$) 2015\": 18206020741000.0, \"Electricity production from nuclear sources (% of total) 2015\": 19.3237776259423}, {\"Country Name\": \"Uruguay\", \"CO2 emissions (kt) 2015\": 6639.9998664856, \"CO2 emissions (metric tons per capita) 2015\": 1.94606523084338, \"GDP (current US$) 2015\": 53274304222.136, \"Electricity production from nuclear sources (% of total) 2015\": null}, {\"Country Name\": \"Uzbekistan\", \"CO2 emissions (kt) 2015\": 99169.9981689453, \"CO2 emissions (metric tons per capita) 2015\": 3.16848190092768, \"GDP (current US$) 2015\": 86196265191.6645, \"Electricity production from nuclear sources (% of total) 2015\": null}, {\"Country Name\": \"Vanuatu\", \"CO2 emissions (kt) 2015\": 140.000000596046, \"CO2 emissions (metric tons per capita) 2015\": 0.51636127805334, \"GDP (current US$) 2015\": 730870581.672312, \"Electricity production from nuclear sources (% of total) 2015\": null}, {\"Country Name\": \"Venezuela, RB\", \"CO2 emissions (kt) 2015\": 163130.004882813, \"CO2 emissions (metric tons per capita) 2015\": 5.42287557477187, \"GDP (current US$) 2015\": null, \"Electricity production from nuclear sources (% of total) 2015\": null}, {\"Country Name\": \"Vietnam\", \"CO2 emissions (kt) 2015\": 220649.993896484, \"CO2 emissions (metric tons per capita) 2015\": 2.3808474450726, \"GDP (current US$) 2015\": 239257234710.757, \"Electricity production from nuclear sources (% of total) 2015\": null}, {\"Country Name\": \"Virgin Islands (U.S.)\", \"CO2 emissions (kt) 2015\": null, \"CO2 emissions (metric tons per capita) 2015\": null, \"GDP (current US$) 2015\": 3663000000.0, \"Electricity production from nuclear sources (% of total) 2015\": null}, {\"Country Name\": \"West Bank and Gaza\", \"CO2 emissions (kt) 2015\": null, \"CO2 emissions (metric tons per capita) 2015\": null, \"GDP (current US$) 2015\": 13972400000.0, \"Electricity production from nuclear sources (% of total) 2015\": null}, {\"Country Name\": \"Yemen, Rep.\", \"CO2 emissions (kt) 2015\": 13550.0001907349, \"CO2 emissions (metric tons per capita) 2015\": 0.511361651549982, \"GDP (current US$) 2015\": 42444495590.1077, \"Electricity production from nuclear sources (% of total) 2015\": null}, {\"Country Name\": \"Zambia\", \"CO2 emissions (kt) 2015\": 4960.00003814697, \"CO2 emissions (metric tons per capita) 2015\": 0.312354963587785, \"GDP (current US$) 2015\": 21251216798.7762, \"Electricity production from nuclear sources (% of total) 2015\": null}, {\"Country Name\": \"Zimbabwe\", \"CO2 emissions (kt) 2015\": 12430.0003051758, \"CO2 emissions (metric tons per capita) 2015\": 0.89976999079497, \"GDP (current US$) 2015\": 19963120600.0, \"Electricity production from nuclear sources (% of total) 2015\": null}]}}, {\"mode\": \"vega-lite\"});\n",
       "</script>"
      ],
      "text/plain": [
       "alt.LayerChart(...)"
      ]
     },
     "execution_count": 53,
     "metadata": {},
     "output_type": "execute_result"
    }
   ],
   "source": [
    "# lets look at a very weak positive correlation\n",
    "indi_list = ['CO2 emissions (kt)', 'CO2 emissions (metric tons per capita)','GDP (current US$)','Electricity production from nuclear sources (% of total)']\n",
    "new_ind_df= get_ind_df(wdi_df, indi_list, '2015') \n",
    "#print(new_ind_df)\n",
    "\n",
    "chart= alt.Chart(new_ind_df).mark_circle().encode(\n",
    "    x = alt.X('CO2 emissions (kt) 2015'),\n",
    "    y = alt.Y('Electricity production from nuclear sources (% of total) 2015'),\n",
    "    color = alt.Color('Country Name:N', legend=None),\n",
    "    tooltip ='Country Name'\n",
    ").properties(width=600, height=400, title='CO2 emission versus Electricy production from nuclear sources (% of total) 2015' )\n",
    "\n",
    "#Here is a linear regression fit using ordinary least squares which minimizes distance between data points and the line\n",
    "chart + chart.transform_regression('CO2 emissions (kt) 2015', 'Electricity production from nuclear sources (% of total) 2015').mark_line()"
   ]
  },
  {
   "cell_type": "code",
   "execution_count": 54,
   "metadata": {},
   "outputs": [
    {
     "data": {
      "text/html": [
       "\n",
       "<div id=\"altair-viz-824190765f58437b9f5481440b752bed\"></div>\n",
       "<script type=\"text/javascript\">\n",
       "  var VEGA_DEBUG = (typeof VEGA_DEBUG == \"undefined\") ? {} : VEGA_DEBUG;\n",
       "  (function(spec, embedOpt){\n",
       "    let outputDiv = document.currentScript.previousElementSibling;\n",
       "    if (outputDiv.id !== \"altair-viz-824190765f58437b9f5481440b752bed\") {\n",
       "      outputDiv = document.getElementById(\"altair-viz-824190765f58437b9f5481440b752bed\");\n",
       "    }\n",
       "    const paths = {\n",
       "      \"vega\": \"https://cdn.jsdelivr.net/npm//vega@5?noext\",\n",
       "      \"vega-lib\": \"https://cdn.jsdelivr.net/npm//vega-lib?noext\",\n",
       "      \"vega-lite\": \"https://cdn.jsdelivr.net/npm//vega-lite@4.17.0?noext\",\n",
       "      \"vega-embed\": \"https://cdn.jsdelivr.net/npm//vega-embed@6?noext\",\n",
       "    };\n",
       "\n",
       "    function maybeLoadScript(lib, version) {\n",
       "      var key = `${lib.replace(\"-\", \"\")}_version`;\n",
       "      return (VEGA_DEBUG[key] == version) ?\n",
       "        Promise.resolve(paths[lib]) :\n",
       "        new Promise(function(resolve, reject) {\n",
       "          var s = document.createElement('script');\n",
       "          document.getElementsByTagName(\"head\")[0].appendChild(s);\n",
       "          s.async = true;\n",
       "          s.onload = () => {\n",
       "            VEGA_DEBUG[key] = version;\n",
       "            return resolve(paths[lib]);\n",
       "          };\n",
       "          s.onerror = () => reject(`Error loading script: ${paths[lib]}`);\n",
       "          s.src = paths[lib];\n",
       "        });\n",
       "    }\n",
       "\n",
       "    function showError(err) {\n",
       "      outputDiv.innerHTML = `<div class=\"error\" style=\"color:red;\">${err}</div>`;\n",
       "      throw err;\n",
       "    }\n",
       "\n",
       "    function displayChart(vegaEmbed) {\n",
       "      vegaEmbed(outputDiv, spec, embedOpt)\n",
       "        .catch(err => showError(`Javascript Error: ${err.message}<br>This usually means there's a typo in your chart specification. See the javascript console for the full traceback.`));\n",
       "    }\n",
       "\n",
       "    if(typeof define === \"function\" && define.amd) {\n",
       "      requirejs.config({paths});\n",
       "      require([\"vega-embed\"], displayChart, err => showError(`Error loading script: ${err.message}`));\n",
       "    } else {\n",
       "      maybeLoadScript(\"vega\", \"5\")\n",
       "        .then(() => maybeLoadScript(\"vega-lite\", \"4.17.0\"))\n",
       "        .then(() => maybeLoadScript(\"vega-embed\", \"6\"))\n",
       "        .catch(showError)\n",
       "        .then(() => displayChart(vegaEmbed));\n",
       "    }\n",
       "  })({\"config\": {\"view\": {\"continuousWidth\": 400, \"continuousHeight\": 300}}, \"layer\": [{\"mark\": \"circle\", \"encoding\": {\"color\": {\"field\": \"Country Name\", \"legend\": null, \"type\": \"nominal\"}, \"tooltip\": {\"field\": \"Country Name\", \"type\": \"nominal\"}, \"x\": {\"field\": \"CO2 emissions (metric tons per capita) 2015\", \"type\": \"quantitative\"}, \"y\": {\"field\": \"Renewable energy consumption (% of total final energy consumption) 2015\", \"scale\": {\"domain\": [0, 100]}, \"type\": \"quantitative\"}}, \"height\": 400, \"title\": \"CO2 emission versus Renewable energy consumption 2015\", \"width\": 600}, {\"mark\": \"line\", \"encoding\": {\"color\": {\"field\": \"Country Name\", \"legend\": null, \"type\": \"nominal\"}, \"tooltip\": {\"field\": \"Country Name\", \"type\": \"nominal\"}, \"x\": {\"field\": \"CO2 emissions (metric tons per capita) 2015\", \"type\": \"quantitative\"}, \"y\": {\"field\": \"Renewable energy consumption (% of total final energy consumption) 2015\", \"scale\": {\"domain\": [0, 100]}, \"type\": \"quantitative\"}}, \"height\": 400, \"title\": \"CO2 emission versus Renewable energy consumption 2015\", \"transform\": [{\"on\": \"CO2 emissions (metric tons per capita) 2015\", \"regression\": \"Renewable energy consumption (% of total final energy consumption) 2015\", \"extent\": [0, 14]}], \"width\": 600}], \"data\": {\"name\": \"data-c7cac797da6889ca33e8118a6f23e92c\"}, \"$schema\": \"https://vega.github.io/schema/vega-lite/v4.17.0.json\", \"datasets\": {\"data-c7cac797da6889ca33e8118a6f23e92c\": [{\"Country Name\": \"Afghanistan\", \"CO2 emissions (kt) 2015\": 5949.99980926514, \"CO2 emissions (metric tons per capita) 2015\": 0.172896741130684, \"Renewable energy consumption (% of total final energy consumption) 2015\": 17.53}, {\"Country Name\": \"Albania\", \"CO2 emissions (kt) 2015\": 4619.99988555908, \"CO2 emissions (metric tons per capita) 2015\": 1.60377514987108, \"Renewable energy consumption (% of total final energy consumption) 2015\": 38.47}, {\"Country Name\": \"Algeria\", \"CO2 emissions (kt) 2015\": 156270.004272461, \"CO2 emissions (metric tons per capita) 2015\": 3.93349591226698, \"Renewable energy consumption (% of total final energy consumption) 2015\": 0.06}, {\"Country Name\": \"American Samoa\", \"CO2 emissions (kt) 2015\": null, \"CO2 emissions (metric tons per capita) 2015\": null, \"Renewable energy consumption (% of total final energy consumption) 2015\": 0.23}, {\"Country Name\": \"Andorra\", \"CO2 emissions (kt) 2015\": 469.999998807907, \"CO2 emissions (metric tons per capita) 2015\": 6.02618182154689, \"Renewable energy consumption (% of total final energy consumption) 2015\": 19.32}, {\"Country Name\": \"Angola\", \"CO2 emissions (kt) 2015\": 31649.9996185303, \"CO2 emissions (metric tons per capita) 2015\": 1.13504405041569, \"Renewable energy consumption (% of total final energy consumption) 2015\": 47.84}, {\"Country Name\": \"Antigua and Barbuda\", \"CO2 emissions (kt) 2015\": 490.000009536743, \"CO2 emissions (metric tons per capita) 2015\": 5.23666530802004, \"Renewable energy consumption (% of total final energy consumption) 2015\": 0.48}, {\"Country Name\": \"Argentina\", \"CO2 emissions (kt) 2015\": 185550.003051758, \"CO2 emissions (metric tons per capita) 2015\": 4.30191387639872, \"Renewable energy consumption (% of total final energy consumption) 2015\": 9.4}, {\"Country Name\": \"Armenia\", \"CO2 emissions (kt) 2015\": 5340.00015258789, \"CO2 emissions (metric tons per capita) 2015\": 1.82529224417894, \"Renewable energy consumption (% of total final energy consumption) 2015\": 10.74}, {\"Country Name\": \"Aruba\", \"CO2 emissions (kt) 2015\": null, \"CO2 emissions (metric tons per capita) 2015\": null, \"Renewable energy consumption (% of total final energy consumption) 2015\": 6.73}, {\"Country Name\": \"Australia\", \"CO2 emissions (kt) 2015\": 377799.987792969, \"CO2 emissions (metric tons per capita) 2015\": 15.863288004258, \"Renewable energy consumption (% of total final energy consumption) 2015\": 9.31}, {\"Country Name\": \"Austria\", \"CO2 emissions (kt) 2015\": 63240.0016784668, \"CO2 emissions (metric tons per capita) 2015\": 7.31715887345687, \"Renewable energy consumption (% of total final energy consumption) 2015\": 34.82}, {\"Country Name\": \"Azerbaijan\", \"CO2 emissions (kt) 2015\": 31770.0004577637, \"CO2 emissions (metric tons per capita) 2015\": 3.29245286882946, \"Renewable energy consumption (% of total final energy consumption) 2015\": 2.33}, {\"Country Name\": \"Bahamas, The\", \"CO2 emissions (kt) 2015\": 2210.00003814697, \"CO2 emissions (metric tons per capita) 2015\": 5.90593275827624, \"Renewable energy consumption (% of total final energy consumption) 2015\": 1.54}, {\"Country Name\": \"Bahrain\", \"CO2 emissions (kt) 2015\": 30579.9999237061, \"CO2 emissions (metric tons per capita) 2015\": 22.2910180053592, \"Renewable energy consumption (% of total final energy consumption) 2015\": 0.0}, {\"Country Name\": \"Bangladesh\", \"CO2 emissions (kt) 2015\": 72190.0024414063, \"CO2 emissions (metric tons per capita) 2015\": 0.461997426326957, \"Renewable energy consumption (% of total final energy consumption) 2015\": 31.93}, {\"Country Name\": \"Barbados\", \"CO2 emissions (kt) 2015\": 1269.99998092651, \"CO2 emissions (metric tons per capita) 2015\": 4.45103330889299, \"Renewable energy consumption (% of total final energy consumption) 2015\": 3.16}, {\"Country Name\": \"Belarus\", \"CO2 emissions (kt) 2015\": 54819.9996948242, \"CO2 emissions (metric tons per capita) 2015\": 5.79426692004421, \"Renewable energy consumption (% of total final energy consumption) 2015\": 6.83}, {\"Country Name\": \"Belgium\", \"CO2 emissions (kt) 2015\": 95129.997253418, \"CO2 emissions (metric tons per capita) 2015\": 8.43785199879601, \"Renewable energy consumption (% of total final energy consumption) 2015\": 9.37}, {\"Country Name\": \"Belize\", \"CO2 emissions (kt) 2015\": 680.000007152557, \"CO2 emissions (metric tons per capita) 2015\": 1.88404273217379, \"Renewable energy consumption (% of total final energy consumption) 2015\": 30.34}, {\"Country Name\": \"Benin\", \"CO2 emissions (kt) 2015\": 5510.00022888184, \"CO2 emissions (metric tons per capita) 2015\": 0.520992816434272, \"Renewable energy consumption (% of total final energy consumption) 2015\": 49.94}, {\"Country Name\": \"Bermuda\", \"CO2 emissions (kt) 2015\": null, \"CO2 emissions (metric tons per capita) 2015\": null, \"Renewable energy consumption (% of total final energy consumption) 2015\": 0.55}, {\"Country Name\": \"Bhutan\", \"CO2 emissions (kt) 2015\": 769.999980926514, \"CO2 emissions (metric tons per capita) 2015\": 1.05785938840135, \"Renewable energy consumption (% of total final energy consumption) 2015\": 86.68}, {\"Country Name\": \"Bolivia\", \"CO2 emissions (kt) 2015\": 20760.0002288818, \"CO2 emissions (metric tons per capita) 2015\": 1.90989071569398, \"Renewable energy consumption (% of total final energy consumption) 2015\": 8.02}, {\"Country Name\": \"Bosnia and Herzegovina\", \"CO2 emissions (kt) 2015\": 19620.0008392334, \"CO2 emissions (metric tons per capita) 2015\": 5.72118103578257, \"Renewable energy consumption (% of total final energy consumption) 2015\": 25.28}, {\"Country Name\": \"Botswana\", \"CO2 emissions (kt) 2015\": 6949.99980926514, \"CO2 emissions (metric tons per capita) 2015\": 3.27719497059726, \"Renewable energy consumption (% of total final energy consumption) 2015\": 25.58}, {\"Country Name\": \"Brazil\", \"CO2 emissions (kt) 2015\": 485339.996337891, \"CO2 emissions (metric tons per capita) 2015\": 2.37362850846258, \"Renewable energy consumption (% of total final energy consumption) 2015\": 43.62}, {\"Country Name\": \"British Virgin Islands\", \"CO2 emissions (kt) 2015\": null, \"CO2 emissions (metric tons per capita) 2015\": null, \"Renewable energy consumption (% of total final energy consumption) 2015\": 1.0}, {\"Country Name\": \"Brunei Darussalam\", \"CO2 emissions (kt) 2015\": 6400.00009536743, \"CO2 emissions (metric tons per capita) 2015\": 15.4248834586623, \"Renewable energy consumption (% of total final energy consumption) 2015\": 0.01}, {\"Country Name\": \"Bulgaria\", \"CO2 emissions (kt) 2015\": 44560.001373291, \"CO2 emissions (metric tons per capita) 2015\": 6.20786531681232, \"Renewable energy consumption (% of total final energy consumption) 2015\": 17.85}, {\"Country Name\": \"Burkina Faso\", \"CO2 emissions (kt) 2015\": 3700.00004768372, \"CO2 emissions (metric tons per capita) 2015\": 0.204300066197843, \"Renewable energy consumption (% of total final energy consumption) 2015\": 72.71}, {\"Country Name\": \"Burundi\", \"CO2 emissions (kt) 2015\": 400.000005960464, \"CO2 emissions (metric tons per capita) 2015\": 0.0393699475769928, \"Renewable energy consumption (% of total final energy consumption) 2015\": 91.15}, {\"Country Name\": \"Cabo Verde\", \"CO2 emissions (kt) 2015\": 500.0, \"CO2 emissions (metric tons per capita) 2015\": 0.952852841407173, \"Renewable energy consumption (% of total final energy consumption) 2015\": 26.35}, {\"Country Name\": \"Cambodia\", \"CO2 emissions (kt) 2015\": 8430.00030517578, \"CO2 emissions (metric tons per capita) 2015\": 0.543119905161847, \"Renewable energy consumption (% of total final energy consumption) 2015\": 60.63}, {\"Country Name\": \"Cameroon\", \"CO2 emissions (kt) 2015\": 8460.00003814697, \"CO2 emissions (metric tons per capita) 2015\": 0.363115439382855, \"Renewable energy consumption (% of total final energy consumption) 2015\": 78.06}, {\"Country Name\": \"Canada\", \"CO2 emissions (kt) 2015\": 558700.012207031, \"CO2 emissions (metric tons per capita) 2015\": 15.6485856056048, \"Renewable energy consumption (% of total final energy consumption) 2015\": 22.69}, {\"Country Name\": \"Cayman Islands\", \"CO2 emissions (kt) 2015\": null, \"CO2 emissions (metric tons per capita) 2015\": null, \"Renewable energy consumption (% of total final energy consumption) 2015\": 0.01}, {\"Country Name\": \"Central African Republic\", \"CO2 emissions (kt) 2015\": 189.999997615814, \"CO2 emissions (metric tons per capita) 2015\": 0.042286393644002, \"Renewable energy consumption (% of total final energy consumption) 2015\": 92.86}, {\"Country Name\": \"Chad\", \"CO2 emissions (kt) 2015\": 2390.00010490417, \"CO2 emissions (metric tons per capita) 2015\": 0.169371767889266, \"Renewable energy consumption (% of total final energy consumption) 2015\": 77.35}, {\"Country Name\": \"Channel Islands\", \"CO2 emissions (kt) 2015\": null, \"CO2 emissions (metric tons per capita) 2015\": null, \"Renewable energy consumption (% of total final energy consumption) 2015\": null}, {\"Country Name\": \"Chile\", \"CO2 emissions (kt) 2015\": 82230.0033569336, \"CO2 emissions (metric tons per capita) 2015\": 4.57612411690957, \"Renewable energy consumption (% of total final energy consumption) 2015\": 25.07}, {\"Country Name\": \"China\", \"CO2 emissions (kt) 2015\": 9861099.609375, \"CO2 emissions (metric tons per capita) 2015\": 7.14644935672822, \"Renewable energy consumption (% of total final energy consumption) 2015\": 12.18}, {\"Country Name\": \"Colombia\", \"CO2 emissions (kt) 2015\": 80230.0033569336, \"CO2 emissions (metric tons per capita) 2015\": 1.6883181239214, \"Renewable energy consumption (% of total final energy consumption) 2015\": 31.6}, {\"Country Name\": \"Comoros\", \"CO2 emissions (kt) 2015\": 189.999997615814, \"CO2 emissions (metric tons per capita) 2015\": 0.244393418891372, \"Renewable energy consumption (% of total final energy consumption) 2015\": 64.17}, {\"Country Name\": \"Congo, Dem. Rep.\", \"CO2 emissions (kt) 2015\": 3230.00001907349, \"CO2 emissions (metric tons per capita) 2015\": 0.0423636939508461, \"Renewable energy consumption (% of total final energy consumption) 2015\": 95.82}, {\"Country Name\": \"Congo, Rep.\", \"CO2 emissions (kt) 2015\": 5659.99984741211, \"CO2 emissions (metric tons per capita) 2015\": 1.1655460155751, \"Renewable energy consumption (% of total final energy consumption) 2015\": 64.15}, {\"Country Name\": \"Costa Rica\", \"CO2 emissions (kt) 2015\": 7539.99996185303, \"CO2 emissions (metric tons per capita) 2015\": 1.55534308039474, \"Renewable energy consumption (% of total final energy consumption) 2015\": 38.33}, {\"Country Name\": \"Croatia\", \"CO2 emissions (kt) 2015\": 16600.0003814697, \"CO2 emissions (metric tons per capita) 2015\": 3.94899243160624, \"Renewable energy consumption (% of total final energy consumption) 2015\": 33.09}, {\"Country Name\": \"Cuba\", \"CO2 emissions (kt) 2015\": 29209.9990844727, \"CO2 emissions (metric tons per capita) 2015\": 2.57930015615077, \"Renewable energy consumption (% of total final energy consumption) 2015\": 21.15}, {\"Country Name\": \"Cyprus\", \"CO2 emissions (kt) 2015\": 6849.99990463257, \"CO2 emissions (metric tons per capita) 2015\": 5.90015211594322, \"Renewable energy consumption (% of total final energy consumption) 2015\": 10.51}, {\"Country Name\": \"Czech Republic\", \"CO2 emissions (kt) 2015\": 99139.9993896484, \"CO2 emissions (metric tons per capita) 2015\": 9.4006680021085, \"Renewable energy consumption (% of total final energy consumption) 2015\": 14.84}, {\"Country Name\": \"Denmark\", \"CO2 emissions (kt) 2015\": 33700.0007629395, \"CO2 emissions (metric tons per capita) 2015\": 5.92946275425465, \"Renewable energy consumption (% of total final energy consumption) 2015\": 32.89}, {\"Country Name\": \"Djibouti\", \"CO2 emissions (kt) 2015\": 460.00000834465, \"CO2 emissions (metric tons per capita) 2015\": 0.50328338611753, \"Renewable energy consumption (% of total final energy consumption) 2015\": 28.18}, {\"Country Name\": \"Dominica\", \"CO2 emissions (kt) 2015\": 180.000007152557, \"CO2 emissions (metric tons per capita) 2015\": 2.52897797193617, \"Renewable energy consumption (% of total final energy consumption) 2015\": 8.8}, {\"Country Name\": \"Dominican Republic\", \"CO2 emissions (kt) 2015\": 23590.0001525879, \"CO2 emissions (metric tons per capita) 2015\": 2.29437325655478, \"Renewable energy consumption (% of total final energy consumption) 2015\": 14.88}, {\"Country Name\": \"Ecuador\", \"CO2 emissions (kt) 2015\": 41520.0004577637, \"CO2 emissions (metric tons per capita) 2015\": 2.56106242995252, \"Renewable energy consumption (% of total final energy consumption) 2015\": 13.07}, {\"Country Name\": \"Egypt, Arab Rep.\", \"CO2 emissions (kt) 2015\": 226279.998779297, \"CO2 emissions (metric tons per capita) 2015\": 2.44779055994331, \"Renewable energy consumption (% of total final energy consumption) 2015\": 5.45}, {\"Country Name\": \"El Salvador\", \"CO2 emissions (kt) 2015\": 7000.0, \"CO2 emissions (metric tons per capita) 2015\": 1.10669819597127, \"Renewable energy consumption (% of total final energy consumption) 2015\": 21.03}, {\"Country Name\": \"Equatorial Guinea\", \"CO2 emissions (kt) 2015\": 6570.00017166138, \"CO2 emissions (metric tons per capita) 2015\": 5.62223235278983, \"Renewable energy consumption (% of total final energy consumption) 2015\": 4.56}, {\"Country Name\": \"Eritrea\", \"CO2 emissions (kt) 2015\": 649.999976158142, \"CO2 emissions (metric tons per capita) 2015\": 0.194446714166952, \"Renewable energy consumption (% of total final energy consumption) 2015\": 77.56}, {\"Country Name\": \"Estonia\", \"CO2 emissions (kt) 2015\": 15539.999961853, \"CO2 emissions (metric tons per capita) 2015\": 11.8138340162801, \"Renewable energy consumption (% of total final energy consumption) 2015\": 28.16}, {\"Country Name\": \"Eswatini\", \"CO2 emissions (kt) 2015\": 769.999980926514, \"CO2 emissions (metric tons per capita) 2015\": 0.697439744761063, \"Renewable energy consumption (% of total final energy consumption) 2015\": 71.68}, {\"Country Name\": \"Ethiopia\", \"CO2 emissions (kt) 2015\": 12890.0003433228, \"CO2 emissions (metric tons per capita) 2015\": 0.127832026929286, \"Renewable energy consumption (% of total final energy consumption) 2015\": 91.56}, {\"Country Name\": \"Faroe Islands\", \"CO2 emissions (kt) 2015\": null, \"CO2 emissions (metric tons per capita) 2015\": null, \"Renewable energy consumption (% of total final energy consumption) 2015\": 7.47}, {\"Country Name\": \"Fiji\", \"CO2 emissions (kt) 2015\": 1379.99999523163, \"CO2 emissions (metric tons per capita) 2015\": 1.58870499271456, \"Renewable energy consumption (% of total final energy consumption) 2015\": 32.74}, {\"Country Name\": \"Finland\", \"CO2 emissions (kt) 2015\": 42819.9996948242, \"CO2 emissions (metric tons per capita) 2015\": 7.81453735635845, \"Renewable energy consumption (% of total final energy consumption) 2015\": 43.23}, {\"Country Name\": \"France\", \"CO2 emissions (kt) 2015\": 311299.987792969, \"CO2 emissions (metric tons per capita) 2015\": 4.67780722830743, \"Renewable energy consumption (% of total final energy consumption) 2015\": 13.34}, {\"Country Name\": \"French Polynesia\", \"CO2 emissions (kt) 2015\": null, \"CO2 emissions (metric tons per capita) 2015\": null, \"Renewable energy consumption (% of total final energy consumption) 2015\": 7.83}, {\"Country Name\": \"Gabon\", \"CO2 emissions (kt) 2015\": 6119.99988555908, \"CO2 emissions (metric tons per capita) 2015\": 3.14218375899608, \"Renewable energy consumption (% of total final energy consumption) 2015\": 81.95}, {\"Country Name\": \"Gambia, The\", \"CO2 emissions (kt) 2015\": 529.999971389771, \"CO2 emissions (metric tons per capita) 2015\": 0.254091823703303, \"Renewable energy consumption (% of total final energy consumption) 2015\": 48.95}, {\"Country Name\": \"Georgia\", \"CO2 emissions (kt) 2015\": 9199.99980926514, \"CO2 emissions (metric tons per capita) 2015\": 2.46961562291362, \"Renewable energy consumption (% of total final energy consumption) 2015\": 28.15}, {\"Country Name\": \"Germany\", \"CO2 emissions (kt) 2015\": 742309.997558594, \"CO2 emissions (metric tons per capita) 2015\": 9.08729090938286, \"Renewable energy consumption (% of total final energy consumption) 2015\": 14.55}, {\"Country Name\": \"Ghana\", \"CO2 emissions (kt) 2015\": 15779.9997329712, \"CO2 emissions (metric tons per capita) 2015\": 0.566623028061923, \"Renewable energy consumption (% of total final energy consumption) 2015\": 44.02}, {\"Country Name\": \"Gibraltar\", \"CO2 emissions (kt) 2015\": null, \"CO2 emissions (metric tons per capita) 2015\": null, \"Renewable energy consumption (% of total final energy consumption) 2015\": 0.0}, {\"Country Name\": \"Greece\", \"CO2 emissions (kt) 2015\": 68010.0021362305, \"CO2 emissions (metric tons per capita) 2015\": 6.28506953972522, \"Renewable energy consumption (% of total final energy consumption) 2015\": 17.47}, {\"Country Name\": \"Greenland\", \"CO2 emissions (kt) 2015\": null, \"CO2 emissions (metric tons per capita) 2015\": null, \"Renewable energy consumption (% of total final energy consumption) 2015\": 12.72}, {\"Country Name\": \"Grenada\", \"CO2 emissions (kt) 2015\": 270.000010728836, \"CO2 emissions (metric tons per capita) 2015\": 2.46343631769966, \"Renewable energy consumption (% of total final energy consumption) 2015\": 11.07}, {\"Country Name\": \"Guam\", \"CO2 emissions (kt) 2015\": null, \"CO2 emissions (metric tons per capita) 2015\": null, \"Renewable energy consumption (% of total final energy consumption) 2015\": 1.26}, {\"Country Name\": \"Guatemala\", \"CO2 emissions (kt) 2015\": 16340.0001525879, \"CO2 emissions (metric tons per capita) 2015\": 1.04962808238077, \"Renewable energy consumption (% of total final energy consumption) 2015\": 63.4}, {\"Country Name\": \"Guinea\", \"CO2 emissions (kt) 2015\": 2539.99996185303, \"CO2 emissions (metric tons per capita) 2015\": 0.222181475894974, \"Renewable energy consumption (% of total final energy consumption) 2015\": 76.23}, {\"Country Name\": \"Guinea-Bissau\", \"CO2 emissions (kt) 2015\": 280.000001192093, \"CO2 emissions (metric tons per capita) 2015\": 0.161178259811348, \"Renewable energy consumption (% of total final energy consumption) 2015\": 87.15}, {\"Country Name\": \"Guyana\", \"CO2 emissions (kt) 2015\": 2079.99992370605, \"CO2 emissions (metric tons per capita) 2015\": 2.71033422293028, \"Renewable energy consumption (% of total final energy consumption) 2015\": 24.95}, {\"Country Name\": \"Haiti\", \"CO2 emissions (kt) 2015\": 3279.99997138977, \"CO2 emissions (metric tons per capita) 2015\": 0.306669880285593, \"Renewable energy consumption (% of total final energy consumption) 2015\": 76.12}, {\"Country Name\": \"Honduras\", \"CO2 emissions (kt) 2015\": 9930.00030517578, \"CO2 emissions (metric tons per capita) 2015\": 1.08966365772928, \"Renewable energy consumption (% of total final energy consumption) 2015\": 52.68}, {\"Country Name\": \"Hong Kong SAR, China\", \"CO2 emissions (kt) 2015\": null, \"CO2 emissions (metric tons per capita) 2015\": null, \"Renewable energy consumption (% of total final energy consumption) 2015\": 0.2}, {\"Country Name\": \"Hungary\", \"CO2 emissions (kt) 2015\": 43380.0010681152, \"CO2 emissions (metric tons per capita) 2015\": 4.40718050056499, \"Renewable energy consumption (% of total final energy consumption) 2015\": 15.6}, {\"Country Name\": \"Iceland\", \"CO2 emissions (kt) 2015\": 2059.99994277954, \"CO2 emissions (metric tons per capita) 2015\": 6.22704515448072, \"Renewable energy consumption (% of total final energy consumption) 2015\": 77.33}, {\"Country Name\": \"India\", \"CO2 emissions (kt) 2015\": 2158020.01953125, \"CO2 emissions (metric tons per capita) 2015\": 1.64715191355484, \"Renewable energy consumption (% of total final energy consumption) 2015\": 33.4}, {\"Country Name\": \"Indonesia\", \"CO2 emissions (kt) 2015\": 488549.987792969, \"CO2 emissions (metric tons per capita) 2015\": 1.89079584128382, \"Renewable energy consumption (% of total final energy consumption) 2015\": 26.69}, {\"Country Name\": \"Iran, Islamic Rep.\", \"CO2 emissions (kt) 2015\": 599179.992675781, \"CO2 emissions (metric tons per capita) 2015\": 7.63362387099342, \"Renewable energy consumption (% of total final energy consumption) 2015\": 0.91}, {\"Country Name\": \"Iraq\", \"CO2 emissions (kt) 2015\": 133169.998168945, \"CO2 emissions (metric tons per capita) 2015\": 3.74364643899845, \"Renewable energy consumption (% of total final energy consumption) 2015\": 0.82}, {\"Country Name\": \"Ireland\", \"CO2 emissions (kt) 2015\": 37060.001373291, \"CO2 emissions (metric tons per capita) 2015\": 7.88182481747302, \"Renewable energy consumption (% of total final energy consumption) 2015\": 9.2}, {\"Country Name\": \"Isle of Man\", \"CO2 emissions (kt) 2015\": null, \"CO2 emissions (metric tons per capita) 2015\": null, \"Renewable energy consumption (% of total final energy consumption) 2015\": 2.17}, {\"Country Name\": \"Israel\", \"CO2 emissions (kt) 2015\": 66139.9993896484, \"CO2 emissions (metric tons per capita) 2015\": 7.89250717648338, \"Renewable energy consumption (% of total final energy consumption) 2015\": 3.74}, {\"Country Name\": \"Italy\", \"CO2 emissions (kt) 2015\": 337859.985351563, \"CO2 emissions (metric tons per capita) 2015\": 5.56325946870661, \"Renewable energy consumption (% of total final energy consumption) 2015\": 16.57}, {\"Country Name\": \"Jamaica\", \"CO2 emissions (kt) 2015\": 7090.00015258789, \"CO2 emissions (metric tons per capita) 2015\": 2.45241829628114, \"Renewable energy consumption (% of total final energy consumption) 2015\": 12.12}, {\"Country Name\": \"Japan\", \"CO2 emissions (kt) 2015\": 1179439.94140625, \"CO2 emissions (metric tons per capita) 2015\": 9.2766294225014, \"Renewable energy consumption (% of total final energy consumption) 2015\": 6.16}, {\"Country Name\": \"Jordan\", \"CO2 emissions (kt) 2015\": 25309.9994659424, \"CO2 emissions (metric tons per capita) 2015\": 2.73132251436884, \"Renewable energy consumption (% of total final energy consumption) 2015\": 3.19}, {\"Country Name\": \"Kazakhstan\", \"CO2 emissions (kt) 2015\": 190729.995727539, \"CO2 emissions (metric tons per capita) 2015\": 10.8722627228243, \"Renewable energy consumption (% of total final energy consumption) 2015\": 1.72}, {\"Country Name\": \"Kenya\", \"CO2 emissions (kt) 2015\": 17209.9990844727, \"CO2 emissions (metric tons per capita) 2015\": 0.359452717949817, \"Renewable energy consumption (% of total final energy consumption) 2015\": 72.04}, {\"Country Name\": \"Kiribati\", \"CO2 emissions (kt) 2015\": 59.9999986588955, \"CO2 emissions (metric tons per capita) 2015\": 0.540896253021316, \"Renewable energy consumption (% of total final energy consumption) 2015\": 45.73}, {\"Country Name\": \"Korea, Dem. People's Rep.\", \"CO2 emissions (kt) 2015\": 25100.0003814697, \"CO2 emissions (metric tons per capita) 2015\": 0.996671212763399, \"Renewable energy consumption (% of total final energy consumption) 2015\": 23.31}, {\"Country Name\": \"Korea, Rep.\", \"CO2 emissions (kt) 2015\": 607830.017089844, \"CO2 emissions (metric tons per capita) 2015\": 11.9147436748262, \"Renewable energy consumption (% of total final energy consumption) 2015\": 2.74}, {\"Country Name\": \"Kosovo\", \"CO2 emissions (kt) 2015\": null, \"CO2 emissions (metric tons per capita) 2015\": null, \"Renewable energy consumption (% of total final energy consumption) 2015\": 20.37}, {\"Country Name\": \"Kuwait\", \"CO2 emissions (kt) 2015\": 89019.9966430664, \"CO2 emissions (metric tons per capita) 2015\": 23.2089569169229, \"Renewable energy consumption (% of total final energy consumption) 2015\": 0.01}, {\"Country Name\": \"Kyrgyz Republic\", \"CO2 emissions (kt) 2015\": 10270.0004577637, \"CO2 emissions (metric tons per capita) 2015\": 1.72405117725053, \"Renewable energy consumption (% of total final energy consumption) 2015\": 23.3}, {\"Country Name\": \"Lao PDR\", \"CO2 emissions (kt) 2015\": 8880.00011444092, \"CO2 emissions (metric tons per capita) 2015\": 1.31728072237433, \"Renewable energy consumption (% of total final energy consumption) 2015\": 53.27}, {\"Country Name\": \"Latvia\", \"CO2 emissions (kt) 2015\": 7320.00017166138, \"CO2 emissions (metric tons per capita) 2015\": 3.70159303597947, \"Renewable energy consumption (% of total final energy consumption) 2015\": 38.1}, {\"Country Name\": \"Lebanon\", \"CO2 emissions (kt) 2015\": 27010.0002288818, \"CO2 emissions (metric tons per capita) 2015\": 4.13459653530944, \"Renewable energy consumption (% of total final energy consumption) 2015\": 4.17}, {\"Country Name\": \"Lesotho\", \"CO2 emissions (kt) 2015\": 649.999976158142, \"CO2 emissions (metric tons per capita) 2015\": 0.315685528711669, \"Renewable energy consumption (% of total final energy consumption) 2015\": 44.94}, {\"Country Name\": \"Liberia\", \"CO2 emissions (kt) 2015\": 1259.99999046326, \"CO2 emissions (metric tons per capita) 2015\": 0.281738701319467, \"Renewable energy consumption (% of total final energy consumption) 2015\": 83.93}, {\"Country Name\": \"Libya\", \"CO2 emissions (kt) 2015\": 51330.0018310547, \"CO2 emissions (metric tons per capita) 2015\": 7.99742640101876, \"Renewable energy consumption (% of total final energy consumption) 2015\": 3.05}, {\"Country Name\": \"Liechtenstein\", \"CO2 emissions (kt) 2015\": 159.999996423721, \"CO2 emissions (metric tons per capita) 2015\": 4.2706525136453, \"Renewable energy consumption (% of total final energy consumption) 2015\": 55.53}, {\"Country Name\": \"Lithuania\", \"CO2 emissions (kt) 2015\": 11069.9996948242, \"CO2 emissions (metric tons per capita) 2015\": 3.81078921371891, \"Renewable energy consumption (% of total final energy consumption) 2015\": 28.96}, {\"Country Name\": \"Luxembourg\", \"CO2 emissions (kt) 2015\": 9130.00011444092, \"CO2 emissions (metric tons per capita) 2015\": 16.0286797747925, \"Renewable energy consumption (% of total final energy consumption) 2015\": 9.09}, {\"Country Name\": \"Macao SAR, China\", \"CO2 emissions (kt) 2015\": null, \"CO2 emissions (metric tons per capita) 2015\": null, \"Renewable energy consumption (% of total final energy consumption) 2015\": 5.41}, {\"Country Name\": \"Madagascar\", \"CO2 emissions (kt) 2015\": 3279.99997138977, \"CO2 emissions (metric tons per capita) 2015\": 0.135346585114424, \"Renewable energy consumption (% of total final energy consumption) 2015\": 80.55}, {\"Country Name\": \"Malawi\", \"CO2 emissions (kt) 2015\": 930.000007152557, \"CO2 emissions (metric tons per capita) 2015\": 0.055537955692808, \"Renewable energy consumption (% of total final energy consumption) 2015\": 80.87}, {\"Country Name\": \"Malaysia\", \"CO2 emissions (kt) 2015\": 236539.993286133, \"CO2 emissions (metric tons per capita) 2015\": 7.81408829504223, \"Renewable energy consumption (% of total final energy consumption) 2015\": 3.41}, {\"Country Name\": \"Maldives\", \"CO2 emissions (kt) 2015\": 1370.00000476837, \"CO2 emissions (metric tons per capita) 2015\": 3.01155823907018, \"Renewable energy consumption (% of total final energy consumption) 2015\": 1.38}, {\"Country Name\": \"Mali\", \"CO2 emissions (kt) 2015\": 3650.00009536743, \"CO2 emissions (metric tons per capita) 2015\": 0.20930373396518, \"Renewable energy consumption (% of total final energy consumption) 2015\": 79.93}, {\"Country Name\": \"Malta\", \"CO2 emissions (kt) 2015\": 1659.9999666214, \"CO2 emissions (metric tons per capita) 2015\": 3.72989276922389, \"Renewable energy consumption (% of total final energy consumption) 2015\": 5.98}, {\"Country Name\": \"Marshall Islands\", \"CO2 emissions (kt) 2015\": 150.000005960464, \"CO2 emissions (metric tons per capita) 2015\": 2.61123887543458, \"Renewable energy consumption (% of total final energy consumption) 2015\": 11.32}, {\"Country Name\": \"Mauritania\", \"CO2 emissions (kt) 2015\": 3559.99994277954, \"CO2 emissions (metric tons per capita) 2015\": 0.879815244425416, \"Renewable energy consumption (% of total final energy consumption) 2015\": 28.2}, {\"Country Name\": \"Mauritius\", \"CO2 emissions (kt) 2015\": 3960.00003814697, \"CO2 emissions (metric tons per capita) 2015\": 3.13637284673114, \"Renewable energy consumption (% of total final energy consumption) 2015\": 11.49}, {\"Country Name\": \"Mexico\", \"CO2 emissions (kt) 2015\": 471630.004882813, \"CO2 emissions (metric tons per capita) 2015\": 3.87031654411988, \"Renewable energy consumption (% of total final energy consumption) 2015\": 9.19}, {\"Country Name\": \"Micronesia, Fed. Sts.\", \"CO2 emissions (kt) 2015\": 150.000005960464, \"CO2 emissions (metric tons per capita) 2015\": 1.37758762339019, \"Renewable energy consumption (% of total final energy consumption) 2015\": 1.44}, {\"Country Name\": \"Moldova\", \"CO2 emissions (kt) 2015\": 8020.00045776367, \"CO2 emissions (metric tons per capita) 2015\": 2.82939339423596, \"Renewable energy consumption (% of total final energy consumption) 2015\": 24.73}, {\"Country Name\": \"Monaco\", \"CO2 emissions (kt) 2015\": null, \"CO2 emissions (metric tons per capita) 2015\": null, \"Renewable energy consumption (% of total final energy consumption) 2015\": null}, {\"Country Name\": \"Mongolia\", \"CO2 emissions (kt) 2015\": 17299.9992370605, \"CO2 emissions (metric tons per capita) 2015\": 5.76968010859689, \"Renewable energy consumption (% of total final energy consumption) 2015\": 3.55}, {\"Country Name\": \"Montenegro\", \"CO2 emissions (kt) 2015\": 2359.99989509583, \"CO2 emissions (metric tons per capita) 2015\": 3.79324239478305, \"Renewable energy consumption (% of total final energy consumption) 2015\": 42.96}, {\"Country Name\": \"Morocco\", \"CO2 emissions (kt) 2015\": 60409.9998474121, \"CO2 emissions (metric tons per capita) 2015\": 1.74274991361003, \"Renewable energy consumption (% of total final energy consumption) 2015\": 11.25}, {\"Country Name\": \"Mozambique\", \"CO2 emissions (kt) 2015\": 5519.99998092651, \"CO2 emissions (metric tons per capita) 2015\": 0.204126905435974, \"Renewable energy consumption (% of total final energy consumption) 2015\": 80.8}, {\"Country Name\": \"Myanmar\", \"CO2 emissions (kt) 2015\": 19040.0009155273, \"CO2 emissions (metric tons per capita) 2015\": 0.361422536932623, \"Renewable energy consumption (% of total final energy consumption) 2015\": 70.43}, {\"Country Name\": \"Namibia\", \"CO2 emissions (kt) 2015\": 4199.99980926514, \"CO2 emissions (metric tons per capita) 2015\": 1.81433236637988, \"Renewable energy consumption (% of total final energy consumption) 2015\": 28.99}, {\"Country Name\": \"Nauru\", \"CO2 emissions (kt) 2015\": 59.9999986588955, \"CO2 emissions (metric tons per capita) 2015\": 5.78368986494077, \"Renewable energy consumption (% of total final energy consumption) 2015\": 0.1}, {\"Country Name\": \"Nepal\", \"CO2 emissions (kt) 2015\": 7190.00005722046, \"CO2 emissions (metric tons per capita) 2015\": 0.266148113060623, \"Renewable energy consumption (% of total final energy consumption) 2015\": 85.04}, {\"Country Name\": \"Netherlands\", \"CO2 emissions (kt) 2015\": 157410.003662109, \"CO2 emissions (metric tons per capita) 2015\": 9.29225024589008, \"Renewable energy consumption (% of total final energy consumption) 2015\": 5.72}, {\"Country Name\": \"New Caledonia\", \"CO2 emissions (kt) 2015\": null, \"CO2 emissions (metric tons per capita) 2015\": null, \"Renewable energy consumption (% of total final energy consumption) 2015\": 5.09}, {\"Country Name\": \"New Zealand\", \"CO2 emissions (kt) 2015\": 32279.9987792969, \"CO2 emissions (metric tons per capita) 2015\": 7.00308039642836, \"Renewable energy consumption (% of total final energy consumption) 2015\": 31.24}, {\"Country Name\": \"Nicaragua\", \"CO2 emissions (kt) 2015\": 5269.99998092651, \"CO2 emissions (metric tons per capita) 2015\": 0.846826582597812, \"Renewable energy consumption (% of total final energy consumption) 2015\": 50.0}, {\"Country Name\": \"Niger\", \"CO2 emissions (kt) 2015\": 2109.99989509583, \"CO2 emissions (metric tons per capita) 2015\": 0.105491223159586, \"Renewable energy consumption (% of total final energy consumption) 2015\": 78.88}, {\"Country Name\": \"Nigeria\", \"CO2 emissions (kt) 2015\": 107760.00213623, \"CO2 emissions (metric tons per capita) 2015\": 0.594907346639806, \"Renewable energy consumption (% of total final energy consumption) 2015\": 82.15}, {\"Country Name\": \"North Macedonia\", \"CO2 emissions (kt) 2015\": 7409.99984741211, \"CO2 emissions (metric tons per capita) 2015\": 3.57931928562974, \"Renewable energy consumption (% of total final energy consumption) 2015\": 23.91}, {\"Country Name\": \"Northern Mariana Islands\", \"CO2 emissions (kt) 2015\": null, \"CO2 emissions (metric tons per capita) 2015\": null, \"Renewable energy consumption (% of total final energy consumption) 2015\": 0.0}, {\"Country Name\": \"Norway\", \"CO2 emissions (kt) 2015\": 39490.0016784668, \"CO2 emissions (metric tons per capita) 2015\": 7.61090629497798, \"Renewable energy consumption (% of total final energy consumption) 2015\": 58.12}, {\"Country Name\": \"Oman\", \"CO2 emissions (kt) 2015\": 70129.997253418, \"CO2 emissions (metric tons per capita) 2015\": 16.4341207448427, \"Renewable energy consumption (% of total final energy consumption) 2015\": 0.0}, {\"Country Name\": \"Pakistan\", \"CO2 emissions (kt) 2015\": 164130.004882813, \"CO2 emissions (metric tons per capita) 2015\": 0.823008136130992, \"Renewable energy consumption (% of total final energy consumption) 2015\": 45.88}, {\"Country Name\": \"Palau\", \"CO2 emissions (kt) 2015\": 209.999993443489, \"CO2 emissions (metric tons per capita) 2015\": 11.8879135829883, \"Renewable energy consumption (% of total final energy consumption) 2015\": 0.04}, {\"Country Name\": \"Panama\", \"CO2 emissions (kt) 2015\": 10699.9998092651, \"CO2 emissions (metric tons per capita) 2015\": 2.69623957960461, \"Renewable energy consumption (% of total final energy consumption) 2015\": 21.9}, {\"Country Name\": \"Papua New Guinea\", \"CO2 emissions (kt) 2015\": 6510.00022888184, \"CO2 emissions (metric tons per capita) 2015\": 0.802933312491007, \"Renewable energy consumption (% of total final energy consumption) 2015\": 55.15}, {\"Country Name\": \"Paraguay\", \"CO2 emissions (kt) 2015\": 6369.99988555908, \"CO2 emissions (metric tons per capita) 2015\": 0.952345908419767, \"Renewable energy consumption (% of total final energy consumption) 2015\": 60.51}, {\"Country Name\": \"Peru\", \"CO2 emissions (kt) 2015\": 54549.9992370605, \"CO2 emissions (metric tons per capita) 2015\": 1.79024208231578, \"Renewable energy consumption (% of total final energy consumption) 2015\": 27.43}, {\"Country Name\": \"Philippines\", \"CO2 emissions (kt) 2015\": 111010.00213623, \"CO2 emissions (metric tons per capita) 2015\": 1.08712679275029, \"Renewable energy consumption (% of total final energy consumption) 2015\": 30.75}, {\"Country Name\": \"Poland\", \"CO2 emissions (kt) 2015\": 289079.986572266, \"CO2 emissions (metric tons per capita) 2015\": 7.61008927540369, \"Renewable energy consumption (% of total final energy consumption) 2015\": 11.87}, {\"Country Name\": \"Portugal\", \"CO2 emissions (kt) 2015\": 49849.9984741211, \"CO2 emissions (metric tons per capita) 2015\": 4.81266969600543, \"Renewable energy consumption (% of total final energy consumption) 2015\": 27.21}, {\"Country Name\": \"Puerto Rico\", \"CO2 emissions (kt) 2015\": null, \"CO2 emissions (metric tons per capita) 2015\": null, \"Renewable energy consumption (% of total final energy consumption) 2015\": 1.86}, {\"Country Name\": \"Qatar\", \"CO2 emissions (kt) 2015\": 84779.9987792969, \"CO2 emissions (metric tons per capita) 2015\": 33.0435103212435, \"Renewable energy consumption (% of total final energy consumption) 2015\": 0.05}, {\"Country Name\": \"Romania\", \"CO2 emissions (kt) 2015\": 73319.9996948242, \"CO2 emissions (metric tons per capita) 2015\": 3.70011205782471, \"Renewable energy consumption (% of total final energy consumption) 2015\": 23.67}, {\"Country Name\": \"Russian Federation\", \"CO2 emissions (kt) 2015\": 1592560.05859375, \"CO2 emissions (metric tons per capita) 2015\": 11.0520100720699, \"Renewable energy consumption (% of total final energy consumption) 2015\": 3.2}, {\"Country Name\": \"Rwanda\", \"CO2 emissions (kt) 2015\": 980.000019073486, \"CO2 emissions (metric tons per capita) 2015\": 0.0861988151949761, \"Renewable energy consumption (% of total final energy consumption) 2015\": 86.31}, {\"Country Name\": \"Samoa\", \"CO2 emissions (kt) 2015\": 239.999994635582, \"CO2 emissions (metric tons per capita) 2015\": 1.24024595439813, \"Renewable energy consumption (% of total final energy consumption) 2015\": 37.47}, {\"Country Name\": \"San Marino\", \"CO2 emissions (kt) 2015\": null, \"CO2 emissions (metric tons per capita) 2015\": null, \"Renewable energy consumption (% of total final energy consumption) 2015\": null}, {\"Country Name\": \"Saudi Arabia\", \"CO2 emissions (kt) 2015\": 565190.002441406, \"CO2 emissions (metric tons per capita) 2015\": 17.8194014732166, \"Renewable energy consumption (% of total final energy consumption) 2015\": 0.01}, {\"Country Name\": \"Senegal\", \"CO2 emissions (kt) 2015\": 9289.99996185303, \"CO2 emissions (metric tons per capita) 2015\": 0.637241953832748, \"Renewable energy consumption (% of total final energy consumption) 2015\": 39.11}, {\"Country Name\": \"Serbia\", \"CO2 emissions (kt) 2015\": 45389.9993896484, \"CO2 emissions (metric tons per capita) 2015\": 6.39711758895163, \"Renewable energy consumption (% of total final energy consumption) 2015\": 21.24}, {\"Country Name\": \"Seychelles\", \"CO2 emissions (kt) 2015\": 509.999990463257, \"CO2 emissions (metric tons per capita) 2015\": 5.45927477775674, \"Renewable energy consumption (% of total final energy consumption) 2015\": 1.36}, {\"Country Name\": \"Sierra Leone\", \"CO2 emissions (kt) 2015\": 910.000026226044, \"CO2 emissions (metric tons per capita) 2015\": 0.12688393372337, \"Renewable energy consumption (% of total final energy consumption) 2015\": 75.0}, {\"Country Name\": \"Singapore\", \"CO2 emissions (kt) 2015\": 45430.0003051758, \"CO2 emissions (metric tons per capita) 2015\": 8.20776583372071, \"Renewable energy consumption (% of total final energy consumption) 2015\": 0.65}, {\"Country Name\": \"Sint Maarten (Dutch part)\", \"CO2 emissions (kt) 2015\": null, \"CO2 emissions (metric tons per capita) 2015\": null, \"Renewable energy consumption (% of total final energy consumption) 2015\": 0.05}, {\"Country Name\": \"Slovak Republic\", \"CO2 emissions (kt) 2015\": 30750.0, \"CO2 emissions (metric tons per capita) 2015\": 5.6694557930868, \"Renewable energy consumption (% of total final energy consumption) 2015\": 13.41}, {\"Country Name\": \"Slovenia\", \"CO2 emissions (kt) 2015\": 13140.0003433228, \"CO2 emissions (metric tons per capita) 2015\": 6.36772616613116, \"Renewable energy consumption (% of total final energy consumption) 2015\": 21.38}, {\"Country Name\": \"Solomon Islands\", \"CO2 emissions (kt) 2015\": 310.000002384186, \"CO2 emissions (metric tons per capita) 2015\": 0.513982823662751, \"Renewable energy consumption (% of total final energy consumption) 2015\": 48.64}, {\"Country Name\": \"Somalia\", \"CO2 emissions (kt) 2015\": 649.999976158142, \"CO2 emissions (metric tons per capita) 2015\": 0.047110992644462, \"Renewable energy consumption (% of total final energy consumption) 2015\": 94.5}, {\"Country Name\": \"South Africa\", \"CO2 emissions (kt) 2015\": 424809.997558594, \"CO2 emissions (metric tons per capita) 2015\": 7.66993766207339, \"Renewable energy consumption (% of total final energy consumption) 2015\": 10.28}, {\"Country Name\": \"South Sudan\", \"CO2 emissions (kt) 2015\": 1970.00002861023, \"CO2 emissions (metric tons per capita) 2015\": 0.183843139866294, \"Renewable energy consumption (% of total final energy consumption) 2015\": 26.7}, {\"Country Name\": \"Spain\", \"CO2 emissions (kt) 2015\": 256279.998779297, \"CO2 emissions (metric tons per capita) 2015\": 5.51794435986542, \"Renewable energy consumption (% of total final energy consumption) 2015\": 16.33}, {\"Country Name\": \"Sri Lanka\", \"CO2 emissions (kt) 2015\": 20360.0006103516, \"CO2 emissions (metric tons per capita) 2015\": 0.97091085409402, \"Renewable energy consumption (% of total final energy consumption) 2015\": 52.89}, {\"Country Name\": \"St. Kitts and Nevis\", \"CO2 emissions (kt) 2015\": 239.999994635582, \"CO2 emissions (metric tons per capita) 2015\": 4.68713371290489, \"Renewable energy consumption (% of total final energy consumption) 2015\": 1.63}, {\"Country Name\": \"St. Lucia\", \"CO2 emissions (kt) 2015\": 500.0, \"CO2 emissions (metric tons per capita) 2015\": 2.79125332856959, \"Renewable energy consumption (% of total final energy consumption) 2015\": 11.52}, {\"Country Name\": \"St. Martin (French part)\", \"CO2 emissions (kt) 2015\": null, \"CO2 emissions (metric tons per capita) 2015\": null, \"Renewable energy consumption (% of total final energy consumption) 2015\": null}, {\"Country Name\": \"St. Vincent and the Grenadines\", \"CO2 emissions (kt) 2015\": 250.0, \"CO2 emissions (metric tons per capita) 2015\": 2.29074082558299, \"Renewable energy consumption (% of total final energy consumption) 2015\": 4.3}, {\"Country Name\": \"Sudan\", \"CO2 emissions (kt) 2015\": 18709.9990844727, \"CO2 emissions (metric tons per capita) 2015\": 0.480940392601422, \"Renewable energy consumption (% of total final energy consumption) 2015\": 63.02}, {\"Country Name\": \"Suriname\", \"CO2 emissions (kt) 2015\": 2720.00002861023, \"CO2 emissions (metric tons per capita) 2015\": 4.86464836571108, \"Renewable energy consumption (% of total final energy consumption) 2015\": 11.59}, {\"Country Name\": \"Sweden\", \"CO2 emissions (kt) 2015\": 39189.998626709, \"CO2 emissions (metric tons per capita) 2015\": 3.99931163942689, \"Renewable energy consumption (% of total final energy consumption) 2015\": 51.91}, {\"Country Name\": \"Switzerland\", \"CO2 emissions (kt) 2015\": 39090.0001525879, \"CO2 emissions (metric tons per capita) 2015\": 4.7196487770674, \"Renewable energy consumption (% of total final energy consumption) 2015\": 23.94}, {\"Country Name\": \"Syrian Arab Republic\", \"CO2 emissions (kt) 2015\": 25270.0004577637, \"CO2 emissions (metric tons per capita) 2015\": 1.40409086939025, \"Renewable energy consumption (% of total final energy consumption) 2015\": 0.58}, {\"Country Name\": \"Tajikistan\", \"CO2 emissions (kt) 2015\": 4900.00009536743, \"CO2 emissions (metric tons per capita) 2015\": 0.579605995132898, \"Renewable energy consumption (% of total final energy consumption) 2015\": 48.11}, {\"Country Name\": \"Tanzania\", \"CO2 emissions (kt) 2015\": 11689.9995803833, \"CO2 emissions (metric tons per capita) 2015\": 0.22706683329598, \"Renewable energy consumption (% of total final energy consumption) 2015\": 84.62}, {\"Country Name\": \"Thailand\", \"CO2 emissions (kt) 2015\": 264000.0, \"CO2 emissions (metric tons per capita) 2015\": 3.8419827984243, \"Renewable energy consumption (% of total final energy consumption) 2015\": 22.65}, {\"Country Name\": \"Timor-Leste\", \"CO2 emissions (kt) 2015\": 519.999980926514, \"CO2 emissions (metric tons per capita) 2015\": 0.434675741018942, \"Renewable energy consumption (% of total final energy consumption) 2015\": 18.0}, {\"Country Name\": \"Togo\", \"CO2 emissions (kt) 2015\": 1830.00004291534, \"CO2 emissions (metric tons per capita) 2015\": 0.249892060685717, \"Renewable energy consumption (% of total final energy consumption) 2015\": 81.03}, {\"Country Name\": \"Tonga\", \"CO2 emissions (kt) 2015\": 119.999997317791, \"CO2 emissions (metric tons per capita) 2015\": 1.19071241633053, \"Renewable energy consumption (% of total final energy consumption) 2015\": 1.94}, {\"Country Name\": \"Trinidad and Tobago\", \"CO2 emissions (kt) 2015\": 21329.9999237061, \"CO2 emissions (metric tons per capita) 2015\": 15.5655709154468, \"Renewable energy consumption (% of total final energy consumption) 2015\": 0.37}, {\"Country Name\": \"Tunisia\", \"CO2 emissions (kt) 2015\": 30479.9995422363, \"CO2 emissions (metric tons per capita) 2015\": 2.72630886684891, \"Renewable energy consumption (% of total final energy consumption) 2015\": 12.5}, {\"Country Name\": \"Turkmenistan\", \"CO2 emissions (kt) 2015\": 73400.0015258789, \"CO2 emissions (metric tons per capita) 2015\": 13.188907289329, \"Renewable energy consumption (% of total final energy consumption) 2015\": 0.05}, {\"Country Name\": \"Turks and Caicos Islands\", \"CO2 emissions (kt) 2015\": null, \"CO2 emissions (metric tons per capita) 2015\": null, \"Renewable energy consumption (% of total final energy consumption) 2015\": 0.37}, {\"Country Name\": \"Tuvalu\", \"CO2 emissions (kt) 2015\": 9.99999977648258, \"CO2 emissions (metric tons per capita) 2015\": 0.900982050318279, \"Renewable energy consumption (% of total final energy consumption) 2015\": 3.88}, {\"Country Name\": \"Uganda\", \"CO2 emissions (kt) 2015\": 4719.99979019165, \"CO2 emissions (metric tons per capita) 2015\": 0.12347794886981, \"Renewable energy consumption (% of total final energy consumption) 2015\": 91.07}, {\"Country Name\": \"Ukraine\", \"CO2 emissions (kt) 2015\": 191070.007324219, \"CO2 emissions (metric tons per capita) 2015\": 4.23151559085923, \"Renewable energy consumption (% of total final energy consumption) 2015\": 4.15}, {\"Country Name\": \"United Arab Emirates\", \"CO2 emissions (kt) 2015\": 195240.005493164, \"CO2 emissions (metric tons per capita) 2015\": 21.0776419699804, \"Renewable energy consumption (% of total final energy consumption) 2015\": 0.13}, {\"Country Name\": \"United Kingdom\", \"CO2 emissions (kt) 2015\": 401079.986572266, \"CO2 emissions (metric tons per capita) 2015\": 6.15944833302231, \"Renewable energy consumption (% of total final energy consumption) 2015\": 8.61}, {\"Country Name\": \"United States\", \"CO2 emissions (kt) 2015\": 4990709.9609375, \"CO2 emissions (metric tons per capita) 2015\": 15.5600349639355, \"Renewable energy consumption (% of total final energy consumption) 2015\": 9.03}, {\"Country Name\": \"Uruguay\", \"CO2 emissions (kt) 2015\": 6639.9998664856, \"CO2 emissions (metric tons per capita) 2015\": 1.94606523084338, \"Renewable energy consumption (% of total final energy consumption) 2015\": 59.4}, {\"Country Name\": \"Uzbekistan\", \"CO2 emissions (kt) 2015\": 99169.9981689453, \"CO2 emissions (metric tons per capita) 2015\": 3.16848190092768, \"Renewable energy consumption (% of total final energy consumption) 2015\": 1.71}, {\"Country Name\": \"Vanuatu\", \"CO2 emissions (kt) 2015\": 140.000000596046, \"CO2 emissions (metric tons per capita) 2015\": 0.51636127805334, \"Renewable energy consumption (% of total final energy consumption) 2015\": 35.91}, {\"Country Name\": \"Venezuela, RB\", \"CO2 emissions (kt) 2015\": 163130.004882813, \"CO2 emissions (metric tons per capita) 2015\": 5.42287557477187, \"Renewable energy consumption (% of total final energy consumption) 2015\": 15.33}, {\"Country Name\": \"Vietnam\", \"CO2 emissions (kt) 2015\": 220649.993896484, \"CO2 emissions (metric tons per capita) 2015\": 2.3808474450726, \"Renewable energy consumption (% of total final energy consumption) 2015\": 30.33}, {\"Country Name\": \"Virgin Islands (U.S.)\", \"CO2 emissions (kt) 2015\": null, \"CO2 emissions (metric tons per capita) 2015\": null, \"Renewable energy consumption (% of total final energy consumption) 2015\": 4.16}, {\"Country Name\": \"West Bank and Gaza\", \"CO2 emissions (kt) 2015\": null, \"CO2 emissions (metric tons per capita) 2015\": null, \"Renewable energy consumption (% of total final energy consumption) 2015\": 10.99}, {\"Country Name\": \"Yemen, Rep.\", \"CO2 emissions (kt) 2015\": 13550.0001907349, \"CO2 emissions (metric tons per capita) 2015\": 0.511361651549982, \"Renewable energy consumption (% of total final energy consumption) 2015\": 1.96}, {\"Country Name\": \"Zambia\", \"CO2 emissions (kt) 2015\": 4960.00003814697, \"CO2 emissions (metric tons per capita) 2015\": 0.312354963587785, \"Renewable energy consumption (% of total final energy consumption) 2015\": 83.09}, {\"Country Name\": \"Zimbabwe\", \"CO2 emissions (kt) 2015\": 12430.0003051758, \"CO2 emissions (metric tons per capita) 2015\": 0.89976999079497, \"Renewable energy consumption (% of total final energy consumption) 2015\": 80.82}]}}, {\"mode\": \"vega-lite\"});\n",
       "</script>"
      ],
      "text/plain": [
       "alt.LayerChart(...)"
      ]
     },
     "execution_count": 54,
     "metadata": {},
     "output_type": "execute_result"
    }
   ],
   "source": [
    "# lets look at a negative correlation\n",
    "indi_list = ['CO2 emissions (kt)', 'CO2 emissions (metric tons per capita)','Renewable energy consumption (% of total final energy consumption)']\n",
    "new_ind_df= get_ind_df(wdi_df, indi_list, '2015') \n",
    "#print(new_ind_df)\n",
    "\n",
    "chart= alt.Chart(new_ind_df).mark_circle().encode(\n",
    "    x = alt.X('CO2 emissions (metric tons per capita) 2015'),\n",
    "    y = alt.Y('Renewable energy consumption (% of total final energy consumption) 2015',scale=alt.Scale(domain=[0, 100])),\n",
    "    color = alt.Color('Country Name:N', legend=None),\n",
    "    tooltip ='Country Name'\n",
    ").properties(width=600, height=400, title='CO2 emission versus Renewable energy consumption 2015' )\n",
    "\n",
    "#Here is a linear regression fit using ordinary least squares which minimizes distance between data points and the line\n",
    "chart + chart.transform_regression('CO2 emissions (metric tons per capita) 2015', 'Renewable energy consumption (% of total final energy consumption) 2015',\n",
    "extent=[0, 14]).mark_line()"
   ]
  },
  {
   "cell_type": "code",
   "execution_count": 18,
   "metadata": {},
   "outputs": [
    {
     "name": "stdout",
     "output_type": "stream",
     "text": [
      "Last updated: 2023-03-16T16:16:51.343912-04:00\n",
      "\n",
      "Python implementation: CPython\n",
      "Python version       : 3.10.4\n",
      "IPython version      : 8.4.0\n",
      "\n",
      "Compiler    : MSC v.1929 64 bit (AMD64)\n",
      "OS          : Windows\n",
      "Release     : 10\n",
      "Machine     : AMD64\n",
      "Processor   : Intel64 Family 6 Model 140 Stepping 2, GenuineIntel\n",
      "CPU cores   : 8\n",
      "Architecture: 64bit\n",
      "\n",
      "numpy : 1.22.3\n",
      "altair: 4.2.0\n",
      "pandas: 1.4.2\n",
      "\n"
     ]
    }
   ],
   "source": [
    "#Dependencies\n",
    "%load_ext watermark\n",
    "%watermark\n",
    "%watermark --iversions\n"
   ]
  }
 ],
 "metadata": {
  "kernelspec": {
   "display_name": "Python 3.10.4 64-bit",
   "language": "python",
   "name": "python3"
  },
  "language_info": {
   "codemirror_mode": {
    "name": "ipython",
    "version": 3
   },
   "file_extension": ".py",
   "mimetype": "text/x-python",
   "name": "python",
   "nbconvert_exporter": "python",
   "pygments_lexer": "ipython3",
   "version": "3.10.4"
  },
  "orig_nbformat": 4,
  "vscode": {
   "interpreter": {
    "hash": "cfbf783a11fdc9922f3ac3062272c36041cc7b087677fa264d9933912d89c1bb"
   }
  }
 },
 "nbformat": 4,
 "nbformat_minor": 2
}
