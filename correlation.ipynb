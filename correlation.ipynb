{
 "cells": [
  {
   "cell_type": "code",
   "execution_count": null,
   "metadata": {},
   "outputs": [],
   "source": []
  },
  {
   "attachments": {},
   "cell_type": "markdown",
   "metadata": {},
   "source": [
    "# Correlation"
   ]
  },
  {
   "cell_type": "markdown",
   "metadata": {},
   "source": [
    "If someone told me that two variables were statistically related, I would expect that a change in one of the variables would lead to a predictable (positive or negative) change in the other. One way to describe the relatedness of two variables is by calculating the correlation coefficient. There are several types of correlation coefficients. The result is always between -1 and 1. Values closer to 1 or -1 indicate a stronger relationship.\n",
    "\n",
    "The Pearson correlation coefficient is a common measure of linear correlation between two variables. The Pearson correlation coefficient is calculated as the covariance of two variables divided by the product of their standard deviations.The result is always between -1 and 1. Values closer to 1 or -1 indicate a stronger relationship, more variance in y can be explain by x, and values closer to zero indicate a weaker relationship between variables."
   ]
  },
  {
   "cell_type": "code",
   "execution_count": 1,
   "metadata": {},
   "outputs": [],
   "source": [
    "import pandas as pd\n",
    "import numpy as np\n",
    "import altair as alt"
   ]
  },
  {
   "cell_type": "code",
   "execution_count": 43,
   "metadata": {},
   "outputs": [
    {
     "data": {
      "text/plain": [
       "RendererRegistry.enable('jupyterlab')"
      ]
     },
     "execution_count": 43,
     "metadata": {},
     "output_type": "execute_result"
    }
   ],
   "source": [
    "alt.renderers.enable('jupyterlab')"
   ]
  },
  {
   "cell_type": "code",
   "execution_count": 4,
   "metadata": {},
   "outputs": [],
   "source": [
    "#Read WDI data into a pandas dataframe\n",
    "wdi_df = pd.read_csv('WDIData.csv')\n",
    "\n",
    "#There are region names included in the country column and I only want to look at countries\n",
    "#Using the WDICountry.csv to get a list of countries only\n",
    "wdi_country_df = pd.read_csv('WDICountry.csv')\n",
    "#getting list of only countries and not regions\n",
    "country_only = wdi_country_df.dropna(subset=['Region'])\n",
    "country_only = country_only['Table Name']\n",
    "#print(country_only)\n",
    "#filtering out regions\n",
    "wdi_df = wdi_df.loc[wdi_df['Country Name'].isin(country_only)]"
   ]
  },
  {
   "cell_type": "code",
   "execution_count": 6,
   "metadata": {},
   "outputs": [],
   "source": [
    "#make a functon that return a new df from a list of indicatior values and a year as string\n",
    "def get_ind_df(df, indi_list, year):\n",
    "    new_df = df[['Country Name','Indicator Name',year]]\n",
    "    d = {'Country Name': new_df['Country Name'].unique()}\n",
    "    output_df = pd.DataFrame(data=d)\n",
    "    for indi in indi_list:\n",
    "        temp_df = new_df[new_df['Indicator Name']== indi]\n",
    "        temp_df = temp_df.rename(columns={ year : indi +' '+ year})\n",
    "        temp_df = temp_df[['Country Name', indi +' '+ year]]\n",
    "        output_df = output_df.merge(temp_df, how='outer', on='Country Name' )\n",
    "    return output_df\n",
    "\n",
    "\n",
    "#make a functon that return a new log transformed df from a list of indicatior values and a year as string\n",
    "def get_ind_df_transformed(df, indi_list, year):\n",
    "    new_df = df[['Country Name','Indicator Name',year]]\n",
    "    d= {'Country Name': new_df['Country Name'].unique()}\n",
    "    output_df = pd.DataFrame(data=d)\n",
    "    for indi in indi_list:\n",
    "        temp_df = new_df[new_df['Indicator Name']== indi]\n",
    "        temp_df[indi +' '+ year] = np.log(temp_df[year])\n",
    "        #temp_df = temp_df.rename(columns={ year : indi +' '+ year})\n",
    "        temp_df = temp_df[['Country Name', indi +' '+ year]]\n",
    "        output_df = output_df.merge(temp_df, how='outer', on='Country Name' )\n",
    "    return output_df"
   ]
  },
  {
   "cell_type": "markdown",
   "metadata": {},
   "source": [
    "I used the WDI dataset to explore correlation between varriables. I looked at measures of CO2 emissions and other variables that I thought might have some positive or negative relationship with CO2 emissions. I used pandas .corr method to calculate the Pearson correlation coefficient between pairs of variables to evaluate relatedness of the variables. The Pearson Correlation coefficient is a measure of linear correlation between two variables. It is the ratio between the covariance of two variables and the product of their standard deviations (a normalized measurement of the covariance). \n",
    "\n",
    "Let's look at some correlation coefficients by broad indicator category.\n"
   ]
  },
  {
   "cell_type": "code",
   "execution_count": 7,
   "metadata": {},
   "outputs": [
    {
     "name": "stdout",
     "output_type": "stream",
     "text": [
      "['Liechtenstein', 'Monaco', 'Luxembourg', 'Bermuda', 'Isle of Man', 'Switzerland', 'Cayman Islands', 'Macao SAR, China', 'Norway', 'Qatar', 'Ireland', 'United States', 'Australia', 'Singapore', 'Faroe Islands', 'Denmark', 'Iceland', 'Sweden', 'United Kingdom', 'Netherlands', 'Greenland', 'Austria', 'Canada', 'Finland', 'San Marino', 'Hong Kong SAR, China', 'Germany', 'Belgium', 'United Arab Emirates', 'New Zealand']\n"
     ]
    }
   ],
   "source": [
    "#this cell gets a list of the top 30 countries by GPD per capita in 2015\n",
    "#CO2 emissions are highlt correlated with GDP and population so I wanted to campare results using all countries and only countries on this list\n",
    "\n",
    "indi_list = [ 'CO2 emissions (metric tons per capita)','Population, total','GDP (current US$)']\n",
    "source = get_ind_df(wdi_df, indi_list, '2015')\n",
    "source['GDP per capita (current US$) 2015'] = source['GDP (current US$) 2015']/source['Population, total 2015']\n",
    "source = source.nlargest(30, 'GDP per capita (current US$) 2015')\n",
    "high_gdp_per_list = source['Country Name'].tolist()\n",
    "print(high_gdp_per_list)"
   ]
  },
  {
   "cell_type": "code",
   "execution_count": 8,
   "metadata": {},
   "outputs": [
    {
     "data": {
      "text/html": [
       "<div>\n",
       "<style scoped>\n",
       "    .dataframe tbody tr th:only-of-type {\n",
       "        vertical-align: middle;\n",
       "    }\n",
       "\n",
       "    .dataframe tbody tr th {\n",
       "        vertical-align: top;\n",
       "    }\n",
       "\n",
       "    .dataframe thead th {\n",
       "        text-align: right;\n",
       "    }\n",
       "</style>\n",
       "<table border=\"1\" class=\"dataframe\">\n",
       "  <thead>\n",
       "    <tr style=\"text-align: right;\">\n",
       "      <th></th>\n",
       "      <th>CO2 emissions (kt) 2015</th>\n",
       "      <th>CO2 emissions (metric tons per capita) 2015</th>\n",
       "    </tr>\n",
       "  </thead>\n",
       "  <tbody>\n",
       "    <tr>\n",
       "      <th>CO2 emissions (kt) 2015</th>\n",
       "      <td>1.000000</td>\n",
       "      <td>0.177665</td>\n",
       "    </tr>\n",
       "    <tr>\n",
       "      <th>CO2 emissions (metric tons per capita) 2015</th>\n",
       "      <td>0.177665</td>\n",
       "      <td>1.000000</td>\n",
       "    </tr>\n",
       "    <tr>\n",
       "      <th>Energy use (kg of oil equivalent per capita) 2015</th>\n",
       "      <td>0.129602</td>\n",
       "      <td>0.341627</td>\n",
       "    </tr>\n",
       "    <tr>\n",
       "      <th>Renewable electricity output (% of total electricity output) 2015</th>\n",
       "      <td>-0.081838</td>\n",
       "      <td>-0.308210</td>\n",
       "    </tr>\n",
       "    <tr>\n",
       "      <th>Electricity production from nuclear sources (% of total) 2015</th>\n",
       "      <td>0.009745</td>\n",
       "      <td>-0.231230</td>\n",
       "    </tr>\n",
       "    <tr>\n",
       "      <th>Electricity production from coal sources (% of total) 2015</th>\n",
       "      <td>0.273735</td>\n",
       "      <td>0.077639</td>\n",
       "    </tr>\n",
       "    <tr>\n",
       "      <th>Renewable energy consumption (% of total final energy consumption) 2015</th>\n",
       "      <td>-0.130136</td>\n",
       "      <td>-0.534918</td>\n",
       "    </tr>\n",
       "    <tr>\n",
       "      <th>Electricity production from natural gas sources (% of total) 2015</th>\n",
       "      <td>-0.028782</td>\n",
       "      <td>0.435019</td>\n",
       "    </tr>\n",
       "    <tr>\n",
       "      <th>Alternative and nuclear energy (% of total energy use) 2015</th>\n",
       "      <td>-0.120053</td>\n",
       "      <td>-0.356142</td>\n",
       "    </tr>\n",
       "    <tr>\n",
       "      <th>Fossil fuel energy consumption (% of total) 2015</th>\n",
       "      <td>0.228820</td>\n",
       "      <td>0.224303</td>\n",
       "    </tr>\n",
       "  </tbody>\n",
       "</table>\n",
       "</div>"
      ],
      "text/plain": [
       "                                                    CO2 emissions (kt) 2015  \\\n",
       "CO2 emissions (kt) 2015                                            1.000000   \n",
       "CO2 emissions (metric tons per capita) 2015                        0.177665   \n",
       "Energy use (kg of oil equivalent per capita) 2015                  0.129602   \n",
       "Renewable electricity output (% of total electr...                -0.081838   \n",
       "Electricity production from nuclear sources (% ...                 0.009745   \n",
       "Electricity production from coal sources (% of ...                 0.273735   \n",
       "Renewable energy consumption (% of total final ...                -0.130136   \n",
       "Electricity production from natural gas sources...                -0.028782   \n",
       "Alternative and nuclear energy (% of total ener...                -0.120053   \n",
       "Fossil fuel energy consumption (% of total) 2015                   0.228820   \n",
       "\n",
       "                                                    CO2 emissions (metric tons per capita) 2015  \n",
       "CO2 emissions (kt) 2015                                                                0.177665  \n",
       "CO2 emissions (metric tons per capita) 2015                                            1.000000  \n",
       "Energy use (kg of oil equivalent per capita) 2015                                      0.341627  \n",
       "Renewable electricity output (% of total electr...                                    -0.308210  \n",
       "Electricity production from nuclear sources (% ...                                    -0.231230  \n",
       "Electricity production from coal sources (% of ...                                     0.077639  \n",
       "Renewable energy consumption (% of total final ...                                    -0.534918  \n",
       "Electricity production from natural gas sources...                                     0.435019  \n",
       "Alternative and nuclear energy (% of total ener...                                    -0.356142  \n",
       "Fossil fuel energy consumption (% of total) 2015                                       0.224303  "
      ]
     },
     "execution_count": 8,
     "metadata": {},
     "output_type": "execute_result"
    }
   ],
   "source": [
    "#Energy\n",
    "indi_list = ['CO2 emissions (kt)', 'CO2 emissions (metric tons per capita)','Energy use (kg of oil equivalent per capita)',\n",
    "             'Renewable electricity output (% of total electricity output)','Electricity production from nuclear sources (% of total)', \n",
    "             'Electricity production from coal sources (% of total)','Renewable energy consumption (% of total final energy consumption)',\n",
    "              'Electricity production from natural gas sources (% of total)','Alternative and nuclear energy (% of total energy use)',\n",
    "              'Fossil fuel energy consumption (% of total)']\n",
    "              \n",
    "new_ind_df= get_ind_df(wdi_df, indi_list, '2015') #some indicators are only in 2015 like renewable energy and Energy use\n",
    "#new_ind_df = new_ind_df[new_ind_df['Country Name'] != 'China']\n",
    "#new_ind_df = new_ind_df[new_ind_df['Country Name'] != 'United States']\n",
    "#new_ind_df = new_ind_df.loc[new_ind_df['Country Name'].isin(high_gdp_per_list)]\n",
    "#print(new_ind_df.head())\n",
    "\n",
    "#pearson : standard correlation coefficient\n",
    "corr_df = new_ind_df.corr(method='pearson')\n",
    "corr_df = corr_df.iloc[:, 0:2]\n",
    "corr_df"
   ]
  },
  {
   "cell_type": "code",
   "execution_count": 9,
   "metadata": {},
   "outputs": [
    {
     "data": {
      "text/html": [
       "<div>\n",
       "<style scoped>\n",
       "    .dataframe tbody tr th:only-of-type {\n",
       "        vertical-align: middle;\n",
       "    }\n",
       "\n",
       "    .dataframe tbody tr th {\n",
       "        vertical-align: top;\n",
       "    }\n",
       "\n",
       "    .dataframe thead th {\n",
       "        text-align: right;\n",
       "    }\n",
       "</style>\n",
       "<table border=\"1\" class=\"dataframe\">\n",
       "  <thead>\n",
       "    <tr style=\"text-align: right;\">\n",
       "      <th></th>\n",
       "      <th>CO2 emissions (kt) 2015</th>\n",
       "      <th>CO2 emissions (metric tons per capita) 2015</th>\n",
       "    </tr>\n",
       "  </thead>\n",
       "  <tbody>\n",
       "    <tr>\n",
       "      <th>CO2 emissions (kt) 2015</th>\n",
       "      <td>1.000000</td>\n",
       "      <td>0.177665</td>\n",
       "    </tr>\n",
       "    <tr>\n",
       "      <th>CO2 emissions (metric tons per capita) 2015</th>\n",
       "      <td>0.177665</td>\n",
       "      <td>1.000000</td>\n",
       "    </tr>\n",
       "    <tr>\n",
       "      <th>GDP (current US$) 2015</th>\n",
       "      <td>0.830580</td>\n",
       "      <td>0.238310</td>\n",
       "    </tr>\n",
       "    <tr>\n",
       "      <th>Literacy rate, youth female (% of females ages 15-24) 2015</th>\n",
       "      <td>0.307127</td>\n",
       "      <td>0.322519</td>\n",
       "    </tr>\n",
       "    <tr>\n",
       "      <th>Population, total 2015</th>\n",
       "      <td>0.807873</td>\n",
       "      <td>0.012257</td>\n",
       "    </tr>\n",
       "    <tr>\n",
       "      <th>Poverty headcount ratio at $1.90 a day (2011 PPP) (% of population) 2015</th>\n",
       "      <td>-0.083570</td>\n",
       "      <td>-0.414926</td>\n",
       "    </tr>\n",
       "    <tr>\n",
       "      <th>Access to clean fuels and technologies for cooking (% of population) 2015</th>\n",
       "      <td>0.091886</td>\n",
       "      <td>0.576661</td>\n",
       "    </tr>\n",
       "    <tr>\n",
       "      <th>Access to electricity (% of population) 2015</th>\n",
       "      <td>0.120528</td>\n",
       "      <td>0.474128</td>\n",
       "    </tr>\n",
       "    <tr>\n",
       "      <th>Adolescent fertility rate (births per 1,000 women ages 15-19) 2015</th>\n",
       "      <td>-0.151579</td>\n",
       "      <td>-0.513735</td>\n",
       "    </tr>\n",
       "    <tr>\n",
       "      <th>Rural population (% of total population) 2015</th>\n",
       "      <td>-0.082988</td>\n",
       "      <td>-0.578435</td>\n",
       "    </tr>\n",
       "  </tbody>\n",
       "</table>\n",
       "</div>"
      ],
      "text/plain": [
       "                                                    CO2 emissions (kt) 2015  \\\n",
       "CO2 emissions (kt) 2015                                            1.000000   \n",
       "CO2 emissions (metric tons per capita) 2015                        0.177665   \n",
       "GDP (current US$) 2015                                             0.830580   \n",
       "Literacy rate, youth female (% of females ages ...                 0.307127   \n",
       "Population, total 2015                                             0.807873   \n",
       "Poverty headcount ratio at $1.90 a day (2011 PP...                -0.083570   \n",
       "Access to clean fuels and technologies for cook...                 0.091886   \n",
       "Access to electricity (% of population) 2015                       0.120528   \n",
       "Adolescent fertility rate (births per 1,000 wom...                -0.151579   \n",
       "Rural population (% of total population) 2015                     -0.082988   \n",
       "\n",
       "                                                    CO2 emissions (metric tons per capita) 2015  \n",
       "CO2 emissions (kt) 2015                                                                0.177665  \n",
       "CO2 emissions (metric tons per capita) 2015                                            1.000000  \n",
       "GDP (current US$) 2015                                                                 0.238310  \n",
       "Literacy rate, youth female (% of females ages ...                                     0.322519  \n",
       "Population, total 2015                                                                 0.012257  \n",
       "Poverty headcount ratio at $1.90 a day (2011 PP...                                    -0.414926  \n",
       "Access to clean fuels and technologies for cook...                                     0.576661  \n",
       "Access to electricity (% of population) 2015                                           0.474128  \n",
       "Adolescent fertility rate (births per 1,000 wom...                                    -0.513735  \n",
       "Rural population (% of total population) 2015                                         -0.578435  "
      ]
     },
     "execution_count": 9,
     "metadata": {},
     "output_type": "execute_result"
    }
   ],
   "source": [
    "#People and poverty\n",
    "indi_list = ['CO2 emissions (kt)', 'CO2 emissions (metric tons per capita)','GDP (current US$)','Literacy rate, youth female (% of females ages 15-24)',\n",
    "             'Population, total','Poverty headcount ratio at $1.90 a day (2011 PPP) (% of population)','Access to clean fuels and technologies for cooking (% of population)',\n",
    "              'Access to electricity (% of population)','Adolescent fertility rate (births per 1,000 women ages 15-19)', 'Rural population (% of total population)']\n",
    "\n",
    "new_ind_df= get_ind_df(wdi_df, indi_list, '2015') \n",
    "#new_ind_df = new_ind_df[new_ind_df['Country Name'] != 'China']\n",
    "#new_ind_df = new_ind_df[new_ind_df['Country Name'] != 'United States']\n",
    "#new_ind_df = new_ind_df.loc[new_ind_df['Country Name'].isin(high_gdp_per_list)]\n",
    "#print(new_ind_df.head())\n",
    "\n",
    "#pearson : standard correlation coefficient\n",
    "corr_df = new_ind_df.corr(method='pearson')\n",
    "corr_df = corr_df.iloc[:, 0:2]\n",
    "corr_df"
   ]
  },
  {
   "cell_type": "code",
   "execution_count": 10,
   "metadata": {},
   "outputs": [
    {
     "data": {
      "text/html": [
       "<div>\n",
       "<style scoped>\n",
       "    .dataframe tbody tr th:only-of-type {\n",
       "        vertical-align: middle;\n",
       "    }\n",
       "\n",
       "    .dataframe tbody tr th {\n",
       "        vertical-align: top;\n",
       "    }\n",
       "\n",
       "    .dataframe thead th {\n",
       "        text-align: right;\n",
       "    }\n",
       "</style>\n",
       "<table border=\"1\" class=\"dataframe\">\n",
       "  <thead>\n",
       "    <tr style=\"text-align: right;\">\n",
       "      <th></th>\n",
       "      <th>CO2 emissions (kt) 2015</th>\n",
       "      <th>CO2 emissions (metric tons per capita) 2015</th>\n",
       "    </tr>\n",
       "  </thead>\n",
       "  <tbody>\n",
       "    <tr>\n",
       "      <th>CO2 emissions (kt) 2015</th>\n",
       "      <td>1.000000</td>\n",
       "      <td>0.177665</td>\n",
       "    </tr>\n",
       "    <tr>\n",
       "      <th>CO2 emissions (metric tons per capita) 2015</th>\n",
       "      <td>0.177665</td>\n",
       "      <td>1.000000</td>\n",
       "    </tr>\n",
       "    <tr>\n",
       "      <th>Air transport, passengers carried 2015</th>\n",
       "      <td>0.801659</td>\n",
       "      <td>0.256895</td>\n",
       "    </tr>\n",
       "    <tr>\n",
       "      <th>Air transport, freight (million ton-km) 2015</th>\n",
       "      <td>0.712531</td>\n",
       "      <td>0.398806</td>\n",
       "    </tr>\n",
       "    <tr>\n",
       "      <th>Rail lines (total route-km) 2015</th>\n",
       "      <td>0.699387</td>\n",
       "      <td>0.444400</td>\n",
       "    </tr>\n",
       "    <tr>\n",
       "      <th>Container port traffic (TEU: 20 foot equivalent units) 2015</th>\n",
       "      <td>0.929195</td>\n",
       "      <td>0.167767</td>\n",
       "    </tr>\n",
       "    <tr>\n",
       "      <th>Agriculture, forestry, and fishing, value added (% of GDP) 2015</th>\n",
       "      <td>-0.092977</td>\n",
       "      <td>-0.533735</td>\n",
       "    </tr>\n",
       "    <tr>\n",
       "      <th>CO2 emissions from liquid fuel consumption (kt) 2015</th>\n",
       "      <td>0.851435</td>\n",
       "      <td>0.251855</td>\n",
       "    </tr>\n",
       "  </tbody>\n",
       "</table>\n",
       "</div>"
      ],
      "text/plain": [
       "                                                    CO2 emissions (kt) 2015  \\\n",
       "CO2 emissions (kt) 2015                                            1.000000   \n",
       "CO2 emissions (metric tons per capita) 2015                        0.177665   \n",
       "Air transport, passengers carried 2015                             0.801659   \n",
       "Air transport, freight (million ton-km) 2015                       0.712531   \n",
       "Rail lines (total route-km) 2015                                   0.699387   \n",
       "Container port traffic (TEU: 20 foot equivalent...                 0.929195   \n",
       "Agriculture, forestry, and fishing, value added...                -0.092977   \n",
       "CO2 emissions from liquid fuel consumption (kt)...                 0.851435   \n",
       "\n",
       "                                                    CO2 emissions (metric tons per capita) 2015  \n",
       "CO2 emissions (kt) 2015                                                                0.177665  \n",
       "CO2 emissions (metric tons per capita) 2015                                            1.000000  \n",
       "Air transport, passengers carried 2015                                                 0.256895  \n",
       "Air transport, freight (million ton-km) 2015                                           0.398806  \n",
       "Rail lines (total route-km) 2015                                                       0.444400  \n",
       "Container port traffic (TEU: 20 foot equivalent...                                     0.167767  \n",
       "Agriculture, forestry, and fishing, value added...                                    -0.533735  \n",
       "CO2 emissions from liquid fuel consumption (kt)...                                     0.251855  "
      ]
     },
     "execution_count": 10,
     "metadata": {},
     "output_type": "execute_result"
    }
   ],
   "source": [
    "#industry and transportation\n",
    "indi_list = ['CO2 emissions (kt)', 'CO2 emissions (metric tons per capita)', 'Air transport, passengers carried',\n",
    "            'Air transport, freight (million ton-km)', 'Rail lines (total route-km)', 'Container port traffic (TEU: 20 foot equivalent units)',\n",
    "            'Agriculture, forestry, and fishing, value added (% of GDP)','CO2 emissions from liquid fuel consumption (kt)']\n",
    "\n",
    "new_ind_df= get_ind_df(wdi_df, indi_list, '2015') \n",
    "#new_ind_df = new_ind_df.loc[new_ind_df['Country Name'].isin(high_gdp_per_list)]\n",
    "#print(new_ind_df.head())\n",
    "\n",
    "#pearson : standard correlation coefficient\n",
    "corr_df = new_ind_df.corr(method='pearson')\n",
    "corr_df = corr_df.iloc[:, 0:2]\n",
    "corr_df"
   ]
  },
  {
   "cell_type": "code",
   "execution_count": 11,
   "metadata": {},
   "outputs": [
    {
     "data": {
      "text/html": [
       "<div>\n",
       "<style scoped>\n",
       "    .dataframe tbody tr th:only-of-type {\n",
       "        vertical-align: middle;\n",
       "    }\n",
       "\n",
       "    .dataframe tbody tr th {\n",
       "        vertical-align: top;\n",
       "    }\n",
       "\n",
       "    .dataframe thead th {\n",
       "        text-align: right;\n",
       "    }\n",
       "</style>\n",
       "<table border=\"1\" class=\"dataframe\">\n",
       "  <thead>\n",
       "    <tr style=\"text-align: right;\">\n",
       "      <th></th>\n",
       "      <th>CO2 emissions (kt) 2018</th>\n",
       "      <th>CO2 emissions (metric tons per capita) 2018</th>\n",
       "    </tr>\n",
       "  </thead>\n",
       "  <tbody>\n",
       "    <tr>\n",
       "      <th>CO2 emissions (kt) 2018</th>\n",
       "      <td>1.000000</td>\n",
       "      <td>0.178414</td>\n",
       "    </tr>\n",
       "    <tr>\n",
       "      <th>CO2 emissions (metric tons per capita) 2018</th>\n",
       "      <td>0.178414</td>\n",
       "      <td>1.000000</td>\n",
       "    </tr>\n",
       "    <tr>\n",
       "      <th>Agricultural land (% of land area) 2018</th>\n",
       "      <td>0.063343</td>\n",
       "      <td>-0.269157</td>\n",
       "    </tr>\n",
       "    <tr>\n",
       "      <th>Forest area (% of land area) 2018</th>\n",
       "      <td>-0.027379</td>\n",
       "      <td>-0.081702</td>\n",
       "    </tr>\n",
       "    <tr>\n",
       "      <th>Terrestrial protected areas (% of total land area) 2018</th>\n",
       "      <td>-0.027242</td>\n",
       "      <td>0.094676</td>\n",
       "    </tr>\n",
       "    <tr>\n",
       "      <th>Total natural resources rents (% of GDP) 2018</th>\n",
       "      <td>-0.037031</td>\n",
       "      <td>0.191733</td>\n",
       "    </tr>\n",
       "    <tr>\n",
       "      <th>Fertilizer consumption (kilograms per hectare of arable land) 2018</th>\n",
       "      <td>0.054129</td>\n",
       "      <td>0.369904</td>\n",
       "    </tr>\n",
       "    <tr>\n",
       "      <th>Bird species, threatened 2018</th>\n",
       "      <td>0.367078</td>\n",
       "      <td>-0.053020</td>\n",
       "    </tr>\n",
       "    <tr>\n",
       "      <th>Mammal species, threatened 2018</th>\n",
       "      <td>0.298406</td>\n",
       "      <td>-0.113635</td>\n",
       "    </tr>\n",
       "    <tr>\n",
       "      <th>Fish species, threatened 2018</th>\n",
       "      <td>0.447912</td>\n",
       "      <td>-0.022348</td>\n",
       "    </tr>\n",
       "  </tbody>\n",
       "</table>\n",
       "</div>"
      ],
      "text/plain": [
       "                                                    CO2 emissions (kt) 2018  \\\n",
       "CO2 emissions (kt) 2018                                            1.000000   \n",
       "CO2 emissions (metric tons per capita) 2018                        0.178414   \n",
       "Agricultural land (% of land area) 2018                            0.063343   \n",
       "Forest area (% of land area) 2018                                 -0.027379   \n",
       "Terrestrial protected areas (% of total land ar...                -0.027242   \n",
       "Total natural resources rents (% of GDP) 2018                     -0.037031   \n",
       "Fertilizer consumption (kilograms per hectare o...                 0.054129   \n",
       "Bird species, threatened 2018                                      0.367078   \n",
       "Mammal species, threatened 2018                                    0.298406   \n",
       "Fish species, threatened 2018                                      0.447912   \n",
       "\n",
       "                                                    CO2 emissions (metric tons per capita) 2018  \n",
       "CO2 emissions (kt) 2018                                                                0.178414  \n",
       "CO2 emissions (metric tons per capita) 2018                                            1.000000  \n",
       "Agricultural land (% of land area) 2018                                               -0.269157  \n",
       "Forest area (% of land area) 2018                                                     -0.081702  \n",
       "Terrestrial protected areas (% of total land ar...                                     0.094676  \n",
       "Total natural resources rents (% of GDP) 2018                                          0.191733  \n",
       "Fertilizer consumption (kilograms per hectare o...                                     0.369904  \n",
       "Bird species, threatened 2018                                                         -0.053020  \n",
       "Mammal species, threatened 2018                                                       -0.113635  \n",
       "Fish species, threatened 2018                                                         -0.022348  "
      ]
     },
     "execution_count": 11,
     "metadata": {},
     "output_type": "execute_result"
    }
   ],
   "source": [
    "#land use and wildlife\n",
    "indi_list = ['CO2 emissions (kt)', 'CO2 emissions (metric tons per capita)','Agricultural land (% of land area)',\n",
    "              'Forest area (% of land area)','Terrestrial protected areas (% of total land area)',\n",
    "              'Total natural resources rents (% of GDP)','Fertilizer consumption (kilograms per hectare of arable land)',\n",
    "              'Bird species, threatened', 'Mammal species, threatened', 'Fish species, threatened']\n",
    "\n",
    "new_ind_df= get_ind_df(wdi_df, indi_list, '2018') #some indicators are only in 2018 like threatened species\n",
    "#new_ind_df = new_ind_df.loc[new_ind_df['Country Name'].isin(high_gdp_per_list)]\n",
    "#print(new_ind_df.head())\n",
    "\n",
    "#pearson : standard correlation coefficient\n",
    "corr_df = new_ind_df.corr(method='pearson')\n",
    "corr_df = corr_df.iloc[:, 0:2]\n",
    "corr_df"
   ]
  },
  {
   "cell_type": "markdown",
   "metadata": {},
   "source": [
    " Looks like total CO2 emissions are highly corelated with population and GDP. \n",
    "\n",
    "There are not many variables in the list that are highly corelated with CO2 per capita. Some correlated variables include Renewable energy consumption (% of total final energy consumption) 2015, Rural population (% of total population) 2015, and Agriculture, forestry, and fishing, value added (% of GDP) 2015."
   ]
  },
  {
   "cell_type": "code",
   "execution_count": 12,
   "metadata": {},
   "outputs": [
    {
     "name": "stdout",
     "output_type": "stream",
     "text": [
      "[[1.         0.81642052]\n",
      " [0.81642052 1.        ]]\n"
     ]
    }
   ],
   "source": [
    "#looking at another way to calculate correlation coefficient \n",
    "#these x and y values are from Anscombe's quartet\n",
    "x=[10, 8, 13, 9, 11, 14, 6, 4, 12, 7, 5]\n",
    "y=[8.04, 6.95, 7.58, 8.81, 8.33, 9.96, 7.24, 4.26, 10.84, 4.82, 5.68]\n",
    "\n",
    "one = np.array([x,y])\n",
    "#print(one)\n",
    "\n",
    "#print(np.cov(one))\n",
    "#print(np.std(x))\n",
    "#print(np.std(y))\n",
    "#print(5.501/(np.std(x)*np.std(y)))\n",
    "print(np.corrcoef(one)) #This returns the correlation coefficient matrix of the variables. Correlation coefficients between x and y are on the off diagonal.\n"
   ]
  },
  {
   "cell_type": "code",
   "execution_count": 13,
   "metadata": {},
   "outputs": [],
   "source": [
    "#kendall : Kendall Tau correlation coefficient\n",
    "corr_df_k = new_ind_df.corr(method='kendall')\n",
    "corr_df_k = corr_df_k.iloc[:, 0:1]\n",
    "#corr_df_k"
   ]
  },
  {
   "cell_type": "markdown",
   "metadata": {},
   "source": [
    "Kendall Tau correlation coefficient is a measure of rank correlation or the similarity of the orderings of the data when ranked. "
   ]
  },
  {
   "cell_type": "code",
   "execution_count": 14,
   "metadata": {},
   "outputs": [],
   "source": [
    "# spearman : Spearman rank correlation\n",
    "corr_df_s = new_ind_df.corr(method='spearman')\n",
    "corr_df_s = corr_df_s.iloc[:, 0:1]\n",
    "#corr_df_s"
   ]
  },
  {
   "cell_type": "markdown",
   "metadata": {},
   "source": [
    "Spearman rank correlation assesses how well the relationship between two ranks can be described using a monotonic function. A monotonic function is a function between ordered sets that preserves or reverses the given order."
   ]
  },
  {
   "cell_type": "code",
   "execution_count": 44,
   "metadata": {},
   "outputs": [
    {
     "data": {
      "application/vnd.vegalite.v4+json": {
       "$schema": "https://vega.github.io/schema/vega-lite/v4.17.0.json",
       "config": {
        "view": {
         "continuousHeight": 300,
         "continuousWidth": 400
        }
       },
       "data": {
        "name": "data-9d1429f9a4a4b8ee965647389a18d14c"
       },
       "datasets": {
        "data-9d1429f9a4a4b8ee965647389a18d14c": [
         {
          "CO2 emissions (kt) 2015": 5949.99980926514,
          "CO2 emissions (metric tons per capita) 2015": 0.172896741130684,
          "Country Name": "Afghanistan",
          "GDP (current US$) 2015": 19134211763.859
         },
         {
          "CO2 emissions (kt) 2015": 4619.99988555908,
          "CO2 emissions (metric tons per capita) 2015": 1.60377514987108,
          "Country Name": "Albania",
          "GDP (current US$) 2015": 11386850129.8411
         },
         {
          "CO2 emissions (kt) 2015": 156270.004272461,
          "CO2 emissions (metric tons per capita) 2015": 3.93349591226698,
          "Country Name": "Algeria",
          "GDP (current US$) 2015": 165979279263.174
         },
         {
          "CO2 emissions (kt) 2015": null,
          "CO2 emissions (metric tons per capita) 2015": null,
          "Country Name": "American Samoa",
          "GDP (current US$) 2015": 673000000
         },
         {
          "CO2 emissions (kt) 2015": 469.999998807907,
          "CO2 emissions (metric tons per capita) 2015": 6.02618182154689,
          "Country Name": "Andorra",
          "GDP (current US$) 2015": 2789881258.50362
         },
         {
          "CO2 emissions (kt) 2015": 31649.9996185303,
          "CO2 emissions (metric tons per capita) 2015": 1.13504405041569,
          "Country Name": "Angola",
          "GDP (current US$) 2015": 87219290028.7263
         },
         {
          "CO2 emissions (kt) 2015": 490.000009536743,
          "CO2 emissions (metric tons per capita) 2015": 5.23666530802004,
          "Country Name": "Antigua and Barbuda",
          "GDP (current US$) 2015": 1336692592.59259
         },
         {
          "CO2 emissions (kt) 2015": 185550.003051758,
          "CO2 emissions (metric tons per capita) 2015": 4.30191387639872,
          "Country Name": "Argentina",
          "GDP (current US$) 2015": 594749285413.212
         },
         {
          "CO2 emissions (kt) 2015": 5340.00015258789,
          "CO2 emissions (metric tons per capita) 2015": 1.82529224417894,
          "Country Name": "Armenia",
          "GDP (current US$) 2015": 10553337672.9872
         },
         {
          "CO2 emissions (kt) 2015": null,
          "CO2 emissions (metric tons per capita) 2015": null,
          "Country Name": "Aruba",
          "GDP (current US$) 2015": 2963128491.62011
         },
         {
          "CO2 emissions (kt) 2015": 377799.987792969,
          "CO2 emissions (metric tons per capita) 2015": 15.863288004258,
          "Country Name": "Australia",
          "GDP (current US$) 2015": 1350534154255.76
         },
         {
          "CO2 emissions (kt) 2015": 63240.0016784668,
          "CO2 emissions (metric tons per capita) 2015": 7.31715887345687,
          "Country Name": "Austria",
          "GDP (current US$) 2015": 381971148530.543
         },
         {
          "CO2 emissions (kt) 2015": 31770.0004577637,
          "CO2 emissions (metric tons per capita) 2015": 3.29245286882946,
          "Country Name": "Azerbaijan",
          "GDP (current US$) 2015": 53074370486.0433
         },
         {
          "CO2 emissions (kt) 2015": 2210.00003814697,
          "CO2 emissions (metric tons per capita) 2015": 5.90593275827624,
          "Country Name": "Bahamas, The",
          "GDP (current US$) 2015": 11861900000
         },
         {
          "CO2 emissions (kt) 2015": 30579.9999237061,
          "CO2 emissions (metric tons per capita) 2015": 22.2910180053592,
          "Country Name": "Bahrain",
          "GDP (current US$) 2015": 31050638297.8723
         },
         {
          "CO2 emissions (kt) 2015": 72190.0024414063,
          "CO2 emissions (metric tons per capita) 2015": 0.461997426326957,
          "Country Name": "Bangladesh",
          "GDP (current US$) 2015": 195078678697.23
         },
         {
          "CO2 emissions (kt) 2015": 1269.99998092651,
          "CO2 emissions (metric tons per capita) 2015": 4.45103330889299,
          "Country Name": "Barbados",
          "GDP (current US$) 2015": 4724691212.50593
         },
         {
          "CO2 emissions (kt) 2015": 54819.9996948242,
          "CO2 emissions (metric tons per capita) 2015": 5.79426692004421,
          "Country Name": "Belarus",
          "GDP (current US$) 2015": 56454734396.5842
         },
         {
          "CO2 emissions (kt) 2015": 95129.997253418,
          "CO2 emissions (metric tons per capita) 2015": 8.43785199879601,
          "Country Name": "Belgium",
          "GDP (current US$) 2015": 462335574841.484
         },
         {
          "CO2 emissions (kt) 2015": 680.000007152557,
          "CO2 emissions (metric tons per capita) 2015": 1.88404273217379,
          "Country Name": "Belize",
          "GDP (current US$) 2015": 1734320479.1395
         },
         {
          "CO2 emissions (kt) 2015": 5510.00022888184,
          "CO2 emissions (metric tons per capita) 2015": 0.520992816434272,
          "Country Name": "Benin",
          "GDP (current US$) 2015": 11388160958.249
         },
         {
          "CO2 emissions (kt) 2015": null,
          "CO2 emissions (metric tons per capita) 2015": null,
          "Country Name": "Bermuda",
          "GDP (current US$) 2015": 6654541000
         },
         {
          "CO2 emissions (kt) 2015": 769.999980926514,
          "CO2 emissions (metric tons per capita) 2015": 1.05785938840135,
          "Country Name": "Bhutan",
          "GDP (current US$) 2015": 2003598212.99135
         },
         {
          "CO2 emissions (kt) 2015": 20760.0002288818,
          "CO2 emissions (metric tons per capita) 2015": 1.90989071569398,
          "Country Name": "Bolivia",
          "GDP (current US$) 2015": 33000198248.9146
         },
         {
          "CO2 emissions (kt) 2015": 19620.0008392334,
          "CO2 emissions (metric tons per capita) 2015": 5.72118103578257,
          "Country Name": "Bosnia and Herzegovina",
          "GDP (current US$) 2015": 16219819343.5214
         },
         {
          "CO2 emissions (kt) 2015": 6949.99980926514,
          "CO2 emissions (metric tons per capita) 2015": 3.27719497059726,
          "Country Name": "Botswana",
          "GDP (current US$) 2015": 13578754072.4652
         },
         {
          "CO2 emissions (kt) 2015": 485339.996337891,
          "CO2 emissions (metric tons per capita) 2015": 2.37362850846258,
          "Country Name": "Brazil",
          "GDP (current US$) 2015": 1802211999538.68
         },
         {
          "CO2 emissions (kt) 2015": null,
          "CO2 emissions (metric tons per capita) 2015": null,
          "Country Name": "British Virgin Islands",
          "GDP (current US$) 2015": null
         },
         {
          "CO2 emissions (kt) 2015": 6400.00009536743,
          "CO2 emissions (metric tons per capita) 2015": 15.4248834586623,
          "Country Name": "Brunei Darussalam",
          "GDP (current US$) 2015": 12930394937.8137
         },
         {
          "CO2 emissions (kt) 2015": 44560.001373291,
          "CO2 emissions (metric tons per capita) 2015": 6.20786531681232,
          "Country Name": "Bulgaria",
          "GDP (current US$) 2015": 50781996712.7635
         },
         {
          "CO2 emissions (kt) 2015": 3700.00004768372,
          "CO2 emissions (metric tons per capita) 2015": 0.204300066197843,
          "Country Name": "Burkina Faso",
          "GDP (current US$) 2015": 11832159275.603
         },
         {
          "CO2 emissions (kt) 2015": 400.000005960464,
          "CO2 emissions (metric tons per capita) 2015": 0.0393699475769928,
          "Country Name": "Burundi",
          "GDP (current US$) 2015": 3104003611.42957
         },
         {
          "CO2 emissions (kt) 2015": 500,
          "CO2 emissions (metric tons per capita) 2015": 0.952852841407173,
          "Country Name": "Cabo Verde",
          "GDP (current US$) 2015": 1596800287.16405
         },
         {
          "CO2 emissions (kt) 2015": 8430.00030517578,
          "CO2 emissions (metric tons per capita) 2015": 0.543119905161847,
          "Country Name": "Cambodia",
          "GDP (current US$) 2015": 18049954289.4229
         },
         {
          "CO2 emissions (kt) 2015": 8460.00003814697,
          "CO2 emissions (metric tons per capita) 2015": 0.363115439382855,
          "Country Name": "Cameroon",
          "GDP (current US$) 2015": 32210232911.6626
         },
         {
          "CO2 emissions (kt) 2015": 558700.012207031,
          "CO2 emissions (metric tons per capita) 2015": 15.6485856056048,
          "Country Name": "Canada",
          "GDP (current US$) 2015": 1556508816217.14
         },
         {
          "CO2 emissions (kt) 2015": null,
          "CO2 emissions (metric tons per capita) 2015": null,
          "Country Name": "Cayman Islands",
          "GDP (current US$) 2015": 4708336756.08849
         },
         {
          "CO2 emissions (kt) 2015": 189.999997615814,
          "CO2 emissions (metric tons per capita) 2015": 0.042286393644002,
          "Country Name": "Central African Republic",
          "GDP (current US$) 2015": 1695825708.45604
         },
         {
          "CO2 emissions (kt) 2015": 2390.00010490417,
          "CO2 emissions (metric tons per capita) 2015": 0.169371767889266,
          "Country Name": "Chad",
          "GDP (current US$) 2015": 10950392219.9104
         },
         {
          "CO2 emissions (kt) 2015": null,
          "CO2 emissions (metric tons per capita) 2015": null,
          "Country Name": "Channel Islands",
          "GDP (current US$) 2015": null
         },
         {
          "CO2 emissions (kt) 2015": 82230.0033569336,
          "CO2 emissions (metric tons per capita) 2015": 4.57612411690957,
          "Country Name": "Chile",
          "GDP (current US$) 2015": 242496649874.236
         },
         {
          "CO2 emissions (kt) 2015": 9861099.609375,
          "CO2 emissions (metric tons per capita) 2015": 7.14644935672822,
          "Country Name": "China",
          "GDP (current US$) 2015": 11061553079871.5
         },
         {
          "CO2 emissions (kt) 2015": 80230.0033569336,
          "CO2 emissions (metric tons per capita) 2015": 1.6883181239214,
          "Country Name": "Colombia",
          "GDP (current US$) 2015": 293481748240.778
         },
         {
          "CO2 emissions (kt) 2015": 189.999997615814,
          "CO2 emissions (metric tons per capita) 2015": 0.244393418891372,
          "Country Name": "Comoros",
          "GDP (current US$) 2015": 966029542.038859
         },
         {
          "CO2 emissions (kt) 2015": 3230.00001907349,
          "CO2 emissions (metric tons per capita) 2015": 0.0423636939508461,
          "Country Name": "Congo, Dem. Rep.",
          "GDP (current US$) 2015": 37917704900.0794
         },
         {
          "CO2 emissions (kt) 2015": 5659.99984741211,
          "CO2 emissions (metric tons per capita) 2015": 1.1655460155751,
          "Country Name": "Congo, Rep.",
          "GDP (current US$) 2015": 11890259176.6829
         },
         {
          "CO2 emissions (kt) 2015": 7539.99996185303,
          "CO2 emissions (metric tons per capita) 2015": 1.55534308039474,
          "Country Name": "Costa Rica",
          "GDP (current US$) 2015": 56441917652.9812
         },
         {
          "CO2 emissions (kt) 2015": 16600.0003814697,
          "CO2 emissions (metric tons per capita) 2015": 3.94899243160624,
          "Country Name": "Croatia",
          "GDP (current US$) 2015": 50163192883.1515
         },
         {
          "CO2 emissions (kt) 2015": 29209.9990844727,
          "CO2 emissions (metric tons per capita) 2015": 2.57930015615077,
          "Country Name": "Cuba",
          "GDP (current US$) 2015": 87133000000
         },
         {
          "CO2 emissions (kt) 2015": 6849.99990463257,
          "CO2 emissions (metric tons per capita) 2015": 5.90015211594322,
          "Country Name": "Cyprus",
          "GDP (current US$) 2015": 19842404304.8929
         },
         {
          "CO2 emissions (kt) 2015": 99139.9993896484,
          "CO2 emissions (metric tons per capita) 2015": 9.4006680021085,
          "Country Name": "Czech Republic",
          "GDP (current US$) 2015": 188033050459.881
         },
         {
          "CO2 emissions (kt) 2015": 33700.0007629395,
          "CO2 emissions (metric tons per capita) 2015": 5.92946275425465,
          "Country Name": "Denmark",
          "GDP (current US$) 2015": 302673070846.857
         },
         {
          "CO2 emissions (kt) 2015": 460.00000834465,
          "CO2 emissions (metric tons per capita) 2015": 0.50328338611753,
          "Country Name": "Djibouti",
          "GDP (current US$) 2015": 2424391785.43897
         },
         {
          "CO2 emissions (kt) 2015": 180.000007152557,
          "CO2 emissions (metric tons per capita) 2015": 2.52897797193617,
          "Country Name": "Dominica",
          "GDP (current US$) 2015": 540737037.037037
         },
         {
          "CO2 emissions (kt) 2015": 23590.0001525879,
          "CO2 emissions (metric tons per capita) 2015": 2.29437325655478,
          "Country Name": "Dominican Republic",
          "GDP (current US$) 2015": 71164825256.6849
         },
         {
          "CO2 emissions (kt) 2015": 41520.0004577637,
          "CO2 emissions (metric tons per capita) 2015": 2.56106242995252,
          "Country Name": "Ecuador",
          "GDP (current US$) 2015": 99290381000
         },
         {
          "CO2 emissions (kt) 2015": 226279.998779297,
          "CO2 emissions (metric tons per capita) 2015": 2.44779055994331,
          "Country Name": "Egypt, Arab Rep.",
          "GDP (current US$) 2015": 329366576819.407
         },
         {
          "CO2 emissions (kt) 2015": 7000,
          "CO2 emissions (metric tons per capita) 2015": 1.10669819597127,
          "Country Name": "El Salvador",
          "GDP (current US$) 2015": 23438240000
         },
         {
          "CO2 emissions (kt) 2015": 6570.00017166138,
          "CO2 emissions (metric tons per capita) 2015": 5.62223235278983,
          "Country Name": "Equatorial Guinea",
          "GDP (current US$) 2015": 13185496836.4124
         },
         {
          "CO2 emissions (kt) 2015": 649.999976158142,
          "CO2 emissions (metric tons per capita) 2015": 0.194446714166952,
          "Country Name": "Eritrea",
          "GDP (current US$) 2015": null
         },
         {
          "CO2 emissions (kt) 2015": 15539.999961853,
          "CO2 emissions (metric tons per capita) 2015": 11.8138340162801,
          "Country Name": "Estonia",
          "GDP (current US$) 2015": 22890762090.1508
         },
         {
          "CO2 emissions (kt) 2015": 769.999980926514,
          "CO2 emissions (metric tons per capita) 2015": 0.697439744761063,
          "Country Name": "Eswatini",
          "GDP (current US$) 2015": 4063245671.29285
         },
         {
          "CO2 emissions (kt) 2015": 12890.0003433228,
          "CO2 emissions (metric tons per capita) 2015": 0.127832026929286,
          "Country Name": "Ethiopia",
          "GDP (current US$) 2015": 64589334978.8013
         },
         {
          "CO2 emissions (kt) 2015": null,
          "CO2 emissions (metric tons per capita) 2015": null,
          "Country Name": "Faroe Islands",
          "GDP (current US$) 2015": 2561824640.6754
         },
         {
          "CO2 emissions (kt) 2015": 1379.99999523163,
          "CO2 emissions (metric tons per capita) 2015": 1.58870499271456,
          "Country Name": "Fiji",
          "GDP (current US$) 2015": 4682546863.08162
         },
         {
          "CO2 emissions (kt) 2015": 42819.9996948242,
          "CO2 emissions (metric tons per capita) 2015": 7.81453735635845,
          "Country Name": "Finland",
          "GDP (current US$) 2015": 234534382384.766
         },
         {
          "CO2 emissions (kt) 2015": 311299.987792969,
          "CO2 emissions (metric tons per capita) 2015": 4.67780722830743,
          "Country Name": "France",
          "GDP (current US$) 2015": 2439188643162.5
         },
         {
          "CO2 emissions (kt) 2015": null,
          "CO2 emissions (metric tons per capita) 2015": null,
          "Country Name": "French Polynesia",
          "GDP (current US$) 2015": 5325848045.4324
         },
         {
          "CO2 emissions (kt) 2015": 6119.99988555908,
          "CO2 emissions (metric tons per capita) 2015": 3.14218375899608,
          "Country Name": "Gabon",
          "GDP (current US$) 2015": 14383107714.0388
         },
         {
          "CO2 emissions (kt) 2015": 529.999971389771,
          "CO2 emissions (metric tons per capita) 2015": 0.254091823703303,
          "Country Name": "Gambia, The",
          "GDP (current US$) 2015": 1378176868.31568
         },
         {
          "CO2 emissions (kt) 2015": 9199.99980926514,
          "CO2 emissions (metric tons per capita) 2015": 2.46961562291362,
          "Country Name": "Georgia",
          "GDP (current US$) 2015": 14953950557.4406
         },
         {
          "CO2 emissions (kt) 2015": 742309.997558594,
          "CO2 emissions (metric tons per capita) 2015": 9.08729090938286,
          "Country Name": "Germany",
          "GDP (current US$) 2015": 3357585719351.56
         },
         {
          "CO2 emissions (kt) 2015": 15779.9997329712,
          "CO2 emissions (metric tons per capita) 2015": 0.566623028061923,
          "Country Name": "Ghana",
          "GDP (current US$) 2015": 49406568432.6711
         },
         {
          "CO2 emissions (kt) 2015": null,
          "CO2 emissions (metric tons per capita) 2015": null,
          "Country Name": "Gibraltar",
          "GDP (current US$) 2015": null
         },
         {
          "CO2 emissions (kt) 2015": 68010.0021362305,
          "CO2 emissions (metric tons per capita) 2015": 6.28506953972522,
          "Country Name": "Greece",
          "GDP (current US$) 2015": 195683527003.375
         },
         {
          "CO2 emissions (kt) 2015": null,
          "CO2 emissions (metric tons per capita) 2015": null,
          "Country Name": "Greenland",
          "GDP (current US$) 2015": 2499115623.00272
         },
         {
          "CO2 emissions (kt) 2015": 270.000010728836,
          "CO2 emissions (metric tons per capita) 2015": 2.46343631769966,
          "Country Name": "Grenada",
          "GDP (current US$) 2015": 997007925.925926
         },
         {
          "CO2 emissions (kt) 2015": null,
          "CO2 emissions (metric tons per capita) 2015": null,
          "Country Name": "Guam",
          "GDP (current US$) 2015": 5799000000
         },
         {
          "CO2 emissions (kt) 2015": 16340.0001525879,
          "CO2 emissions (metric tons per capita) 2015": 1.04962808238077,
          "Country Name": "Guatemala",
          "GDP (current US$) 2015": 62186186575.7433
         },
         {
          "CO2 emissions (kt) 2015": 2539.99996185303,
          "CO2 emissions (metric tons per capita) 2015": 0.222181475894974,
          "Country Name": "Guinea",
          "GDP (current US$) 2015": 8794202443.67366
         },
         {
          "CO2 emissions (kt) 2015": 280.000001192093,
          "CO2 emissions (metric tons per capita) 2015": 0.161178259811348,
          "Country Name": "Guinea-Bissau",
          "GDP (current US$) 2015": 1048229629.42039
         },
         {
          "CO2 emissions (kt) 2015": 2079.99992370605,
          "CO2 emissions (metric tons per capita) 2015": 2.71033422293028,
          "Country Name": "Guyana",
          "GDP (current US$) 2015": 4279840193.7046
         },
         {
          "CO2 emissions (kt) 2015": 3279.99997138977,
          "CO2 emissions (metric tons per capita) 2015": 0.306669880285593,
          "Country Name": "Haiti",
          "GDP (current US$) 2015": 14833154471.7456
         },
         {
          "CO2 emissions (kt) 2015": 9930.00030517578,
          "CO2 emissions (metric tons per capita) 2015": 1.08966365772928,
          "Country Name": "Honduras",
          "GDP (current US$) 2015": 20979767785.2104
         },
         {
          "CO2 emissions (kt) 2015": null,
          "CO2 emissions (metric tons per capita) 2015": null,
          "Country Name": "Hong Kong SAR, China",
          "GDP (current US$) 2015": 309383627028.561
         },
         {
          "CO2 emissions (kt) 2015": 43380.0010681152,
          "CO2 emissions (metric tons per capita) 2015": 4.40718050056499,
          "Country Name": "Hungary",
          "GDP (current US$) 2015": 125210324613.14
         },
         {
          "CO2 emissions (kt) 2015": 2059.99994277954,
          "CO2 emissions (metric tons per capita) 2015": 6.22704515448072,
          "Country Name": "Iceland",
          "GDP (current US$) 2015": 17517210519.0912
         },
         {
          "CO2 emissions (kt) 2015": 2158020.01953125,
          "CO2 emissions (metric tons per capita) 2015": 1.64715191355484,
          "Country Name": "India",
          "GDP (current US$) 2015": 2103587813812.75
         },
         {
          "CO2 emissions (kt) 2015": 488549.987792969,
          "CO2 emissions (metric tons per capita) 2015": 1.89079584128382,
          "Country Name": "Indonesia",
          "GDP (current US$) 2015": 860854235065.079
         },
         {
          "CO2 emissions (kt) 2015": 599179.992675781,
          "CO2 emissions (metric tons per capita) 2015": 7.63362387099342,
          "Country Name": "Iran, Islamic Rep.",
          "GDP (current US$) 2015": 408212918053.939
         },
         {
          "CO2 emissions (kt) 2015": 133169.998168945,
          "CO2 emissions (metric tons per capita) 2015": 3.74364643899845,
          "Country Name": "Iraq",
          "GDP (current US$) 2015": 166774109673.732
         },
         {
          "CO2 emissions (kt) 2015": 37060.001373291,
          "CO2 emissions (metric tons per capita) 2015": 7.88182481747302,
          "Country Name": "Ireland",
          "GDP (current US$) 2015": 291580037584.33
         },
         {
          "CO2 emissions (kt) 2015": null,
          "CO2 emissions (metric tons per capita) 2015": null,
          "Country Name": "Isle of Man",
          "GDP (current US$) 2015": 7085288006.11154
         },
         {
          "CO2 emissions (kt) 2015": 66139.9993896484,
          "CO2 emissions (metric tons per capita) 2015": 7.89250717648338,
          "Country Name": "Israel",
          "GDP (current US$) 2015": 300078278118.434
         },
         {
          "CO2 emissions (kt) 2015": 337859.985351563,
          "CO2 emissions (metric tons per capita) 2015": 5.56325946870661,
          "Country Name": "Italy",
          "GDP (current US$) 2015": 1836637711060.55
         },
         {
          "CO2 emissions (kt) 2015": 7090.00015258789,
          "CO2 emissions (metric tons per capita) 2015": 2.45241829628114,
          "Country Name": "Jamaica",
          "GDP (current US$) 2015": 14188935947.5694
         },
         {
          "CO2 emissions (kt) 2015": 1179439.94140625,
          "CO2 emissions (metric tons per capita) 2015": 9.2766294225014,
          "Country Name": "Japan",
          "GDP (current US$) 2015": 4444930651964.18
         },
         {
          "CO2 emissions (kt) 2015": 25309.9994659424,
          "CO2 emissions (metric tons per capita) 2015": 2.73132251436884,
          "Country Name": "Jordan",
          "GDP (current US$) 2015": 38587017887.3239
         },
         {
          "CO2 emissions (kt) 2015": 190729.995727539,
          "CO2 emissions (metric tons per capita) 2015": 10.8722627228243,
          "Country Name": "Kazakhstan",
          "GDP (current US$) 2015": 184388432148.715
         },
         {
          "CO2 emissions (kt) 2015": 17209.9990844727,
          "CO2 emissions (metric tons per capita) 2015": 0.359452717949817,
          "Country Name": "Kenya",
          "GDP (current US$) 2015": 70120413328.7838
         },
         {
          "CO2 emissions (kt) 2015": 59.9999986588955,
          "CO2 emissions (metric tons per capita) 2015": 0.540896253021316,
          "Country Name": "Kiribati",
          "GDP (current US$) 2015": 170291001.98321
         },
         {
          "CO2 emissions (kt) 2015": 25100.0003814697,
          "CO2 emissions (metric tons per capita) 2015": 0.996671212763399,
          "Country Name": "Korea, Dem. People's Rep.",
          "GDP (current US$) 2015": null
         },
         {
          "CO2 emissions (kt) 2015": 607830.017089844,
          "CO2 emissions (metric tons per capita) 2015": 11.9147436748262,
          "Country Name": "Korea, Rep.",
          "GDP (current US$) 2015": 1465773245547.15
         },
         {
          "CO2 emissions (kt) 2015": null,
          "CO2 emissions (metric tons per capita) 2015": null,
          "Country Name": "Kosovo",
          "GDP (current US$) 2015": 6295820481.52668
         },
         {
          "CO2 emissions (kt) 2015": 89019.9966430664,
          "CO2 emissions (metric tons per capita) 2015": 23.2089569169229,
          "Country Name": "Kuwait",
          "GDP (current US$) 2015": 114567298105.683
         },
         {
          "CO2 emissions (kt) 2015": 10270.0004577637,
          "CO2 emissions (metric tons per capita) 2015": 1.72405117725053,
          "Country Name": "Kyrgyz Republic",
          "GDP (current US$) 2015": 6678178340.45121
         },
         {
          "CO2 emissions (kt) 2015": 8880.00011444092,
          "CO2 emissions (metric tons per capita) 2015": 1.31728072237433,
          "Country Name": "Lao PDR",
          "GDP (current US$) 2015": 14426381187.0894
         },
         {
          "CO2 emissions (kt) 2015": 7320.00017166138,
          "CO2 emissions (metric tons per capita) 2015": 3.70159303597947,
          "Country Name": "Latvia",
          "GDP (current US$) 2015": 27263090547.0617
         },
         {
          "CO2 emissions (kt) 2015": 27010.0002288818,
          "CO2 emissions (metric tons per capita) 2015": 4.13459653530944,
          "Country Name": "Lebanon",
          "GDP (current US$) 2015": 49929337837.0813
         },
         {
          "CO2 emissions (kt) 2015": 649.999976158142,
          "CO2 emissions (metric tons per capita) 2015": 0.315685528711669,
          "Country Name": "Lesotho",
          "GDP (current US$) 2015": 2359759799.04224
         },
         {
          "CO2 emissions (kt) 2015": 1259.99999046326,
          "CO2 emissions (metric tons per capita) 2015": 0.281738701319467,
          "Country Name": "Liberia",
          "GDP (current US$) 2015": 3227075700
         },
         {
          "CO2 emissions (kt) 2015": 51330.0018310547,
          "CO2 emissions (metric tons per capita) 2015": 7.99742640101876,
          "Country Name": "Libya",
          "GDP (current US$) 2015": 48717854039.9653
         },
         {
          "CO2 emissions (kt) 2015": 159.999996423721,
          "CO2 emissions (metric tons per capita) 2015": 4.2706525136453,
          "Country Name": "Liechtenstein",
          "GDP (current US$) 2015": 6268391521.19701
         },
         {
          "CO2 emissions (kt) 2015": 11069.9996948242,
          "CO2 emissions (metric tons per capita) 2015": 3.81078921371891,
          "Country Name": "Lithuania",
          "GDP (current US$) 2015": 41435533340.3883
         },
         {
          "CO2 emissions (kt) 2015": 9130.00011444092,
          "CO2 emissions (metric tons per capita) 2015": 16.0286797747925,
          "Country Name": "Luxembourg",
          "GDP (current US$) 2015": 60071584216.1375
         },
         {
          "CO2 emissions (kt) 2015": null,
          "CO2 emissions (metric tons per capita) 2015": null,
          "Country Name": "Macao SAR, China",
          "GDP (current US$) 2015": 45047964934.2517
         },
         {
          "CO2 emissions (kt) 2015": 3279.99997138977,
          "CO2 emissions (metric tons per capita) 2015": 0.135346585114424,
          "Country Name": "Madagascar",
          "GDP (current US$) 2015": 11323020828.5758
         },
         {
          "CO2 emissions (kt) 2015": 930.000007152557,
          "CO2 emissions (metric tons per capita) 2015": 0.055537955692808,
          "Country Name": "Malawi",
          "GDP (current US$) 2015": 6373212640.84604
         },
         {
          "CO2 emissions (kt) 2015": 236539.993286133,
          "CO2 emissions (metric tons per capita) 2015": 7.81408829504223,
          "Country Name": "Malaysia",
          "GDP (current US$) 2015": 301354803994.367
         },
         {
          "CO2 emissions (kt) 2015": 1370.00000476837,
          "CO2 emissions (metric tons per capita) 2015": 3.01155823907018,
          "Country Name": "Maldives",
          "GDP (current US$) 2015": 4109424799.72407
         },
         {
          "CO2 emissions (kt) 2015": 3650.00009536743,
          "CO2 emissions (metric tons per capita) 2015": 0.20930373396518,
          "Country Name": "Mali",
          "GDP (current US$) 2015": 13104764378.7114
         },
         {
          "CO2 emissions (kt) 2015": 1659.9999666214,
          "CO2 emissions (metric tons per capita) 2015": 3.72989276922389,
          "Country Name": "Malta",
          "GDP (current US$) 2015": 11091434483.5238
         },
         {
          "CO2 emissions (kt) 2015": 150.000005960464,
          "CO2 emissions (metric tons per capita) 2015": 2.61123887543458,
          "Country Name": "Marshall Islands",
          "GDP (current US$) 2015": 183814300
         },
         {
          "CO2 emissions (kt) 2015": 3559.99994277954,
          "CO2 emissions (metric tons per capita) 2015": 0.879815244425416,
          "Country Name": "Mauritania",
          "GDP (current US$) 2015": 6166863960.00061
         },
         {
          "CO2 emissions (kt) 2015": 3960.00003814697,
          "CO2 emissions (metric tons per capita) 2015": 3.13637284673114,
          "Country Name": "Mauritius",
          "GDP (current US$) 2015": 11692287066.381
         },
         {
          "CO2 emissions (kt) 2015": 471630.004882813,
          "CO2 emissions (metric tons per capita) 2015": 3.87031654411988,
          "Country Name": "Mexico",
          "GDP (current US$) 2015": 1171867608197.72
         },
         {
          "CO2 emissions (kt) 2015": 150.000005960464,
          "CO2 emissions (metric tons per capita) 2015": 1.37758762339019,
          "Country Name": "Micronesia, Fed. Sts.",
          "GDP (current US$) 2015": 316489900
         },
         {
          "CO2 emissions (kt) 2015": 8020.00045776367,
          "CO2 emissions (metric tons per capita) 2015": 2.82939339423596,
          "Country Name": "Moldova",
          "GDP (current US$) 2015": 7745241912.94722
         },
         {
          "CO2 emissions (kt) 2015": null,
          "CO2 emissions (metric tons per capita) 2015": null,
          "Country Name": "Monaco",
          "GDP (current US$) 2015": 6261622101.40908
         },
         {
          "CO2 emissions (kt) 2015": 17299.9992370605,
          "CO2 emissions (metric tons per capita) 2015": 5.76968010859689,
          "Country Name": "Mongolia",
          "GDP (current US$) 2015": 11619892396.0767
         },
         {
          "CO2 emissions (kt) 2015": 2359.99989509583,
          "CO2 emissions (metric tons per capita) 2015": 3.79324239478305,
          "Country Name": "Montenegro",
          "GDP (current US$) 2015": 4054728172.94375
         },
         {
          "CO2 emissions (kt) 2015": 60409.9998474121,
          "CO2 emissions (metric tons per capita) 2015": 1.74274991361003,
          "Country Name": "Morocco",
          "GDP (current US$) 2015": 101179808076.36
         },
         {
          "CO2 emissions (kt) 2015": 5519.99998092651,
          "CO2 emissions (metric tons per capita) 2015": 0.204126905435974,
          "Country Name": "Mozambique",
          "GDP (current US$) 2015": 15950979333.1582
         },
         {
          "CO2 emissions (kt) 2015": 19040.0009155273,
          "CO2 emissions (metric tons per capita) 2015": 0.361422536932623,
          "Country Name": "Myanmar",
          "GDP (current US$) 2015": 63045305229.1046
         },
         {
          "CO2 emissions (kt) 2015": 4199.99980926514,
          "CO2 emissions (metric tons per capita) 2015": 1.81433236637988,
          "Country Name": "Namibia",
          "GDP (current US$) 2015": 11335179562.0211
         },
         {
          "CO2 emissions (kt) 2015": 59.9999986588955,
          "CO2 emissions (metric tons per capita) 2015": 5.78368986494077,
          "Country Name": "Nauru",
          "GDP (current US$) 2015": 86529661.3694983
         },
         {
          "CO2 emissions (kt) 2015": 7190.00005722046,
          "CO2 emissions (metric tons per capita) 2015": 0.266148113060623,
          "Country Name": "Nepal",
          "GDP (current US$) 2015": 24360795410.6422
         },
         {
          "CO2 emissions (kt) 2015": 157410.003662109,
          "CO2 emissions (metric tons per capita) 2015": 9.29225024589008,
          "Country Name": "Netherlands",
          "GDP (current US$) 2015": 765572770634.375
         },
         {
          "CO2 emissions (kt) 2015": null,
          "CO2 emissions (metric tons per capita) 2015": null,
          "Country Name": "New Caledonia",
          "GDP (current US$) 2015": 8738205836.7394
         },
         {
          "CO2 emissions (kt) 2015": 32279.9987792969,
          "CO2 emissions (metric tons per capita) 2015": 7.00308039642836,
          "Country Name": "New Zealand",
          "GDP (current US$) 2015": 178064471137.921
         },
         {
          "CO2 emissions (kt) 2015": 5269.99998092651,
          "CO2 emissions (metric tons per capita) 2015": 0.846826582597812,
          "Country Name": "Nicaragua",
          "GDP (current US$) 2015": 12756706583.3113
         },
         {
          "CO2 emissions (kt) 2015": 2109.99989509583,
          "CO2 emissions (metric tons per capita) 2015": 0.105491223159586,
          "Country Name": "Niger",
          "GDP (current US$) 2015": 9683867893.68343
         },
         {
          "CO2 emissions (kt) 2015": 107760.00213623,
          "CO2 emissions (metric tons per capita) 2015": 0.594907346639806,
          "Country Name": "Nigeria",
          "GDP (current US$) 2015": 486803295097.89
         },
         {
          "CO2 emissions (kt) 2015": 7409.99984741211,
          "CO2 emissions (metric tons per capita) 2015": 3.57931928562974,
          "Country Name": "North Macedonia",
          "GDP (current US$) 2015": 10064515432.0265
         },
         {
          "CO2 emissions (kt) 2015": null,
          "CO2 emissions (metric tons per capita) 2015": null,
          "Country Name": "Northern Mariana Islands",
          "GDP (current US$) 2015": 910000000
         },
         {
          "CO2 emissions (kt) 2015": 39490.0016784668,
          "CO2 emissions (metric tons per capita) 2015": 7.61090629497798,
          "Country Name": "Norway",
          "GDP (current US$) 2015": 385801550067.169
         },
         {
          "CO2 emissions (kt) 2015": 70129.997253418,
          "CO2 emissions (metric tons per capita) 2015": 16.4341207448427,
          "Country Name": "Oman",
          "GDP (current US$) 2015": 78710793237.9714
         },
         {
          "CO2 emissions (kt) 2015": 164130.004882813,
          "CO2 emissions (metric tons per capita) 2015": 0.823008136130992,
          "Country Name": "Pakistan",
          "GDP (current US$) 2015": 270556131701.171
         },
         {
          "CO2 emissions (kt) 2015": 209.999993443489,
          "CO2 emissions (metric tons per capita) 2015": 11.8879135829883,
          "Country Name": "Palau",
          "GDP (current US$) 2015": 280457700
         },
         {
          "CO2 emissions (kt) 2015": 10699.9998092651,
          "CO2 emissions (metric tons per capita) 2015": 2.69623957960461,
          "Country Name": "Panama",
          "GDP (current US$) 2015": 54091713800
         },
         {
          "CO2 emissions (kt) 2015": 6510.00022888184,
          "CO2 emissions (metric tons per capita) 2015": 0.802933312491007,
          "Country Name": "Papua New Guinea",
          "GDP (current US$) 2015": 21723531173.2409
         },
         {
          "CO2 emissions (kt) 2015": 6369.99988555908,
          "CO2 emissions (metric tons per capita) 2015": 0.952345908419767,
          "Country Name": "Paraguay",
          "GDP (current US$) 2015": 36211372702.8085
         },
         {
          "CO2 emissions (kt) 2015": 54549.9992370605,
          "CO2 emissions (metric tons per capita) 2015": 1.79024208231578,
          "Country Name": "Peru",
          "GDP (current US$) 2015": 189805300841.603
         },
         {
          "CO2 emissions (kt) 2015": 111010.00213623,
          "CO2 emissions (metric tons per capita) 2015": 1.08712679275029,
          "Country Name": "Philippines",
          "GDP (current US$) 2015": 306446140628.709
         },
         {
          "CO2 emissions (kt) 2015": 289079.986572266,
          "CO2 emissions (metric tons per capita) 2015": 7.61008927540369,
          "Country Name": "Poland",
          "GDP (current US$) 2015": 477811911394.084
         },
         {
          "CO2 emissions (kt) 2015": 49849.9984741211,
          "CO2 emissions (metric tons per capita) 2015": 4.81266969600543,
          "Country Name": "Portugal",
          "GDP (current US$) 2015": 199394066525.44
         },
         {
          "CO2 emissions (kt) 2015": null,
          "CO2 emissions (metric tons per capita) 2015": null,
          "Country Name": "Puerto Rico",
          "GDP (current US$) 2015": 103375500000
         },
         {
          "CO2 emissions (kt) 2015": 84779.9987792969,
          "CO2 emissions (metric tons per capita) 2015": 33.0435103212435,
          "Country Name": "Qatar",
          "GDP (current US$) 2015": 161739955577.748
         },
         {
          "CO2 emissions (kt) 2015": 73319.9996948242,
          "CO2 emissions (metric tons per capita) 2015": 3.70011205782471,
          "Country Name": "Romania",
          "GDP (current US$) 2015": 177729210874.504
         },
         {
          "CO2 emissions (kt) 2015": 1592560.05859375,
          "CO2 emissions (metric tons per capita) 2015": 11.0520100720699,
          "Country Name": "Russian Federation",
          "GDP (current US$) 2015": 1363481063446.77
         },
         {
          "CO2 emissions (kt) 2015": 980.000019073486,
          "CO2 emissions (metric tons per capita) 2015": 0.0861988151949761,
          "Country Name": "Rwanda",
          "GDP (current US$) 2015": 8539424910.07969
         },
         {
          "CO2 emissions (kt) 2015": 239.999994635582,
          "CO2 emissions (metric tons per capita) 2015": 1.24024595439813,
          "Country Name": "Samoa",
          "GDP (current US$) 2015": 788307314.850856
         },
         {
          "CO2 emissions (kt) 2015": null,
          "CO2 emissions (metric tons per capita) 2015": null,
          "Country Name": "San Marino",
          "GDP (current US$) 2015": 1419394763.11994
         },
         {
          "CO2 emissions (kt) 2015": 565190.002441406,
          "CO2 emissions (metric tons per capita) 2015": 17.8194014732166,
          "Country Name": "Saudi Arabia",
          "GDP (current US$) 2015": 654269739552.019
         },
         {
          "CO2 emissions (kt) 2015": 9289.99996185303,
          "CO2 emissions (metric tons per capita) 2015": 0.637241953832748,
          "Country Name": "Senegal",
          "GDP (current US$) 2015": 17774766636.0459
         },
         {
          "CO2 emissions (kt) 2015": 45389.9993896484,
          "CO2 emissions (metric tons per capita) 2015": 6.39711758895163,
          "Country Name": "Serbia",
          "GDP (current US$) 2015": 39655958842.5478
         },
         {
          "CO2 emissions (kt) 2015": 509.999990463257,
          "CO2 emissions (metric tons per capita) 2015": 5.45927477775674,
          "Country Name": "Seychelles",
          "GDP (current US$) 2015": 1415998663.05391
         },
         {
          "CO2 emissions (kt) 2015": 910.000026226044,
          "CO2 emissions (metric tons per capita) 2015": 0.12688393372337,
          "Country Name": "Sierra Leone",
          "GDP (current US$) 2015": 4218723875.1379
         },
         {
          "CO2 emissions (kt) 2015": 45430.0003051758,
          "CO2 emissions (metric tons per capita) 2015": 8.20776583372071,
          "Country Name": "Singapore",
          "GDP (current US$) 2015": 308004146057.608
         },
         {
          "CO2 emissions (kt) 2015": null,
          "CO2 emissions (metric tons per capita) 2015": null,
          "Country Name": "Sint Maarten (Dutch part)",
          "GDP (current US$) 2015": 1253072625.69832
         },
         {
          "CO2 emissions (kt) 2015": 30750,
          "CO2 emissions (metric tons per capita) 2015": 5.6694557930868,
          "Country Name": "Slovak Republic",
          "GDP (current US$) 2015": 88636928904.6449
         },
         {
          "CO2 emissions (kt) 2015": 13140.0003433228,
          "CO2 emissions (metric tons per capita) 2015": 6.36772616613116,
          "Country Name": "Slovenia",
          "GDP (current US$) 2015": 43107506024.3254
         },
         {
          "CO2 emissions (kt) 2015": 310.000002384186,
          "CO2 emissions (metric tons per capita) 2015": 0.513982823662751,
          "Country Name": "Solomon Islands",
          "GDP (current US$) 2015": 1307082934.28683
         },
         {
          "CO2 emissions (kt) 2015": 649.999976158142,
          "CO2 emissions (metric tons per capita) 2015": 0.047110992644462,
          "Country Name": "Somalia",
          "GDP (current US$) 2015": 5331761394.25487
         },
         {
          "CO2 emissions (kt) 2015": 424809.997558594,
          "CO2 emissions (metric tons per capita) 2015": 7.66993766207339,
          "Country Name": "South Africa",
          "GDP (current US$) 2015": 346709790458.563
         },
         {
          "CO2 emissions (kt) 2015": 1970.00002861023,
          "CO2 emissions (metric tons per capita) 2015": 0.183843139866294,
          "Country Name": "South Sudan",
          "GDP (current US$) 2015": 11997800760.2242
         },
         {
          "CO2 emissions (kt) 2015": 256279.998779297,
          "CO2 emissions (metric tons per capita) 2015": 5.51794435986542,
          "Country Name": "Spain",
          "GDP (current US$) 2015": 1195599995808.59
         },
         {
          "CO2 emissions (kt) 2015": 20360.0006103516,
          "CO2 emissions (metric tons per capita) 2015": 0.97091085409402,
          "Country Name": "Sri Lanka",
          "GDP (current US$) 2015": 80604080688.5775
         },
         {
          "CO2 emissions (kt) 2015": 239.999994635582,
          "CO2 emissions (metric tons per capita) 2015": 4.68713371290489,
          "Country Name": "St. Kitts and Nevis",
          "GDP (current US$) 2015": 958407222.222222
         },
         {
          "CO2 emissions (kt) 2015": 500,
          "CO2 emissions (metric tons per capita) 2015": 2.79125332856959,
          "Country Name": "St. Lucia",
          "GDP (current US$) 2015": 1808079888.88889
         },
         {
          "CO2 emissions (kt) 2015": null,
          "CO2 emissions (metric tons per capita) 2015": null,
          "Country Name": "St. Martin (French part)",
          "GDP (current US$) 2015": null
         },
         {
          "CO2 emissions (kt) 2015": 250,
          "CO2 emissions (metric tons per capita) 2015": 2.29074082558299,
          "Country Name": "St. Vincent and the Grenadines",
          "GDP (current US$) 2015": 786554580.796867
         },
         {
          "CO2 emissions (kt) 2015": 18709.9990844727,
          "CO2 emissions (metric tons per capita) 2015": 0.480940392601422,
          "Country Name": "Sudan",
          "GDP (current US$) 2015": 84985132167.2171
         },
         {
          "CO2 emissions (kt) 2015": 2720.00002861023,
          "CO2 emissions (metric tons per capita) 2015": 4.86464836571108,
          "Country Name": "Suriname",
          "GDP (current US$) 2015": 5126291450.81511
         },
         {
          "CO2 emissions (kt) 2015": 39189.998626709,
          "CO2 emissions (metric tons per capita) 2015": 3.99931163942689,
          "Country Name": "Sweden",
          "GDP (current US$) 2015": 505103781349.757
         },
         {
          "CO2 emissions (kt) 2015": 39090.0001525879,
          "CO2 emissions (metric tons per capita) 2015": 4.7196487770674,
          "Country Name": "Switzerland",
          "GDP (current US$) 2015": 702149580770.901
         },
         {
          "CO2 emissions (kt) 2015": 25270.0004577637,
          "CO2 emissions (metric tons per capita) 2015": 1.40409086939025,
          "Country Name": "Syrian Arab Republic",
          "GDP (current US$) 2015": 17622064891.81
         },
         {
          "CO2 emissions (kt) 2015": 4900.00009536743,
          "CO2 emissions (metric tons per capita) 2015": 0.579605995132898,
          "Country Name": "Tajikistan",
          "GDP (current US$) 2015": 8271454300.59548
         },
         {
          "CO2 emissions (kt) 2015": 11689.9995803833,
          "CO2 emissions (metric tons per capita) 2015": 0.22706683329598,
          "Country Name": "Tanzania",
          "GDP (current US$) 2015": 47378599025.3044
         },
         {
          "CO2 emissions (kt) 2015": 264000,
          "CO2 emissions (metric tons per capita) 2015": 3.8419827984243,
          "Country Name": "Thailand",
          "GDP (current US$) 2015": 401296437424.995
         },
         {
          "CO2 emissions (kt) 2015": 519.999980926514,
          "CO2 emissions (metric tons per capita) 2015": 0.434675741018942,
          "Country Name": "Timor-Leste",
          "GDP (current US$) 2015": 1594410900
         },
         {
          "CO2 emissions (kt) 2015": 1830.00004291534,
          "CO2 emissions (metric tons per capita) 2015": 0.249892060685717,
          "Country Name": "Togo",
          "GDP (current US$) 2015": 4180866177.03946
         },
         {
          "CO2 emissions (kt) 2015": 119.999997317791,
          "CO2 emissions (metric tons per capita) 2015": 1.19071241633053,
          "Country Name": "Tonga",
          "GDP (current US$) 2015": 437006227.162781
         },
         {
          "CO2 emissions (kt) 2015": 21329.9999237061,
          "CO2 emissions (metric tons per capita) 2015": 15.5655709154468,
          "Country Name": "Trinidad and Tobago",
          "GDP (current US$) 2015": 25191551350.4204
         },
         {
          "CO2 emissions (kt) 2015": 30479.9995422363,
          "CO2 emissions (metric tons per capita) 2015": 2.72630886684891,
          "Country Name": "Tunisia",
          "GDP (current US$) 2015": 45780128466.5579
         },
         {
          "CO2 emissions (kt) 2015": 73400.0015258789,
          "CO2 emissions (metric tons per capita) 2015": 13.188907289329,
          "Country Name": "Turkmenistan",
          "GDP (current US$) 2015": 35799714285.7143
         },
         {
          "CO2 emissions (kt) 2015": null,
          "CO2 emissions (metric tons per capita) 2015": null,
          "Country Name": "Turks and Caicos Islands",
          "GDP (current US$) 2015": 942070000
         },
         {
          "CO2 emissions (kt) 2015": 9.99999977648258,
          "CO2 emissions (metric tons per capita) 2015": 0.900982050318279,
          "Country Name": "Tuvalu",
          "GDP (current US$) 2015": 36811659.5297123
         },
         {
          "CO2 emissions (kt) 2015": 4719.99979019165,
          "CO2 emissions (metric tons per capita) 2015": 0.12347794886981,
          "Country Name": "Uganda",
          "GDP (current US$) 2015": 32387183844.6699
         },
         {
          "CO2 emissions (kt) 2015": 191070.007324219,
          "CO2 emissions (metric tons per capita) 2015": 4.23151559085923,
          "Country Name": "Ukraine",
          "GDP (current US$) 2015": 91030959454.6961
         },
         {
          "CO2 emissions (kt) 2015": 195240.005493164,
          "CO2 emissions (metric tons per capita) 2015": 21.0776419699804,
          "Country Name": "United Arab Emirates",
          "GDP (current US$) 2015": 358134944420.504
         },
         {
          "CO2 emissions (kt) 2015": 401079.986572266,
          "CO2 emissions (metric tons per capita) 2015": 6.15944833302231,
          "Country Name": "United Kingdom",
          "GDP (current US$) 2015": 2956573778737.76
         },
         {
          "CO2 emissions (kt) 2015": 4990709.9609375,
          "CO2 emissions (metric tons per capita) 2015": 15.5600349639355,
          "Country Name": "United States",
          "GDP (current US$) 2015": 18206020741000
         },
         {
          "CO2 emissions (kt) 2015": 6639.9998664856,
          "CO2 emissions (metric tons per capita) 2015": 1.94606523084338,
          "Country Name": "Uruguay",
          "GDP (current US$) 2015": 53274304222.136
         },
         {
          "CO2 emissions (kt) 2015": 99169.9981689453,
          "CO2 emissions (metric tons per capita) 2015": 3.16848190092768,
          "Country Name": "Uzbekistan",
          "GDP (current US$) 2015": 86196265191.6645
         },
         {
          "CO2 emissions (kt) 2015": 140.000000596046,
          "CO2 emissions (metric tons per capita) 2015": 0.51636127805334,
          "Country Name": "Vanuatu",
          "GDP (current US$) 2015": 730870581.672312
         },
         {
          "CO2 emissions (kt) 2015": 163130.004882813,
          "CO2 emissions (metric tons per capita) 2015": 5.42287557477187,
          "Country Name": "Venezuela, RB",
          "GDP (current US$) 2015": null
         },
         {
          "CO2 emissions (kt) 2015": 220649.993896484,
          "CO2 emissions (metric tons per capita) 2015": 2.3808474450726,
          "Country Name": "Vietnam",
          "GDP (current US$) 2015": 239257234710.757
         },
         {
          "CO2 emissions (kt) 2015": null,
          "CO2 emissions (metric tons per capita) 2015": null,
          "Country Name": "Virgin Islands (U.S.)",
          "GDP (current US$) 2015": 3663000000
         },
         {
          "CO2 emissions (kt) 2015": null,
          "CO2 emissions (metric tons per capita) 2015": null,
          "Country Name": "West Bank and Gaza",
          "GDP (current US$) 2015": 13972400000
         },
         {
          "CO2 emissions (kt) 2015": 13550.0001907349,
          "CO2 emissions (metric tons per capita) 2015": 0.511361651549982,
          "Country Name": "Yemen, Rep.",
          "GDP (current US$) 2015": 42444495590.1077
         },
         {
          "CO2 emissions (kt) 2015": 4960.00003814697,
          "CO2 emissions (metric tons per capita) 2015": 0.312354963587785,
          "Country Name": "Zambia",
          "GDP (current US$) 2015": 21251216798.7762
         },
         {
          "CO2 emissions (kt) 2015": 12430.0003051758,
          "CO2 emissions (metric tons per capita) 2015": 0.89976999079497,
          "Country Name": "Zimbabwe",
          "GDP (current US$) 2015": 19963120600
         }
        ]
       },
       "layer": [
        {
         "encoding": {
          "color": {
           "field": "Country Name",
           "legend": null,
           "type": "nominal"
          },
          "tooltip": {
           "field": "Country Name",
           "type": "nominal"
          },
          "x": {
           "field": "CO2 emissions (kt) 2015",
           "type": "quantitative"
          },
          "y": {
           "field": "GDP (current US$) 2015",
           "type": "quantitative"
          }
         },
         "height": 400,
         "mark": "circle",
         "title": "CO2 emissions versus GDP in 2015",
         "width": 600
        },
        {
         "encoding": {
          "color": {
           "field": "Country Name",
           "legend": null,
           "type": "nominal"
          },
          "tooltip": {
           "field": "Country Name",
           "type": "nominal"
          },
          "x": {
           "field": "CO2 emissions (kt) 2015",
           "type": "quantitative"
          },
          "y": {
           "field": "GDP (current US$) 2015",
           "type": "quantitative"
          }
         },
         "height": 400,
         "mark": "line",
         "title": "CO2 emissions versus GDP in 2015",
         "transform": [
          {
           "on": "CO2 emissions (kt) 2015",
           "regression": "GDP (current US$) 2015"
          }
         ],
         "width": 600
        }
       ]
      },
      "text/plain": [
       "<VegaLite 4 object>\n",
       "\n",
       "If you see this message, it means the renderer has not been properly enabled\n",
       "for the frontend that you are using. For more information, see\n",
       "https://altair-viz.github.io/user_guide/troubleshooting.html\n"
      ]
     },
     "execution_count": 44,
     "metadata": {},
     "output_type": "execute_result"
    }
   ],
   "source": [
    "# lets look at a strongish positive correlation\n",
    "indi_list = ['CO2 emissions (kt)', 'CO2 emissions (metric tons per capita)','GDP (current US$)']\n",
    "new_ind_df= get_ind_df(wdi_df, indi_list, '2015') \n",
    "#new_ind_df = new_ind_df[new_ind_df['Country Name'] != 'China']\n",
    "#new_ind_df = new_ind_df[new_ind_df['Country Name'] != 'United States']\n",
    "\n",
    "chart= alt.Chart(new_ind_df).mark_circle().encode(\n",
    "    x = alt.X('CO2 emissions (kt) 2015'),\n",
    "    y = alt.Y('GDP (current US$) 2015'),\n",
    "    color = alt.Color('Country Name:N', legend=None),\n",
    "    tooltip ='Country Name'\n",
    ").properties(width=600, height=400, title='CO2 emissions versus GDP in 2015' )\n",
    "\n",
    "#Here is a linear regression fit using ordinary least squares which minimizes distance between data points and the line\n",
    "chart + chart.transform_regression('CO2 emissions (kt) 2015', 'GDP (current US$) 2015').mark_line()"
   ]
  },
  {
   "cell_type": "markdown",
   "metadata": {},
   "source": [
    "I added a regression line fit using the ordinary least squares method. This method produces a function that minimizes the sum of the squares of the differences between the observed variable in the data and the output of the linear function."
   ]
  },
  {
   "cell_type": "code",
   "execution_count": 45,
   "metadata": {},
   "outputs": [
    {
     "data": {
      "application/vnd.vegalite.v4+json": {
       "$schema": "https://vega.github.io/schema/vega-lite/v4.17.0.json",
       "config": {
        "view": {
         "continuousHeight": 300,
         "continuousWidth": 400
        }
       },
       "data": {
        "name": "data-cdc458ed22c0b9c5d78abd5ed656031a"
       },
       "datasets": {
        "data-cdc458ed22c0b9c5d78abd5ed656031a": [
         {
          "CO2 emissions (kt) 2015": 5949.99980926514,
          "CO2 emissions (metric tons per capita) 2015": 0.172896741130684,
          "Country Name": "Afghanistan",
          "Electricity production from nuclear sources (% of total) 2015": null,
          "GDP (current US$) 2015": 19134211763.859
         },
         {
          "CO2 emissions (kt) 2015": 4619.99988555908,
          "CO2 emissions (metric tons per capita) 2015": 1.60377514987108,
          "Country Name": "Albania",
          "Electricity production from nuclear sources (% of total) 2015": null,
          "GDP (current US$) 2015": 11386850129.8411
         },
         {
          "CO2 emissions (kt) 2015": 156270.004272461,
          "CO2 emissions (metric tons per capita) 2015": 3.93349591226698,
          "Country Name": "Algeria",
          "Electricity production from nuclear sources (% of total) 2015": null,
          "GDP (current US$) 2015": 165979279263.174
         },
         {
          "CO2 emissions (kt) 2015": null,
          "CO2 emissions (metric tons per capita) 2015": null,
          "Country Name": "American Samoa",
          "Electricity production from nuclear sources (% of total) 2015": null,
          "GDP (current US$) 2015": 673000000
         },
         {
          "CO2 emissions (kt) 2015": 469.999998807907,
          "CO2 emissions (metric tons per capita) 2015": 6.02618182154689,
          "Country Name": "Andorra",
          "Electricity production from nuclear sources (% of total) 2015": null,
          "GDP (current US$) 2015": 2789881258.50362
         },
         {
          "CO2 emissions (kt) 2015": 31649.9996185303,
          "CO2 emissions (metric tons per capita) 2015": 1.13504405041569,
          "Country Name": "Angola",
          "Electricity production from nuclear sources (% of total) 2015": null,
          "GDP (current US$) 2015": 87219290028.7263
         },
         {
          "CO2 emissions (kt) 2015": 490.000009536743,
          "CO2 emissions (metric tons per capita) 2015": 5.23666530802004,
          "Country Name": "Antigua and Barbuda",
          "Electricity production from nuclear sources (% of total) 2015": null,
          "GDP (current US$) 2015": 1336692592.59259
         },
         {
          "CO2 emissions (kt) 2015": 185550.003051758,
          "CO2 emissions (metric tons per capita) 2015": 4.30191387639872,
          "Country Name": "Argentina",
          "Electricity production from nuclear sources (% of total) 2015": null,
          "GDP (current US$) 2015": 594749285413.212
         },
         {
          "CO2 emissions (kt) 2015": 5340.00015258789,
          "CO2 emissions (metric tons per capita) 2015": 1.82529224417894,
          "Country Name": "Armenia",
          "Electricity production from nuclear sources (% of total) 2015": null,
          "GDP (current US$) 2015": 10553337672.9872
         },
         {
          "CO2 emissions (kt) 2015": null,
          "CO2 emissions (metric tons per capita) 2015": null,
          "Country Name": "Aruba",
          "Electricity production from nuclear sources (% of total) 2015": null,
          "GDP (current US$) 2015": 2963128491.62011
         },
         {
          "CO2 emissions (kt) 2015": 377799.987792969,
          "CO2 emissions (metric tons per capita) 2015": 15.863288004258,
          "Country Name": "Australia",
          "Electricity production from nuclear sources (% of total) 2015": 0,
          "GDP (current US$) 2015": 1350534154255.76
         },
         {
          "CO2 emissions (kt) 2015": 63240.0016784668,
          "CO2 emissions (metric tons per capita) 2015": 7.31715887345687,
          "Country Name": "Austria",
          "Electricity production from nuclear sources (% of total) 2015": 0,
          "GDP (current US$) 2015": 381971148530.543
         },
         {
          "CO2 emissions (kt) 2015": 31770.0004577637,
          "CO2 emissions (metric tons per capita) 2015": 3.29245286882946,
          "Country Name": "Azerbaijan",
          "Electricity production from nuclear sources (% of total) 2015": null,
          "GDP (current US$) 2015": 53074370486.0433
         },
         {
          "CO2 emissions (kt) 2015": 2210.00003814697,
          "CO2 emissions (metric tons per capita) 2015": 5.90593275827624,
          "Country Name": "Bahamas, The",
          "Electricity production from nuclear sources (% of total) 2015": null,
          "GDP (current US$) 2015": 11861900000
         },
         {
          "CO2 emissions (kt) 2015": 30579.9999237061,
          "CO2 emissions (metric tons per capita) 2015": 22.2910180053592,
          "Country Name": "Bahrain",
          "Electricity production from nuclear sources (% of total) 2015": null,
          "GDP (current US$) 2015": 31050638297.8723
         },
         {
          "CO2 emissions (kt) 2015": 72190.0024414063,
          "CO2 emissions (metric tons per capita) 2015": 0.461997426326957,
          "Country Name": "Bangladesh",
          "Electricity production from nuclear sources (% of total) 2015": null,
          "GDP (current US$) 2015": 195078678697.23
         },
         {
          "CO2 emissions (kt) 2015": 1269.99998092651,
          "CO2 emissions (metric tons per capita) 2015": 4.45103330889299,
          "Country Name": "Barbados",
          "Electricity production from nuclear sources (% of total) 2015": null,
          "GDP (current US$) 2015": 4724691212.50593
         },
         {
          "CO2 emissions (kt) 2015": 54819.9996948242,
          "CO2 emissions (metric tons per capita) 2015": 5.79426692004421,
          "Country Name": "Belarus",
          "Electricity production from nuclear sources (% of total) 2015": null,
          "GDP (current US$) 2015": 56454734396.5842
         },
         {
          "CO2 emissions (kt) 2015": 95129.997253418,
          "CO2 emissions (metric tons per capita) 2015": 8.43785199879601,
          "Country Name": "Belgium",
          "Electricity production from nuclear sources (% of total) 2015": 37.5323517570599,
          "GDP (current US$) 2015": 462335574841.484
         },
         {
          "CO2 emissions (kt) 2015": 680.000007152557,
          "CO2 emissions (metric tons per capita) 2015": 1.88404273217379,
          "Country Name": "Belize",
          "Electricity production from nuclear sources (% of total) 2015": null,
          "GDP (current US$) 2015": 1734320479.1395
         },
         {
          "CO2 emissions (kt) 2015": 5510.00022888184,
          "CO2 emissions (metric tons per capita) 2015": 0.520992816434272,
          "Country Name": "Benin",
          "Electricity production from nuclear sources (% of total) 2015": null,
          "GDP (current US$) 2015": 11388160958.249
         },
         {
          "CO2 emissions (kt) 2015": null,
          "CO2 emissions (metric tons per capita) 2015": null,
          "Country Name": "Bermuda",
          "Electricity production from nuclear sources (% of total) 2015": null,
          "GDP (current US$) 2015": 6654541000
         },
         {
          "CO2 emissions (kt) 2015": 769.999980926514,
          "CO2 emissions (metric tons per capita) 2015": 1.05785938840135,
          "Country Name": "Bhutan",
          "Electricity production from nuclear sources (% of total) 2015": null,
          "GDP (current US$) 2015": 2003598212.99135
         },
         {
          "CO2 emissions (kt) 2015": 20760.0002288818,
          "CO2 emissions (metric tons per capita) 2015": 1.90989071569398,
          "Country Name": "Bolivia",
          "Electricity production from nuclear sources (% of total) 2015": null,
          "GDP (current US$) 2015": 33000198248.9146
         },
         {
          "CO2 emissions (kt) 2015": 19620.0008392334,
          "CO2 emissions (metric tons per capita) 2015": 5.72118103578257,
          "Country Name": "Bosnia and Herzegovina",
          "Electricity production from nuclear sources (% of total) 2015": null,
          "GDP (current US$) 2015": 16219819343.5214
         },
         {
          "CO2 emissions (kt) 2015": 6949.99980926514,
          "CO2 emissions (metric tons per capita) 2015": 3.27719497059726,
          "Country Name": "Botswana",
          "Electricity production from nuclear sources (% of total) 2015": null,
          "GDP (current US$) 2015": 13578754072.4652
         },
         {
          "CO2 emissions (kt) 2015": 485339.996337891,
          "CO2 emissions (metric tons per capita) 2015": 2.37362850846258,
          "Country Name": "Brazil",
          "Electricity production from nuclear sources (% of total) 2015": null,
          "GDP (current US$) 2015": 1802211999538.68
         },
         {
          "CO2 emissions (kt) 2015": null,
          "CO2 emissions (metric tons per capita) 2015": null,
          "Country Name": "British Virgin Islands",
          "Electricity production from nuclear sources (% of total) 2015": null,
          "GDP (current US$) 2015": null
         },
         {
          "CO2 emissions (kt) 2015": 6400.00009536743,
          "CO2 emissions (metric tons per capita) 2015": 15.4248834586623,
          "Country Name": "Brunei Darussalam",
          "Electricity production from nuclear sources (% of total) 2015": null,
          "GDP (current US$) 2015": 12930394937.8137
         },
         {
          "CO2 emissions (kt) 2015": 44560.001373291,
          "CO2 emissions (metric tons per capita) 2015": 6.20786531681232,
          "Country Name": "Bulgaria",
          "Electricity production from nuclear sources (% of total) 2015": null,
          "GDP (current US$) 2015": 50781996712.7635
         },
         {
          "CO2 emissions (kt) 2015": 3700.00004768372,
          "CO2 emissions (metric tons per capita) 2015": 0.204300066197843,
          "Country Name": "Burkina Faso",
          "Electricity production from nuclear sources (% of total) 2015": null,
          "GDP (current US$) 2015": 11832159275.603
         },
         {
          "CO2 emissions (kt) 2015": 400.000005960464,
          "CO2 emissions (metric tons per capita) 2015": 0.0393699475769928,
          "Country Name": "Burundi",
          "Electricity production from nuclear sources (% of total) 2015": null,
          "GDP (current US$) 2015": 3104003611.42957
         },
         {
          "CO2 emissions (kt) 2015": 500,
          "CO2 emissions (metric tons per capita) 2015": 0.952852841407173,
          "Country Name": "Cabo Verde",
          "Electricity production from nuclear sources (% of total) 2015": null,
          "GDP (current US$) 2015": 1596800287.16405
         },
         {
          "CO2 emissions (kt) 2015": 8430.00030517578,
          "CO2 emissions (metric tons per capita) 2015": 0.543119905161847,
          "Country Name": "Cambodia",
          "Electricity production from nuclear sources (% of total) 2015": null,
          "GDP (current US$) 2015": 18049954289.4229
         },
         {
          "CO2 emissions (kt) 2015": 8460.00003814697,
          "CO2 emissions (metric tons per capita) 2015": 0.363115439382855,
          "Country Name": "Cameroon",
          "Electricity production from nuclear sources (% of total) 2015": null,
          "GDP (current US$) 2015": 32210232911.6626
         },
         {
          "CO2 emissions (kt) 2015": 558700.012207031,
          "CO2 emissions (metric tons per capita) 2015": 15.6485856056048,
          "Country Name": "Canada",
          "Electricity production from nuclear sources (% of total) 2015": 15.5465605152518,
          "GDP (current US$) 2015": 1556508816217.14
         },
         {
          "CO2 emissions (kt) 2015": null,
          "CO2 emissions (metric tons per capita) 2015": null,
          "Country Name": "Cayman Islands",
          "Electricity production from nuclear sources (% of total) 2015": null,
          "GDP (current US$) 2015": 4708336756.08849
         },
         {
          "CO2 emissions (kt) 2015": 189.999997615814,
          "CO2 emissions (metric tons per capita) 2015": 0.042286393644002,
          "Country Name": "Central African Republic",
          "Electricity production from nuclear sources (% of total) 2015": null,
          "GDP (current US$) 2015": 1695825708.45604
         },
         {
          "CO2 emissions (kt) 2015": 2390.00010490417,
          "CO2 emissions (metric tons per capita) 2015": 0.169371767889266,
          "Country Name": "Chad",
          "Electricity production from nuclear sources (% of total) 2015": null,
          "GDP (current US$) 2015": 10950392219.9104
         },
         {
          "CO2 emissions (kt) 2015": null,
          "CO2 emissions (metric tons per capita) 2015": null,
          "Country Name": "Channel Islands",
          "Electricity production from nuclear sources (% of total) 2015": null,
          "GDP (current US$) 2015": null
         },
         {
          "CO2 emissions (kt) 2015": 82230.0033569336,
          "CO2 emissions (metric tons per capita) 2015": 4.57612411690957,
          "Country Name": "Chile",
          "Electricity production from nuclear sources (% of total) 2015": 0,
          "GDP (current US$) 2015": 242496649874.236
         },
         {
          "CO2 emissions (kt) 2015": 9861099.609375,
          "CO2 emissions (metric tons per capita) 2015": 7.14644935672822,
          "Country Name": "China",
          "Electricity production from nuclear sources (% of total) 2015": null,
          "GDP (current US$) 2015": 11061553079871.5
         },
         {
          "CO2 emissions (kt) 2015": 80230.0033569336,
          "CO2 emissions (metric tons per capita) 2015": 1.6883181239214,
          "Country Name": "Colombia",
          "Electricity production from nuclear sources (% of total) 2015": null,
          "GDP (current US$) 2015": 293481748240.778
         },
         {
          "CO2 emissions (kt) 2015": 189.999997615814,
          "CO2 emissions (metric tons per capita) 2015": 0.244393418891372,
          "Country Name": "Comoros",
          "Electricity production from nuclear sources (% of total) 2015": null,
          "GDP (current US$) 2015": 966029542.038859
         },
         {
          "CO2 emissions (kt) 2015": 3230.00001907349,
          "CO2 emissions (metric tons per capita) 2015": 0.0423636939508461,
          "Country Name": "Congo, Dem. Rep.",
          "Electricity production from nuclear sources (% of total) 2015": null,
          "GDP (current US$) 2015": 37917704900.0794
         },
         {
          "CO2 emissions (kt) 2015": 5659.99984741211,
          "CO2 emissions (metric tons per capita) 2015": 1.1655460155751,
          "Country Name": "Congo, Rep.",
          "Electricity production from nuclear sources (% of total) 2015": null,
          "GDP (current US$) 2015": 11890259176.6829
         },
         {
          "CO2 emissions (kt) 2015": 7539.99996185303,
          "CO2 emissions (metric tons per capita) 2015": 1.55534308039474,
          "Country Name": "Costa Rica",
          "Electricity production from nuclear sources (% of total) 2015": null,
          "GDP (current US$) 2015": 56441917652.9812
         },
         {
          "CO2 emissions (kt) 2015": 16600.0003814697,
          "CO2 emissions (metric tons per capita) 2015": 3.94899243160624,
          "Country Name": "Croatia",
          "Electricity production from nuclear sources (% of total) 2015": null,
          "GDP (current US$) 2015": 50163192883.1515
         },
         {
          "CO2 emissions (kt) 2015": 29209.9990844727,
          "CO2 emissions (metric tons per capita) 2015": 2.57930015615077,
          "Country Name": "Cuba",
          "Electricity production from nuclear sources (% of total) 2015": null,
          "GDP (current US$) 2015": 87133000000
         },
         {
          "CO2 emissions (kt) 2015": 6849.99990463257,
          "CO2 emissions (metric tons per capita) 2015": 5.90015211594322,
          "Country Name": "Cyprus",
          "Electricity production from nuclear sources (% of total) 2015": null,
          "GDP (current US$) 2015": 19842404304.8929
         },
         {
          "CO2 emissions (kt) 2015": 99139.9993896484,
          "CO2 emissions (metric tons per capita) 2015": 9.4006680021085,
          "Country Name": "Czech Republic",
          "Electricity production from nuclear sources (% of total) 2015": 32.488864142539,
          "GDP (current US$) 2015": 188033050459.881
         },
         {
          "CO2 emissions (kt) 2015": 33700.0007629395,
          "CO2 emissions (metric tons per capita) 2015": 5.92946275425465,
          "Country Name": "Denmark",
          "Electricity production from nuclear sources (% of total) 2015": 0,
          "GDP (current US$) 2015": 302673070846.857
         },
         {
          "CO2 emissions (kt) 2015": 460.00000834465,
          "CO2 emissions (metric tons per capita) 2015": 0.50328338611753,
          "Country Name": "Djibouti",
          "Electricity production from nuclear sources (% of total) 2015": null,
          "GDP (current US$) 2015": 2424391785.43897
         },
         {
          "CO2 emissions (kt) 2015": 180.000007152557,
          "CO2 emissions (metric tons per capita) 2015": 2.52897797193617,
          "Country Name": "Dominica",
          "Electricity production from nuclear sources (% of total) 2015": null,
          "GDP (current US$) 2015": 540737037.037037
         },
         {
          "CO2 emissions (kt) 2015": 23590.0001525879,
          "CO2 emissions (metric tons per capita) 2015": 2.29437325655478,
          "Country Name": "Dominican Republic",
          "Electricity production from nuclear sources (% of total) 2015": null,
          "GDP (current US$) 2015": 71164825256.6849
         },
         {
          "CO2 emissions (kt) 2015": 41520.0004577637,
          "CO2 emissions (metric tons per capita) 2015": 2.56106242995252,
          "Country Name": "Ecuador",
          "Electricity production from nuclear sources (% of total) 2015": null,
          "GDP (current US$) 2015": 99290381000
         },
         {
          "CO2 emissions (kt) 2015": 226279.998779297,
          "CO2 emissions (metric tons per capita) 2015": 2.44779055994331,
          "Country Name": "Egypt, Arab Rep.",
          "Electricity production from nuclear sources (% of total) 2015": null,
          "GDP (current US$) 2015": 329366576819.407
         },
         {
          "CO2 emissions (kt) 2015": 7000,
          "CO2 emissions (metric tons per capita) 2015": 1.10669819597127,
          "Country Name": "El Salvador",
          "Electricity production from nuclear sources (% of total) 2015": null,
          "GDP (current US$) 2015": 23438240000
         },
         {
          "CO2 emissions (kt) 2015": 6570.00017166138,
          "CO2 emissions (metric tons per capita) 2015": 5.62223235278983,
          "Country Name": "Equatorial Guinea",
          "Electricity production from nuclear sources (% of total) 2015": null,
          "GDP (current US$) 2015": 13185496836.4124
         },
         {
          "CO2 emissions (kt) 2015": 649.999976158142,
          "CO2 emissions (metric tons per capita) 2015": 0.194446714166952,
          "Country Name": "Eritrea",
          "Electricity production from nuclear sources (% of total) 2015": null,
          "GDP (current US$) 2015": null
         },
         {
          "CO2 emissions (kt) 2015": 15539.999961853,
          "CO2 emissions (metric tons per capita) 2015": 11.8138340162801,
          "Country Name": "Estonia",
          "Electricity production from nuclear sources (% of total) 2015": 0,
          "GDP (current US$) 2015": 22890762090.1508
         },
         {
          "CO2 emissions (kt) 2015": 769.999980926514,
          "CO2 emissions (metric tons per capita) 2015": 0.697439744761063,
          "Country Name": "Eswatini",
          "Electricity production from nuclear sources (% of total) 2015": null,
          "GDP (current US$) 2015": 4063245671.29285
         },
         {
          "CO2 emissions (kt) 2015": 12890.0003433228,
          "CO2 emissions (metric tons per capita) 2015": 0.127832026929286,
          "Country Name": "Ethiopia",
          "Electricity production from nuclear sources (% of total) 2015": null,
          "GDP (current US$) 2015": 64589334978.8013
         },
         {
          "CO2 emissions (kt) 2015": null,
          "CO2 emissions (metric tons per capita) 2015": null,
          "Country Name": "Faroe Islands",
          "Electricity production from nuclear sources (% of total) 2015": null,
          "GDP (current US$) 2015": 2561824640.6754
         },
         {
          "CO2 emissions (kt) 2015": 1379.99999523163,
          "CO2 emissions (metric tons per capita) 2015": 1.58870499271456,
          "Country Name": "Fiji",
          "Electricity production from nuclear sources (% of total) 2015": null,
          "GDP (current US$) 2015": 4682546863.08162
         },
         {
          "CO2 emissions (kt) 2015": 42819.9996948242,
          "CO2 emissions (metric tons per capita) 2015": 7.81453735635845,
          "Country Name": "Finland",
          "Electricity production from nuclear sources (% of total) 2015": 33.8979838768459,
          "GDP (current US$) 2015": 234534382384.766
         },
         {
          "CO2 emissions (kt) 2015": 311299.987792969,
          "CO2 emissions (metric tons per capita) 2015": 4.67780722830743,
          "Country Name": "France",
          "Electricity production from nuclear sources (% of total) 2015": 77.6278008284028,
          "GDP (current US$) 2015": 2439188643162.5
         },
         {
          "CO2 emissions (kt) 2015": null,
          "CO2 emissions (metric tons per capita) 2015": null,
          "Country Name": "French Polynesia",
          "Electricity production from nuclear sources (% of total) 2015": null,
          "GDP (current US$) 2015": 5325848045.4324
         },
         {
          "CO2 emissions (kt) 2015": 6119.99988555908,
          "CO2 emissions (metric tons per capita) 2015": 3.14218375899608,
          "Country Name": "Gabon",
          "Electricity production from nuclear sources (% of total) 2015": null,
          "GDP (current US$) 2015": 14383107714.0388
         },
         {
          "CO2 emissions (kt) 2015": 529.999971389771,
          "CO2 emissions (metric tons per capita) 2015": 0.254091823703303,
          "Country Name": "Gambia, The",
          "Electricity production from nuclear sources (% of total) 2015": null,
          "GDP (current US$) 2015": 1378176868.31568
         },
         {
          "CO2 emissions (kt) 2015": 9199.99980926514,
          "CO2 emissions (metric tons per capita) 2015": 2.46961562291362,
          "Country Name": "Georgia",
          "Electricity production from nuclear sources (% of total) 2015": null,
          "GDP (current US$) 2015": 14953950557.4406
         },
         {
          "CO2 emissions (kt) 2015": 742309.997558594,
          "CO2 emissions (metric tons per capita) 2015": 9.08729090938286,
          "Country Name": "Germany",
          "Electricity production from nuclear sources (% of total) 2015": 14.3199259868293,
          "GDP (current US$) 2015": 3357585719351.56
         },
         {
          "CO2 emissions (kt) 2015": 15779.9997329712,
          "CO2 emissions (metric tons per capita) 2015": 0.566623028061923,
          "Country Name": "Ghana",
          "Electricity production from nuclear sources (% of total) 2015": null,
          "GDP (current US$) 2015": 49406568432.6711
         },
         {
          "CO2 emissions (kt) 2015": null,
          "CO2 emissions (metric tons per capita) 2015": null,
          "Country Name": "Gibraltar",
          "Electricity production from nuclear sources (% of total) 2015": null,
          "GDP (current US$) 2015": null
         },
         {
          "CO2 emissions (kt) 2015": 68010.0021362305,
          "CO2 emissions (metric tons per capita) 2015": 6.28506953972522,
          "Country Name": "Greece",
          "Electricity production from nuclear sources (% of total) 2015": 0,
          "GDP (current US$) 2015": 195683527003.375
         },
         {
          "CO2 emissions (kt) 2015": null,
          "CO2 emissions (metric tons per capita) 2015": null,
          "Country Name": "Greenland",
          "Electricity production from nuclear sources (% of total) 2015": null,
          "GDP (current US$) 2015": 2499115623.00272
         },
         {
          "CO2 emissions (kt) 2015": 270.000010728836,
          "CO2 emissions (metric tons per capita) 2015": 2.46343631769966,
          "Country Name": "Grenada",
          "Electricity production from nuclear sources (% of total) 2015": null,
          "GDP (current US$) 2015": 997007925.925926
         },
         {
          "CO2 emissions (kt) 2015": null,
          "CO2 emissions (metric tons per capita) 2015": null,
          "Country Name": "Guam",
          "Electricity production from nuclear sources (% of total) 2015": null,
          "GDP (current US$) 2015": 5799000000
         },
         {
          "CO2 emissions (kt) 2015": 16340.0001525879,
          "CO2 emissions (metric tons per capita) 2015": 1.04962808238077,
          "Country Name": "Guatemala",
          "Electricity production from nuclear sources (% of total) 2015": null,
          "GDP (current US$) 2015": 62186186575.7433
         },
         {
          "CO2 emissions (kt) 2015": 2539.99996185303,
          "CO2 emissions (metric tons per capita) 2015": 0.222181475894974,
          "Country Name": "Guinea",
          "Electricity production from nuclear sources (% of total) 2015": null,
          "GDP (current US$) 2015": 8794202443.67366
         },
         {
          "CO2 emissions (kt) 2015": 280.000001192093,
          "CO2 emissions (metric tons per capita) 2015": 0.161178259811348,
          "Country Name": "Guinea-Bissau",
          "Electricity production from nuclear sources (% of total) 2015": null,
          "GDP (current US$) 2015": 1048229629.42039
         },
         {
          "CO2 emissions (kt) 2015": 2079.99992370605,
          "CO2 emissions (metric tons per capita) 2015": 2.71033422293028,
          "Country Name": "Guyana",
          "Electricity production from nuclear sources (% of total) 2015": null,
          "GDP (current US$) 2015": 4279840193.7046
         },
         {
          "CO2 emissions (kt) 2015": 3279.99997138977,
          "CO2 emissions (metric tons per capita) 2015": 0.306669880285593,
          "Country Name": "Haiti",
          "Electricity production from nuclear sources (% of total) 2015": null,
          "GDP (current US$) 2015": 14833154471.7456
         },
         {
          "CO2 emissions (kt) 2015": 9930.00030517578,
          "CO2 emissions (metric tons per capita) 2015": 1.08966365772928,
          "Country Name": "Honduras",
          "Electricity production from nuclear sources (% of total) 2015": null,
          "GDP (current US$) 2015": 20979767785.2104
         },
         {
          "CO2 emissions (kt) 2015": null,
          "CO2 emissions (metric tons per capita) 2015": null,
          "Country Name": "Hong Kong SAR, China",
          "Electricity production from nuclear sources (% of total) 2015": null,
          "GDP (current US$) 2015": 309383627028.561
         },
         {
          "CO2 emissions (kt) 2015": 43380.0010681152,
          "CO2 emissions (metric tons per capita) 2015": 4.40718050056499,
          "Country Name": "Hungary",
          "Electricity production from nuclear sources (% of total) 2015": 52.1850899742931,
          "GDP (current US$) 2015": 125210324613.14
         },
         {
          "CO2 emissions (kt) 2015": 2059.99994277954,
          "CO2 emissions (metric tons per capita) 2015": 6.22704515448072,
          "Country Name": "Iceland",
          "Electricity production from nuclear sources (% of total) 2015": 0,
          "GDP (current US$) 2015": 17517210519.0912
         },
         {
          "CO2 emissions (kt) 2015": 2158020.01953125,
          "CO2 emissions (metric tons per capita) 2015": 1.64715191355484,
          "Country Name": "India",
          "Electricity production from nuclear sources (% of total) 2015": null,
          "GDP (current US$) 2015": 2103587813812.75
         },
         {
          "CO2 emissions (kt) 2015": 488549.987792969,
          "CO2 emissions (metric tons per capita) 2015": 1.89079584128382,
          "Country Name": "Indonesia",
          "Electricity production from nuclear sources (% of total) 2015": null,
          "GDP (current US$) 2015": 860854235065.079
         },
         {
          "CO2 emissions (kt) 2015": 599179.992675781,
          "CO2 emissions (metric tons per capita) 2015": 7.63362387099342,
          "Country Name": "Iran, Islamic Rep.",
          "Electricity production from nuclear sources (% of total) 2015": null,
          "GDP (current US$) 2015": 408212918053.939
         },
         {
          "CO2 emissions (kt) 2015": 133169.998168945,
          "CO2 emissions (metric tons per capita) 2015": 3.74364643899845,
          "Country Name": "Iraq",
          "Electricity production from nuclear sources (% of total) 2015": null,
          "GDP (current US$) 2015": 166774109673.732
         },
         {
          "CO2 emissions (kt) 2015": 37060.001373291,
          "CO2 emissions (metric tons per capita) 2015": 7.88182481747302,
          "Country Name": "Ireland",
          "Electricity production from nuclear sources (% of total) 2015": 0,
          "GDP (current US$) 2015": 291580037584.33
         },
         {
          "CO2 emissions (kt) 2015": null,
          "CO2 emissions (metric tons per capita) 2015": null,
          "Country Name": "Isle of Man",
          "Electricity production from nuclear sources (% of total) 2015": null,
          "GDP (current US$) 2015": 7085288006.11154
         },
         {
          "CO2 emissions (kt) 2015": 66139.9993896484,
          "CO2 emissions (metric tons per capita) 2015": 7.89250717648338,
          "Country Name": "Israel",
          "Electricity production from nuclear sources (% of total) 2015": 0,
          "GDP (current US$) 2015": 300078278118.434
         },
         {
          "CO2 emissions (kt) 2015": 337859.985351563,
          "CO2 emissions (metric tons per capita) 2015": 5.56325946870661,
          "Country Name": "Italy",
          "Electricity production from nuclear sources (% of total) 2015": 0,
          "GDP (current US$) 2015": 1836637711060.55
         },
         {
          "CO2 emissions (kt) 2015": 7090.00015258789,
          "CO2 emissions (metric tons per capita) 2015": 2.45241829628114,
          "Country Name": "Jamaica",
          "Electricity production from nuclear sources (% of total) 2015": null,
          "GDP (current US$) 2015": 14188935947.5694
         },
         {
          "CO2 emissions (kt) 2015": 1179439.94140625,
          "CO2 emissions (metric tons per capita) 2015": 9.2766294225014,
          "Country Name": "Japan",
          "Electricity production from nuclear sources (% of total) 2015": 0.911553166046214,
          "GDP (current US$) 2015": 4444930651964.18
         },
         {
          "CO2 emissions (kt) 2015": 25309.9994659424,
          "CO2 emissions (metric tons per capita) 2015": 2.73132251436884,
          "Country Name": "Jordan",
          "Electricity production from nuclear sources (% of total) 2015": null,
          "GDP (current US$) 2015": 38587017887.3239
         },
         {
          "CO2 emissions (kt) 2015": 190729.995727539,
          "CO2 emissions (metric tons per capita) 2015": 10.8722627228243,
          "Country Name": "Kazakhstan",
          "Electricity production from nuclear sources (% of total) 2015": null,
          "GDP (current US$) 2015": 184388432148.715
         },
         {
          "CO2 emissions (kt) 2015": 17209.9990844727,
          "CO2 emissions (metric tons per capita) 2015": 0.359452717949817,
          "Country Name": "Kenya",
          "Electricity production from nuclear sources (% of total) 2015": null,
          "GDP (current US$) 2015": 70120413328.7838
         },
         {
          "CO2 emissions (kt) 2015": 59.9999986588955,
          "CO2 emissions (metric tons per capita) 2015": 0.540896253021316,
          "Country Name": "Kiribati",
          "Electricity production from nuclear sources (% of total) 2015": null,
          "GDP (current US$) 2015": 170291001.98321
         },
         {
          "CO2 emissions (kt) 2015": 25100.0003814697,
          "CO2 emissions (metric tons per capita) 2015": 0.996671212763399,
          "Country Name": "Korea, Dem. People's Rep.",
          "Electricity production from nuclear sources (% of total) 2015": null,
          "GDP (current US$) 2015": null
         },
         {
          "CO2 emissions (kt) 2015": 607830.017089844,
          "CO2 emissions (metric tons per capita) 2015": 11.9147436748262,
          "Country Name": "Korea, Rep.",
          "Electricity production from nuclear sources (% of total) 2015": 29.998943968421,
          "GDP (current US$) 2015": 1465773245547.15
         },
         {
          "CO2 emissions (kt) 2015": null,
          "CO2 emissions (metric tons per capita) 2015": null,
          "Country Name": "Kosovo",
          "Electricity production from nuclear sources (% of total) 2015": null,
          "GDP (current US$) 2015": 6295820481.52668
         },
         {
          "CO2 emissions (kt) 2015": 89019.9966430664,
          "CO2 emissions (metric tons per capita) 2015": 23.2089569169229,
          "Country Name": "Kuwait",
          "Electricity production from nuclear sources (% of total) 2015": null,
          "GDP (current US$) 2015": 114567298105.683
         },
         {
          "CO2 emissions (kt) 2015": 10270.0004577637,
          "CO2 emissions (metric tons per capita) 2015": 1.72405117725053,
          "Country Name": "Kyrgyz Republic",
          "Electricity production from nuclear sources (% of total) 2015": null,
          "GDP (current US$) 2015": 6678178340.45121
         },
         {
          "CO2 emissions (kt) 2015": 8880.00011444092,
          "CO2 emissions (metric tons per capita) 2015": 1.31728072237433,
          "Country Name": "Lao PDR",
          "Electricity production from nuclear sources (% of total) 2015": null,
          "GDP (current US$) 2015": 14426381187.0894
         },
         {
          "CO2 emissions (kt) 2015": 7320.00017166138,
          "CO2 emissions (metric tons per capita) 2015": 3.70159303597947,
          "Country Name": "Latvia",
          "Electricity production from nuclear sources (% of total) 2015": null,
          "GDP (current US$) 2015": 27263090547.0617
         },
         {
          "CO2 emissions (kt) 2015": 27010.0002288818,
          "CO2 emissions (metric tons per capita) 2015": 4.13459653530944,
          "Country Name": "Lebanon",
          "Electricity production from nuclear sources (% of total) 2015": null,
          "GDP (current US$) 2015": 49929337837.0813
         },
         {
          "CO2 emissions (kt) 2015": 649.999976158142,
          "CO2 emissions (metric tons per capita) 2015": 0.315685528711669,
          "Country Name": "Lesotho",
          "Electricity production from nuclear sources (% of total) 2015": null,
          "GDP (current US$) 2015": 2359759799.04224
         },
         {
          "CO2 emissions (kt) 2015": 1259.99999046326,
          "CO2 emissions (metric tons per capita) 2015": 0.281738701319467,
          "Country Name": "Liberia",
          "Electricity production from nuclear sources (% of total) 2015": null,
          "GDP (current US$) 2015": 3227075700
         },
         {
          "CO2 emissions (kt) 2015": 51330.0018310547,
          "CO2 emissions (metric tons per capita) 2015": 7.99742640101876,
          "Country Name": "Libya",
          "Electricity production from nuclear sources (% of total) 2015": null,
          "GDP (current US$) 2015": 48717854039.9653
         },
         {
          "CO2 emissions (kt) 2015": 159.999996423721,
          "CO2 emissions (metric tons per capita) 2015": 4.2706525136453,
          "Country Name": "Liechtenstein",
          "Electricity production from nuclear sources (% of total) 2015": null,
          "GDP (current US$) 2015": 6268391521.19701
         },
         {
          "CO2 emissions (kt) 2015": 11069.9996948242,
          "CO2 emissions (metric tons per capita) 2015": 3.81078921371891,
          "Country Name": "Lithuania",
          "Electricity production from nuclear sources (% of total) 2015": null,
          "GDP (current US$) 2015": 41435533340.3883
         },
         {
          "CO2 emissions (kt) 2015": 9130.00011444092,
          "CO2 emissions (metric tons per capita) 2015": 16.0286797747925,
          "Country Name": "Luxembourg",
          "Electricity production from nuclear sources (% of total) 2015": 0,
          "GDP (current US$) 2015": 60071584216.1375
         },
         {
          "CO2 emissions (kt) 2015": null,
          "CO2 emissions (metric tons per capita) 2015": null,
          "Country Name": "Macao SAR, China",
          "Electricity production from nuclear sources (% of total) 2015": null,
          "GDP (current US$) 2015": 45047964934.2517
         },
         {
          "CO2 emissions (kt) 2015": 3279.99997138977,
          "CO2 emissions (metric tons per capita) 2015": 0.135346585114424,
          "Country Name": "Madagascar",
          "Electricity production from nuclear sources (% of total) 2015": null,
          "GDP (current US$) 2015": 11323020828.5758
         },
         {
          "CO2 emissions (kt) 2015": 930.000007152557,
          "CO2 emissions (metric tons per capita) 2015": 0.055537955692808,
          "Country Name": "Malawi",
          "Electricity production from nuclear sources (% of total) 2015": null,
          "GDP (current US$) 2015": 6373212640.84604
         },
         {
          "CO2 emissions (kt) 2015": 236539.993286133,
          "CO2 emissions (metric tons per capita) 2015": 7.81408829504223,
          "Country Name": "Malaysia",
          "Electricity production from nuclear sources (% of total) 2015": null,
          "GDP (current US$) 2015": 301354803994.367
         },
         {
          "CO2 emissions (kt) 2015": 1370.00000476837,
          "CO2 emissions (metric tons per capita) 2015": 3.01155823907018,
          "Country Name": "Maldives",
          "Electricity production from nuclear sources (% of total) 2015": null,
          "GDP (current US$) 2015": 4109424799.72407
         },
         {
          "CO2 emissions (kt) 2015": 3650.00009536743,
          "CO2 emissions (metric tons per capita) 2015": 0.20930373396518,
          "Country Name": "Mali",
          "Electricity production from nuclear sources (% of total) 2015": null,
          "GDP (current US$) 2015": 13104764378.7114
         },
         {
          "CO2 emissions (kt) 2015": 1659.9999666214,
          "CO2 emissions (metric tons per capita) 2015": 3.72989276922389,
          "Country Name": "Malta",
          "Electricity production from nuclear sources (% of total) 2015": null,
          "GDP (current US$) 2015": 11091434483.5238
         },
         {
          "CO2 emissions (kt) 2015": 150.000005960464,
          "CO2 emissions (metric tons per capita) 2015": 2.61123887543458,
          "Country Name": "Marshall Islands",
          "Electricity production from nuclear sources (% of total) 2015": null,
          "GDP (current US$) 2015": 183814300
         },
         {
          "CO2 emissions (kt) 2015": 3559.99994277954,
          "CO2 emissions (metric tons per capita) 2015": 0.879815244425416,
          "Country Name": "Mauritania",
          "Electricity production from nuclear sources (% of total) 2015": null,
          "GDP (current US$) 2015": 6166863960.00061
         },
         {
          "CO2 emissions (kt) 2015": 3960.00003814697,
          "CO2 emissions (metric tons per capita) 2015": 3.13637284673114,
          "Country Name": "Mauritius",
          "Electricity production from nuclear sources (% of total) 2015": null,
          "GDP (current US$) 2015": 11692287066.381
         },
         {
          "CO2 emissions (kt) 2015": 471630.004882813,
          "CO2 emissions (metric tons per capita) 2015": 3.87031654411988,
          "Country Name": "Mexico",
          "Electricity production from nuclear sources (% of total) 2015": 3.72085698307503,
          "GDP (current US$) 2015": 1171867608197.72
         },
         {
          "CO2 emissions (kt) 2015": 150.000005960464,
          "CO2 emissions (metric tons per capita) 2015": 1.37758762339019,
          "Country Name": "Micronesia, Fed. Sts.",
          "Electricity production from nuclear sources (% of total) 2015": null,
          "GDP (current US$) 2015": 316489900
         },
         {
          "CO2 emissions (kt) 2015": 8020.00045776367,
          "CO2 emissions (metric tons per capita) 2015": 2.82939339423596,
          "Country Name": "Moldova",
          "Electricity production from nuclear sources (% of total) 2015": null,
          "GDP (current US$) 2015": 7745241912.94722
         },
         {
          "CO2 emissions (kt) 2015": null,
          "CO2 emissions (metric tons per capita) 2015": null,
          "Country Name": "Monaco",
          "Electricity production from nuclear sources (% of total) 2015": null,
          "GDP (current US$) 2015": 6261622101.40908
         },
         {
          "CO2 emissions (kt) 2015": 17299.9992370605,
          "CO2 emissions (metric tons per capita) 2015": 5.76968010859689,
          "Country Name": "Mongolia",
          "Electricity production from nuclear sources (% of total) 2015": null,
          "GDP (current US$) 2015": 11619892396.0767
         },
         {
          "CO2 emissions (kt) 2015": 2359.99989509583,
          "CO2 emissions (metric tons per capita) 2015": 3.79324239478305,
          "Country Name": "Montenegro",
          "Electricity production from nuclear sources (% of total) 2015": null,
          "GDP (current US$) 2015": 4054728172.94375
         },
         {
          "CO2 emissions (kt) 2015": 60409.9998474121,
          "CO2 emissions (metric tons per capita) 2015": 1.74274991361003,
          "Country Name": "Morocco",
          "Electricity production from nuclear sources (% of total) 2015": null,
          "GDP (current US$) 2015": 101179808076.36
         },
         {
          "CO2 emissions (kt) 2015": 5519.99998092651,
          "CO2 emissions (metric tons per capita) 2015": 0.204126905435974,
          "Country Name": "Mozambique",
          "Electricity production from nuclear sources (% of total) 2015": null,
          "GDP (current US$) 2015": 15950979333.1582
         },
         {
          "CO2 emissions (kt) 2015": 19040.0009155273,
          "CO2 emissions (metric tons per capita) 2015": 0.361422536932623,
          "Country Name": "Myanmar",
          "Electricity production from nuclear sources (% of total) 2015": null,
          "GDP (current US$) 2015": 63045305229.1046
         },
         {
          "CO2 emissions (kt) 2015": 4199.99980926514,
          "CO2 emissions (metric tons per capita) 2015": 1.81433236637988,
          "Country Name": "Namibia",
          "Electricity production from nuclear sources (% of total) 2015": null,
          "GDP (current US$) 2015": 11335179562.0211
         },
         {
          "CO2 emissions (kt) 2015": 59.9999986588955,
          "CO2 emissions (metric tons per capita) 2015": 5.78368986494077,
          "Country Name": "Nauru",
          "Electricity production from nuclear sources (% of total) 2015": null,
          "GDP (current US$) 2015": 86529661.3694983
         },
         {
          "CO2 emissions (kt) 2015": 7190.00005722046,
          "CO2 emissions (metric tons per capita) 2015": 0.266148113060623,
          "Country Name": "Nepal",
          "Electricity production from nuclear sources (% of total) 2015": null,
          "GDP (current US$) 2015": 24360795410.6422
         },
         {
          "CO2 emissions (kt) 2015": 157410.003662109,
          "CO2 emissions (metric tons per capita) 2015": 9.29225024589008,
          "Country Name": "Netherlands",
          "Electricity production from nuclear sources (% of total) 2015": 3.50867629690197,
          "GDP (current US$) 2015": 765572770634.375
         },
         {
          "CO2 emissions (kt) 2015": null,
          "CO2 emissions (metric tons per capita) 2015": null,
          "Country Name": "New Caledonia",
          "Electricity production from nuclear sources (% of total) 2015": null,
          "GDP (current US$) 2015": 8738205836.7394
         },
         {
          "CO2 emissions (kt) 2015": 32279.9987792969,
          "CO2 emissions (metric tons per capita) 2015": 7.00308039642836,
          "Country Name": "New Zealand",
          "Electricity production from nuclear sources (% of total) 2015": 0,
          "GDP (current US$) 2015": 178064471137.921
         },
         {
          "CO2 emissions (kt) 2015": 5269.99998092651,
          "CO2 emissions (metric tons per capita) 2015": 0.846826582597812,
          "Country Name": "Nicaragua",
          "Electricity production from nuclear sources (% of total) 2015": null,
          "GDP (current US$) 2015": 12756706583.3113
         },
         {
          "CO2 emissions (kt) 2015": 2109.99989509583,
          "CO2 emissions (metric tons per capita) 2015": 0.105491223159586,
          "Country Name": "Niger",
          "Electricity production from nuclear sources (% of total) 2015": null,
          "GDP (current US$) 2015": 9683867893.68343
         },
         {
          "CO2 emissions (kt) 2015": 107760.00213623,
          "CO2 emissions (metric tons per capita) 2015": 0.594907346639806,
          "Country Name": "Nigeria",
          "Electricity production from nuclear sources (% of total) 2015": null,
          "GDP (current US$) 2015": 486803295097.89
         },
         {
          "CO2 emissions (kt) 2015": 7409.99984741211,
          "CO2 emissions (metric tons per capita) 2015": 3.57931928562974,
          "Country Name": "North Macedonia",
          "Electricity production from nuclear sources (% of total) 2015": null,
          "GDP (current US$) 2015": 10064515432.0265
         },
         {
          "CO2 emissions (kt) 2015": null,
          "CO2 emissions (metric tons per capita) 2015": null,
          "Country Name": "Northern Mariana Islands",
          "Electricity production from nuclear sources (% of total) 2015": null,
          "GDP (current US$) 2015": 910000000
         },
         {
          "CO2 emissions (kt) 2015": 39490.0016784668,
          "CO2 emissions (metric tons per capita) 2015": 7.61090629497798,
          "Country Name": "Norway",
          "Electricity production from nuclear sources (% of total) 2015": 0,
          "GDP (current US$) 2015": 385801550067.169
         },
         {
          "CO2 emissions (kt) 2015": 70129.997253418,
          "CO2 emissions (metric tons per capita) 2015": 16.4341207448427,
          "Country Name": "Oman",
          "Electricity production from nuclear sources (% of total) 2015": null,
          "GDP (current US$) 2015": 78710793237.9714
         },
         {
          "CO2 emissions (kt) 2015": 164130.004882813,
          "CO2 emissions (metric tons per capita) 2015": 0.823008136130992,
          "Country Name": "Pakistan",
          "Electricity production from nuclear sources (% of total) 2015": null,
          "GDP (current US$) 2015": 270556131701.171
         },
         {
          "CO2 emissions (kt) 2015": 209.999993443489,
          "CO2 emissions (metric tons per capita) 2015": 11.8879135829883,
          "Country Name": "Palau",
          "Electricity production from nuclear sources (% of total) 2015": null,
          "GDP (current US$) 2015": 280457700
         },
         {
          "CO2 emissions (kt) 2015": 10699.9998092651,
          "CO2 emissions (metric tons per capita) 2015": 2.69623957960461,
          "Country Name": "Panama",
          "Electricity production from nuclear sources (% of total) 2015": null,
          "GDP (current US$) 2015": 54091713800
         },
         {
          "CO2 emissions (kt) 2015": 6510.00022888184,
          "CO2 emissions (metric tons per capita) 2015": 0.802933312491007,
          "Country Name": "Papua New Guinea",
          "Electricity production from nuclear sources (% of total) 2015": null,
          "GDP (current US$) 2015": 21723531173.2409
         },
         {
          "CO2 emissions (kt) 2015": 6369.99988555908,
          "CO2 emissions (metric tons per capita) 2015": 0.952345908419767,
          "Country Name": "Paraguay",
          "Electricity production from nuclear sources (% of total) 2015": null,
          "GDP (current US$) 2015": 36211372702.8085
         },
         {
          "CO2 emissions (kt) 2015": 54549.9992370605,
          "CO2 emissions (metric tons per capita) 2015": 1.79024208231578,
          "Country Name": "Peru",
          "Electricity production from nuclear sources (% of total) 2015": null,
          "GDP (current US$) 2015": 189805300841.603
         },
         {
          "CO2 emissions (kt) 2015": 111010.00213623,
          "CO2 emissions (metric tons per capita) 2015": 1.08712679275029,
          "Country Name": "Philippines",
          "Electricity production from nuclear sources (% of total) 2015": null,
          "GDP (current US$) 2015": 306446140628.709
         },
         {
          "CO2 emissions (kt) 2015": 289079.986572266,
          "CO2 emissions (metric tons per capita) 2015": 7.61008927540369,
          "Country Name": "Poland",
          "Electricity production from nuclear sources (% of total) 2015": 0,
          "GDP (current US$) 2015": 477811911394.084
         },
         {
          "CO2 emissions (kt) 2015": 49849.9984741211,
          "CO2 emissions (metric tons per capita) 2015": 4.81266969600543,
          "Country Name": "Portugal",
          "Electricity production from nuclear sources (% of total) 2015": 0,
          "GDP (current US$) 2015": 199394066525.44
         },
         {
          "CO2 emissions (kt) 2015": null,
          "CO2 emissions (metric tons per capita) 2015": null,
          "Country Name": "Puerto Rico",
          "Electricity production from nuclear sources (% of total) 2015": null,
          "GDP (current US$) 2015": 103375500000
         },
         {
          "CO2 emissions (kt) 2015": 84779.9987792969,
          "CO2 emissions (metric tons per capita) 2015": 33.0435103212435,
          "Country Name": "Qatar",
          "Electricity production from nuclear sources (% of total) 2015": null,
          "GDP (current US$) 2015": 161739955577.748
         },
         {
          "CO2 emissions (kt) 2015": 73319.9996948242,
          "CO2 emissions (metric tons per capita) 2015": 3.70011205782471,
          "Country Name": "Romania",
          "Electricity production from nuclear sources (% of total) 2015": null,
          "GDP (current US$) 2015": 177729210874.504
         },
         {
          "CO2 emissions (kt) 2015": 1592560.05859375,
          "CO2 emissions (metric tons per capita) 2015": 11.0520100720699,
          "Country Name": "Russian Federation",
          "Electricity production from nuclear sources (% of total) 2015": null,
          "GDP (current US$) 2015": 1363481063446.77
         },
         {
          "CO2 emissions (kt) 2015": 980.000019073486,
          "CO2 emissions (metric tons per capita) 2015": 0.0861988151949761,
          "Country Name": "Rwanda",
          "Electricity production from nuclear sources (% of total) 2015": null,
          "GDP (current US$) 2015": 8539424910.07969
         },
         {
          "CO2 emissions (kt) 2015": 239.999994635582,
          "CO2 emissions (metric tons per capita) 2015": 1.24024595439813,
          "Country Name": "Samoa",
          "Electricity production from nuclear sources (% of total) 2015": null,
          "GDP (current US$) 2015": 788307314.850856
         },
         {
          "CO2 emissions (kt) 2015": null,
          "CO2 emissions (metric tons per capita) 2015": null,
          "Country Name": "San Marino",
          "Electricity production from nuclear sources (% of total) 2015": null,
          "GDP (current US$) 2015": 1419394763.11994
         },
         {
          "CO2 emissions (kt) 2015": 565190.002441406,
          "CO2 emissions (metric tons per capita) 2015": 17.8194014732166,
          "Country Name": "Saudi Arabia",
          "Electricity production from nuclear sources (% of total) 2015": null,
          "GDP (current US$) 2015": 654269739552.019
         },
         {
          "CO2 emissions (kt) 2015": 9289.99996185303,
          "CO2 emissions (metric tons per capita) 2015": 0.637241953832748,
          "Country Name": "Senegal",
          "Electricity production from nuclear sources (% of total) 2015": null,
          "GDP (current US$) 2015": 17774766636.0459
         },
         {
          "CO2 emissions (kt) 2015": 45389.9993896484,
          "CO2 emissions (metric tons per capita) 2015": 6.39711758895163,
          "Country Name": "Serbia",
          "Electricity production from nuclear sources (% of total) 2015": null,
          "GDP (current US$) 2015": 39655958842.5478
         },
         {
          "CO2 emissions (kt) 2015": 509.999990463257,
          "CO2 emissions (metric tons per capita) 2015": 5.45927477775674,
          "Country Name": "Seychelles",
          "Electricity production from nuclear sources (% of total) 2015": null,
          "GDP (current US$) 2015": 1415998663.05391
         },
         {
          "CO2 emissions (kt) 2015": 910.000026226044,
          "CO2 emissions (metric tons per capita) 2015": 0.12688393372337,
          "Country Name": "Sierra Leone",
          "Electricity production from nuclear sources (% of total) 2015": null,
          "GDP (current US$) 2015": 4218723875.1379
         },
         {
          "CO2 emissions (kt) 2015": 45430.0003051758,
          "CO2 emissions (metric tons per capita) 2015": 8.20776583372071,
          "Country Name": "Singapore",
          "Electricity production from nuclear sources (% of total) 2015": null,
          "GDP (current US$) 2015": 308004146057.608
         },
         {
          "CO2 emissions (kt) 2015": null,
          "CO2 emissions (metric tons per capita) 2015": null,
          "Country Name": "Sint Maarten (Dutch part)",
          "Electricity production from nuclear sources (% of total) 2015": null,
          "GDP (current US$) 2015": 1253072625.69832
         },
         {
          "CO2 emissions (kt) 2015": 30750,
          "CO2 emissions (metric tons per capita) 2015": 5.6694557930868,
          "Country Name": "Slovak Republic",
          "Electricity production from nuclear sources (% of total) 2015": 56.8714328627215,
          "GDP (current US$) 2015": 88636928904.6449
         },
         {
          "CO2 emissions (kt) 2015": 13140.0003433228,
          "CO2 emissions (metric tons per capita) 2015": 6.36772616613116,
          "Country Name": "Slovenia",
          "Electricity production from nuclear sources (% of total) 2015": 38.118377539313,
          "GDP (current US$) 2015": 43107506024.3254
         },
         {
          "CO2 emissions (kt) 2015": 310.000002384186,
          "CO2 emissions (metric tons per capita) 2015": 0.513982823662751,
          "Country Name": "Solomon Islands",
          "Electricity production from nuclear sources (% of total) 2015": null,
          "GDP (current US$) 2015": 1307082934.28683
         },
         {
          "CO2 emissions (kt) 2015": 649.999976158142,
          "CO2 emissions (metric tons per capita) 2015": 0.047110992644462,
          "Country Name": "Somalia",
          "Electricity production from nuclear sources (% of total) 2015": null,
          "GDP (current US$) 2015": 5331761394.25487
         },
         {
          "CO2 emissions (kt) 2015": 424809.997558594,
          "CO2 emissions (metric tons per capita) 2015": 7.66993766207339,
          "Country Name": "South Africa",
          "Electricity production from nuclear sources (% of total) 2015": null,
          "GDP (current US$) 2015": 346709790458.563
         },
         {
          "CO2 emissions (kt) 2015": 1970.00002861023,
          "CO2 emissions (metric tons per capita) 2015": 0.183843139866294,
          "Country Name": "South Sudan",
          "Electricity production from nuclear sources (% of total) 2015": null,
          "GDP (current US$) 2015": 11997800760.2242
         },
         {
          "CO2 emissions (kt) 2015": 256279.998779297,
          "CO2 emissions (metric tons per capita) 2015": 5.51794435986542,
          "Country Name": "Spain",
          "Electricity production from nuclear sources (% of total) 2015": 20.6186643243866,
          "GDP (current US$) 2015": 1195599995808.59
         },
         {
          "CO2 emissions (kt) 2015": 20360.0006103516,
          "CO2 emissions (metric tons per capita) 2015": 0.97091085409402,
          "Country Name": "Sri Lanka",
          "Electricity production from nuclear sources (% of total) 2015": null,
          "GDP (current US$) 2015": 80604080688.5775
         },
         {
          "CO2 emissions (kt) 2015": 239.999994635582,
          "CO2 emissions (metric tons per capita) 2015": 4.68713371290489,
          "Country Name": "St. Kitts and Nevis",
          "Electricity production from nuclear sources (% of total) 2015": null,
          "GDP (current US$) 2015": 958407222.222222
         },
         {
          "CO2 emissions (kt) 2015": 500,
          "CO2 emissions (metric tons per capita) 2015": 2.79125332856959,
          "Country Name": "St. Lucia",
          "Electricity production from nuclear sources (% of total) 2015": null,
          "GDP (current US$) 2015": 1808079888.88889
         },
         {
          "CO2 emissions (kt) 2015": null,
          "CO2 emissions (metric tons per capita) 2015": null,
          "Country Name": "St. Martin (French part)",
          "Electricity production from nuclear sources (% of total) 2015": null,
          "GDP (current US$) 2015": null
         },
         {
          "CO2 emissions (kt) 2015": 250,
          "CO2 emissions (metric tons per capita) 2015": 2.29074082558299,
          "Country Name": "St. Vincent and the Grenadines",
          "Electricity production from nuclear sources (% of total) 2015": null,
          "GDP (current US$) 2015": 786554580.796867
         },
         {
          "CO2 emissions (kt) 2015": 18709.9990844727,
          "CO2 emissions (metric tons per capita) 2015": 0.480940392601422,
          "Country Name": "Sudan",
          "Electricity production from nuclear sources (% of total) 2015": null,
          "GDP (current US$) 2015": 84985132167.2171
         },
         {
          "CO2 emissions (kt) 2015": 2720.00002861023,
          "CO2 emissions (metric tons per capita) 2015": 4.86464836571108,
          "Country Name": "Suriname",
          "Electricity production from nuclear sources (% of total) 2015": null,
          "GDP (current US$) 2015": 5126291450.81511
         },
         {
          "CO2 emissions (kt) 2015": 39189.998626709,
          "CO2 emissions (metric tons per capita) 2015": 3.99931163942689,
          "Country Name": "Sweden",
          "Electricity production from nuclear sources (% of total) 2015": 34.7364000716355,
          "GDP (current US$) 2015": 505103781349.757
         },
         {
          "CO2 emissions (kt) 2015": 39090.0001525879,
          "CO2 emissions (metric tons per capita) 2015": 4.7196487770674,
          "Country Name": "Switzerland",
          "Electricity production from nuclear sources (% of total) 2015": 34.931993887771,
          "GDP (current US$) 2015": 702149580770.901
         },
         {
          "CO2 emissions (kt) 2015": 25270.0004577637,
          "CO2 emissions (metric tons per capita) 2015": 1.40409086939025,
          "Country Name": "Syrian Arab Republic",
          "Electricity production from nuclear sources (% of total) 2015": null,
          "GDP (current US$) 2015": 17622064891.81
         },
         {
          "CO2 emissions (kt) 2015": 4900.00009536743,
          "CO2 emissions (metric tons per capita) 2015": 0.579605995132898,
          "Country Name": "Tajikistan",
          "Electricity production from nuclear sources (% of total) 2015": null,
          "GDP (current US$) 2015": 8271454300.59548
         },
         {
          "CO2 emissions (kt) 2015": 11689.9995803833,
          "CO2 emissions (metric tons per capita) 2015": 0.22706683329598,
          "Country Name": "Tanzania",
          "Electricity production from nuclear sources (% of total) 2015": null,
          "GDP (current US$) 2015": 47378599025.3044
         },
         {
          "CO2 emissions (kt) 2015": 264000,
          "CO2 emissions (metric tons per capita) 2015": 3.8419827984243,
          "Country Name": "Thailand",
          "Electricity production from nuclear sources (% of total) 2015": null,
          "GDP (current US$) 2015": 401296437424.995
         },
         {
          "CO2 emissions (kt) 2015": 519.999980926514,
          "CO2 emissions (metric tons per capita) 2015": 0.434675741018942,
          "Country Name": "Timor-Leste",
          "Electricity production from nuclear sources (% of total) 2015": null,
          "GDP (current US$) 2015": 1594410900
         },
         {
          "CO2 emissions (kt) 2015": 1830.00004291534,
          "CO2 emissions (metric tons per capita) 2015": 0.249892060685717,
          "Country Name": "Togo",
          "Electricity production from nuclear sources (% of total) 2015": null,
          "GDP (current US$) 2015": 4180866177.03946
         },
         {
          "CO2 emissions (kt) 2015": 119.999997317791,
          "CO2 emissions (metric tons per capita) 2015": 1.19071241633053,
          "Country Name": "Tonga",
          "Electricity production from nuclear sources (% of total) 2015": null,
          "GDP (current US$) 2015": 437006227.162781
         },
         {
          "CO2 emissions (kt) 2015": 21329.9999237061,
          "CO2 emissions (metric tons per capita) 2015": 15.5655709154468,
          "Country Name": "Trinidad and Tobago",
          "Electricity production from nuclear sources (% of total) 2015": null,
          "GDP (current US$) 2015": 25191551350.4204
         },
         {
          "CO2 emissions (kt) 2015": 30479.9995422363,
          "CO2 emissions (metric tons per capita) 2015": 2.72630886684891,
          "Country Name": "Tunisia",
          "Electricity production from nuclear sources (% of total) 2015": null,
          "GDP (current US$) 2015": 45780128466.5579
         },
         {
          "CO2 emissions (kt) 2015": 73400.0015258789,
          "CO2 emissions (metric tons per capita) 2015": 13.188907289329,
          "Country Name": "Turkmenistan",
          "Electricity production from nuclear sources (% of total) 2015": null,
          "GDP (current US$) 2015": 35799714285.7143
         },
         {
          "CO2 emissions (kt) 2015": null,
          "CO2 emissions (metric tons per capita) 2015": null,
          "Country Name": "Turks and Caicos Islands",
          "Electricity production from nuclear sources (% of total) 2015": null,
          "GDP (current US$) 2015": 942070000
         },
         {
          "CO2 emissions (kt) 2015": 9.99999977648258,
          "CO2 emissions (metric tons per capita) 2015": 0.900982050318279,
          "Country Name": "Tuvalu",
          "Electricity production from nuclear sources (% of total) 2015": null,
          "GDP (current US$) 2015": 36811659.5297123
         },
         {
          "CO2 emissions (kt) 2015": 4719.99979019165,
          "CO2 emissions (metric tons per capita) 2015": 0.12347794886981,
          "Country Name": "Uganda",
          "Electricity production from nuclear sources (% of total) 2015": null,
          "GDP (current US$) 2015": 32387183844.6699
         },
         {
          "CO2 emissions (kt) 2015": 191070.007324219,
          "CO2 emissions (metric tons per capita) 2015": 4.23151559085923,
          "Country Name": "Ukraine",
          "Electricity production from nuclear sources (% of total) 2015": null,
          "GDP (current US$) 2015": 91030959454.6961
         },
         {
          "CO2 emissions (kt) 2015": 195240.005493164,
          "CO2 emissions (metric tons per capita) 2015": 21.0776419699804,
          "Country Name": "United Arab Emirates",
          "Electricity production from nuclear sources (% of total) 2015": null,
          "GDP (current US$) 2015": 358134944420.504
         },
         {
          "CO2 emissions (kt) 2015": 401079.986572266,
          "CO2 emissions (metric tons per capita) 2015": 6.15944833302231,
          "Country Name": "United Kingdom",
          "Electricity production from nuclear sources (% of total) 2015": 20.9138531793695,
          "GDP (current US$) 2015": 2956573778737.76
         },
         {
          "CO2 emissions (kt) 2015": 4990709.9609375,
          "CO2 emissions (metric tons per capita) 2015": 15.5600349639355,
          "Country Name": "United States",
          "Electricity production from nuclear sources (% of total) 2015": 19.3237776259423,
          "GDP (current US$) 2015": 18206020741000
         },
         {
          "CO2 emissions (kt) 2015": 6639.9998664856,
          "CO2 emissions (metric tons per capita) 2015": 1.94606523084338,
          "Country Name": "Uruguay",
          "Electricity production from nuclear sources (% of total) 2015": null,
          "GDP (current US$) 2015": 53274304222.136
         },
         {
          "CO2 emissions (kt) 2015": 99169.9981689453,
          "CO2 emissions (metric tons per capita) 2015": 3.16848190092768,
          "Country Name": "Uzbekistan",
          "Electricity production from nuclear sources (% of total) 2015": null,
          "GDP (current US$) 2015": 86196265191.6645
         },
         {
          "CO2 emissions (kt) 2015": 140.000000596046,
          "CO2 emissions (metric tons per capita) 2015": 0.51636127805334,
          "Country Name": "Vanuatu",
          "Electricity production from nuclear sources (% of total) 2015": null,
          "GDP (current US$) 2015": 730870581.672312
         },
         {
          "CO2 emissions (kt) 2015": 163130.004882813,
          "CO2 emissions (metric tons per capita) 2015": 5.42287557477187,
          "Country Name": "Venezuela, RB",
          "Electricity production from nuclear sources (% of total) 2015": null,
          "GDP (current US$) 2015": null
         },
         {
          "CO2 emissions (kt) 2015": 220649.993896484,
          "CO2 emissions (metric tons per capita) 2015": 2.3808474450726,
          "Country Name": "Vietnam",
          "Electricity production from nuclear sources (% of total) 2015": null,
          "GDP (current US$) 2015": 239257234710.757
         },
         {
          "CO2 emissions (kt) 2015": null,
          "CO2 emissions (metric tons per capita) 2015": null,
          "Country Name": "Virgin Islands (U.S.)",
          "Electricity production from nuclear sources (% of total) 2015": null,
          "GDP (current US$) 2015": 3663000000
         },
         {
          "CO2 emissions (kt) 2015": null,
          "CO2 emissions (metric tons per capita) 2015": null,
          "Country Name": "West Bank and Gaza",
          "Electricity production from nuclear sources (% of total) 2015": null,
          "GDP (current US$) 2015": 13972400000
         },
         {
          "CO2 emissions (kt) 2015": 13550.0001907349,
          "CO2 emissions (metric tons per capita) 2015": 0.511361651549982,
          "Country Name": "Yemen, Rep.",
          "Electricity production from nuclear sources (% of total) 2015": null,
          "GDP (current US$) 2015": 42444495590.1077
         },
         {
          "CO2 emissions (kt) 2015": 4960.00003814697,
          "CO2 emissions (metric tons per capita) 2015": 0.312354963587785,
          "Country Name": "Zambia",
          "Electricity production from nuclear sources (% of total) 2015": null,
          "GDP (current US$) 2015": 21251216798.7762
         },
         {
          "CO2 emissions (kt) 2015": 12430.0003051758,
          "CO2 emissions (metric tons per capita) 2015": 0.89976999079497,
          "Country Name": "Zimbabwe",
          "Electricity production from nuclear sources (% of total) 2015": null,
          "GDP (current US$) 2015": 19963120600
         }
        ]
       },
       "layer": [
        {
         "encoding": {
          "color": {
           "field": "Country Name",
           "legend": null,
           "type": "nominal"
          },
          "tooltip": {
           "field": "Country Name",
           "type": "nominal"
          },
          "x": {
           "field": "CO2 emissions (kt) 2015",
           "type": "quantitative"
          },
          "y": {
           "field": "Electricity production from nuclear sources (% of total) 2015",
           "type": "quantitative"
          }
         },
         "height": 400,
         "mark": "circle",
         "title": "CO2 emission versus Electricy production from nuclear sources (% of total) 2015",
         "width": 600
        },
        {
         "encoding": {
          "color": {
           "field": "Country Name",
           "legend": null,
           "type": "nominal"
          },
          "tooltip": {
           "field": "Country Name",
           "type": "nominal"
          },
          "x": {
           "field": "CO2 emissions (kt) 2015",
           "type": "quantitative"
          },
          "y": {
           "field": "Electricity production from nuclear sources (% of total) 2015",
           "type": "quantitative"
          }
         },
         "height": 400,
         "mark": "line",
         "title": "CO2 emission versus Electricy production from nuclear sources (% of total) 2015",
         "transform": [
          {
           "on": "CO2 emissions (kt) 2015",
           "regression": "Electricity production from nuclear sources (% of total) 2015"
          }
         ],
         "width": 600
        }
       ]
      },
      "text/plain": [
       "<VegaLite 4 object>\n",
       "\n",
       "If you see this message, it means the renderer has not been properly enabled\n",
       "for the frontend that you are using. For more information, see\n",
       "https://altair-viz.github.io/user_guide/troubleshooting.html\n"
      ]
     },
     "execution_count": 45,
     "metadata": {},
     "output_type": "execute_result"
    }
   ],
   "source": [
    "# lets look at a very weak positive correlation\n",
    "indi_list = ['CO2 emissions (kt)', 'CO2 emissions (metric tons per capita)','GDP (current US$)','Electricity production from nuclear sources (% of total)']\n",
    "new_ind_df= get_ind_df(wdi_df, indi_list, '2015') \n",
    "#print(new_ind_df)\n",
    "\n",
    "chart= alt.Chart(new_ind_df).mark_circle().encode(\n",
    "    x = alt.X('CO2 emissions (kt) 2015'),\n",
    "    y = alt.Y('Electricity production from nuclear sources (% of total) 2015'),\n",
    "    color = alt.Color('Country Name:N', legend=None),\n",
    "    tooltip ='Country Name'\n",
    ").properties(width=600, height=400, title='CO2 emission versus Electricy production from nuclear sources (% of total) 2015' )\n",
    "\n",
    "#Here is a linear regression fit using ordinary least squares which minimizes distance between data points and the line\n",
    "chart + chart.transform_regression('CO2 emissions (kt) 2015', 'Electricity production from nuclear sources (% of total) 2015').mark_line()"
   ]
  },
  {
   "cell_type": "code",
   "execution_count": 46,
   "metadata": {},
   "outputs": [
    {
     "data": {
      "application/vnd.vegalite.v4+json": {
       "$schema": "https://vega.github.io/schema/vega-lite/v4.17.0.json",
       "config": {
        "view": {
         "continuousHeight": 300,
         "continuousWidth": 400
        }
       },
       "data": {
        "name": "data-c7cac797da6889ca33e8118a6f23e92c"
       },
       "datasets": {
        "data-c7cac797da6889ca33e8118a6f23e92c": [
         {
          "CO2 emissions (kt) 2015": 5949.99980926514,
          "CO2 emissions (metric tons per capita) 2015": 0.172896741130684,
          "Country Name": "Afghanistan",
          "Renewable energy consumption (% of total final energy consumption) 2015": 17.53
         },
         {
          "CO2 emissions (kt) 2015": 4619.99988555908,
          "CO2 emissions (metric tons per capita) 2015": 1.60377514987108,
          "Country Name": "Albania",
          "Renewable energy consumption (% of total final energy consumption) 2015": 38.47
         },
         {
          "CO2 emissions (kt) 2015": 156270.004272461,
          "CO2 emissions (metric tons per capita) 2015": 3.93349591226698,
          "Country Name": "Algeria",
          "Renewable energy consumption (% of total final energy consumption) 2015": 0.06
         },
         {
          "CO2 emissions (kt) 2015": null,
          "CO2 emissions (metric tons per capita) 2015": null,
          "Country Name": "American Samoa",
          "Renewable energy consumption (% of total final energy consumption) 2015": 0.23
         },
         {
          "CO2 emissions (kt) 2015": 469.999998807907,
          "CO2 emissions (metric tons per capita) 2015": 6.02618182154689,
          "Country Name": "Andorra",
          "Renewable energy consumption (% of total final energy consumption) 2015": 19.32
         },
         {
          "CO2 emissions (kt) 2015": 31649.9996185303,
          "CO2 emissions (metric tons per capita) 2015": 1.13504405041569,
          "Country Name": "Angola",
          "Renewable energy consumption (% of total final energy consumption) 2015": 47.84
         },
         {
          "CO2 emissions (kt) 2015": 490.000009536743,
          "CO2 emissions (metric tons per capita) 2015": 5.23666530802004,
          "Country Name": "Antigua and Barbuda",
          "Renewable energy consumption (% of total final energy consumption) 2015": 0.48
         },
         {
          "CO2 emissions (kt) 2015": 185550.003051758,
          "CO2 emissions (metric tons per capita) 2015": 4.30191387639872,
          "Country Name": "Argentina",
          "Renewable energy consumption (% of total final energy consumption) 2015": 9.4
         },
         {
          "CO2 emissions (kt) 2015": 5340.00015258789,
          "CO2 emissions (metric tons per capita) 2015": 1.82529224417894,
          "Country Name": "Armenia",
          "Renewable energy consumption (% of total final energy consumption) 2015": 10.74
         },
         {
          "CO2 emissions (kt) 2015": null,
          "CO2 emissions (metric tons per capita) 2015": null,
          "Country Name": "Aruba",
          "Renewable energy consumption (% of total final energy consumption) 2015": 6.73
         },
         {
          "CO2 emissions (kt) 2015": 377799.987792969,
          "CO2 emissions (metric tons per capita) 2015": 15.863288004258,
          "Country Name": "Australia",
          "Renewable energy consumption (% of total final energy consumption) 2015": 9.31
         },
         {
          "CO2 emissions (kt) 2015": 63240.0016784668,
          "CO2 emissions (metric tons per capita) 2015": 7.31715887345687,
          "Country Name": "Austria",
          "Renewable energy consumption (% of total final energy consumption) 2015": 34.82
         },
         {
          "CO2 emissions (kt) 2015": 31770.0004577637,
          "CO2 emissions (metric tons per capita) 2015": 3.29245286882946,
          "Country Name": "Azerbaijan",
          "Renewable energy consumption (% of total final energy consumption) 2015": 2.33
         },
         {
          "CO2 emissions (kt) 2015": 2210.00003814697,
          "CO2 emissions (metric tons per capita) 2015": 5.90593275827624,
          "Country Name": "Bahamas, The",
          "Renewable energy consumption (% of total final energy consumption) 2015": 1.54
         },
         {
          "CO2 emissions (kt) 2015": 30579.9999237061,
          "CO2 emissions (metric tons per capita) 2015": 22.2910180053592,
          "Country Name": "Bahrain",
          "Renewable energy consumption (% of total final energy consumption) 2015": 0
         },
         {
          "CO2 emissions (kt) 2015": 72190.0024414063,
          "CO2 emissions (metric tons per capita) 2015": 0.461997426326957,
          "Country Name": "Bangladesh",
          "Renewable energy consumption (% of total final energy consumption) 2015": 31.93
         },
         {
          "CO2 emissions (kt) 2015": 1269.99998092651,
          "CO2 emissions (metric tons per capita) 2015": 4.45103330889299,
          "Country Name": "Barbados",
          "Renewable energy consumption (% of total final energy consumption) 2015": 3.16
         },
         {
          "CO2 emissions (kt) 2015": 54819.9996948242,
          "CO2 emissions (metric tons per capita) 2015": 5.79426692004421,
          "Country Name": "Belarus",
          "Renewable energy consumption (% of total final energy consumption) 2015": 6.83
         },
         {
          "CO2 emissions (kt) 2015": 95129.997253418,
          "CO2 emissions (metric tons per capita) 2015": 8.43785199879601,
          "Country Name": "Belgium",
          "Renewable energy consumption (% of total final energy consumption) 2015": 9.37
         },
         {
          "CO2 emissions (kt) 2015": 680.000007152557,
          "CO2 emissions (metric tons per capita) 2015": 1.88404273217379,
          "Country Name": "Belize",
          "Renewable energy consumption (% of total final energy consumption) 2015": 30.34
         },
         {
          "CO2 emissions (kt) 2015": 5510.00022888184,
          "CO2 emissions (metric tons per capita) 2015": 0.520992816434272,
          "Country Name": "Benin",
          "Renewable energy consumption (% of total final energy consumption) 2015": 49.94
         },
         {
          "CO2 emissions (kt) 2015": null,
          "CO2 emissions (metric tons per capita) 2015": null,
          "Country Name": "Bermuda",
          "Renewable energy consumption (% of total final energy consumption) 2015": 0.55
         },
         {
          "CO2 emissions (kt) 2015": 769.999980926514,
          "CO2 emissions (metric tons per capita) 2015": 1.05785938840135,
          "Country Name": "Bhutan",
          "Renewable energy consumption (% of total final energy consumption) 2015": 86.68
         },
         {
          "CO2 emissions (kt) 2015": 20760.0002288818,
          "CO2 emissions (metric tons per capita) 2015": 1.90989071569398,
          "Country Name": "Bolivia",
          "Renewable energy consumption (% of total final energy consumption) 2015": 8.02
         },
         {
          "CO2 emissions (kt) 2015": 19620.0008392334,
          "CO2 emissions (metric tons per capita) 2015": 5.72118103578257,
          "Country Name": "Bosnia and Herzegovina",
          "Renewable energy consumption (% of total final energy consumption) 2015": 25.28
         },
         {
          "CO2 emissions (kt) 2015": 6949.99980926514,
          "CO2 emissions (metric tons per capita) 2015": 3.27719497059726,
          "Country Name": "Botswana",
          "Renewable energy consumption (% of total final energy consumption) 2015": 25.58
         },
         {
          "CO2 emissions (kt) 2015": 485339.996337891,
          "CO2 emissions (metric tons per capita) 2015": 2.37362850846258,
          "Country Name": "Brazil",
          "Renewable energy consumption (% of total final energy consumption) 2015": 43.62
         },
         {
          "CO2 emissions (kt) 2015": null,
          "CO2 emissions (metric tons per capita) 2015": null,
          "Country Name": "British Virgin Islands",
          "Renewable energy consumption (% of total final energy consumption) 2015": 1
         },
         {
          "CO2 emissions (kt) 2015": 6400.00009536743,
          "CO2 emissions (metric tons per capita) 2015": 15.4248834586623,
          "Country Name": "Brunei Darussalam",
          "Renewable energy consumption (% of total final energy consumption) 2015": 0.01
         },
         {
          "CO2 emissions (kt) 2015": 44560.001373291,
          "CO2 emissions (metric tons per capita) 2015": 6.20786531681232,
          "Country Name": "Bulgaria",
          "Renewable energy consumption (% of total final energy consumption) 2015": 17.85
         },
         {
          "CO2 emissions (kt) 2015": 3700.00004768372,
          "CO2 emissions (metric tons per capita) 2015": 0.204300066197843,
          "Country Name": "Burkina Faso",
          "Renewable energy consumption (% of total final energy consumption) 2015": 72.71
         },
         {
          "CO2 emissions (kt) 2015": 400.000005960464,
          "CO2 emissions (metric tons per capita) 2015": 0.0393699475769928,
          "Country Name": "Burundi",
          "Renewable energy consumption (% of total final energy consumption) 2015": 91.15
         },
         {
          "CO2 emissions (kt) 2015": 500,
          "CO2 emissions (metric tons per capita) 2015": 0.952852841407173,
          "Country Name": "Cabo Verde",
          "Renewable energy consumption (% of total final energy consumption) 2015": 26.35
         },
         {
          "CO2 emissions (kt) 2015": 8430.00030517578,
          "CO2 emissions (metric tons per capita) 2015": 0.543119905161847,
          "Country Name": "Cambodia",
          "Renewable energy consumption (% of total final energy consumption) 2015": 60.63
         },
         {
          "CO2 emissions (kt) 2015": 8460.00003814697,
          "CO2 emissions (metric tons per capita) 2015": 0.363115439382855,
          "Country Name": "Cameroon",
          "Renewable energy consumption (% of total final energy consumption) 2015": 78.06
         },
         {
          "CO2 emissions (kt) 2015": 558700.012207031,
          "CO2 emissions (metric tons per capita) 2015": 15.6485856056048,
          "Country Name": "Canada",
          "Renewable energy consumption (% of total final energy consumption) 2015": 22.69
         },
         {
          "CO2 emissions (kt) 2015": null,
          "CO2 emissions (metric tons per capita) 2015": null,
          "Country Name": "Cayman Islands",
          "Renewable energy consumption (% of total final energy consumption) 2015": 0.01
         },
         {
          "CO2 emissions (kt) 2015": 189.999997615814,
          "CO2 emissions (metric tons per capita) 2015": 0.042286393644002,
          "Country Name": "Central African Republic",
          "Renewable energy consumption (% of total final energy consumption) 2015": 92.86
         },
         {
          "CO2 emissions (kt) 2015": 2390.00010490417,
          "CO2 emissions (metric tons per capita) 2015": 0.169371767889266,
          "Country Name": "Chad",
          "Renewable energy consumption (% of total final energy consumption) 2015": 77.35
         },
         {
          "CO2 emissions (kt) 2015": null,
          "CO2 emissions (metric tons per capita) 2015": null,
          "Country Name": "Channel Islands",
          "Renewable energy consumption (% of total final energy consumption) 2015": null
         },
         {
          "CO2 emissions (kt) 2015": 82230.0033569336,
          "CO2 emissions (metric tons per capita) 2015": 4.57612411690957,
          "Country Name": "Chile",
          "Renewable energy consumption (% of total final energy consumption) 2015": 25.07
         },
         {
          "CO2 emissions (kt) 2015": 9861099.609375,
          "CO2 emissions (metric tons per capita) 2015": 7.14644935672822,
          "Country Name": "China",
          "Renewable energy consumption (% of total final energy consumption) 2015": 12.18
         },
         {
          "CO2 emissions (kt) 2015": 80230.0033569336,
          "CO2 emissions (metric tons per capita) 2015": 1.6883181239214,
          "Country Name": "Colombia",
          "Renewable energy consumption (% of total final energy consumption) 2015": 31.6
         },
         {
          "CO2 emissions (kt) 2015": 189.999997615814,
          "CO2 emissions (metric tons per capita) 2015": 0.244393418891372,
          "Country Name": "Comoros",
          "Renewable energy consumption (% of total final energy consumption) 2015": 64.17
         },
         {
          "CO2 emissions (kt) 2015": 3230.00001907349,
          "CO2 emissions (metric tons per capita) 2015": 0.0423636939508461,
          "Country Name": "Congo, Dem. Rep.",
          "Renewable energy consumption (% of total final energy consumption) 2015": 95.82
         },
         {
          "CO2 emissions (kt) 2015": 5659.99984741211,
          "CO2 emissions (metric tons per capita) 2015": 1.1655460155751,
          "Country Name": "Congo, Rep.",
          "Renewable energy consumption (% of total final energy consumption) 2015": 64.15
         },
         {
          "CO2 emissions (kt) 2015": 7539.99996185303,
          "CO2 emissions (metric tons per capita) 2015": 1.55534308039474,
          "Country Name": "Costa Rica",
          "Renewable energy consumption (% of total final energy consumption) 2015": 38.33
         },
         {
          "CO2 emissions (kt) 2015": 16600.0003814697,
          "CO2 emissions (metric tons per capita) 2015": 3.94899243160624,
          "Country Name": "Croatia",
          "Renewable energy consumption (% of total final energy consumption) 2015": 33.09
         },
         {
          "CO2 emissions (kt) 2015": 29209.9990844727,
          "CO2 emissions (metric tons per capita) 2015": 2.57930015615077,
          "Country Name": "Cuba",
          "Renewable energy consumption (% of total final energy consumption) 2015": 21.15
         },
         {
          "CO2 emissions (kt) 2015": 6849.99990463257,
          "CO2 emissions (metric tons per capita) 2015": 5.90015211594322,
          "Country Name": "Cyprus",
          "Renewable energy consumption (% of total final energy consumption) 2015": 10.51
         },
         {
          "CO2 emissions (kt) 2015": 99139.9993896484,
          "CO2 emissions (metric tons per capita) 2015": 9.4006680021085,
          "Country Name": "Czech Republic",
          "Renewable energy consumption (% of total final energy consumption) 2015": 14.84
         },
         {
          "CO2 emissions (kt) 2015": 33700.0007629395,
          "CO2 emissions (metric tons per capita) 2015": 5.92946275425465,
          "Country Name": "Denmark",
          "Renewable energy consumption (% of total final energy consumption) 2015": 32.89
         },
         {
          "CO2 emissions (kt) 2015": 460.00000834465,
          "CO2 emissions (metric tons per capita) 2015": 0.50328338611753,
          "Country Name": "Djibouti",
          "Renewable energy consumption (% of total final energy consumption) 2015": 28.18
         },
         {
          "CO2 emissions (kt) 2015": 180.000007152557,
          "CO2 emissions (metric tons per capita) 2015": 2.52897797193617,
          "Country Name": "Dominica",
          "Renewable energy consumption (% of total final energy consumption) 2015": 8.8
         },
         {
          "CO2 emissions (kt) 2015": 23590.0001525879,
          "CO2 emissions (metric tons per capita) 2015": 2.29437325655478,
          "Country Name": "Dominican Republic",
          "Renewable energy consumption (% of total final energy consumption) 2015": 14.88
         },
         {
          "CO2 emissions (kt) 2015": 41520.0004577637,
          "CO2 emissions (metric tons per capita) 2015": 2.56106242995252,
          "Country Name": "Ecuador",
          "Renewable energy consumption (% of total final energy consumption) 2015": 13.07
         },
         {
          "CO2 emissions (kt) 2015": 226279.998779297,
          "CO2 emissions (metric tons per capita) 2015": 2.44779055994331,
          "Country Name": "Egypt, Arab Rep.",
          "Renewable energy consumption (% of total final energy consumption) 2015": 5.45
         },
         {
          "CO2 emissions (kt) 2015": 7000,
          "CO2 emissions (metric tons per capita) 2015": 1.10669819597127,
          "Country Name": "El Salvador",
          "Renewable energy consumption (% of total final energy consumption) 2015": 21.03
         },
         {
          "CO2 emissions (kt) 2015": 6570.00017166138,
          "CO2 emissions (metric tons per capita) 2015": 5.62223235278983,
          "Country Name": "Equatorial Guinea",
          "Renewable energy consumption (% of total final energy consumption) 2015": 4.56
         },
         {
          "CO2 emissions (kt) 2015": 649.999976158142,
          "CO2 emissions (metric tons per capita) 2015": 0.194446714166952,
          "Country Name": "Eritrea",
          "Renewable energy consumption (% of total final energy consumption) 2015": 77.56
         },
         {
          "CO2 emissions (kt) 2015": 15539.999961853,
          "CO2 emissions (metric tons per capita) 2015": 11.8138340162801,
          "Country Name": "Estonia",
          "Renewable energy consumption (% of total final energy consumption) 2015": 28.16
         },
         {
          "CO2 emissions (kt) 2015": 769.999980926514,
          "CO2 emissions (metric tons per capita) 2015": 0.697439744761063,
          "Country Name": "Eswatini",
          "Renewable energy consumption (% of total final energy consumption) 2015": 71.68
         },
         {
          "CO2 emissions (kt) 2015": 12890.0003433228,
          "CO2 emissions (metric tons per capita) 2015": 0.127832026929286,
          "Country Name": "Ethiopia",
          "Renewable energy consumption (% of total final energy consumption) 2015": 91.56
         },
         {
          "CO2 emissions (kt) 2015": null,
          "CO2 emissions (metric tons per capita) 2015": null,
          "Country Name": "Faroe Islands",
          "Renewable energy consumption (% of total final energy consumption) 2015": 7.47
         },
         {
          "CO2 emissions (kt) 2015": 1379.99999523163,
          "CO2 emissions (metric tons per capita) 2015": 1.58870499271456,
          "Country Name": "Fiji",
          "Renewable energy consumption (% of total final energy consumption) 2015": 32.74
         },
         {
          "CO2 emissions (kt) 2015": 42819.9996948242,
          "CO2 emissions (metric tons per capita) 2015": 7.81453735635845,
          "Country Name": "Finland",
          "Renewable energy consumption (% of total final energy consumption) 2015": 43.23
         },
         {
          "CO2 emissions (kt) 2015": 311299.987792969,
          "CO2 emissions (metric tons per capita) 2015": 4.67780722830743,
          "Country Name": "France",
          "Renewable energy consumption (% of total final energy consumption) 2015": 13.34
         },
         {
          "CO2 emissions (kt) 2015": null,
          "CO2 emissions (metric tons per capita) 2015": null,
          "Country Name": "French Polynesia",
          "Renewable energy consumption (% of total final energy consumption) 2015": 7.83
         },
         {
          "CO2 emissions (kt) 2015": 6119.99988555908,
          "CO2 emissions (metric tons per capita) 2015": 3.14218375899608,
          "Country Name": "Gabon",
          "Renewable energy consumption (% of total final energy consumption) 2015": 81.95
         },
         {
          "CO2 emissions (kt) 2015": 529.999971389771,
          "CO2 emissions (metric tons per capita) 2015": 0.254091823703303,
          "Country Name": "Gambia, The",
          "Renewable energy consumption (% of total final energy consumption) 2015": 48.95
         },
         {
          "CO2 emissions (kt) 2015": 9199.99980926514,
          "CO2 emissions (metric tons per capita) 2015": 2.46961562291362,
          "Country Name": "Georgia",
          "Renewable energy consumption (% of total final energy consumption) 2015": 28.15
         },
         {
          "CO2 emissions (kt) 2015": 742309.997558594,
          "CO2 emissions (metric tons per capita) 2015": 9.08729090938286,
          "Country Name": "Germany",
          "Renewable energy consumption (% of total final energy consumption) 2015": 14.55
         },
         {
          "CO2 emissions (kt) 2015": 15779.9997329712,
          "CO2 emissions (metric tons per capita) 2015": 0.566623028061923,
          "Country Name": "Ghana",
          "Renewable energy consumption (% of total final energy consumption) 2015": 44.02
         },
         {
          "CO2 emissions (kt) 2015": null,
          "CO2 emissions (metric tons per capita) 2015": null,
          "Country Name": "Gibraltar",
          "Renewable energy consumption (% of total final energy consumption) 2015": 0
         },
         {
          "CO2 emissions (kt) 2015": 68010.0021362305,
          "CO2 emissions (metric tons per capita) 2015": 6.28506953972522,
          "Country Name": "Greece",
          "Renewable energy consumption (% of total final energy consumption) 2015": 17.47
         },
         {
          "CO2 emissions (kt) 2015": null,
          "CO2 emissions (metric tons per capita) 2015": null,
          "Country Name": "Greenland",
          "Renewable energy consumption (% of total final energy consumption) 2015": 12.72
         },
         {
          "CO2 emissions (kt) 2015": 270.000010728836,
          "CO2 emissions (metric tons per capita) 2015": 2.46343631769966,
          "Country Name": "Grenada",
          "Renewable energy consumption (% of total final energy consumption) 2015": 11.07
         },
         {
          "CO2 emissions (kt) 2015": null,
          "CO2 emissions (metric tons per capita) 2015": null,
          "Country Name": "Guam",
          "Renewable energy consumption (% of total final energy consumption) 2015": 1.26
         },
         {
          "CO2 emissions (kt) 2015": 16340.0001525879,
          "CO2 emissions (metric tons per capita) 2015": 1.04962808238077,
          "Country Name": "Guatemala",
          "Renewable energy consumption (% of total final energy consumption) 2015": 63.4
         },
         {
          "CO2 emissions (kt) 2015": 2539.99996185303,
          "CO2 emissions (metric tons per capita) 2015": 0.222181475894974,
          "Country Name": "Guinea",
          "Renewable energy consumption (% of total final energy consumption) 2015": 76.23
         },
         {
          "CO2 emissions (kt) 2015": 280.000001192093,
          "CO2 emissions (metric tons per capita) 2015": 0.161178259811348,
          "Country Name": "Guinea-Bissau",
          "Renewable energy consumption (% of total final energy consumption) 2015": 87.15
         },
         {
          "CO2 emissions (kt) 2015": 2079.99992370605,
          "CO2 emissions (metric tons per capita) 2015": 2.71033422293028,
          "Country Name": "Guyana",
          "Renewable energy consumption (% of total final energy consumption) 2015": 24.95
         },
         {
          "CO2 emissions (kt) 2015": 3279.99997138977,
          "CO2 emissions (metric tons per capita) 2015": 0.306669880285593,
          "Country Name": "Haiti",
          "Renewable energy consumption (% of total final energy consumption) 2015": 76.12
         },
         {
          "CO2 emissions (kt) 2015": 9930.00030517578,
          "CO2 emissions (metric tons per capita) 2015": 1.08966365772928,
          "Country Name": "Honduras",
          "Renewable energy consumption (% of total final energy consumption) 2015": 52.68
         },
         {
          "CO2 emissions (kt) 2015": null,
          "CO2 emissions (metric tons per capita) 2015": null,
          "Country Name": "Hong Kong SAR, China",
          "Renewable energy consumption (% of total final energy consumption) 2015": 0.2
         },
         {
          "CO2 emissions (kt) 2015": 43380.0010681152,
          "CO2 emissions (metric tons per capita) 2015": 4.40718050056499,
          "Country Name": "Hungary",
          "Renewable energy consumption (% of total final energy consumption) 2015": 15.6
         },
         {
          "CO2 emissions (kt) 2015": 2059.99994277954,
          "CO2 emissions (metric tons per capita) 2015": 6.22704515448072,
          "Country Name": "Iceland",
          "Renewable energy consumption (% of total final energy consumption) 2015": 77.33
         },
         {
          "CO2 emissions (kt) 2015": 2158020.01953125,
          "CO2 emissions (metric tons per capita) 2015": 1.64715191355484,
          "Country Name": "India",
          "Renewable energy consumption (% of total final energy consumption) 2015": 33.4
         },
         {
          "CO2 emissions (kt) 2015": 488549.987792969,
          "CO2 emissions (metric tons per capita) 2015": 1.89079584128382,
          "Country Name": "Indonesia",
          "Renewable energy consumption (% of total final energy consumption) 2015": 26.69
         },
         {
          "CO2 emissions (kt) 2015": 599179.992675781,
          "CO2 emissions (metric tons per capita) 2015": 7.63362387099342,
          "Country Name": "Iran, Islamic Rep.",
          "Renewable energy consumption (% of total final energy consumption) 2015": 0.91
         },
         {
          "CO2 emissions (kt) 2015": 133169.998168945,
          "CO2 emissions (metric tons per capita) 2015": 3.74364643899845,
          "Country Name": "Iraq",
          "Renewable energy consumption (% of total final energy consumption) 2015": 0.82
         },
         {
          "CO2 emissions (kt) 2015": 37060.001373291,
          "CO2 emissions (metric tons per capita) 2015": 7.88182481747302,
          "Country Name": "Ireland",
          "Renewable energy consumption (% of total final energy consumption) 2015": 9.2
         },
         {
          "CO2 emissions (kt) 2015": null,
          "CO2 emissions (metric tons per capita) 2015": null,
          "Country Name": "Isle of Man",
          "Renewable energy consumption (% of total final energy consumption) 2015": 2.17
         },
         {
          "CO2 emissions (kt) 2015": 66139.9993896484,
          "CO2 emissions (metric tons per capita) 2015": 7.89250717648338,
          "Country Name": "Israel",
          "Renewable energy consumption (% of total final energy consumption) 2015": 3.74
         },
         {
          "CO2 emissions (kt) 2015": 337859.985351563,
          "CO2 emissions (metric tons per capita) 2015": 5.56325946870661,
          "Country Name": "Italy",
          "Renewable energy consumption (% of total final energy consumption) 2015": 16.57
         },
         {
          "CO2 emissions (kt) 2015": 7090.00015258789,
          "CO2 emissions (metric tons per capita) 2015": 2.45241829628114,
          "Country Name": "Jamaica",
          "Renewable energy consumption (% of total final energy consumption) 2015": 12.12
         },
         {
          "CO2 emissions (kt) 2015": 1179439.94140625,
          "CO2 emissions (metric tons per capita) 2015": 9.2766294225014,
          "Country Name": "Japan",
          "Renewable energy consumption (% of total final energy consumption) 2015": 6.16
         },
         {
          "CO2 emissions (kt) 2015": 25309.9994659424,
          "CO2 emissions (metric tons per capita) 2015": 2.73132251436884,
          "Country Name": "Jordan",
          "Renewable energy consumption (% of total final energy consumption) 2015": 3.19
         },
         {
          "CO2 emissions (kt) 2015": 190729.995727539,
          "CO2 emissions (metric tons per capita) 2015": 10.8722627228243,
          "Country Name": "Kazakhstan",
          "Renewable energy consumption (% of total final energy consumption) 2015": 1.72
         },
         {
          "CO2 emissions (kt) 2015": 17209.9990844727,
          "CO2 emissions (metric tons per capita) 2015": 0.359452717949817,
          "Country Name": "Kenya",
          "Renewable energy consumption (% of total final energy consumption) 2015": 72.04
         },
         {
          "CO2 emissions (kt) 2015": 59.9999986588955,
          "CO2 emissions (metric tons per capita) 2015": 0.540896253021316,
          "Country Name": "Kiribati",
          "Renewable energy consumption (% of total final energy consumption) 2015": 45.73
         },
         {
          "CO2 emissions (kt) 2015": 25100.0003814697,
          "CO2 emissions (metric tons per capita) 2015": 0.996671212763399,
          "Country Name": "Korea, Dem. People's Rep.",
          "Renewable energy consumption (% of total final energy consumption) 2015": 23.31
         },
         {
          "CO2 emissions (kt) 2015": 607830.017089844,
          "CO2 emissions (metric tons per capita) 2015": 11.9147436748262,
          "Country Name": "Korea, Rep.",
          "Renewable energy consumption (% of total final energy consumption) 2015": 2.74
         },
         {
          "CO2 emissions (kt) 2015": null,
          "CO2 emissions (metric tons per capita) 2015": null,
          "Country Name": "Kosovo",
          "Renewable energy consumption (% of total final energy consumption) 2015": 20.37
         },
         {
          "CO2 emissions (kt) 2015": 89019.9966430664,
          "CO2 emissions (metric tons per capita) 2015": 23.2089569169229,
          "Country Name": "Kuwait",
          "Renewable energy consumption (% of total final energy consumption) 2015": 0.01
         },
         {
          "CO2 emissions (kt) 2015": 10270.0004577637,
          "CO2 emissions (metric tons per capita) 2015": 1.72405117725053,
          "Country Name": "Kyrgyz Republic",
          "Renewable energy consumption (% of total final energy consumption) 2015": 23.3
         },
         {
          "CO2 emissions (kt) 2015": 8880.00011444092,
          "CO2 emissions (metric tons per capita) 2015": 1.31728072237433,
          "Country Name": "Lao PDR",
          "Renewable energy consumption (% of total final energy consumption) 2015": 53.27
         },
         {
          "CO2 emissions (kt) 2015": 7320.00017166138,
          "CO2 emissions (metric tons per capita) 2015": 3.70159303597947,
          "Country Name": "Latvia",
          "Renewable energy consumption (% of total final energy consumption) 2015": 38.1
         },
         {
          "CO2 emissions (kt) 2015": 27010.0002288818,
          "CO2 emissions (metric tons per capita) 2015": 4.13459653530944,
          "Country Name": "Lebanon",
          "Renewable energy consumption (% of total final energy consumption) 2015": 4.17
         },
         {
          "CO2 emissions (kt) 2015": 649.999976158142,
          "CO2 emissions (metric tons per capita) 2015": 0.315685528711669,
          "Country Name": "Lesotho",
          "Renewable energy consumption (% of total final energy consumption) 2015": 44.94
         },
         {
          "CO2 emissions (kt) 2015": 1259.99999046326,
          "CO2 emissions (metric tons per capita) 2015": 0.281738701319467,
          "Country Name": "Liberia",
          "Renewable energy consumption (% of total final energy consumption) 2015": 83.93
         },
         {
          "CO2 emissions (kt) 2015": 51330.0018310547,
          "CO2 emissions (metric tons per capita) 2015": 7.99742640101876,
          "Country Name": "Libya",
          "Renewable energy consumption (% of total final energy consumption) 2015": 3.05
         },
         {
          "CO2 emissions (kt) 2015": 159.999996423721,
          "CO2 emissions (metric tons per capita) 2015": 4.2706525136453,
          "Country Name": "Liechtenstein",
          "Renewable energy consumption (% of total final energy consumption) 2015": 55.53
         },
         {
          "CO2 emissions (kt) 2015": 11069.9996948242,
          "CO2 emissions (metric tons per capita) 2015": 3.81078921371891,
          "Country Name": "Lithuania",
          "Renewable energy consumption (% of total final energy consumption) 2015": 28.96
         },
         {
          "CO2 emissions (kt) 2015": 9130.00011444092,
          "CO2 emissions (metric tons per capita) 2015": 16.0286797747925,
          "Country Name": "Luxembourg",
          "Renewable energy consumption (% of total final energy consumption) 2015": 9.09
         },
         {
          "CO2 emissions (kt) 2015": null,
          "CO2 emissions (metric tons per capita) 2015": null,
          "Country Name": "Macao SAR, China",
          "Renewable energy consumption (% of total final energy consumption) 2015": 5.41
         },
         {
          "CO2 emissions (kt) 2015": 3279.99997138977,
          "CO2 emissions (metric tons per capita) 2015": 0.135346585114424,
          "Country Name": "Madagascar",
          "Renewable energy consumption (% of total final energy consumption) 2015": 80.55
         },
         {
          "CO2 emissions (kt) 2015": 930.000007152557,
          "CO2 emissions (metric tons per capita) 2015": 0.055537955692808,
          "Country Name": "Malawi",
          "Renewable energy consumption (% of total final energy consumption) 2015": 80.87
         },
         {
          "CO2 emissions (kt) 2015": 236539.993286133,
          "CO2 emissions (metric tons per capita) 2015": 7.81408829504223,
          "Country Name": "Malaysia",
          "Renewable energy consumption (% of total final energy consumption) 2015": 3.41
         },
         {
          "CO2 emissions (kt) 2015": 1370.00000476837,
          "CO2 emissions (metric tons per capita) 2015": 3.01155823907018,
          "Country Name": "Maldives",
          "Renewable energy consumption (% of total final energy consumption) 2015": 1.38
         },
         {
          "CO2 emissions (kt) 2015": 3650.00009536743,
          "CO2 emissions (metric tons per capita) 2015": 0.20930373396518,
          "Country Name": "Mali",
          "Renewable energy consumption (% of total final energy consumption) 2015": 79.93
         },
         {
          "CO2 emissions (kt) 2015": 1659.9999666214,
          "CO2 emissions (metric tons per capita) 2015": 3.72989276922389,
          "Country Name": "Malta",
          "Renewable energy consumption (% of total final energy consumption) 2015": 5.98
         },
         {
          "CO2 emissions (kt) 2015": 150.000005960464,
          "CO2 emissions (metric tons per capita) 2015": 2.61123887543458,
          "Country Name": "Marshall Islands",
          "Renewable energy consumption (% of total final energy consumption) 2015": 11.32
         },
         {
          "CO2 emissions (kt) 2015": 3559.99994277954,
          "CO2 emissions (metric tons per capita) 2015": 0.879815244425416,
          "Country Name": "Mauritania",
          "Renewable energy consumption (% of total final energy consumption) 2015": 28.2
         },
         {
          "CO2 emissions (kt) 2015": 3960.00003814697,
          "CO2 emissions (metric tons per capita) 2015": 3.13637284673114,
          "Country Name": "Mauritius",
          "Renewable energy consumption (% of total final energy consumption) 2015": 11.49
         },
         {
          "CO2 emissions (kt) 2015": 471630.004882813,
          "CO2 emissions (metric tons per capita) 2015": 3.87031654411988,
          "Country Name": "Mexico",
          "Renewable energy consumption (% of total final energy consumption) 2015": 9.19
         },
         {
          "CO2 emissions (kt) 2015": 150.000005960464,
          "CO2 emissions (metric tons per capita) 2015": 1.37758762339019,
          "Country Name": "Micronesia, Fed. Sts.",
          "Renewable energy consumption (% of total final energy consumption) 2015": 1.44
         },
         {
          "CO2 emissions (kt) 2015": 8020.00045776367,
          "CO2 emissions (metric tons per capita) 2015": 2.82939339423596,
          "Country Name": "Moldova",
          "Renewable energy consumption (% of total final energy consumption) 2015": 24.73
         },
         {
          "CO2 emissions (kt) 2015": null,
          "CO2 emissions (metric tons per capita) 2015": null,
          "Country Name": "Monaco",
          "Renewable energy consumption (% of total final energy consumption) 2015": null
         },
         {
          "CO2 emissions (kt) 2015": 17299.9992370605,
          "CO2 emissions (metric tons per capita) 2015": 5.76968010859689,
          "Country Name": "Mongolia",
          "Renewable energy consumption (% of total final energy consumption) 2015": 3.55
         },
         {
          "CO2 emissions (kt) 2015": 2359.99989509583,
          "CO2 emissions (metric tons per capita) 2015": 3.79324239478305,
          "Country Name": "Montenegro",
          "Renewable energy consumption (% of total final energy consumption) 2015": 42.96
         },
         {
          "CO2 emissions (kt) 2015": 60409.9998474121,
          "CO2 emissions (metric tons per capita) 2015": 1.74274991361003,
          "Country Name": "Morocco",
          "Renewable energy consumption (% of total final energy consumption) 2015": 11.25
         },
         {
          "CO2 emissions (kt) 2015": 5519.99998092651,
          "CO2 emissions (metric tons per capita) 2015": 0.204126905435974,
          "Country Name": "Mozambique",
          "Renewable energy consumption (% of total final energy consumption) 2015": 80.8
         },
         {
          "CO2 emissions (kt) 2015": 19040.0009155273,
          "CO2 emissions (metric tons per capita) 2015": 0.361422536932623,
          "Country Name": "Myanmar",
          "Renewable energy consumption (% of total final energy consumption) 2015": 70.43
         },
         {
          "CO2 emissions (kt) 2015": 4199.99980926514,
          "CO2 emissions (metric tons per capita) 2015": 1.81433236637988,
          "Country Name": "Namibia",
          "Renewable energy consumption (% of total final energy consumption) 2015": 28.99
         },
         {
          "CO2 emissions (kt) 2015": 59.9999986588955,
          "CO2 emissions (metric tons per capita) 2015": 5.78368986494077,
          "Country Name": "Nauru",
          "Renewable energy consumption (% of total final energy consumption) 2015": 0.1
         },
         {
          "CO2 emissions (kt) 2015": 7190.00005722046,
          "CO2 emissions (metric tons per capita) 2015": 0.266148113060623,
          "Country Name": "Nepal",
          "Renewable energy consumption (% of total final energy consumption) 2015": 85.04
         },
         {
          "CO2 emissions (kt) 2015": 157410.003662109,
          "CO2 emissions (metric tons per capita) 2015": 9.29225024589008,
          "Country Name": "Netherlands",
          "Renewable energy consumption (% of total final energy consumption) 2015": 5.72
         },
         {
          "CO2 emissions (kt) 2015": null,
          "CO2 emissions (metric tons per capita) 2015": null,
          "Country Name": "New Caledonia",
          "Renewable energy consumption (% of total final energy consumption) 2015": 5.09
         },
         {
          "CO2 emissions (kt) 2015": 32279.9987792969,
          "CO2 emissions (metric tons per capita) 2015": 7.00308039642836,
          "Country Name": "New Zealand",
          "Renewable energy consumption (% of total final energy consumption) 2015": 31.24
         },
         {
          "CO2 emissions (kt) 2015": 5269.99998092651,
          "CO2 emissions (metric tons per capita) 2015": 0.846826582597812,
          "Country Name": "Nicaragua",
          "Renewable energy consumption (% of total final energy consumption) 2015": 50
         },
         {
          "CO2 emissions (kt) 2015": 2109.99989509583,
          "CO2 emissions (metric tons per capita) 2015": 0.105491223159586,
          "Country Name": "Niger",
          "Renewable energy consumption (% of total final energy consumption) 2015": 78.88
         },
         {
          "CO2 emissions (kt) 2015": 107760.00213623,
          "CO2 emissions (metric tons per capita) 2015": 0.594907346639806,
          "Country Name": "Nigeria",
          "Renewable energy consumption (% of total final energy consumption) 2015": 82.15
         },
         {
          "CO2 emissions (kt) 2015": 7409.99984741211,
          "CO2 emissions (metric tons per capita) 2015": 3.57931928562974,
          "Country Name": "North Macedonia",
          "Renewable energy consumption (% of total final energy consumption) 2015": 23.91
         },
         {
          "CO2 emissions (kt) 2015": null,
          "CO2 emissions (metric tons per capita) 2015": null,
          "Country Name": "Northern Mariana Islands",
          "Renewable energy consumption (% of total final energy consumption) 2015": 0
         },
         {
          "CO2 emissions (kt) 2015": 39490.0016784668,
          "CO2 emissions (metric tons per capita) 2015": 7.61090629497798,
          "Country Name": "Norway",
          "Renewable energy consumption (% of total final energy consumption) 2015": 58.12
         },
         {
          "CO2 emissions (kt) 2015": 70129.997253418,
          "CO2 emissions (metric tons per capita) 2015": 16.4341207448427,
          "Country Name": "Oman",
          "Renewable energy consumption (% of total final energy consumption) 2015": 0
         },
         {
          "CO2 emissions (kt) 2015": 164130.004882813,
          "CO2 emissions (metric tons per capita) 2015": 0.823008136130992,
          "Country Name": "Pakistan",
          "Renewable energy consumption (% of total final energy consumption) 2015": 45.88
         },
         {
          "CO2 emissions (kt) 2015": 209.999993443489,
          "CO2 emissions (metric tons per capita) 2015": 11.8879135829883,
          "Country Name": "Palau",
          "Renewable energy consumption (% of total final energy consumption) 2015": 0.04
         },
         {
          "CO2 emissions (kt) 2015": 10699.9998092651,
          "CO2 emissions (metric tons per capita) 2015": 2.69623957960461,
          "Country Name": "Panama",
          "Renewable energy consumption (% of total final energy consumption) 2015": 21.9
         },
         {
          "CO2 emissions (kt) 2015": 6510.00022888184,
          "CO2 emissions (metric tons per capita) 2015": 0.802933312491007,
          "Country Name": "Papua New Guinea",
          "Renewable energy consumption (% of total final energy consumption) 2015": 55.15
         },
         {
          "CO2 emissions (kt) 2015": 6369.99988555908,
          "CO2 emissions (metric tons per capita) 2015": 0.952345908419767,
          "Country Name": "Paraguay",
          "Renewable energy consumption (% of total final energy consumption) 2015": 60.51
         },
         {
          "CO2 emissions (kt) 2015": 54549.9992370605,
          "CO2 emissions (metric tons per capita) 2015": 1.79024208231578,
          "Country Name": "Peru",
          "Renewable energy consumption (% of total final energy consumption) 2015": 27.43
         },
         {
          "CO2 emissions (kt) 2015": 111010.00213623,
          "CO2 emissions (metric tons per capita) 2015": 1.08712679275029,
          "Country Name": "Philippines",
          "Renewable energy consumption (% of total final energy consumption) 2015": 30.75
         },
         {
          "CO2 emissions (kt) 2015": 289079.986572266,
          "CO2 emissions (metric tons per capita) 2015": 7.61008927540369,
          "Country Name": "Poland",
          "Renewable energy consumption (% of total final energy consumption) 2015": 11.87
         },
         {
          "CO2 emissions (kt) 2015": 49849.9984741211,
          "CO2 emissions (metric tons per capita) 2015": 4.81266969600543,
          "Country Name": "Portugal",
          "Renewable energy consumption (% of total final energy consumption) 2015": 27.21
         },
         {
          "CO2 emissions (kt) 2015": null,
          "CO2 emissions (metric tons per capita) 2015": null,
          "Country Name": "Puerto Rico",
          "Renewable energy consumption (% of total final energy consumption) 2015": 1.86
         },
         {
          "CO2 emissions (kt) 2015": 84779.9987792969,
          "CO2 emissions (metric tons per capita) 2015": 33.0435103212435,
          "Country Name": "Qatar",
          "Renewable energy consumption (% of total final energy consumption) 2015": 0.05
         },
         {
          "CO2 emissions (kt) 2015": 73319.9996948242,
          "CO2 emissions (metric tons per capita) 2015": 3.70011205782471,
          "Country Name": "Romania",
          "Renewable energy consumption (% of total final energy consumption) 2015": 23.67
         },
         {
          "CO2 emissions (kt) 2015": 1592560.05859375,
          "CO2 emissions (metric tons per capita) 2015": 11.0520100720699,
          "Country Name": "Russian Federation",
          "Renewable energy consumption (% of total final energy consumption) 2015": 3.2
         },
         {
          "CO2 emissions (kt) 2015": 980.000019073486,
          "CO2 emissions (metric tons per capita) 2015": 0.0861988151949761,
          "Country Name": "Rwanda",
          "Renewable energy consumption (% of total final energy consumption) 2015": 86.31
         },
         {
          "CO2 emissions (kt) 2015": 239.999994635582,
          "CO2 emissions (metric tons per capita) 2015": 1.24024595439813,
          "Country Name": "Samoa",
          "Renewable energy consumption (% of total final energy consumption) 2015": 37.47
         },
         {
          "CO2 emissions (kt) 2015": null,
          "CO2 emissions (metric tons per capita) 2015": null,
          "Country Name": "San Marino",
          "Renewable energy consumption (% of total final energy consumption) 2015": null
         },
         {
          "CO2 emissions (kt) 2015": 565190.002441406,
          "CO2 emissions (metric tons per capita) 2015": 17.8194014732166,
          "Country Name": "Saudi Arabia",
          "Renewable energy consumption (% of total final energy consumption) 2015": 0.01
         },
         {
          "CO2 emissions (kt) 2015": 9289.99996185303,
          "CO2 emissions (metric tons per capita) 2015": 0.637241953832748,
          "Country Name": "Senegal",
          "Renewable energy consumption (% of total final energy consumption) 2015": 39.11
         },
         {
          "CO2 emissions (kt) 2015": 45389.9993896484,
          "CO2 emissions (metric tons per capita) 2015": 6.39711758895163,
          "Country Name": "Serbia",
          "Renewable energy consumption (% of total final energy consumption) 2015": 21.24
         },
         {
          "CO2 emissions (kt) 2015": 509.999990463257,
          "CO2 emissions (metric tons per capita) 2015": 5.45927477775674,
          "Country Name": "Seychelles",
          "Renewable energy consumption (% of total final energy consumption) 2015": 1.36
         },
         {
          "CO2 emissions (kt) 2015": 910.000026226044,
          "CO2 emissions (metric tons per capita) 2015": 0.12688393372337,
          "Country Name": "Sierra Leone",
          "Renewable energy consumption (% of total final energy consumption) 2015": 75
         },
         {
          "CO2 emissions (kt) 2015": 45430.0003051758,
          "CO2 emissions (metric tons per capita) 2015": 8.20776583372071,
          "Country Name": "Singapore",
          "Renewable energy consumption (% of total final energy consumption) 2015": 0.65
         },
         {
          "CO2 emissions (kt) 2015": null,
          "CO2 emissions (metric tons per capita) 2015": null,
          "Country Name": "Sint Maarten (Dutch part)",
          "Renewable energy consumption (% of total final energy consumption) 2015": 0.05
         },
         {
          "CO2 emissions (kt) 2015": 30750,
          "CO2 emissions (metric tons per capita) 2015": 5.6694557930868,
          "Country Name": "Slovak Republic",
          "Renewable energy consumption (% of total final energy consumption) 2015": 13.41
         },
         {
          "CO2 emissions (kt) 2015": 13140.0003433228,
          "CO2 emissions (metric tons per capita) 2015": 6.36772616613116,
          "Country Name": "Slovenia",
          "Renewable energy consumption (% of total final energy consumption) 2015": 21.38
         },
         {
          "CO2 emissions (kt) 2015": 310.000002384186,
          "CO2 emissions (metric tons per capita) 2015": 0.513982823662751,
          "Country Name": "Solomon Islands",
          "Renewable energy consumption (% of total final energy consumption) 2015": 48.64
         },
         {
          "CO2 emissions (kt) 2015": 649.999976158142,
          "CO2 emissions (metric tons per capita) 2015": 0.047110992644462,
          "Country Name": "Somalia",
          "Renewable energy consumption (% of total final energy consumption) 2015": 94.5
         },
         {
          "CO2 emissions (kt) 2015": 424809.997558594,
          "CO2 emissions (metric tons per capita) 2015": 7.66993766207339,
          "Country Name": "South Africa",
          "Renewable energy consumption (% of total final energy consumption) 2015": 10.28
         },
         {
          "CO2 emissions (kt) 2015": 1970.00002861023,
          "CO2 emissions (metric tons per capita) 2015": 0.183843139866294,
          "Country Name": "South Sudan",
          "Renewable energy consumption (% of total final energy consumption) 2015": 26.7
         },
         {
          "CO2 emissions (kt) 2015": 256279.998779297,
          "CO2 emissions (metric tons per capita) 2015": 5.51794435986542,
          "Country Name": "Spain",
          "Renewable energy consumption (% of total final energy consumption) 2015": 16.33
         },
         {
          "CO2 emissions (kt) 2015": 20360.0006103516,
          "CO2 emissions (metric tons per capita) 2015": 0.97091085409402,
          "Country Name": "Sri Lanka",
          "Renewable energy consumption (% of total final energy consumption) 2015": 52.89
         },
         {
          "CO2 emissions (kt) 2015": 239.999994635582,
          "CO2 emissions (metric tons per capita) 2015": 4.68713371290489,
          "Country Name": "St. Kitts and Nevis",
          "Renewable energy consumption (% of total final energy consumption) 2015": 1.63
         },
         {
          "CO2 emissions (kt) 2015": 500,
          "CO2 emissions (metric tons per capita) 2015": 2.79125332856959,
          "Country Name": "St. Lucia",
          "Renewable energy consumption (% of total final energy consumption) 2015": 11.52
         },
         {
          "CO2 emissions (kt) 2015": null,
          "CO2 emissions (metric tons per capita) 2015": null,
          "Country Name": "St. Martin (French part)",
          "Renewable energy consumption (% of total final energy consumption) 2015": null
         },
         {
          "CO2 emissions (kt) 2015": 250,
          "CO2 emissions (metric tons per capita) 2015": 2.29074082558299,
          "Country Name": "St. Vincent and the Grenadines",
          "Renewable energy consumption (% of total final energy consumption) 2015": 4.3
         },
         {
          "CO2 emissions (kt) 2015": 18709.9990844727,
          "CO2 emissions (metric tons per capita) 2015": 0.480940392601422,
          "Country Name": "Sudan",
          "Renewable energy consumption (% of total final energy consumption) 2015": 63.02
         },
         {
          "CO2 emissions (kt) 2015": 2720.00002861023,
          "CO2 emissions (metric tons per capita) 2015": 4.86464836571108,
          "Country Name": "Suriname",
          "Renewable energy consumption (% of total final energy consumption) 2015": 11.59
         },
         {
          "CO2 emissions (kt) 2015": 39189.998626709,
          "CO2 emissions (metric tons per capita) 2015": 3.99931163942689,
          "Country Name": "Sweden",
          "Renewable energy consumption (% of total final energy consumption) 2015": 51.91
         },
         {
          "CO2 emissions (kt) 2015": 39090.0001525879,
          "CO2 emissions (metric tons per capita) 2015": 4.7196487770674,
          "Country Name": "Switzerland",
          "Renewable energy consumption (% of total final energy consumption) 2015": 23.94
         },
         {
          "CO2 emissions (kt) 2015": 25270.0004577637,
          "CO2 emissions (metric tons per capita) 2015": 1.40409086939025,
          "Country Name": "Syrian Arab Republic",
          "Renewable energy consumption (% of total final energy consumption) 2015": 0.58
         },
         {
          "CO2 emissions (kt) 2015": 4900.00009536743,
          "CO2 emissions (metric tons per capita) 2015": 0.579605995132898,
          "Country Name": "Tajikistan",
          "Renewable energy consumption (% of total final energy consumption) 2015": 48.11
         },
         {
          "CO2 emissions (kt) 2015": 11689.9995803833,
          "CO2 emissions (metric tons per capita) 2015": 0.22706683329598,
          "Country Name": "Tanzania",
          "Renewable energy consumption (% of total final energy consumption) 2015": 84.62
         },
         {
          "CO2 emissions (kt) 2015": 264000,
          "CO2 emissions (metric tons per capita) 2015": 3.8419827984243,
          "Country Name": "Thailand",
          "Renewable energy consumption (% of total final energy consumption) 2015": 22.65
         },
         {
          "CO2 emissions (kt) 2015": 519.999980926514,
          "CO2 emissions (metric tons per capita) 2015": 0.434675741018942,
          "Country Name": "Timor-Leste",
          "Renewable energy consumption (% of total final energy consumption) 2015": 18
         },
         {
          "CO2 emissions (kt) 2015": 1830.00004291534,
          "CO2 emissions (metric tons per capita) 2015": 0.249892060685717,
          "Country Name": "Togo",
          "Renewable energy consumption (% of total final energy consumption) 2015": 81.03
         },
         {
          "CO2 emissions (kt) 2015": 119.999997317791,
          "CO2 emissions (metric tons per capita) 2015": 1.19071241633053,
          "Country Name": "Tonga",
          "Renewable energy consumption (% of total final energy consumption) 2015": 1.94
         },
         {
          "CO2 emissions (kt) 2015": 21329.9999237061,
          "CO2 emissions (metric tons per capita) 2015": 15.5655709154468,
          "Country Name": "Trinidad and Tobago",
          "Renewable energy consumption (% of total final energy consumption) 2015": 0.37
         },
         {
          "CO2 emissions (kt) 2015": 30479.9995422363,
          "CO2 emissions (metric tons per capita) 2015": 2.72630886684891,
          "Country Name": "Tunisia",
          "Renewable energy consumption (% of total final energy consumption) 2015": 12.5
         },
         {
          "CO2 emissions (kt) 2015": 73400.0015258789,
          "CO2 emissions (metric tons per capita) 2015": 13.188907289329,
          "Country Name": "Turkmenistan",
          "Renewable energy consumption (% of total final energy consumption) 2015": 0.05
         },
         {
          "CO2 emissions (kt) 2015": null,
          "CO2 emissions (metric tons per capita) 2015": null,
          "Country Name": "Turks and Caicos Islands",
          "Renewable energy consumption (% of total final energy consumption) 2015": 0.37
         },
         {
          "CO2 emissions (kt) 2015": 9.99999977648258,
          "CO2 emissions (metric tons per capita) 2015": 0.900982050318279,
          "Country Name": "Tuvalu",
          "Renewable energy consumption (% of total final energy consumption) 2015": 3.88
         },
         {
          "CO2 emissions (kt) 2015": 4719.99979019165,
          "CO2 emissions (metric tons per capita) 2015": 0.12347794886981,
          "Country Name": "Uganda",
          "Renewable energy consumption (% of total final energy consumption) 2015": 91.07
         },
         {
          "CO2 emissions (kt) 2015": 191070.007324219,
          "CO2 emissions (metric tons per capita) 2015": 4.23151559085923,
          "Country Name": "Ukraine",
          "Renewable energy consumption (% of total final energy consumption) 2015": 4.15
         },
         {
          "CO2 emissions (kt) 2015": 195240.005493164,
          "CO2 emissions (metric tons per capita) 2015": 21.0776419699804,
          "Country Name": "United Arab Emirates",
          "Renewable energy consumption (% of total final energy consumption) 2015": 0.13
         },
         {
          "CO2 emissions (kt) 2015": 401079.986572266,
          "CO2 emissions (metric tons per capita) 2015": 6.15944833302231,
          "Country Name": "United Kingdom",
          "Renewable energy consumption (% of total final energy consumption) 2015": 8.61
         },
         {
          "CO2 emissions (kt) 2015": 4990709.9609375,
          "CO2 emissions (metric tons per capita) 2015": 15.5600349639355,
          "Country Name": "United States",
          "Renewable energy consumption (% of total final energy consumption) 2015": 9.03
         },
         {
          "CO2 emissions (kt) 2015": 6639.9998664856,
          "CO2 emissions (metric tons per capita) 2015": 1.94606523084338,
          "Country Name": "Uruguay",
          "Renewable energy consumption (% of total final energy consumption) 2015": 59.4
         },
         {
          "CO2 emissions (kt) 2015": 99169.9981689453,
          "CO2 emissions (metric tons per capita) 2015": 3.16848190092768,
          "Country Name": "Uzbekistan",
          "Renewable energy consumption (% of total final energy consumption) 2015": 1.71
         },
         {
          "CO2 emissions (kt) 2015": 140.000000596046,
          "CO2 emissions (metric tons per capita) 2015": 0.51636127805334,
          "Country Name": "Vanuatu",
          "Renewable energy consumption (% of total final energy consumption) 2015": 35.91
         },
         {
          "CO2 emissions (kt) 2015": 163130.004882813,
          "CO2 emissions (metric tons per capita) 2015": 5.42287557477187,
          "Country Name": "Venezuela, RB",
          "Renewable energy consumption (% of total final energy consumption) 2015": 15.33
         },
         {
          "CO2 emissions (kt) 2015": 220649.993896484,
          "CO2 emissions (metric tons per capita) 2015": 2.3808474450726,
          "Country Name": "Vietnam",
          "Renewable energy consumption (% of total final energy consumption) 2015": 30.33
         },
         {
          "CO2 emissions (kt) 2015": null,
          "CO2 emissions (metric tons per capita) 2015": null,
          "Country Name": "Virgin Islands (U.S.)",
          "Renewable energy consumption (% of total final energy consumption) 2015": 4.16
         },
         {
          "CO2 emissions (kt) 2015": null,
          "CO2 emissions (metric tons per capita) 2015": null,
          "Country Name": "West Bank and Gaza",
          "Renewable energy consumption (% of total final energy consumption) 2015": 10.99
         },
         {
          "CO2 emissions (kt) 2015": 13550.0001907349,
          "CO2 emissions (metric tons per capita) 2015": 0.511361651549982,
          "Country Name": "Yemen, Rep.",
          "Renewable energy consumption (% of total final energy consumption) 2015": 1.96
         },
         {
          "CO2 emissions (kt) 2015": 4960.00003814697,
          "CO2 emissions (metric tons per capita) 2015": 0.312354963587785,
          "Country Name": "Zambia",
          "Renewable energy consumption (% of total final energy consumption) 2015": 83.09
         },
         {
          "CO2 emissions (kt) 2015": 12430.0003051758,
          "CO2 emissions (metric tons per capita) 2015": 0.89976999079497,
          "Country Name": "Zimbabwe",
          "Renewable energy consumption (% of total final energy consumption) 2015": 80.82
         }
        ]
       },
       "layer": [
        {
         "encoding": {
          "color": {
           "field": "Country Name",
           "legend": null,
           "type": "nominal"
          },
          "tooltip": {
           "field": "Country Name",
           "type": "nominal"
          },
          "x": {
           "field": "CO2 emissions (metric tons per capita) 2015",
           "type": "quantitative"
          },
          "y": {
           "field": "Renewable energy consumption (% of total final energy consumption) 2015",
           "scale": {
            "domain": [
             0,
             100
            ]
           },
           "type": "quantitative"
          }
         },
         "height": 400,
         "mark": "circle",
         "title": "CO2 emission versus Renewable energy consumption 2015",
         "width": 600
        },
        {
         "encoding": {
          "color": {
           "field": "Country Name",
           "legend": null,
           "type": "nominal"
          },
          "tooltip": {
           "field": "Country Name",
           "type": "nominal"
          },
          "x": {
           "field": "CO2 emissions (metric tons per capita) 2015",
           "type": "quantitative"
          },
          "y": {
           "field": "Renewable energy consumption (% of total final energy consumption) 2015",
           "scale": {
            "domain": [
             0,
             100
            ]
           },
           "type": "quantitative"
          }
         },
         "height": 400,
         "mark": "line",
         "title": "CO2 emission versus Renewable energy consumption 2015",
         "transform": [
          {
           "extent": [
            0,
            14
           ],
           "on": "CO2 emissions (metric tons per capita) 2015",
           "regression": "Renewable energy consumption (% of total final energy consumption) 2015"
          }
         ],
         "width": 600
        }
       ]
      },
      "text/plain": [
       "<VegaLite 4 object>\n",
       "\n",
       "If you see this message, it means the renderer has not been properly enabled\n",
       "for the frontend that you are using. For more information, see\n",
       "https://altair-viz.github.io/user_guide/troubleshooting.html\n"
      ]
     },
     "execution_count": 46,
     "metadata": {},
     "output_type": "execute_result"
    }
   ],
   "source": [
    "# lets look at a negative correlation\n",
    "indi_list = ['CO2 emissions (kt)', 'CO2 emissions (metric tons per capita)','Renewable energy consumption (% of total final energy consumption)']\n",
    "new_ind_df= get_ind_df(wdi_df, indi_list, '2015') \n",
    "#print(new_ind_df)\n",
    "\n",
    "chart= alt.Chart(new_ind_df).mark_circle().encode(\n",
    "    x = alt.X('CO2 emissions (metric tons per capita) 2015'),\n",
    "    y = alt.Y('Renewable energy consumption (% of total final energy consumption) 2015',scale=alt.Scale(domain=[0, 100])),\n",
    "    color = alt.Color('Country Name:N', legend=None),\n",
    "    tooltip ='Country Name'\n",
    ").properties(width=600, height=400, title='CO2 emission versus Renewable energy consumption 2015' )\n",
    "\n",
    "#Here is a linear regression fit using ordinary least squares which minimizes distance between data points and the line\n",
    "chart + chart.transform_regression('CO2 emissions (metric tons per capita) 2015', 'Renewable energy consumption (% of total final energy consumption) 2015',\n",
    "extent=[0, 14]).mark_line()"
   ]
  },
  {
   "cell_type": "code",
   "execution_count": 18,
   "metadata": {},
   "outputs": [
    {
     "name": "stdout",
     "output_type": "stream",
     "text": [
      "Last updated: 2023-03-16T16:16:51.343912-04:00\n",
      "\n",
      "Python implementation: CPython\n",
      "Python version       : 3.10.4\n",
      "IPython version      : 8.4.0\n",
      "\n",
      "Compiler    : MSC v.1929 64 bit (AMD64)\n",
      "OS          : Windows\n",
      "Release     : 10\n",
      "Machine     : AMD64\n",
      "Processor   : Intel64 Family 6 Model 140 Stepping 2, GenuineIntel\n",
      "CPU cores   : 8\n",
      "Architecture: 64bit\n",
      "\n",
      "numpy : 1.22.3\n",
      "altair: 4.2.0\n",
      "pandas: 1.4.2\n",
      "\n"
     ]
    }
   ],
   "source": [
    "#Dependencies\n",
    "%load_ext watermark\n",
    "%watermark\n",
    "%watermark --iversions\n"
   ]
  }
 ],
 "metadata": {
  "kernelspec": {
   "display_name": "Python 3.10.4 64-bit",
   "language": "python",
   "name": "python3"
  },
  "language_info": {
   "codemirror_mode": {
    "name": "ipython",
    "version": 3
   },
   "file_extension": ".py",
   "mimetype": "text/x-python",
   "name": "python",
   "nbconvert_exporter": "python",
   "pygments_lexer": "ipython3",
   "version": "3.10.4"
  },
  "orig_nbformat": 4,
  "vscode": {
   "interpreter": {
    "hash": "cfbf783a11fdc9922f3ac3062272c36041cc7b087677fa264d9933912d89c1bb"
   }
  }
 },
 "nbformat": 4,
 "nbformat_minor": 2
}
